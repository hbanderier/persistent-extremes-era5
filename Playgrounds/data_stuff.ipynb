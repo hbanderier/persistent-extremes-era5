{
 "cells": [
  {
   "cell_type": "code",
   "execution_count": 1,
   "metadata": {},
   "outputs": [
    {
     "name": "stdout",
     "output_type": "stream",
     "text": [
      "Found config override file at  /storage/homefs/hb22g102/.jetutils.ini\n",
      "Guessed N_WORKERS :  10\n",
      "Guessed MEMORY_LIMIT :  102400\n"
     ]
    }
   ],
   "source": [
    "import datetime\n",
    "\n",
    "import colormaps\n",
    "import matplotlib.pyplot as plt\n",
    "import numpy as np\n",
    "import polars as pl\n",
    "import xarray as xr\n",
    "from jetutils.anyspell import get_persistent_jet_spells, mask_from_spells_pl, subset_around_onset\n",
    "from jetutils.clustering import Experiment\n",
    "from jetutils.data import DataHandler, open_da, smooth, standardize, compute_all_dailymeans, compute_all_smoothed_anomalies, open_dataarray\n",
    "from jetutils.definitions import (\n",
    "    DATADIR,\n",
    "    YEARS,\n",
    "    PRETTIER_VARNAME,\n",
    "    compute,\n",
    "    get_region,\n",
    "    infer_direction,\n",
    "    polars_to_xarray,\n",
    "    xarray_to_polars,\n",
    ")\n",
    "from jetutils.jet_finding import JetFindingExperiment, gather_normal_da_jets, iterate_over_year_maybe_member, average_jet_categories\n",
    "from jetutils.plots import COLORS, Clusterplot, gather_normal_da_jets_wrapper, interp_jets_to_zero_one\n",
    "from matplotlib.cm import ScalarMappable\n",
    "from matplotlib.colors import BoundaryNorm\n",
    "from matplotlib.ticker import MaxNLocator\n",
    "from tqdm import tqdm\n",
    "\n",
    "%load_ext autoreload\n",
    "%autoreload 2\n",
    "%matplotlib inline"
   ]
  },
  {
   "cell_type": "markdown",
   "metadata": {},
   "source": [
    "# new pvs"
   ]
  },
  {
   "cell_type": "code",
   "execution_count": 2,
   "metadata": {},
   "outputs": [],
   "source": [
    "from pathlib import Path\n",
    "from tqdm import tqdm\n",
    "import numpy as np\n",
    "from jetutils.definitions import compute, YEARS, DATADIR, TIMERANGE\n",
    "from jetutils.data import open_da, to_netcdf\n",
    "import polars as pl\n",
    "import geopandas as gpd\n",
    "import polars_st as st\n",
    "import xarray as xr\n",
    "import gc\n",
    "\n",
    "def to_xarray(events: st.GeoDataFrame, dummy_da: xr.DataArray, varname: str):\n",
    "    orig_times = pl.Series(\"time\", dummy_da[\"time\"].values)\n",
    "    timedtype = orig_times.dtype\n",
    "    lon, lat = [pl.Series(co, dummy_da[co].values).to_frame() for co in [\"lon\", \"lat\"]]\n",
    "    dlo = lon[\"lon\"][1] - lon[\"lon\"][0]\n",
    "    dla = lat[\"lat\"][1] - lat[\"lat\"][0]\n",
    "    da_df = lat.join(lon, how=\"cross\")\n",
    "    da_df = da_df.cast({\"lon\": pl.Float32, \"lat\": pl.Float32})\n",
    "    da_df = da_df.with_columns(geometry=st.point(pl.concat_list(\"lon\", \"lat\")))\n",
    "    da_df = st.GeoDataFrame(da_df)\n",
    "    events = events.with_columns(pl.col(\"geometry\").st.buffer((dlo + dla) / 4))\n",
    "    if varname == \"flag\":\n",
    "        events = events.with_columns(flag=pl.lit(1))\n",
    "    events = (\n",
    "        events.select([\"time\", \"geometry\", varname])\n",
    "        .cast({varname: pl.UInt32 if varname == \"flag\" else pl.Float32})\n",
    "    )\n",
    "    events = events.cast({\"time\": timedtype})\n",
    "    events = events.filter(pl.col(\"time\").is_in(orig_times.implode()))\n",
    "    events = events.st.sjoin(da_df, on=\"geometry\", predicate=\"intersects\")\n",
    "    events = events.unique([\"time\", \"lon\", \"lat\"])\n",
    "    dummy_da = xr.zeros_like(dummy_da, dtype=np.uint32 if varname==\"flag\" else np.float32)\n",
    "    events_da = xr.DataArray.from_series(\n",
    "        events[[\"time\", varname, \"lat\", \"lon\"]]\n",
    "        .to_pandas()\n",
    "        .set_index([\"time\", \"lat\", \"lon\"])[varname]\n",
    "        .astype(np.uint32 if varname==\"flag\" else np.float32)\n",
    "    ).fillna(0)\n",
    "    dummy_da.loc[\n",
    "        {\n",
    "            \"time\": events_da.time.values,\n",
    "            \"lat\": events_da.lat.values,\n",
    "            \"lon\": events_da.lon.values,\n",
    "        }\n",
    "    ] = events_da\n",
    "    return dummy_da"
   ]
  },
  {
   "cell_type": "code",
   "execution_count": null,
   "metadata": {},
   "outputs": [
    {
     "name": "stderr",
     "output_type": "stream",
     "text": [
      "100%|██████████| 22/22 [06:37<00:00, 18.08s/it]\n"
     ]
    }
   ],
   "source": [
    "all_events = {}\n",
    "basepath = Path(DATADIR, \"ERA5/RWB_index/pv\")\n",
    "levs = list(range(310, 365, 5))\n",
    "for level in levs:\n",
    "    events = st.GeoDataFrame(pl.read_parquet(basepath.joinpath(f\"era5_pv_overturnings_{level}K_1959-2022.parquet\")))\n",
    "    events = events.rename({\"date\": \"time\"}).cast({\"time\": pl.Datetime(\"ms\")})\n",
    "\n",
    "    anticyclonic = events.filter(pl.col(\"orientation\") == pl.lit(\"anticyclonic\"))\n",
    "    cyclonic = events.filter(pl.col(\"orientation\") == pl.lit(\"cyclonic\"))\n",
    "    \n",
    "    all_events[f\"anti_{level}\"] = anticyclonic\n",
    "    all_events[f\"cycl_{level}\"] = cyclonic\n",
    "    \n",
    "    \n",
    "varname = \"flag\"\n",
    "dtype = {\"flag\": np.uint8, \"intensity\": np.float32, \"mean_var\": np.float32}[varname]\n",
    "coords = {\n",
    "    \"time\": TIMERANGE,\n",
    "    \"lat\": np.arange(15, 80.5, 1),\n",
    "    \"lon\": np.arange(-80, 40.5, 1),\n",
    "}\n",
    "shape = [len(co) for co in coords.values()]\n",
    "dummy_da = xr.DataArray(np.zeros(shape, dtype=dtype), coords=coords)\n",
    "all_events_xr = {}\n",
    "for name, events in tqdm(all_events.items()):\n",
    "    all_events_xr[name] = to_xarray(events, dummy_da, \"flag\")\n",
    "\n",
    "xr.concat([all_events_xr[f\"anti_{lev}\"] for lev in levs], dim=\"lev\").assign_coords(lev=levs).to_netcdf(basepath.joinpath(\"overturnings_anti_natl.nc\"))\n",
    "xr.concat([all_events_xr[f\"cycl_{lev}\"] for lev in levs], dim=\"lev\").assign_coords(lev=levs).to_netcdf(basepath.joinpath(\"overturnings_cycl_natl.nc\"))"
   ]
  },
  {
   "cell_type": "code",
   "execution_count": 19,
   "metadata": {},
   "outputs": [
    {
     "name": "stderr",
     "output_type": "stream",
     "text": [
      "100%|██████████| 44/44 [05:52<00:00,  8.00s/it]\n"
     ]
    }
   ],
   "source": [
    "from wavebreaking import to_xarray as to_xarray_orig\n",
    "all_events = {}\n",
    "basepath = Path(DATADIR, \"ERA5/RWB_index/pv\")\n",
    "levs = list(range(310, 365, 5))\n",
    "for level in levs:\n",
    "    events = gpd.read_parquet(basepath.joinpath(f\"era5_pv_streamers_{level}K_1959-2022.parquet\"))\n",
    "    stratospheric = events[events.mean_var >= 2]\n",
    "    tropospheric = events[events.mean_var < 2]\n",
    "    \n",
    "    all_events[f\"anti_strato_{level}\"] = stratospheric[stratospheric.intensity >= 0]\n",
    "    all_events[f\"anti_tropo_{level}\"] = tropospheric[tropospheric.intensity >= 0]\n",
    "    all_events[f\"cycl_strato_{level}\"] = stratospheric[stratospheric.intensity < 0]\n",
    "    all_events[f\"cycl_tropo_{level}\"] = tropospheric[tropospheric.intensity < 0]\n",
    "    \n",
    "    \n",
    "opath = basepath.joinpath(\"spatial\")\n",
    "varname = \"flag\"\n",
    "dtype = {\"flag\": np.uint32, \"intensity\": np.float32, \"mean_var\": np.float32}[varname]\n",
    "coords = {\n",
    "    \"time\": TIMERANGE,\n",
    "    \"lat\": np.arange(15, 80.5, 1),\n",
    "    \"lon\": np.arange(-80, 40.5, 1),\n",
    "}\n",
    "shape = [len(co) for co in coords.values()]\n",
    "dummy_da = xr.DataArray(np.zeros(shape, dtype=dtype), coords=coords)\n",
    "all_events_xr = {}\n",
    "for name, events in tqdm(all_events.items()):\n",
    "    all_events_xr[name] = to_xarray_orig(dummy_da, events)\n",
    "\n",
    "xr.concat([all_events_xr[f\"anti_strato_{level}\"] for lev in levs], dim=\"lev\").assign_coords(lev=levs).to_netcdf(basepath.joinpath(\"streamers_anti_strato_natl.nc\"))\n",
    "xr.concat([all_events_xr[f\"anti_tropo_{level}\"] for lev in levs], dim=\"lev\").assign_coords(lev=levs).to_netcdf(basepath.joinpath(\"streamers_anti_tropo_natl.nc\"))\n",
    "xr.concat([all_events_xr[f\"cycl_strato_{level}\"] for lev in levs], dim=\"lev\").assign_coords(lev=levs).to_netcdf(basepath.joinpath(\"streamers_cycl_strato_natl.nc\"))\n",
    "xr.concat([all_events_xr[f\"cycl_tropo_{level}\"] for lev in levs], dim=\"lev\").assign_coords(lev=levs).to_netcdf(basepath.joinpath(\"streamers_cycl_tropo_natl.nc\"))"
   ]
  },
  {
   "cell_type": "code",
   "execution_count": 16,
   "metadata": {},
   "outputs": [
    {
     "data": {
      "text/plain": [
       "'overturnings_anti_natl'"
      ]
     },
     "execution_count": 16,
     "metadata": {},
     "output_type": "execute_result"
    }
   ],
   "source": [
    "f.stem"
   ]
  },
  {
   "cell_type": "code",
   "execution_count": null,
   "metadata": {},
   "outputs": [],
   "source": [
    "from itertools import product\n",
    "import shutil\n",
    "streamers_subtypes = [\"_\".join(both) for both in product([\"stratospheric\", \"tropospheric\"], [\"anticyclonic\", \"cyclonic\"])]\n",
    "types = {\n",
    "    \"overturnings\": [\"anticyclonic\", \"cyclonic\"], \n",
    "    \"streamers\": streamers_subtypes\n",
    "}\n",
    "basepath = Path(DATADIR, \"ERA5/thetalev\")\n",
    "for type_, subtypes in types.items():\n",
    "    for subtype in subtypes:\n",
    "        if \"_\" in subtype:\n",
    "            shorthand_1 = \"\".join([sub[0].upper() for sub in subtype.split(\"_\")])\n",
    "            shorthand_2 = subtype.split(\"_\")\n",
    "            shorthand_2 = shorthand_2[1][:4] + \"_\" + shorthand_2[0].rstrip(\"spheric\")\n",
    "        else:\n",
    "            shorthand_1 = subtype[0].upper()\n",
    "            shorthand_2 = subtype[:4]\n",
    "        file_stem = f\"{type_}_{shorthand_2}\"\n",
    "        shorthand = shorthand_1 + \"PV\" + type_[0].upper()\n",
    "        this_path = basepath.joinpath(shorthand)\n",
    "        this_path.mkdir(exist_ok=True)\n",
    "        for freq in [\"6H\", \"dailyany\"]:\n",
    "            file_spec = \"\" if freq == \"6H\" else f\"_{freq}\"\n",
    "            file_stem_ = f\"{type_}_{shorthand_2}_natl{file_spec}.nc\"\n",
    "            this_path_ = this_path.joinpath(freq)\n",
    "            this_path_.mkdir(exist_ok=True)\n",
    "            source = Path(DATADIR, \"ERA5\", \"RWB_index\", \"pv\").joinpath(f\"{file_stem_}\")\n",
    "            dest = this_path_.joinpath(\"full.nc\")\n",
    "            print(source, dest)\n",
    "            shutil.copy(source, dest)\n",
    "        # print(this_path, shorthand_2)\n",
    "    "
   ]
  },
  {
   "cell_type": "code",
   "execution_count": null,
   "metadata": {},
   "outputs": [
    {
     "name": "stderr",
     "output_type": "stream",
     "text": [
      "6it [00:45,  7.53s/it]\n"
     ]
    }
   ],
   "source": [
    "basepath = Path(DATADIR, \"ERA5/RWB_index/pv\")\n",
    "files_to_treat = basepath.glob(\"*.nc\")\n",
    "levels = list(range(310, 355, 5))\n",
    "for f in tqdm(files_to_treat):\n",
    "    da = xr.open_dataarray(f)\n",
    "    da = da.sel(lev=levels).any(\"lev\").resample(time=\"1D\").any().astype(np.uint8)\n",
    "    da.to_netcdf(f.parent.joinpath(f\"{f.stem}_dailyany.nc\"))"
   ]
  },
  {
   "cell_type": "code",
   "execution_count": 28,
   "metadata": {},
   "outputs": [
    {
     "name": "stderr",
     "output_type": "stream",
     "text": [
      "6it [00:17,  2.86s/it]\n"
     ]
    }
   ],
   "source": [
    "from jetutils.data import *\n",
    "basepath = Path(DATADIR, \"ERA5/RWB_index/pv\")\n",
    "files_to_treat = basepath.glob(\"*dailyany.nc\")\n",
    "for f in tqdm(files_to_treat):\n",
    "    da = xr.open_dataarray(f)\n",
    "    clim = smooth(compute_clim(da, \"dayofyear\"), {\"dayofyear\": (\"win\", 15)}).astype(np.float32)\n",
    "    anom = da.astype(np.float32).groupby(\"time.dayofyear\") - clim\n",
    "    clim.astype(np.float32).to_netcdf(f.parent.joinpath(f\"{f.stem}_clim.nc\"))\n",
    "    anom.astype(np.float32).to_netcdf(f.parent.joinpath(f\"{f.stem}_anom.nc\"))"
   ]
  },
  {
   "cell_type": "code",
   "execution_count": null,
   "metadata": {},
   "outputs": [
    {
     "name": "stdout",
     "output_type": "stream",
     "text": [
      "[########################################] | 100% Completed | 706.27 ms\n"
     ]
    },
    {
     "data": {
      "text/plain": [
       "<jetutils.data.DataHandler at 0x7f9815b09040>"
      ]
     },
     "execution_count": 12,
     "metadata": {},
     "output_type": "execute_result"
    }
   ],
   "source": [
    "for rwb_type in [\"APVO\", \"CPVO\", \"SAPVS\", \"SCPVS\", \"TAPVS\", \"TCPVS\"]:\n",
    "    dh = DataHandler.from_specs(\"ERA5\", \"thetalev\", \"APVO\", \"dailyany\", \"all\", None, -80, 40, 15, 80)\n",
    "    da = compute(dh.da)\n",
    "    "
   ]
  },
  {
   "cell_type": "markdown",
   "metadata": {},
   "source": [
    "# CESM clims"
   ]
  },
  {
   "cell_type": "code",
   "execution_count": 6,
   "metadata": {},
   "outputs": [
    {
     "name": "stdout",
     "output_type": "stream",
     "text": [
      "[########################################] | 100% Completed | 126.37 s\n"
     ]
    },
    {
     "data": {
      "text/plain": [
       "<xarray.backends.zarr.ZarrStore at 0x7ff12afe3d00>"
      ]
     },
     "execution_count": 6,
     "metadata": {},
     "output_type": "execute_result"
    }
   ],
   "source": [
    "da_tp = xr.open_zarr(\"/storage/workspaces/giub_meteo_impacts/ci01/CESM2/PRECL/past.zarr\")\n",
    "\n",
    "clim = da_tp.groupby(\"time.dayofyear\").mean()\n",
    "clim = smooth(clim, {'dayofyear': ('win', 15)})\n",
    "clim = compute(clim, progress_flag=True)\n",
    "clim.to_zarr(\"/storage/workspaces/giub_meteo_impacts/ci01/CESM2/PRECL/past_clim.zarr\")"
   ]
  },
  {
   "cell_type": "code",
   "execution_count": null,
   "metadata": {},
   "outputs": [],
   "source": [
    "anom = da_tp.groupby(\"time.dayofyear\") - clim\n",
    "anom = compute(anom, progress_flag=True)\n",
    "anom.to_zarr(\"/storage/workspaces/giub_meteo_impacts/ci01/CESM2/PRECL/past_anom.zarr\")"
   ]
  },
  {
   "cell_type": "code",
   "execution_count": null,
   "metadata": {},
   "outputs": [],
   "source": [
    "da_T = xr.open_zarr(\"/storage/workspaces/giub_meteo_impacts/ci01/CESM2/TS/past.zarr\")\n",
    "\n",
    "clim = da_tp.groupby(\"time.dayofyear\").mean()\n",
    "clim = smooth(clim, {'dayofyear': ('win', 15)})\n",
    "clim = compute(clim, progress_flag=True)\n",
    "clim.to_zarr(\"/storage/workspaces/giub_meteo_impacts/ci01/CESM2/PRECL/past_clim.zarr\")"
   ]
  },
  {
   "cell_type": "code",
   "execution_count": 7,
   "metadata": {},
   "outputs": [],
   "source": [
    "# da_tp = xr.open_zarr(\"/storage/workspaces/giub_meteo_impacts/ci01/CESM2/PRECL/future.zarr\")\n",
    "\n",
    "# clim = da_tp.groupby(\"time.dayofyear\").mean()\n",
    "# clim = smooth(clim, {'dayofyear': ('win', 15)})\n",
    "# clim = compute(clim, progress_flag=True)\n",
    "# clim.to_zarr(\"/storage/workspaces/giub_meteo_impacts/ci01/CESM2/PRECL/future_clim.zarr\")"
   ]
  },
  {
   "cell_type": "markdown",
   "metadata": {},
   "source": [
    "# create jet relative climatologies"
   ]
  },
  {
   "cell_type": "code",
   "execution_count": 2,
   "metadata": {},
   "outputs": [],
   "source": [
    "dh = DataHandler.from_specs(\"ERA5\", \"plev\", \"high_wind\", \"6H\", \"all\", None, -80, 40, 15, 80)\n",
    "exp = JetFindingExperiment(dh)\n",
    "all_jets_one_df = exp.find_jets(force=False, alignment_thresh=0.6, base_s_thresh=0.55, int_thresh_factor=0.35, hole_size=10)\n",
    "all_jets_one_df = exp.categorize_jets(None, [\"s\", \"theta\"], force=False, n_init=5, init_params=\"k-means++\", mode=\"week\").cast({\"time\": pl.Datetime(\"ms\")})\n",
    "\n",
    "phat_jets = all_jets_one_df.filter((pl.col(\"is_polar\").mean().over([\"time\", \"jet ID\"]) < 0.5) | ((pl.col(\"is_polar\").mean().over([\"time\", \"jet ID\"]) > 0.5) & (pl.col(\"int\").mode().first().over([\"time\", \"jet ID\"]) > 1.5e8)))\n",
    "phat_jets_catd = phat_jets.with_columns(**{\"jet ID\": (pl.col(\"is_polar\").mean().over([\"time\", \"jet ID\"]) > 0.5).cast(pl.UInt32())})"
   ]
  },
  {
   "cell_type": "code",
   "execution_count": 3,
   "metadata": {},
   "outputs": [],
   "source": [
    "def create_jet_relative_clim(jets, path, da, suffix=\"\", half_length: float = 20., std: bool = False):\n",
    "    jets = jets.with_columns(pl.col(\"time\").dt.round(\"1d\"))\n",
    "    jets = jets.with_columns(jets.group_by(\"time\", maintain_order=True).agg(pl.col(\"jet ID\").rle_id())[\"jet ID\"].explode())\n",
    "    indexer = iterate_over_year_maybe_member(jets, da)\n",
    "    to_average = []\n",
    "    varname = da.name + \"_interp\"\n",
    "    for idx1, idx2 in tqdm(indexer, total=len(YEARS)):\n",
    "        jets_ = jets.filter(*idx1)\n",
    "        da_ = da.sel(**idx2)\n",
    "        try:\n",
    "            jets_with_interp = gather_normal_da_jets(jets_, da_, half_length=half_length)\n",
    "        except (KeyError, ValueError) as e:\n",
    "            print(e)\n",
    "            break\n",
    "        jets_with_interp = interp_jets_to_zero_one(jets_with_interp, [varname, \"is_polar\"], n_interp=30)\n",
    "        jets_with_interp = jets_with_interp.group_by(\"time\", pl.col(\"is_polar\").mean().over([\"time\", \"jet ID\"]) > 0.5, \"norm_index\", \"n\", maintain_order=True).agg(pl.col(varname).mean())\n",
    "        to_average.append(jets_with_interp)\n",
    "    agg = pl.col(varname).std() if std else pl.col(varname).mean() \n",
    "    extra_suffix = \"_std\" if std else \"\"\n",
    "    clim = (\n",
    "        pl.concat(to_average)\n",
    "        .group_by(\n",
    "            pl.col(\"time\").dt.ordinal_day().alias(\"dayofyear\"), \"is_polar\", \"norm_index\", \"n\"\n",
    "        ).agg(agg)\n",
    "        .sort(\"dayofyear\", \"is_polar\", \"norm_index\", \"n\")\n",
    "    )\n",
    "    clim_ds = polars_to_xarray(clim, [\"dayofyear\", \"is_polar\", \"n\", \"norm_index\"])\n",
    "    clim_ds.to_netcdf(path.joinpath(f\"{da.name}{suffix}{extra_suffix}_relative_clim.nc\"))"
   ]
  },
  {
   "cell_type": "code",
   "execution_count": 23,
   "metadata": {},
   "outputs": [],
   "source": [
    "from jetutils.definitions import DATERANGE, TIMERANGE\n",
    "ds = xr.open_mfdataset(\"/storage/workspaces/giub_meteo_impacts/ci01/ERA5/blocks/*.nc\")\n",
    "ds = (ds[\"flag\"] != 0).astype(np.int8).sel(time=np.isin(ds.time.dt.year, YEARS)).assign_coords(time=TIMERANGE).chunk(\"auto\")"
   ]
  },
  {
   "cell_type": "code",
   "execution_count": 25,
   "metadata": {},
   "outputs": [
    {
     "name": "stdout",
     "output_type": "stream",
     "text": [
      "[########################################] | 100% Completed | 157.01 s\n"
     ]
    }
   ],
   "source": [
    "haha = ds.to_netcdf(\"/storage/workspaces/giub_meteo_impacts/ci01/ERA5/surf/blocks/6H/full.nc\", compute=False)\n",
    "from dask.diagnostics import ProgressBar\n",
    "with ProgressBar():\n",
    "    haha.compute()"
   ]
  },
  {
   "cell_type": "code",
   "execution_count": 26,
   "metadata": {},
   "outputs": [
    {
     "name": "stderr",
     "output_type": "stream",
     "text": [
      "  0%|          | 0/1 [00:45<?, ?it/s]\n"
     ]
    }
   ],
   "source": [
    "compute_all_dailymeans(\"ERA5\", \"surf\", \"blocks\")"
   ]
  },
  {
   "cell_type": "code",
   "execution_count": null,
   "metadata": {},
   "outputs": [
    {
     "name": "stderr",
     "output_type": "stream",
     "text": [
      "100%|██████████| 64/64 [03:02<00:00,  2.84s/it]\n"
     ]
    },
    {
     "name": "stdout",
     "output_type": "stream",
     "text": [
      "\"not all values found in index 'time'\"\n"
     ]
    }
   ],
   "source": [
    "def create_jet_relative_dataset(jets, path, da, suffix=\"\", half_length: float = 20.):\n",
    "    jets = jets.with_columns(pl.col(\"time\").dt.round(\"1d\"))\n",
    "    jets = jets.with_columns(jets.group_by(\"time\", maintain_order=True).agg(pl.col(\"jet ID\").rle_id())[\"jet ID\"].explode())\n",
    "    indexer = iterate_over_year_maybe_member(jets, da)\n",
    "    to_average = []\n",
    "    varname = da.name + \"_interp\"\n",
    "    for idx1, idx2 in tqdm(indexer, total=len(YEARS)):\n",
    "        jets_ = jets.filter(*idx1)\n",
    "        da_ = da.sel(**idx2)\n",
    "        try:\n",
    "            jets_with_interp = gather_normal_da_jets(jets_, da_, half_length=half_length)\n",
    "        except (KeyError, ValueError) as e:\n",
    "            print(e)\n",
    "            break\n",
    "        jets_with_interp = interp_jets_to_zero_one(jets_with_interp, [varname, \"is_polar\"], n_interp=30)\n",
    "        jets_with_interp = jets_with_interp.group_by(\"time\", pl.col(\"is_polar\").mean().over([\"time\", \"jet ID\"]) > 0.5, \"norm_index\", \"n\", maintain_order=True).agg(pl.col(varname).mean())\n",
    "        to_average.append(jets_with_interp)\n",
    "    pl.concat(to_average).write_parquet(path.joinpath(f\"{da.name}{suffix}_relative.parquet\"))\n",
    "    \n",
    "    \n",
    "args = [\"all\", None, -100, 60, 0, 90]\n",
    "\n",
    "args = [\"all\", None, *get_region(exp.ds)]\n",
    "da_blocks = open_da(\"ERA5\", \"surf\", \"blocks\", \"dailymean\", *args)\n",
    "da_blocks = compute(da_blocks)\n",
    "create_jet_relative_dataset(phat_jets_catd, exp.path, da_blocks, suffix=\"_phat_catd\")\n",
    "del da_blocks"
   ]
  },
  {
   "cell_type": "code",
   "execution_count": 8,
   "metadata": {},
   "outputs": [
    {
     "name": "stderr",
     "output_type": "stream",
     "text": [
      "100%|██████████| 64/64 [05:07<00:00,  4.81s/it]\n"
     ]
    },
    {
     "name": "stdout",
     "output_type": "stream",
     "text": [
      "\"not all values found in index 'time'\"\n"
     ]
    },
    {
     "name": "stderr",
     "output_type": "stream",
     "text": [
      "100%|██████████| 64/64 [05:05<00:00,  4.77s/it]\n"
     ]
    },
    {
     "name": "stdout",
     "output_type": "stream",
     "text": [
      "\"not all values found in index 'time'\"\n"
     ]
    },
    {
     "name": "stderr",
     "output_type": "stream",
     "text": [
      "100%|██████████| 64/64 [05:20<00:00,  5.00s/it]\n"
     ]
    },
    {
     "name": "stdout",
     "output_type": "stream",
     "text": [
      "\"not all values found in index 'time'\"\n"
     ]
    },
    {
     "name": "stderr",
     "output_type": "stream",
     "text": [
      "100%|██████████| 64/64 [05:19<00:00,  5.00s/it]\n"
     ]
    },
    {
     "name": "stdout",
     "output_type": "stream",
     "text": [
      "\"not all values found in index 'time'\"\n"
     ]
    },
    {
     "name": "stderr",
     "output_type": "stream",
     "text": [
      "100%|██████████| 64/64 [05:23<00:00,  5.05s/it]\n"
     ]
    },
    {
     "name": "stdout",
     "output_type": "stream",
     "text": [
      "\"not all values found in index 'time'\"\n"
     ]
    },
    {
     "name": "stderr",
     "output_type": "stream",
     "text": [
      "100%|██████████| 64/64 [03:29<00:00,  3.27s/it]\n"
     ]
    },
    {
     "name": "stdout",
     "output_type": "stream",
     "text": [
      "\"not all values found in index 'time'\"\n"
     ]
    },
    {
     "name": "stderr",
     "output_type": "stream",
     "text": [
      "100%|██████████| 64/64 [03:28<00:00,  3.25s/it]\n"
     ]
    },
    {
     "name": "stdout",
     "output_type": "stream",
     "text": [
      "\"not all values found in index 'time'\"\n"
     ]
    }
   ],
   "source": [
    "args = [\"all\", None, *get_region(exp.ds)]\n",
    "da_T = open_da(\"ERA5\", \"surf\", \"t2m\", \"dailymean\", *args)\n",
    "da_T = compute(da_T)\n",
    "create_jet_relative_clim(phat_jets_catd, exp.path, da_T, suffix=\"_phat_catd\", std=True)\n",
    "del da_T\n",
    "\n",
    "da_tp = open_da(\"ERA5\", \"surf\", \"tp\", \"dailysum\", *args)\n",
    "da_tp = compute(da_tp)\n",
    "create_jet_relative_clim(phat_jets_catd, exp.path, da_tp, suffix=\"_phat_catd\", std=True)\n",
    "del da_tp\n",
    "\n",
    "da_pv = open_da(\"ERA5\", \"thetalev\", \"PV330\", \"dailymean\", *args)\n",
    "da_pv = compute(da_pv).rename(\"PV330\")\n",
    "create_jet_relative_clim(phat_jets_catd, exp.path, da_pv, suffix=\"_phat_catd\", std=True)\n",
    "del da_pv\n",
    "\n",
    "da_pv = open_da(\"ERA5\", \"thetalev\", \"PV350\", \"dailymean\", *args)\n",
    "da_pv = compute(da_pv)\n",
    "create_jet_relative_clim(phat_jets_catd, exp.path, da_pv, suffix=\"_phat_catd\", std=True)\n",
    "del da_pv\n",
    "\n",
    "da_theta2pvu = open_da(\"ERA5\", \"surf\", \"theta2PVU\", \"dailymean\", *args)\n",
    "da_theta2pvu = compute(da_theta2pvu)\n",
    "create_jet_relative_clim(phat_jets_catd, exp.path, da_theta2pvu, suffix=\"_phat_catd\", std=True)\n",
    "del da_theta2pvu\n",
    "\n",
    "varnames_rwb = [\"APVO\", \"CPVO\"]\n",
    "for var in varnamres_rwb:\n",
    "    da_rwb = open_da(\"ERA5\", \"thetalev\", var, \"dailyany\", *args)\n",
    "    da_rwb = compute(da_rwb)\n",
    "    create_jet_relative_clim(phat_jets_catd, exp.path, da_rwb, suffix=\"_phat_catd\", std=True)\n",
    "    del da_rwb"
   ]
  },
  {
   "cell_type": "code",
   "execution_count": 22,
   "metadata": {},
   "outputs": [
    {
     "name": "stdout",
     "output_type": "stream",
     "text": [
      "[########################################] | 100% Completed | 504.78 ms\n",
      "CPVO\n"
     ]
    },
    {
     "name": "stderr",
     "output_type": "stream",
     "text": [
      "100%|██████████| 64/64 [05:36<00:00,  5.26s/it]\n"
     ]
    },
    {
     "name": "stdout",
     "output_type": "stream",
     "text": [
      "[########################################] | 100% Completed | 505.01 ms\n",
      "SAPVS\n"
     ]
    },
    {
     "name": "stderr",
     "output_type": "stream",
     "text": [
      "100%|██████████| 64/64 [05:42<00:00,  5.35s/it]\n"
     ]
    },
    {
     "name": "stdout",
     "output_type": "stream",
     "text": [
      "[########################################] | 100% Completed | 605.23 ms\n",
      "SCPVS\n"
     ]
    },
    {
     "name": "stderr",
     "output_type": "stream",
     "text": [
      "100%|██████████| 64/64 [05:42<00:00,  5.35s/it]\n"
     ]
    },
    {
     "name": "stdout",
     "output_type": "stream",
     "text": [
      "[########################################] | 100% Completed | 805.89 ms\n",
      "TAPVS\n"
     ]
    },
    {
     "name": "stderr",
     "output_type": "stream",
     "text": [
      "100%|██████████| 64/64 [05:40<00:00,  5.32s/it]\n"
     ]
    },
    {
     "name": "stdout",
     "output_type": "stream",
     "text": [
      "[########################################] | 100% Completed | 706.41 ms\n",
      "TCPVS\n"
     ]
    },
    {
     "name": "stderr",
     "output_type": "stream",
     "text": [
      "100%|██████████| 64/64 [05:39<00:00,  5.31s/it]\n"
     ]
    }
   ],
   "source": [
    "# [\"APVO\", \"CPVO\", \"SAPVS\", \"SCPVS\", \"TAPVS\", \"TCPVS\"]\n",
    "for rwb_type in [\"CPVO\", \"SAPVS\", \"SCPVS\", \"TAPVS\", \"TCPVS\"]:\n",
    "    dh = DataHandler.from_specs(\"ERA5\", \"thetalev\", rwb_type, \"dailyany\", \"all\", None, -80, 40, 15, 80)\n",
    "    da = compute(dh.da)\n",
    "    print(da.name)\n",
    "    create_jet_relative_clim(phat_jets_catd, exp.path, da, suffix=\"_phat_catd\")\n",
    "    del da"
   ]
  },
  {
   "cell_type": "code",
   "execution_count": 19,
   "metadata": {},
   "outputs": [
    {
     "data": {
      "text/plain": [
       "PosixPath('/storage/workspaces/giub_meteo_impacts/ci01/ERA5/plev/high_wind/6H/results/7')"
      ]
     },
     "execution_count": 19,
     "metadata": {},
     "output_type": "execute_result"
    }
   ],
   "source": [
    "exp.path"
   ]
  },
  {
   "cell_type": "code",
   "execution_count": 2,
   "metadata": {},
   "outputs": [
    {
     "name": "stdout",
     "output_type": "stream",
     "text": [
      "2022\r"
     ]
    }
   ],
   "source": [
    "from pathlib import Path\n",
    "base_path_1 = Path(f\"{DATADIR}/ERA5/surf/theta2PVU/6H\")\n",
    "base_path_2 = Path(f\"{DATADIR}/ERA5/surf/theta2PVU/dailymean\")\n",
    "# base_path_2.mkdir()\n",
    "for year in YEARS:\n",
    "    print(year, end=\"\\r\")\n",
    "    opath_1 = base_path_1.joinpath(f\"{year}.nc\")\n",
    "    opath_2 = base_path_2.joinpath(f\"{year}.nc\")\n",
    "\n",
    "    if opath_2.is_file():\n",
    "        continue\n",
    "    \n",
    "    this_pv = standardize(open_dataarray(opath_1))\n",
    "    this_pv = compute(this_pv, progress_flag=False)\n",
    "    this_pv = this_pv.resample(time=\"1d\").mean()    \n",
    "    this_pv.to_netcdf(opath_2)"
   ]
  },
  {
   "cell_type": "code",
   "execution_count": 5,
   "metadata": {},
   "outputs": [
    {
     "name": "stderr",
     "output_type": "stream",
     "text": [
      "100%|██████████| 64/64 [05:34<00:00,  5.23s/it]\n"
     ]
    }
   ],
   "source": [
    "args = [\"all\", None, *get_region(exp.ds), \"all\", \"dayofyear\", {\"dayofyear\": (\"win\", 15)}]\n",
    "da_T = open_da(\"ERA5\", \"surf\", \"t2m\", \"dailymean\", *args)\n",
    "da_T = compute(da_T)\n",
    "create_jet_relative_clim(exp, da_T, \"_anom\")\n",
    "del da_T\n",
    "# da_T = open_da(\"ERA5\", \"plev\", \"t300\", \"dailymean\", *args)\n",
    "# da_T = compute(da_T)\n",
    "# create_jet_relative_clim(exp, da_T, \"_anom\")\n",
    "# del da_T\n",
    "# da_tp = open_da(\"ERA5\", \"surf\", \"tp\", \"dailysum\", *args)\n",
    "# da_tp = compute(da_tp)\n",
    "# create_jet_relative_clim(exp, da_tp, \"_anom\")\n",
    "# del da_tp\n",
    "# da_apvs = open_da(\"ERA5\", \"thetalev\", \"apvs\", \"dailyany\", *args)\n",
    "# da_apvs = compute(da_apvs)\n",
    "# create_jet_relative_clim(exp, da_apvs, \"_anom\")\n",
    "# del da_apvs\n",
    "# da_cpvs = open_da(\"ERA5\", \"thetalev\", \"cpvs\", \"dailyany\", *args)\n",
    "# da_cpvs = compute(da_cpvs)\n",
    "# create_jet_relative_clim(exp, da_cpvs, \"_anom\")\n",
    "# del da_cpvs"
   ]
  },
  {
   "cell_type": "markdown",
   "metadata": {},
   "source": [
    "# arco-era5 tests"
   ]
  },
  {
   "cell_type": "code",
   "execution_count": null,
   "metadata": {},
   "outputs": [],
   "source": [
    "ds = xr.open_zarr(\n",
    "    \"gs://gcp-public-data-arco-era5/ar/full_37-1h-0p25deg-chunk-1.zarr-v3\",\n",
    "    chunks=None,\n",
    "    storage_options=dict(token=\"anon\"),\n",
    ")\n",
    "ar_full_37_1h = ds.sel(\n",
    "    time=slice(ds.attrs[\"valid_time_start\"], ds.attrs[\"valid_time_stop\"])\n",
    ")\n",
    "\n",
    "temp_full = (\n",
    "    ar_full_37_1h[\"temperature\"]\n",
    "    .sel(\n",
    "        time=ar_full_37_1h.time.dt.hour % 6 == 0,\n",
    "        latitude=ar_full_37_1h.latitude >= 0,\n",
    "        level=200,\n",
    "    )\n",
    "    .isel(longitude=slice(None, None, 2), latitude=slice(None, None, 2))\n",
    ")\n",
    "\n",
    "temp_full = standardize(temp_full).chunk(\"auto\")\n",
    "\n",
    "from pathlib import Path\n",
    "base_path_1 = Path(f\"{DATADIR}/ERA5/plev/t200/6H\")\n",
    "base_path_2 = Path(f\"{DATADIR}/ERA5/plev/t200/dailymean\")\n",
    "# base_path_1.mkdir(parents=True)\n",
    "# base_path_2.mkdir(parents=True)\n",
    "for year in YEARS:\n",
    "    print(year)\n",
    "    opath_1 = base_path_1.joinpath(f\"{year}.nc\")\n",
    "    opath_2 = base_path_2.joinpath(f\"{year}.nc\")\n",
    "\n",
    "    if opath_2.is_file():\n",
    "        continue\n",
    "    this_temp = temp_full.sel(time=temp_full.time.dt.year == year)\n",
    "    this_temp = this_temp.reset_coords(\"lev\", drop=True)\n",
    "    this_temp = compute(this_temp, progress_flag=True)\n",
    "    this_temp.to_netcdf(opath_1)\n",
    "    \n",
    "    this_temp = this_temp.resample(time=\"1d\").mean()\n",
    "    this_temp.to_netcdf(opath_2)"
   ]
  },
  {
   "cell_type": "code",
   "execution_count": 5,
   "metadata": {},
   "outputs": [
    {
     "data": {
      "text/html": [
       "<div><svg style=\"position: absolute; width: 0; height: 0; overflow: hidden\">\n",
       "<defs>\n",
       "<symbol id=\"icon-database\" viewBox=\"0 0 32 32\">\n",
       "<path d=\"M16 0c-8.837 0-16 2.239-16 5v4c0 2.761 7.163 5 16 5s16-2.239 16-5v-4c0-2.761-7.163-5-16-5z\"></path>\n",
       "<path d=\"M16 17c-8.837 0-16-2.239-16-5v6c0 2.761 7.163 5 16 5s16-2.239 16-5v-6c0 2.761-7.163 5-16 5z\"></path>\n",
       "<path d=\"M16 26c-8.837 0-16-2.239-16-5v6c0 2.761 7.163 5 16 5s16-2.239 16-5v-6c0 2.761-7.163 5-16 5z\"></path>\n",
       "</symbol>\n",
       "<symbol id=\"icon-file-text2\" viewBox=\"0 0 32 32\">\n",
       "<path d=\"M28.681 7.159c-0.694-0.947-1.662-2.053-2.724-3.116s-2.169-2.030-3.116-2.724c-1.612-1.182-2.393-1.319-2.841-1.319h-15.5c-1.378 0-2.5 1.121-2.5 2.5v27c0 1.378 1.122 2.5 2.5 2.5h23c1.378 0 2.5-1.122 2.5-2.5v-19.5c0-0.448-0.137-1.23-1.319-2.841zM24.543 5.457c0.959 0.959 1.712 1.825 2.268 2.543h-4.811v-4.811c0.718 0.556 1.584 1.309 2.543 2.268zM28 29.5c0 0.271-0.229 0.5-0.5 0.5h-23c-0.271 0-0.5-0.229-0.5-0.5v-27c0-0.271 0.229-0.5 0.5-0.5 0 0 15.499-0 15.5 0v7c0 0.552 0.448 1 1 1h7v19.5z\"></path>\n",
       "<path d=\"M23 26h-14c-0.552 0-1-0.448-1-1s0.448-1 1-1h14c0.552 0 1 0.448 1 1s-0.448 1-1 1z\"></path>\n",
       "<path d=\"M23 22h-14c-0.552 0-1-0.448-1-1s0.448-1 1-1h14c0.552 0 1 0.448 1 1s-0.448 1-1 1z\"></path>\n",
       "<path d=\"M23 18h-14c-0.552 0-1-0.448-1-1s0.448-1 1-1h14c0.552 0 1 0.448 1 1s-0.448 1-1 1z\"></path>\n",
       "</symbol>\n",
       "</defs>\n",
       "</svg>\n",
       "<style>/* CSS stylesheet for displaying xarray objects in jupyterlab.\n",
       " *\n",
       " */\n",
       "\n",
       ":root {\n",
       "  --xr-font-color0: var(--jp-content-font-color0, rgba(0, 0, 0, 1));\n",
       "  --xr-font-color2: var(--jp-content-font-color2, rgba(0, 0, 0, 0.54));\n",
       "  --xr-font-color3: var(--jp-content-font-color3, rgba(0, 0, 0, 0.38));\n",
       "  --xr-border-color: var(--jp-border-color2, #e0e0e0);\n",
       "  --xr-disabled-color: var(--jp-layout-color3, #bdbdbd);\n",
       "  --xr-background-color: var(--jp-layout-color0, white);\n",
       "  --xr-background-color-row-even: var(--jp-layout-color1, white);\n",
       "  --xr-background-color-row-odd: var(--jp-layout-color2, #eeeeee);\n",
       "}\n",
       "\n",
       "html[theme=\"dark\"],\n",
       "html[data-theme=\"dark\"],\n",
       "body[data-theme=\"dark\"],\n",
       "body.vscode-dark {\n",
       "  --xr-font-color0: rgba(255, 255, 255, 1);\n",
       "  --xr-font-color2: rgba(255, 255, 255, 0.54);\n",
       "  --xr-font-color3: rgba(255, 255, 255, 0.38);\n",
       "  --xr-border-color: #1f1f1f;\n",
       "  --xr-disabled-color: #515151;\n",
       "  --xr-background-color: #111111;\n",
       "  --xr-background-color-row-even: #111111;\n",
       "  --xr-background-color-row-odd: #313131;\n",
       "}\n",
       "\n",
       ".xr-wrap {\n",
       "  display: block !important;\n",
       "  min-width: 300px;\n",
       "  max-width: 700px;\n",
       "}\n",
       "\n",
       ".xr-text-repr-fallback {\n",
       "  /* fallback to plain text repr when CSS is not injected (untrusted notebook) */\n",
       "  display: none;\n",
       "}\n",
       "\n",
       ".xr-header {\n",
       "  padding-top: 6px;\n",
       "  padding-bottom: 6px;\n",
       "  margin-bottom: 4px;\n",
       "  border-bottom: solid 1px var(--xr-border-color);\n",
       "}\n",
       "\n",
       ".xr-header > div,\n",
       ".xr-header > ul {\n",
       "  display: inline;\n",
       "  margin-top: 0;\n",
       "  margin-bottom: 0;\n",
       "}\n",
       "\n",
       ".xr-obj-type,\n",
       ".xr-array-name {\n",
       "  margin-left: 2px;\n",
       "  margin-right: 10px;\n",
       "}\n",
       "\n",
       ".xr-obj-type {\n",
       "  color: var(--xr-font-color2);\n",
       "}\n",
       "\n",
       ".xr-sections {\n",
       "  padding-left: 0 !important;\n",
       "  display: grid;\n",
       "  grid-template-columns: 150px auto auto 1fr 0 20px 0 20px;\n",
       "}\n",
       "\n",
       ".xr-section-item {\n",
       "  display: contents;\n",
       "}\n",
       "\n",
       ".xr-section-item input {\n",
       "  display: inline-block;\n",
       "  opacity: 0;\n",
       "  height: 0;\n",
       "}\n",
       "\n",
       ".xr-section-item input + label {\n",
       "  color: var(--xr-disabled-color);\n",
       "}\n",
       "\n",
       ".xr-section-item input:enabled + label {\n",
       "  cursor: pointer;\n",
       "  color: var(--xr-font-color2);\n",
       "}\n",
       "\n",
       ".xr-section-item input:focus + label {\n",
       "  border: 2px solid var(--xr-font-color0);\n",
       "}\n",
       "\n",
       ".xr-section-item input:enabled + label:hover {\n",
       "  color: var(--xr-font-color0);\n",
       "}\n",
       "\n",
       ".xr-section-summary {\n",
       "  grid-column: 1;\n",
       "  color: var(--xr-font-color2);\n",
       "  font-weight: 500;\n",
       "}\n",
       "\n",
       ".xr-section-summary > span {\n",
       "  display: inline-block;\n",
       "  padding-left: 0.5em;\n",
       "}\n",
       "\n",
       ".xr-section-summary-in:disabled + label {\n",
       "  color: var(--xr-font-color2);\n",
       "}\n",
       "\n",
       ".xr-section-summary-in + label:before {\n",
       "  display: inline-block;\n",
       "  content: \"►\";\n",
       "  font-size: 11px;\n",
       "  width: 15px;\n",
       "  text-align: center;\n",
       "}\n",
       "\n",
       ".xr-section-summary-in:disabled + label:before {\n",
       "  color: var(--xr-disabled-color);\n",
       "}\n",
       "\n",
       ".xr-section-summary-in:checked + label:before {\n",
       "  content: \"▼\";\n",
       "}\n",
       "\n",
       ".xr-section-summary-in:checked + label > span {\n",
       "  display: none;\n",
       "}\n",
       "\n",
       ".xr-section-summary,\n",
       ".xr-section-inline-details {\n",
       "  padding-top: 4px;\n",
       "  padding-bottom: 4px;\n",
       "}\n",
       "\n",
       ".xr-section-inline-details {\n",
       "  grid-column: 2 / -1;\n",
       "}\n",
       "\n",
       ".xr-section-details {\n",
       "  display: none;\n",
       "  grid-column: 1 / -1;\n",
       "  margin-bottom: 5px;\n",
       "}\n",
       "\n",
       ".xr-section-summary-in:checked ~ .xr-section-details {\n",
       "  display: contents;\n",
       "}\n",
       "\n",
       ".xr-array-wrap {\n",
       "  grid-column: 1 / -1;\n",
       "  display: grid;\n",
       "  grid-template-columns: 20px auto;\n",
       "}\n",
       "\n",
       ".xr-array-wrap > label {\n",
       "  grid-column: 1;\n",
       "  vertical-align: top;\n",
       "}\n",
       "\n",
       ".xr-preview {\n",
       "  color: var(--xr-font-color3);\n",
       "}\n",
       "\n",
       ".xr-array-preview,\n",
       ".xr-array-data {\n",
       "  padding: 0 5px !important;\n",
       "  grid-column: 2;\n",
       "}\n",
       "\n",
       ".xr-array-data,\n",
       ".xr-array-in:checked ~ .xr-array-preview {\n",
       "  display: none;\n",
       "}\n",
       "\n",
       ".xr-array-in:checked ~ .xr-array-data,\n",
       ".xr-array-preview {\n",
       "  display: inline-block;\n",
       "}\n",
       "\n",
       ".xr-dim-list {\n",
       "  display: inline-block !important;\n",
       "  list-style: none;\n",
       "  padding: 0 !important;\n",
       "  margin: 0;\n",
       "}\n",
       "\n",
       ".xr-dim-list li {\n",
       "  display: inline-block;\n",
       "  padding: 0;\n",
       "  margin: 0;\n",
       "}\n",
       "\n",
       ".xr-dim-list:before {\n",
       "  content: \"(\";\n",
       "}\n",
       "\n",
       ".xr-dim-list:after {\n",
       "  content: \")\";\n",
       "}\n",
       "\n",
       ".xr-dim-list li:not(:last-child):after {\n",
       "  content: \",\";\n",
       "  padding-right: 5px;\n",
       "}\n",
       "\n",
       ".xr-has-index {\n",
       "  font-weight: bold;\n",
       "}\n",
       "\n",
       ".xr-var-list,\n",
       ".xr-var-item {\n",
       "  display: contents;\n",
       "}\n",
       "\n",
       ".xr-var-item > div,\n",
       ".xr-var-item label,\n",
       ".xr-var-item > .xr-var-name span {\n",
       "  background-color: var(--xr-background-color-row-even);\n",
       "  margin-bottom: 0;\n",
       "}\n",
       "\n",
       ".xr-var-item > .xr-var-name:hover span {\n",
       "  padding-right: 5px;\n",
       "}\n",
       "\n",
       ".xr-var-list > li:nth-child(odd) > div,\n",
       ".xr-var-list > li:nth-child(odd) > label,\n",
       ".xr-var-list > li:nth-child(odd) > .xr-var-name span {\n",
       "  background-color: var(--xr-background-color-row-odd);\n",
       "}\n",
       "\n",
       ".xr-var-name {\n",
       "  grid-column: 1;\n",
       "}\n",
       "\n",
       ".xr-var-dims {\n",
       "  grid-column: 2;\n",
       "}\n",
       "\n",
       ".xr-var-dtype {\n",
       "  grid-column: 3;\n",
       "  text-align: right;\n",
       "  color: var(--xr-font-color2);\n",
       "}\n",
       "\n",
       ".xr-var-preview {\n",
       "  grid-column: 4;\n",
       "}\n",
       "\n",
       ".xr-index-preview {\n",
       "  grid-column: 2 / 5;\n",
       "  color: var(--xr-font-color2);\n",
       "}\n",
       "\n",
       ".xr-var-name,\n",
       ".xr-var-dims,\n",
       ".xr-var-dtype,\n",
       ".xr-preview,\n",
       ".xr-attrs dt {\n",
       "  white-space: nowrap;\n",
       "  overflow: hidden;\n",
       "  text-overflow: ellipsis;\n",
       "  padding-right: 10px;\n",
       "}\n",
       "\n",
       ".xr-var-name:hover,\n",
       ".xr-var-dims:hover,\n",
       ".xr-var-dtype:hover,\n",
       ".xr-attrs dt:hover {\n",
       "  overflow: visible;\n",
       "  width: auto;\n",
       "  z-index: 1;\n",
       "}\n",
       "\n",
       ".xr-var-attrs,\n",
       ".xr-var-data,\n",
       ".xr-index-data {\n",
       "  display: none;\n",
       "  background-color: var(--xr-background-color) !important;\n",
       "  padding-bottom: 5px !important;\n",
       "}\n",
       "\n",
       ".xr-var-attrs-in:checked ~ .xr-var-attrs,\n",
       ".xr-var-data-in:checked ~ .xr-var-data,\n",
       ".xr-index-data-in:checked ~ .xr-index-data {\n",
       "  display: block;\n",
       "}\n",
       "\n",
       ".xr-var-data > table {\n",
       "  float: right;\n",
       "}\n",
       "\n",
       ".xr-var-name span,\n",
       ".xr-var-data,\n",
       ".xr-index-name div,\n",
       ".xr-index-data,\n",
       ".xr-attrs {\n",
       "  padding-left: 25px !important;\n",
       "}\n",
       "\n",
       ".xr-attrs,\n",
       ".xr-var-attrs,\n",
       ".xr-var-data,\n",
       ".xr-index-data {\n",
       "  grid-column: 1 / -1;\n",
       "}\n",
       "\n",
       "dl.xr-attrs {\n",
       "  padding: 0;\n",
       "  margin: 0;\n",
       "  display: grid;\n",
       "  grid-template-columns: 125px auto;\n",
       "}\n",
       "\n",
       ".xr-attrs dt,\n",
       ".xr-attrs dd {\n",
       "  padding: 0;\n",
       "  margin: 0;\n",
       "  float: left;\n",
       "  padding-right: 10px;\n",
       "  width: auto;\n",
       "}\n",
       "\n",
       ".xr-attrs dt {\n",
       "  font-weight: normal;\n",
       "  grid-column: 1;\n",
       "}\n",
       "\n",
       ".xr-attrs dt:hover span {\n",
       "  display: inline-block;\n",
       "  background: var(--xr-background-color);\n",
       "  padding-right: 10px;\n",
       "}\n",
       "\n",
       ".xr-attrs dd {\n",
       "  grid-column: 2;\n",
       "  white-space: pre-wrap;\n",
       "  word-break: break-all;\n",
       "}\n",
       "\n",
       ".xr-icon-database,\n",
       ".xr-icon-file-text2,\n",
       ".xr-no-icon {\n",
       "  display: inline-block;\n",
       "  vertical-align: middle;\n",
       "  width: 1em;\n",
       "  height: 1.5em !important;\n",
       "  stroke-width: 0;\n",
       "  stroke: currentColor;\n",
       "  fill: currentColor;\n",
       "}\n",
       "</style><pre class='xr-text-repr-fallback'>&lt;xarray.DataArray &#x27;temperature&#x27; (time: 124424, lat: 181, lon: 720)&gt; Size: 65GB\n",
       "[16214935680 values with dtype=float32]\n",
       "Coordinates:\n",
       "  * lat      (lat) float32 724B 0.0 0.5 1.0 1.5 2.0 ... 88.0 88.5 89.0 89.5 90.0\n",
       "  * time     (time) datetime64[ns] 995kB 1940-01-01 ... 2025-02-28T18:00:00\n",
       "  * lon      (lon) float32 3kB -180.0 -179.5 -179.0 -178.5 ... 178.5 179.0 179.5\n",
       "    lev      int64 8B 200\n",
       "Attributes:\n",
       "    long_name:      Temperature\n",
       "    short_name:     t\n",
       "    standard_name:  air_temperature\n",
       "    units:          K</pre><div class='xr-wrap' style='display:none'><div class='xr-header'><div class='xr-obj-type'>xarray.DataArray</div><div class='xr-array-name'>'temperature'</div><ul class='xr-dim-list'><li><span class='xr-has-index'>time</span>: 124424</li><li><span class='xr-has-index'>lat</span>: 181</li><li><span class='xr-has-index'>lon</span>: 720</li></ul></div><ul class='xr-sections'><li class='xr-section-item'><div class='xr-array-wrap'><input id='section-67061b9a-ca51-43fb-8a70-8548e3bdb07c' class='xr-array-in' type='checkbox' checked><label for='section-67061b9a-ca51-43fb-8a70-8548e3bdb07c' title='Show/hide data repr'><svg class='icon xr-icon-database'><use xlink:href='#icon-database'></use></svg></label><div class='xr-array-preview xr-preview'><span>...</span></div><div class='xr-array-data'><pre>[16214935680 values with dtype=float32]</pre></div></div></li><li class='xr-section-item'><input id='section-50e9c777-acf7-4b4d-8bb0-86c64a9ff7a8' class='xr-section-summary-in' type='checkbox'  checked><label for='section-50e9c777-acf7-4b4d-8bb0-86c64a9ff7a8' class='xr-section-summary' >Coordinates: <span>(4)</span></label><div class='xr-section-inline-details'></div><div class='xr-section-details'><ul class='xr-var-list'><li class='xr-var-item'><div class='xr-var-name'><span class='xr-has-index'>lat</span></div><div class='xr-var-dims'>(lat)</div><div class='xr-var-dtype'>float32</div><div class='xr-var-preview xr-preview'>0.0 0.5 1.0 1.5 ... 89.0 89.5 90.0</div><input id='attrs-212f6b5e-f3cc-4e9f-9487-a9171e7b798b' class='xr-var-attrs-in' type='checkbox' ><label for='attrs-212f6b5e-f3cc-4e9f-9487-a9171e7b798b' title='Show/Hide attributes'><svg class='icon xr-icon-file-text2'><use xlink:href='#icon-file-text2'></use></svg></label><input id='data-166d5a91-a63b-43ac-bf85-5d4e80cb48d1' class='xr-var-data-in' type='checkbox'><label for='data-166d5a91-a63b-43ac-bf85-5d4e80cb48d1' title='Show/Hide data repr'><svg class='icon xr-icon-database'><use xlink:href='#icon-database'></use></svg></label><div class='xr-var-attrs'><dl class='xr-attrs'><dt><span>long_name :</span></dt><dd>latitude</dd><dt><span>units :</span></dt><dd>degrees_north</dd></dl></div><div class='xr-var-data'><pre>array([ 0. ,  0.5,  1. ,  1.5,  2. ,  2.5,  3. ,  3.5,  4. ,  4.5,  5. ,  5.5,\n",
       "        6. ,  6.5,  7. ,  7.5,  8. ,  8.5,  9. ,  9.5, 10. , 10.5, 11. , 11.5,\n",
       "       12. , 12.5, 13. , 13.5, 14. , 14.5, 15. , 15.5, 16. , 16.5, 17. , 17.5,\n",
       "       18. , 18.5, 19. , 19.5, 20. , 20.5, 21. , 21.5, 22. , 22.5, 23. , 23.5,\n",
       "       24. , 24.5, 25. , 25.5, 26. , 26.5, 27. , 27.5, 28. , 28.5, 29. , 29.5,\n",
       "       30. , 30.5, 31. , 31.5, 32. , 32.5, 33. , 33.5, 34. , 34.5, 35. , 35.5,\n",
       "       36. , 36.5, 37. , 37.5, 38. , 38.5, 39. , 39.5, 40. , 40.5, 41. , 41.5,\n",
       "       42. , 42.5, 43. , 43.5, 44. , 44.5, 45. , 45.5, 46. , 46.5, 47. , 47.5,\n",
       "       48. , 48.5, 49. , 49.5, 50. , 50.5, 51. , 51.5, 52. , 52.5, 53. , 53.5,\n",
       "       54. , 54.5, 55. , 55.5, 56. , 56.5, 57. , 57.5, 58. , 58.5, 59. , 59.5,\n",
       "       60. , 60.5, 61. , 61.5, 62. , 62.5, 63. , 63.5, 64. , 64.5, 65. , 65.5,\n",
       "       66. , 66.5, 67. , 67.5, 68. , 68.5, 69. , 69.5, 70. , 70.5, 71. , 71.5,\n",
       "       72. , 72.5, 73. , 73.5, 74. , 74.5, 75. , 75.5, 76. , 76.5, 77. , 77.5,\n",
       "       78. , 78.5, 79. , 79.5, 80. , 80.5, 81. , 81.5, 82. , 82.5, 83. , 83.5,\n",
       "       84. , 84.5, 85. , 85.5, 86. , 86.5, 87. , 87.5, 88. , 88.5, 89. , 89.5,\n",
       "       90. ], dtype=float32)</pre></div></li><li class='xr-var-item'><div class='xr-var-name'><span class='xr-has-index'>time</span></div><div class='xr-var-dims'>(time)</div><div class='xr-var-dtype'>datetime64[ns]</div><div class='xr-var-preview xr-preview'>1940-01-01 ... 2025-02-28T18:00:00</div><input id='attrs-93551dd1-748b-4d10-b865-633879d70570' class='xr-var-attrs-in' type='checkbox' disabled><label for='attrs-93551dd1-748b-4d10-b865-633879d70570' title='Show/Hide attributes'><svg class='icon xr-icon-file-text2'><use xlink:href='#icon-file-text2'></use></svg></label><input id='data-33e36bf9-e6ac-408f-8527-8ee479555462' class='xr-var-data-in' type='checkbox'><label for='data-33e36bf9-e6ac-408f-8527-8ee479555462' title='Show/Hide data repr'><svg class='icon xr-icon-database'><use xlink:href='#icon-database'></use></svg></label><div class='xr-var-attrs'><dl class='xr-attrs'></dl></div><div class='xr-var-data'><pre>array([&#x27;1940-01-01T00:00:00.000000000&#x27;, &#x27;1940-01-01T06:00:00.000000000&#x27;,\n",
       "       &#x27;1940-01-01T12:00:00.000000000&#x27;, ..., &#x27;2025-02-28T06:00:00.000000000&#x27;,\n",
       "       &#x27;2025-02-28T12:00:00.000000000&#x27;, &#x27;2025-02-28T18:00:00.000000000&#x27;],\n",
       "      dtype=&#x27;datetime64[ns]&#x27;)</pre></div></li><li class='xr-var-item'><div class='xr-var-name'><span class='xr-has-index'>lon</span></div><div class='xr-var-dims'>(lon)</div><div class='xr-var-dtype'>float32</div><div class='xr-var-preview xr-preview'>-180.0 -179.5 ... 179.0 179.5</div><input id='attrs-f73e95ca-d6f9-4281-bf17-512c8def19ab' class='xr-var-attrs-in' type='checkbox' disabled><label for='attrs-f73e95ca-d6f9-4281-bf17-512c8def19ab' title='Show/Hide attributes'><svg class='icon xr-icon-file-text2'><use xlink:href='#icon-file-text2'></use></svg></label><input id='data-feadd2cb-fd36-45ff-959d-c9946d182ad5' class='xr-var-data-in' type='checkbox'><label for='data-feadd2cb-fd36-45ff-959d-c9946d182ad5' title='Show/Hide data repr'><svg class='icon xr-icon-database'><use xlink:href='#icon-database'></use></svg></label><div class='xr-var-attrs'><dl class='xr-attrs'></dl></div><div class='xr-var-data'><pre>array([-180. , -179.5, -179. , ...,  178.5,  179. ,  179.5], dtype=float32)</pre></div></li><li class='xr-var-item'><div class='xr-var-name'><span>lev</span></div><div class='xr-var-dims'>()</div><div class='xr-var-dtype'>int64</div><div class='xr-var-preview xr-preview'>200</div><input id='attrs-be903f20-95fc-4633-88b9-7dd168fa35bf' class='xr-var-attrs-in' type='checkbox' ><label for='attrs-be903f20-95fc-4633-88b9-7dd168fa35bf' title='Show/Hide attributes'><svg class='icon xr-icon-file-text2'><use xlink:href='#icon-file-text2'></use></svg></label><input id='data-9d7eeb5b-e81d-494b-a3d5-d2656bdbca14' class='xr-var-data-in' type='checkbox'><label for='data-9d7eeb5b-e81d-494b-a3d5-d2656bdbca14' title='Show/Hide data repr'><svg class='icon xr-icon-database'><use xlink:href='#icon-database'></use></svg></label><div class='xr-var-attrs'><dl class='xr-attrs'><dt><span>long_name :</span></dt><dd>level</dd><dt><span>units :</span></dt><dd>Hectopascal(hPa)</dd></dl></div><div class='xr-var-data'><pre>array(200)</pre></div></li></ul></div></li><li class='xr-section-item'><input id='section-f170cbf5-7533-45ca-9b96-19bde03ce9e3' class='xr-section-summary-in' type='checkbox'  ><label for='section-f170cbf5-7533-45ca-9b96-19bde03ce9e3' class='xr-section-summary' >Indexes: <span>(3)</span></label><div class='xr-section-inline-details'></div><div class='xr-section-details'><ul class='xr-var-list'><li class='xr-var-item'><div class='xr-index-name'><div>lat</div></div><div class='xr-index-preview'>PandasIndex</div><input type='checkbox' disabled/><label></label><input id='index-7af088fd-1bd0-4417-b151-d1d7964aaf47' class='xr-index-data-in' type='checkbox'/><label for='index-7af088fd-1bd0-4417-b151-d1d7964aaf47' title='Show/Hide index repr'><svg class='icon xr-icon-database'><use xlink:href='#icon-database'></use></svg></label><div class='xr-index-data'><pre>PandasIndex(Index([ 0.0,  0.5,  1.0,  1.5,  2.0,  2.5,  3.0,  3.5,  4.0,  4.5,\n",
       "       ...\n",
       "       85.5, 86.0, 86.5, 87.0, 87.5, 88.0, 88.5, 89.0, 89.5, 90.0],\n",
       "      dtype=&#x27;float32&#x27;, name=&#x27;lat&#x27;, length=181))</pre></div></li><li class='xr-var-item'><div class='xr-index-name'><div>time</div></div><div class='xr-index-preview'>PandasIndex</div><input type='checkbox' disabled/><label></label><input id='index-854d3e22-b50f-4d84-b530-6b62a2901ba7' class='xr-index-data-in' type='checkbox'/><label for='index-854d3e22-b50f-4d84-b530-6b62a2901ba7' title='Show/Hide index repr'><svg class='icon xr-icon-database'><use xlink:href='#icon-database'></use></svg></label><div class='xr-index-data'><pre>PandasIndex(DatetimeIndex([&#x27;1940-01-01 00:00:00&#x27;, &#x27;1940-01-01 06:00:00&#x27;,\n",
       "               &#x27;1940-01-01 12:00:00&#x27;, &#x27;1940-01-01 18:00:00&#x27;,\n",
       "               &#x27;1940-01-02 00:00:00&#x27;, &#x27;1940-01-02 06:00:00&#x27;,\n",
       "               &#x27;1940-01-02 12:00:00&#x27;, &#x27;1940-01-02 18:00:00&#x27;,\n",
       "               &#x27;1940-01-03 00:00:00&#x27;, &#x27;1940-01-03 06:00:00&#x27;,\n",
       "               ...\n",
       "               &#x27;2025-02-26 12:00:00&#x27;, &#x27;2025-02-26 18:00:00&#x27;,\n",
       "               &#x27;2025-02-27 00:00:00&#x27;, &#x27;2025-02-27 06:00:00&#x27;,\n",
       "               &#x27;2025-02-27 12:00:00&#x27;, &#x27;2025-02-27 18:00:00&#x27;,\n",
       "               &#x27;2025-02-28 00:00:00&#x27;, &#x27;2025-02-28 06:00:00&#x27;,\n",
       "               &#x27;2025-02-28 12:00:00&#x27;, &#x27;2025-02-28 18:00:00&#x27;],\n",
       "              dtype=&#x27;datetime64[ns]&#x27;, name=&#x27;time&#x27;, length=124424, freq=None))</pre></div></li><li class='xr-var-item'><div class='xr-index-name'><div>lon</div></div><div class='xr-index-preview'>PandasIndex</div><input type='checkbox' disabled/><label></label><input id='index-e4cf975a-d595-4d0a-87c9-a280a0e57904' class='xr-index-data-in' type='checkbox'/><label for='index-e4cf975a-d595-4d0a-87c9-a280a0e57904' title='Show/Hide index repr'><svg class='icon xr-icon-database'><use xlink:href='#icon-database'></use></svg></label><div class='xr-index-data'><pre>PandasIndex(Index([-180.0, -179.5, -179.0, -178.5, -178.0, -177.5, -177.0, -176.5, -176.0,\n",
       "       -175.5,\n",
       "       ...\n",
       "        175.0,  175.5,  176.0,  176.5,  177.0,  177.5,  178.0,  178.5,  179.0,\n",
       "        179.5],\n",
       "      dtype=&#x27;float32&#x27;, name=&#x27;lon&#x27;, length=720))</pre></div></li></ul></div></li><li class='xr-section-item'><input id='section-b332318e-e8e0-4cc5-8a7c-ae034436b59f' class='xr-section-summary-in' type='checkbox'  checked><label for='section-b332318e-e8e0-4cc5-8a7c-ae034436b59f' class='xr-section-summary' >Attributes: <span>(4)</span></label><div class='xr-section-inline-details'></div><div class='xr-section-details'><dl class='xr-attrs'><dt><span>long_name :</span></dt><dd>Temperature</dd><dt><span>short_name :</span></dt><dd>t</dd><dt><span>standard_name :</span></dt><dd>air_temperature</dd><dt><span>units :</span></dt><dd>K</dd></dl></div></li></ul></div></div>"
      ],
      "text/plain": [
       "<xarray.DataArray 'temperature' (time: 124424, lat: 181, lon: 720)> Size: 65GB\n",
       "[16214935680 values with dtype=float32]\n",
       "Coordinates:\n",
       "  * lat      (lat) float32 724B 0.0 0.5 1.0 1.5 2.0 ... 88.0 88.5 89.0 89.5 90.0\n",
       "  * time     (time) datetime64[ns] 995kB 1940-01-01 ... 2025-02-28T18:00:00\n",
       "  * lon      (lon) float32 3kB -180.0 -179.5 -179.0 -178.5 ... 178.5 179.0 179.5\n",
       "    lev      int64 8B 200\n",
       "Attributes:\n",
       "    long_name:      Temperature\n",
       "    short_name:     t\n",
       "    standard_name:  air_temperature\n",
       "    units:          K"
      ]
     },
     "execution_count": 5,
     "metadata": {},
     "output_type": "execute_result"
    }
   ],
   "source": [
    "temp_full"
   ]
  },
  {
   "cell_type": "code",
   "execution_count": null,
   "metadata": {},
   "outputs": [],
   "source": [
    "ds = xr.open_zarr(\n",
    "    \"gs://gcp-public-data-arco-era5/ar/full_37-1h-0p25deg-chunk-1.zarr-v3\",\n",
    "    chunks=None,\n",
    "    storage_options=dict(token=\"anon\"),\n",
    ")\n",
    "ar_full_37_1h = ds.sel(\n",
    "    time=slice(ds.attrs[\"valid_time_start\"], ds.attrs[\"valid_time_stop\"])\n",
    ")\n",
    "\n",
    "temp_full = (\n",
    "    ar_full_37_1h[\"temperature\"]\n",
    "    .sel(\n",
    "        time=ar_full_37_1h.time.dt.hour % 6 == 0,\n",
    "        latitude=ar_full_37_1h.latitude >= 0,\n",
    "        level=[175, 200, 225, 250, 300, 350],\n",
    "    )\n",
    "    .isel(longitude=slice(None, None, 2), latitude=slice(None, None, 2))\n",
    ")\n",
    "\n",
    "temp_full = standardize(temp_full)\n",
    "\n",
    "orig_path = Path(f\"{DATADIR}/ERA5/plev/flat_wind/dailymean\")\n",
    "base_path = Path(f\"{DATADIR}/ERA5/plev/flat_wind/dailymean_2\")\n",
    "for year in tqdm(YEARS):\n",
    "    for month in trange(1, 13, leave=False):\n",
    "        month_str = str(month).zfill(2)\n",
    "        opath = base_path.joinpath(f\"{year}{month_str}.nc\")\n",
    "        if opath.is_file():\n",
    "            continue\n",
    "        ipath = orig_path.joinpath(f\"{year}{month_str}.nc\")\n",
    "        ds = xr.open_dataset(ipath)\n",
    "        this_temp = temp_full.sel(time=ds.time.values, lev=ds[\"lev\"])\n",
    "        this_temp = this_temp * (1000 / this_temp.lev) ** KAPPA\n",
    "        this_temp = this_temp.reset_coords(\"lev\", drop=True)\n",
    "        ds[\"theta\"] = compute(this_temp, progress_flag=True)\n",
    "        ds.to_netcdf(opath)"
   ]
  },
  {
   "cell_type": "markdown",
   "metadata": {},
   "source": [
    "# CESM"
   ]
  },
  {
   "cell_type": "markdown",
   "metadata": {},
   "source": [
    "### new download with urls"
   ]
  },
  {
   "cell_type": "markdown",
   "metadata": {},
   "source": [
    "## newnew merger script: download then postprocess:"
   ]
  },
  {
   "cell_type": "code",
   "execution_count": 45,
   "metadata": {},
   "outputs": [
    {
     "name": "stdout",
     "output_type": "stream",
     "text": [
      "\n",
      "--> The keys in the returned dictionary of datasets are constructed as follows:\n",
      "\t'component.experiment.frequency.forcing_variant'\n"
     ]
    },
    {
     "data": {
      "text/html": [
       "\n",
       "<style>\n",
       "    /* Turns off some styling */\n",
       "    progress {\n",
       "        /* gets rid of default border in Firefox and Opera. */\n",
       "        border: none;\n",
       "        /* Needs to be in here for Safari polyfill so background images work as expected. */\n",
       "        background-size: auto;\n",
       "    }\n",
       "    progress:not([value]), progress:not([value])::-webkit-progress-bar {\n",
       "        background: repeating-linear-gradient(45deg, #7e7e7e, #7e7e7e 10px, #5c5c5c 10px, #5c5c5c 20px);\n",
       "    }\n",
       "    .progress-bar-interrupted, .progress-bar-interrupted::-webkit-progress-bar {\n",
       "        background: #F44336;\n",
       "    }\n",
       "</style>\n"
      ],
      "text/plain": [
       "<IPython.core.display.HTML object>"
      ]
     },
     "metadata": {},
     "output_type": "display_data"
    },
    {
     "data": {
      "text/html": [
       "\n",
       "    <div>\n",
       "      <progress value='2' class='' max='2' style='width:300px; height:20px; vertical-align: middle;'></progress>\n",
       "      100.00% [2/2 00:03&lt;00:00]\n",
       "    </div>\n",
       "    "
      ],
      "text/plain": [
       "<IPython.core.display.HTML object>"
      ]
     },
     "metadata": {},
     "output_type": "display_data"
    },
    {
     "name": "stdout",
     "output_type": "stream",
     "text": [
      "[##################                      ] | 45% Completed | 10m 57ss\n"
     ]
    },
    {
     "ename": "KeyboardInterrupt",
     "evalue": "",
     "output_type": "error",
     "traceback": [
      "\u001b[0;31m---------------------------------------------------------------------------\u001b[0m",
      "\u001b[0;31mKeyboardInterrupt\u001b[0m                         Traceback (most recent call last)",
      "Cell \u001b[0;32mIn[45], line 58\u001b[0m\n\u001b[1;32m     56\u001b[0m saved \u001b[38;5;241m=\u001b[39m ds_past_ns\u001b[38;5;241m.\u001b[39mto_zarr(opath\u001b[38;5;241m.\u001b[39mjoinpath(\u001b[38;5;124m\"\u001b[39m\u001b[38;5;124mds.zarr\u001b[39m\u001b[38;5;124m\"\u001b[39m), compute\u001b[38;5;241m=\u001b[39m\u001b[38;5;28;01mFalse\u001b[39;00m, mode\u001b[38;5;241m=\u001b[39m\u001b[38;5;124m\"\u001b[39m\u001b[38;5;124mw\u001b[39m\u001b[38;5;124m\"\u001b[39m)\n\u001b[1;32m     57\u001b[0m \u001b[38;5;28;01mwith\u001b[39;00m ProgressBar():\n\u001b[0;32m---> 58\u001b[0m     \u001b[43msaved\u001b[49m\u001b[38;5;241;43m.\u001b[39;49m\u001b[43mcompute\u001b[49m\u001b[43m(\u001b[49m\u001b[43m)\u001b[49m\n\u001b[1;32m     60\u001b[0m opath \u001b[38;5;241m=\u001b[39m out_path\u001b[38;5;241m.\u001b[39mjoinpath(\u001b[38;5;124m\"\u001b[39m\u001b[38;5;124mssp370\u001b[39m\u001b[38;5;124m\"\u001b[39m)\n\u001b[1;32m     61\u001b[0m opath\u001b[38;5;241m.\u001b[39mmkdir(parents\u001b[38;5;241m=\u001b[39m\u001b[38;5;28;01mTrue\u001b[39;00m, exist_ok\u001b[38;5;241m=\u001b[39m\u001b[38;5;28;01mTrue\u001b[39;00m)\n",
      "File \u001b[0;32m~/miniforge3/envs/env12/lib/python3.12/site-packages/dask/base.py:374\u001b[0m, in \u001b[0;36mDaskMethodsMixin.compute\u001b[0;34m(self, **kwargs)\u001b[0m\n\u001b[1;32m    350\u001b[0m \u001b[38;5;28;01mdef\u001b[39;00m\u001b[38;5;250m \u001b[39m\u001b[38;5;21mcompute\u001b[39m(\u001b[38;5;28mself\u001b[39m, \u001b[38;5;241m*\u001b[39m\u001b[38;5;241m*\u001b[39mkwargs):\n\u001b[1;32m    351\u001b[0m \u001b[38;5;250m    \u001b[39m\u001b[38;5;124;03m\"\"\"Compute this dask collection\u001b[39;00m\n\u001b[1;32m    352\u001b[0m \n\u001b[1;32m    353\u001b[0m \u001b[38;5;124;03m    This turns a lazy Dask collection into its in-memory equivalent.\u001b[39;00m\n\u001b[0;32m   (...)\u001b[0m\n\u001b[1;32m    372\u001b[0m \u001b[38;5;124;03m    dask.compute\u001b[39;00m\n\u001b[1;32m    373\u001b[0m \u001b[38;5;124;03m    \"\"\"\u001b[39;00m\n\u001b[0;32m--> 374\u001b[0m     (result,) \u001b[38;5;241m=\u001b[39m \u001b[43mcompute\u001b[49m\u001b[43m(\u001b[49m\u001b[38;5;28;43mself\u001b[39;49m\u001b[43m,\u001b[49m\u001b[43m \u001b[49m\u001b[43mtraverse\u001b[49m\u001b[38;5;241;43m=\u001b[39;49m\u001b[38;5;28;43;01mFalse\u001b[39;49;00m\u001b[43m,\u001b[49m\u001b[43m \u001b[49m\u001b[38;5;241;43m*\u001b[39;49m\u001b[38;5;241;43m*\u001b[39;49m\u001b[43mkwargs\u001b[49m\u001b[43m)\u001b[49m\n\u001b[1;32m    375\u001b[0m     \u001b[38;5;28;01mreturn\u001b[39;00m result\n",
      "File \u001b[0;32m~/miniforge3/envs/env12/lib/python3.12/site-packages/dask/base.py:662\u001b[0m, in \u001b[0;36mcompute\u001b[0;34m(traverse, optimize_graph, scheduler, get, *args, **kwargs)\u001b[0m\n\u001b[1;32m    659\u001b[0m     postcomputes\u001b[38;5;241m.\u001b[39mappend(x\u001b[38;5;241m.\u001b[39m__dask_postcompute__())\n\u001b[1;32m    661\u001b[0m \u001b[38;5;28;01mwith\u001b[39;00m shorten_traceback():\n\u001b[0;32m--> 662\u001b[0m     results \u001b[38;5;241m=\u001b[39m \u001b[43mschedule\u001b[49m\u001b[43m(\u001b[49m\u001b[43mdsk\u001b[49m\u001b[43m,\u001b[49m\u001b[43m \u001b[49m\u001b[43mkeys\u001b[49m\u001b[43m,\u001b[49m\u001b[43m \u001b[49m\u001b[38;5;241;43m*\u001b[39;49m\u001b[38;5;241;43m*\u001b[39;49m\u001b[43mkwargs\u001b[49m\u001b[43m)\u001b[49m\n\u001b[1;32m    664\u001b[0m \u001b[38;5;28;01mreturn\u001b[39;00m repack([f(r, \u001b[38;5;241m*\u001b[39ma) \u001b[38;5;28;01mfor\u001b[39;00m r, (f, a) \u001b[38;5;129;01min\u001b[39;00m \u001b[38;5;28mzip\u001b[39m(results, postcomputes)])\n",
      "File \u001b[0;32m~/miniforge3/envs/env12/lib/python3.12/queue.py:171\u001b[0m, in \u001b[0;36mQueue.get\u001b[0;34m(self, block, timeout)\u001b[0m\n\u001b[1;32m    169\u001b[0m \u001b[38;5;28;01melif\u001b[39;00m timeout \u001b[38;5;129;01mis\u001b[39;00m \u001b[38;5;28;01mNone\u001b[39;00m:\n\u001b[1;32m    170\u001b[0m     \u001b[38;5;28;01mwhile\u001b[39;00m \u001b[38;5;129;01mnot\u001b[39;00m \u001b[38;5;28mself\u001b[39m\u001b[38;5;241m.\u001b[39m_qsize():\n\u001b[0;32m--> 171\u001b[0m         \u001b[38;5;28;43mself\u001b[39;49m\u001b[38;5;241;43m.\u001b[39;49m\u001b[43mnot_empty\u001b[49m\u001b[38;5;241;43m.\u001b[39;49m\u001b[43mwait\u001b[49m\u001b[43m(\u001b[49m\u001b[43m)\u001b[49m\n\u001b[1;32m    172\u001b[0m \u001b[38;5;28;01melif\u001b[39;00m timeout \u001b[38;5;241m<\u001b[39m \u001b[38;5;241m0\u001b[39m:\n\u001b[1;32m    173\u001b[0m     \u001b[38;5;28;01mraise\u001b[39;00m \u001b[38;5;167;01mValueError\u001b[39;00m(\u001b[38;5;124m\"\u001b[39m\u001b[38;5;124m'\u001b[39m\u001b[38;5;124mtimeout\u001b[39m\u001b[38;5;124m'\u001b[39m\u001b[38;5;124m must be a non-negative number\u001b[39m\u001b[38;5;124m\"\u001b[39m)\n",
      "File \u001b[0;32m~/miniforge3/envs/env12/lib/python3.12/threading.py:355\u001b[0m, in \u001b[0;36mCondition.wait\u001b[0;34m(self, timeout)\u001b[0m\n\u001b[1;32m    353\u001b[0m \u001b[38;5;28;01mtry\u001b[39;00m:    \u001b[38;5;66;03m# restore state no matter what (e.g., KeyboardInterrupt)\u001b[39;00m\n\u001b[1;32m    354\u001b[0m     \u001b[38;5;28;01mif\u001b[39;00m timeout \u001b[38;5;129;01mis\u001b[39;00m \u001b[38;5;28;01mNone\u001b[39;00m:\n\u001b[0;32m--> 355\u001b[0m         \u001b[43mwaiter\u001b[49m\u001b[38;5;241;43m.\u001b[39;49m\u001b[43macquire\u001b[49m\u001b[43m(\u001b[49m\u001b[43m)\u001b[49m\n\u001b[1;32m    356\u001b[0m         gotit \u001b[38;5;241m=\u001b[39m \u001b[38;5;28;01mTrue\u001b[39;00m\n\u001b[1;32m    357\u001b[0m     \u001b[38;5;28;01melse\u001b[39;00m:\n",
      "\u001b[0;31mKeyboardInterrupt\u001b[0m: "
     ]
    }
   ],
   "source": [
    "from concurrent.futures import ThreadPoolExecutor, as_completed\n",
    "from jetutils.definitions import DATADIR, KAPPA, compute\n",
    "from jetutils.data import standardize, flatten_by, extract\n",
    "import intake\n",
    "import numpy as np\n",
    "import xarray as xr\n",
    "from pathlib import Path\n",
    "from dask.diagnostics import ProgressBar\n",
    "\n",
    "varname = \"PRECL\"\n",
    "component = \"atm\" # for land variables like RAIN, \"atm\" for atmospheric variables like wind, and \"ocn\" for ocean variables\n",
    "forcing_variant = \"cmip6\" # other option is \"smbb\", which stands for \"SMoothed Biomass Burning\"\n",
    "out_path = Path(DATADIR, \"CESM2\", varname)\n",
    "minlon, maxlon, minlat, maxlat = None, None, 0, 90\n",
    "levels = None\n",
    "years = {\n",
    "    \"past\": np.arange(1970, 2010),\n",
    "    \"future\": np.arange(2060, 2100),\n",
    "}\n",
    "\n",
    "col_url = (\n",
    "    \"https://ncar-cesm2-lens.s3-us-west-2.amazonaws.com/catalogs/aws-cesm2-le.json\"\n",
    ")\n",
    "catalog = intake.open_esm_datastore(col_url)\n",
    "\n",
    "catalog_subset = catalog.search(variable=varname, frequency='daily', forcing_variant=forcing_variant)\n",
    "dsets = catalog_subset.to_dataset_dict(storage_options={'anon':True})\n",
    "\n",
    "ds_past = dsets[f\"{component}.historical.daily.{forcing_variant}\"]\n",
    "ds_future = dsets[f\"{component}.ssp370.daily.{forcing_variant}\"]\n",
    "\n",
    "ds_past_ns = (\n",
    "    standardize(ds_past)\n",
    "    .reset_coords(\"time_bnds\", drop=True)\n",
    "    .squeeze()\n",
    "    .isel(time=np.isin(ds_past.time.dt.year, years[\"past\"]))\n",
    "    .sel(lon=slice(minlon, maxlon))\n",
    "    .sel(lat=slice(minlat, maxlat))\n",
    ")\n",
    "ds_future_ns = (\n",
    "    standardize(ds_future)\n",
    "    .reset_coords(\"time_bnds\", drop=True)\n",
    "    .squeeze()\n",
    "    .isel(time=np.isin(ds_future.time.dt.year, years[\"future\"]))\n",
    "    .sel(lon=slice(minlon, maxlon))\n",
    "    .sel(lat=slice(minlat, maxlat))\n",
    ")\n",
    "if levels is not None and \"lev\" in ds_past_ns.dims:\n",
    "    ds_past_ns = ds_past_ns.isel(lev=levels)\n",
    "    ds_future_ns = ds_future_ns.isel(lev=levels)\n",
    "\n",
    "opath = out_path.joinpath(\"historical\")\n",
    "opath.mkdir(parents=True, exist_ok=True)\n",
    "for varname in ds_past_ns.data_vars:\n",
    "    ds_past_ns[varname] = ds_past_ns[varname].drop_encoding()\n",
    "saved = ds_past_ns.to_zarr(opath.joinpath(\"ds.zarr\"), compute=False, mode=\"w\")\n",
    "with ProgressBar():\n",
    "    saved.compute()\n",
    "    \n",
    "opath = out_path.joinpath(\"ssp370\")\n",
    "opath.mkdir(parents=True, exist_ok=True)\n",
    "for varname in ds_future_ns.data_vars:\n",
    "    ds_future_ns[varname] = ds_future_ns[varname].drop_encoding()\n",
    "saved = ds_future_ns.to_zarr(opath.joinpath(\"ds.zarr\"), compute=False, mode=\"w\")\n",
    "with ProgressBar():\n",
    "    saved.compute()\n",
    "#     ds_past_ns = ds_past_ns.load()\n",
    "# ds_past_ns.to_netcdf(out_path.joinpath(out_name_past))\n",
    "# del ds_past_ns # free up memory\n",
    "\n",
    "# with ProgressBar():\n",
    "#     ds_future_ns = ds_future_ns.load()\n",
    "# ds_future_ns.to_netcdf(out_path.joinpath(out_name_future))"
   ]
  },
  {
   "cell_type": "markdown",
   "metadata": {},
   "source": [
    "### new cesm zarrification"
   ]
  },
  {
   "cell_type": "code",
   "execution_count": 3,
   "metadata": {},
   "outputs": [
    {
     "name": "stderr",
     "output_type": "stream",
     "text": [
      "  0%|          | 0/50 [00:03<?, ?it/s]\n"
     ]
    }
   ],
   "source": [
    "basepath = Path(\"/storage/workspaces/giub_meteo_impacts/ci01/CESM2/high_wind/ssp370\")\n",
    "paths = list(basepath.glob(\"*.nc\"))\n",
    "names = [path.stem.split(\"-\") for path in paths]\n",
    "members = [name[0] for name in names]\n",
    "years = [name[1] for name in names]\n",
    "for i, member in enumerate(tqdm(np.unique(members))):\n",
    "    da = xr.open_mfdataset(basepath.joinpath(f\"{member}-*.nc\").as_posix())\n",
    "    kwargs = {\"mode\": \"w\"} if i == 0 else {\"mode\": \"a\", \"append_dim\": \"member\"}\n",
    "    da[\"member\"] = da[\"member\"].astype(\"<U15\")\n",
    "    da = da.expand_dims(\"member\").copy(deep=True)\n",
    "    break\n",
    "    # da.to_zarr(basepath.joinpath(\"ds.zarr\"), **kwargs)"
   ]
  }
 ],
 "metadata": {
  "kernelspec": {
   "display_name": "env12",
   "language": "python",
   "name": "env12"
  }
 },
 "nbformat": 4,
 "nbformat_minor": 2
}
