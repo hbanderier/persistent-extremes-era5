{
 "cells": [
  {
   "cell_type": "code",
   "execution_count": null,
   "metadata": {},
   "outputs": [
    {
     "name": "stdout",
     "output_type": "stream",
     "text": [
      "Found config override file at  /storage/homefs/hb22g102/.jetutils.ini\n",
      "Guessed N_WORKERS :  10\n",
      "Guessed MEMORY_LIMIT :  122880\n"
     ]
    }
   ],
   "source": [
    "import datetime\n",
    "\n",
    "import colormaps\n",
    "import matplotlib.pyplot as plt\n",
    "import numpy as np\n",
    "import polars as pl\n",
    "import xarray as xr\n",
    "from jetutils.anyspell import get_persistent_jet_spells, mask_from_spells_pl, subset_around_onset\n",
    "from jetutils.clustering import Experiment\n",
    "from jetutils.data import DataHandler, open_da, smooth\n",
    "from jetutils.definitions import (\n",
    "    DATADIR,\n",
    "    YEARS,\n",
    "    PRETTIER_VARNAME,\n",
    "    compute,\n",
    "    get_region,\n",
    "    infer_direction,\n",
    "    polars_to_xarray,\n",
    "    xarray_to_polars,\n",
    ")\n",
    "from jetutils.jet_finding import JetFindingExperiment, gather_normal_da_jets, iterate_over_year_maybe_member\n",
    "from jetutils.plots import COLORS, Clusterplot, gather_normal_da_jets_wrapper, interp_jets_to_zero_one\n",
    "from matplotlib.cm import ScalarMappable\n",
    "from matplotlib.colors import BoundaryNorm\n",
    "from matplotlib.ticker import MaxNLocator\n",
    "from tqdm import tqdm\n",
    "\n",
    "%load_ext autoreload\n",
    "%autoreload 2\n",
    "%matplotlib inline"
   ]
  },
  {
   "cell_type": "markdown",
   "metadata": {},
   "source": [
    "# CESM clims"
   ]
  },
  {
   "cell_type": "code",
   "execution_count": 6,
   "metadata": {},
   "outputs": [
    {
     "name": "stdout",
     "output_type": "stream",
     "text": [
      "[########################################] | 100% Completed | 126.37 s\n"
     ]
    },
    {
     "data": {
      "text/plain": [
       "<xarray.backends.zarr.ZarrStore at 0x7ff12afe3d00>"
      ]
     },
     "execution_count": 6,
     "metadata": {},
     "output_type": "execute_result"
    }
   ],
   "source": [
    "da_tp = xr.open_zarr(\"/storage/workspaces/giub_meteo_impacts/ci01/CESM2/PRECL/past.zarr\")\n",
    "\n",
    "clim = da_tp.groupby(\"time.dayofyear\").mean()\n",
    "clim = smooth(clim, {'dayofyear': ('win', 15)})\n",
    "clim = compute(clim, progress_flag=True)\n",
    "clim.to_zarr(\"/storage/workspaces/giub_meteo_impacts/ci01/CESM2/PRECL/past_clim.zarr\")"
   ]
  },
  {
   "cell_type": "code",
   "execution_count": null,
   "metadata": {},
   "outputs": [],
   "source": [
    "anom = da_tp.groupby(\"time.dayofyear\") - clim\n",
    "anom = compute(anom, progress_flag=True)\n",
    "anom.to_zarr(\"/storage/workspaces/giub_meteo_impacts/ci01/CESM2/PRECL/past_anom.zarr\")"
   ]
  },
  {
   "cell_type": "code",
   "execution_count": null,
   "metadata": {},
   "outputs": [],
   "source": [
    "da_T = xr.open_zarr(\"/storage/workspaces/giub_meteo_impacts/ci01/CESM2/TS/past.zarr\")\n",
    "\n",
    "clim = da_tp.groupby(\"time.dayofyear\").mean()\n",
    "clim = smooth(clim, {'dayofyear': ('win', 15)})\n",
    "clim = compute(clim, progress_flag=True)\n",
    "clim.to_zarr(\"/storage/workspaces/giub_meteo_impacts/ci01/CESM2/PRECL/past_clim.zarr\")"
   ]
  },
  {
   "cell_type": "code",
   "execution_count": 7,
   "metadata": {},
   "outputs": [],
   "source": [
    "# da_tp = xr.open_zarr(\"/storage/workspaces/giub_meteo_impacts/ci01/CESM2/PRECL/future.zarr\")\n",
    "\n",
    "# clim = da_tp.groupby(\"time.dayofyear\").mean()\n",
    "# clim = smooth(clim, {'dayofyear': ('win', 15)})\n",
    "# clim = compute(clim, progress_flag=True)\n",
    "# clim.to_zarr(\"/storage/workspaces/giub_meteo_impacts/ci01/CESM2/PRECL/future_clim.zarr\")"
   ]
  },
  {
   "cell_type": "markdown",
   "metadata": {},
   "source": [
    "# create jet relative climatologies"
   ]
  },
  {
   "cell_type": "code",
   "execution_count": 6,
   "metadata": {},
   "outputs": [
    {
     "name": "stdout",
     "output_type": "stream",
     "text": [
      "Found config override file at  /storage/homefs/hb22g102/.jetutils.ini\n",
      "Guessed N_WORKERS :  1\n",
      "Guessed MEMORY_LIMIT :  153600\n"
     ]
    }
   ],
   "source": [
    "exp = JetFindingExperiment(DataHandler(f\"{DATADIR}/ERA5/plev/high_wind/6H/results/1\"))"
   ]
  },
  {
   "cell_type": "code",
   "execution_count": 7,
   "metadata": {},
   "outputs": [],
   "source": [
    "def create_jet_relative_clim(exp, da, suffix=\"\"):\n",
    "    all_jets_one_df = exp.find_jets()\n",
    "    jets = all_jets_one_df.with_columns(pl.col(\"time\").dt.round(\"1d\"))\n",
    "    jets = jets.with_columns(jets.group_by(\"time\", maintain_order=True).agg(pl.col(\"jet ID\").rle_id())[\"jet ID\"].explode())\n",
    "    indexer = iterate_over_year_maybe_member(jets, da)\n",
    "    to_average = []\n",
    "    for idx1, idx2 in tqdm(indexer, total=len(YEARS)):\n",
    "        jets_ = jets.filter(*idx1)\n",
    "        da_ = da.sel(**idx2)\n",
    "        try:\n",
    "            jets_with_interp = gather_normal_da_jets(jets_, da_, half_length=20)\n",
    "        except (KeyError, ValueError):\n",
    "            break\n",
    "        varname = da_.name + \"_interp\"\n",
    "        jets_with_interp = interp_jets_to_zero_one(jets_with_interp, [varname, \"is_polar\"])\n",
    "        jets_with_interp = jets_with_interp.group_by(\"time\", pl.col(\"is_polar\") > 0.5, \"norm_index\", \"n\", maintain_order=True).agg(pl.col(varname).mean() )\n",
    "        to_average.append(jets_with_interp)\n",
    "    to_average = pl.concat(to_average)\n",
    "    clim = to_average.group_by(pl.col(\"time\").dt.ordinal_day().alias(\"dayofyear\"), \"is_polar\", \"norm_index\", \"n\").agg(pl.col(varname).mean()).sort(\"dayofyear\", \"is_polar\", \"norm_index\", \"n\")\n",
    "    clim_ds = polars_to_xarray(clim, [\"dayofyear\", \"is_polar\", \"n\", \"norm_index\"])\n",
    "    clim_ds.to_netcdf(exp.path.joinpath(f\"{da.name}{suffix}_relative_clim.nc\"))"
   ]
  },
  {
   "cell_type": "code",
   "execution_count": null,
   "metadata": {},
   "outputs": [
    {
     "name": "stderr",
     "output_type": "stream",
     "text": [
      "100%|██████████| 64/64 [20:25<00:00, 19.14s/it]\n",
      "100%|██████████| 64/64 [21:49<00:00, 20.46s/it]\n",
      " 72%|███████▏  | 46/64 [16:45<06:40, 22.23s/it]"
     ]
    }
   ],
   "source": [
    "da_T = open_da(\"ERA5\", \"surf\", \"t2m\", \"dailymean\", \"all\", None, *get_region(exp.ds), \"all\", 'dayofyear', {'dayofyear': ('win', 15)}, None,)\n",
    "da_T = compute(da_T)\n",
    "create_jet_relative_clim(exp, da_T, \"_anom\")\n",
    "del da_T\n",
    "da_tp = open_da(\"ERA5\", \"surf\", \"tp\", \"dailysum\", \"all\", None, *get_region(exp.ds), \"all\", 'dayofyear', {'dayofyear': ('win', 15)}, None,)\n",
    "da_tp = compute(da_tp)\n",
    "create_jet_relative_clim(exp, da_tp, \"_anom\")\n",
    "del da_tp\n",
    "da_apvs = open_da(\"ERA5\", \"thetalev\", \"apvs\", \"dailyany\", \"all\", None, *get_region(exp.ds), \"all\", 'dayofyear', {'dayofyear': ('win', 15)}, None,)\n",
    "da_apvs = compute(da_apvs)\n",
    "create_jet_relative_clim(exp, da_apvs, \"_anom\")\n",
    "del da_apvs\n",
    "da_cpvs = open_da(\"ERA5\", \"thetalev\", \"cpvs\", \"dailyany\", \"all\", None, *get_region(exp.ds), \"all\", 'dayofyear', {'dayofyear': ('win', 15)}, None,)\n",
    "da_cpvs = compute(da_cpvs)\n",
    "create_jet_relative_clim(exp, da_cpvs, \"_anom\")\n",
    "del da_cpvs"
   ]
  },
  {
   "cell_type": "code",
   "execution_count": 11,
   "metadata": {},
   "outputs": [
    {
     "name": "stderr",
     "output_type": "stream",
     "text": [
      "  0%|          | 0/64 [00:02<?, ?it/s]\n"
     ]
    },
    {
     "ename": "ValueError",
     "evalue": "cannot concat empty list",
     "output_type": "error",
     "traceback": [
      "\u001b[0;31m---------------------------------------------------------------------------\u001b[0m",
      "\u001b[0;31mValueError\u001b[0m                                Traceback (most recent call last)",
      "Cell \u001b[0;32mIn[11], line 1\u001b[0m\n\u001b[0;32m----> 1\u001b[0m \u001b[43mcreate_jet_relative_clim\u001b[49m\u001b[43m(\u001b[49m\u001b[43mexp\u001b[49m\u001b[43m,\u001b[49m\u001b[43m \u001b[49m\u001b[43mda_T\u001b[49m\u001b[43m,\u001b[49m\u001b[43m \u001b[49m\u001b[38;5;124;43m\"\u001b[39;49m\u001b[38;5;124;43m_anom\u001b[39;49m\u001b[38;5;124;43m\"\u001b[39;49m\u001b[43m)\u001b[49m\n\u001b[1;32m      2\u001b[0m create_jet_relative_clim(exp, da_tp, \u001b[38;5;124m\"\u001b[39m\u001b[38;5;124m_anom\u001b[39m\u001b[38;5;124m\"\u001b[39m)\n\u001b[1;32m      3\u001b[0m create_jet_relative_clim(exp, da_apvs, \u001b[38;5;124m\"\u001b[39m\u001b[38;5;124m_anom\u001b[39m\u001b[38;5;124m\"\u001b[39m)\n",
      "Cell \u001b[0;32mIn[9], line 18\u001b[0m, in \u001b[0;36mcreate_jet_relative_clim\u001b[0;34m(exp, da, suffix)\u001b[0m\n\u001b[1;32m     16\u001b[0m     jets_with_interp \u001b[38;5;241m=\u001b[39m jets_with_interp\u001b[38;5;241m.\u001b[39mgroup_by(\u001b[38;5;124m\"\u001b[39m\u001b[38;5;124mtime\u001b[39m\u001b[38;5;124m\"\u001b[39m, pl\u001b[38;5;241m.\u001b[39mcol(\u001b[38;5;124m\"\u001b[39m\u001b[38;5;124mis_polar\u001b[39m\u001b[38;5;124m\"\u001b[39m) \u001b[38;5;241m>\u001b[39m \u001b[38;5;241m0.5\u001b[39m, \u001b[38;5;124m\"\u001b[39m\u001b[38;5;124mnorm_index\u001b[39m\u001b[38;5;124m\"\u001b[39m, \u001b[38;5;124m\"\u001b[39m\u001b[38;5;124mn\u001b[39m\u001b[38;5;124m\"\u001b[39m, maintain_order\u001b[38;5;241m=\u001b[39m\u001b[38;5;28;01mTrue\u001b[39;00m)\u001b[38;5;241m.\u001b[39magg(pl\u001b[38;5;241m.\u001b[39mcol(varname)\u001b[38;5;241m.\u001b[39mmean() )\n\u001b[1;32m     17\u001b[0m     to_average\u001b[38;5;241m.\u001b[39mappend(jets_with_interp)\n\u001b[0;32m---> 18\u001b[0m to_average \u001b[38;5;241m=\u001b[39m \u001b[43mpl\u001b[49m\u001b[38;5;241;43m.\u001b[39;49m\u001b[43mconcat\u001b[49m\u001b[43m(\u001b[49m\u001b[43mto_average\u001b[49m\u001b[43m)\u001b[49m\n\u001b[1;32m     19\u001b[0m clim \u001b[38;5;241m=\u001b[39m to_average\u001b[38;5;241m.\u001b[39mgroup_by(pl\u001b[38;5;241m.\u001b[39mcol(\u001b[38;5;124m\"\u001b[39m\u001b[38;5;124mtime\u001b[39m\u001b[38;5;124m\"\u001b[39m)\u001b[38;5;241m.\u001b[39mdt\u001b[38;5;241m.\u001b[39mordinal_day()\u001b[38;5;241m.\u001b[39malias(\u001b[38;5;124m\"\u001b[39m\u001b[38;5;124mdayofyear\u001b[39m\u001b[38;5;124m\"\u001b[39m), \u001b[38;5;124m\"\u001b[39m\u001b[38;5;124mis_polar\u001b[39m\u001b[38;5;124m\"\u001b[39m, \u001b[38;5;124m\"\u001b[39m\u001b[38;5;124mnorm_index\u001b[39m\u001b[38;5;124m\"\u001b[39m, \u001b[38;5;124m\"\u001b[39m\u001b[38;5;124mn\u001b[39m\u001b[38;5;124m\"\u001b[39m)\u001b[38;5;241m.\u001b[39magg(pl\u001b[38;5;241m.\u001b[39mcol(varname)\u001b[38;5;241m.\u001b[39mmean())\u001b[38;5;241m.\u001b[39msort(\u001b[38;5;124m\"\u001b[39m\u001b[38;5;124mdayofyear\u001b[39m\u001b[38;5;124m\"\u001b[39m, \u001b[38;5;124m\"\u001b[39m\u001b[38;5;124mis_polar\u001b[39m\u001b[38;5;124m\"\u001b[39m, \u001b[38;5;124m\"\u001b[39m\u001b[38;5;124mnorm_index\u001b[39m\u001b[38;5;124m\"\u001b[39m, \u001b[38;5;124m\"\u001b[39m\u001b[38;5;124mn\u001b[39m\u001b[38;5;124m\"\u001b[39m)\n\u001b[1;32m     20\u001b[0m clim_ds \u001b[38;5;241m=\u001b[39m polars_to_xarray(clim, [\u001b[38;5;124m\"\u001b[39m\u001b[38;5;124mdayofyear\u001b[39m\u001b[38;5;124m\"\u001b[39m, \u001b[38;5;124m\"\u001b[39m\u001b[38;5;124mis_polar\u001b[39m\u001b[38;5;124m\"\u001b[39m, \u001b[38;5;124m\"\u001b[39m\u001b[38;5;124mn\u001b[39m\u001b[38;5;124m\"\u001b[39m, \u001b[38;5;124m\"\u001b[39m\u001b[38;5;124mnorm_index\u001b[39m\u001b[38;5;124m\"\u001b[39m])\n",
      "File \u001b[0;32m~/miniforge3/envs/env12/lib/python3.12/site-packages/polars/functions/eager.py:173\u001b[0m, in \u001b[0;36mconcat\u001b[0;34m(items, how, rechunk, parallel)\u001b[0m\n\u001b[1;32m    171\u001b[0m \u001b[38;5;28;01mif\u001b[39;00m \u001b[38;5;129;01mnot\u001b[39;00m elems:\n\u001b[1;32m    172\u001b[0m     msg \u001b[38;5;241m=\u001b[39m \u001b[38;5;124m\"\u001b[39m\u001b[38;5;124mcannot concat empty list\u001b[39m\u001b[38;5;124m\"\u001b[39m\n\u001b[0;32m--> 173\u001b[0m     \u001b[38;5;28;01mraise\u001b[39;00m \u001b[38;5;167;01mValueError\u001b[39;00m(msg)\n\u001b[1;32m    174\u001b[0m \u001b[38;5;28;01melif\u001b[39;00m \u001b[38;5;28mlen\u001b[39m(elems) \u001b[38;5;241m==\u001b[39m \u001b[38;5;241m1\u001b[39m \u001b[38;5;129;01mand\u001b[39;00m \u001b[38;5;28misinstance\u001b[39m(\n\u001b[1;32m    175\u001b[0m     elems[\u001b[38;5;241m0\u001b[39m], (pl\u001b[38;5;241m.\u001b[39mDataFrame, pl\u001b[38;5;241m.\u001b[39mSeries, pl\u001b[38;5;241m.\u001b[39mLazyFrame)\n\u001b[1;32m    176\u001b[0m ):\n\u001b[1;32m    177\u001b[0m     \u001b[38;5;28;01mreturn\u001b[39;00m elems[\u001b[38;5;241m0\u001b[39m]\n",
      "\u001b[0;31mValueError\u001b[0m: cannot concat empty list"
     ]
    }
   ],
   "source": [
    "create_jet_relative_clim(exp, da_T, \"_anom\")\n",
    "create_jet_relative_clim(exp, da_tp, \"_anom\")\n",
    "create_jet_relative_clim(exp, da_apvs, \"_anom\")\n",
    "create_jet_relative_clim(exp, da_cpvs, \"_anom\")"
   ]
  },
  {
   "cell_type": "code",
   "execution_count": 6,
   "metadata": {},
   "outputs": [
    {
     "name": "stderr",
     "output_type": "stream",
     "text": [
      "100%|██████████| 64/64 [19:06<00:00, 17.91s/it]\n"
     ]
    }
   ],
   "source": [
    "da_cpvs = open_da(\n",
    "    \"ERA5\", \"thetalev\", \"cpvs\", \"dailyany\", \"all\", None, -100, 60, 0, 90, \"all\",\n",
    ")\n",
    "da_cpvs = compute(da_cpvs)\n",
    "create_jet_relative_clim(exp, da_cpvs)"
   ]
  },
  {
   "cell_type": "code",
   "execution_count": 4,
   "metadata": {},
   "outputs": [
    {
     "name": "stderr",
     "output_type": "stream",
     "text": [
      "100%|██████████| 64/64 [16:37<00:00, 15.59s/it]\n"
     ]
    }
   ],
   "source": [
    "da_t2m = open_da(\"ERA5\", \"surf\", \"t2m\", \"dailymean\", \"all\")\n",
    "create_jet_relative_clim(exp, da_t2m)"
   ]
  },
  {
   "cell_type": "code",
   "execution_count": 10,
   "metadata": {},
   "outputs": [
    {
     "name": "stderr",
     "output_type": "stream",
     "text": [
      "100%|██████████| 64/64 [15:14<00:00, 14.28s/it]\n"
     ]
    }
   ],
   "source": [
    "da_tp = open_da(\"ERA5\", \"surf\", \"tp\", \"dailysum\", \"all\")\n",
    "create_jet_relative_clim(exp, da_tp)"
   ]
  },
  {
   "cell_type": "code",
   "execution_count": 11,
   "metadata": {},
   "outputs": [
    {
     "name": "stderr",
     "output_type": "stream",
     "text": [
      "100%|██████████| 64/64 [21:16<00:00, 19.94s/it]\n"
     ]
    }
   ],
   "source": [
    "da_apvs = open_da(\"ERA5\", \"thetalev\", \"apvs\", \"dailymean\", \"all\", levels=350)\n",
    "create_jet_relative_clim(exp, da_apvs)"
   ]
  },
  {
   "cell_type": "code",
   "execution_count": 12,
   "metadata": {},
   "outputs": [
    {
     "name": "stderr",
     "output_type": "stream",
     "text": [
      "100%|██████████| 64/64 [19:48<00:00, 18.56s/it]\n"
     ]
    }
   ],
   "source": [
    "da_cpvs = open_da(\"ERA5\", \"thetalev\", \"cpvs\", \"dailymean\", \"all\", levels=350)\n",
    "create_jet_relative_clim(exp, da_cpvs)"
   ]
  },
  {
   "cell_type": "markdown",
   "metadata": {},
   "source": [
    "# arco-era5 tests"
   ]
  },
  {
   "cell_type": "code",
   "execution_count": null,
   "metadata": {},
   "outputs": [],
   "source": [
    "ds = xr.open_zarr(\n",
    "    \"gs://gcp-public-data-arco-era5/ar/full_37-1h-0p25deg-chunk-1.zarr-v3\",\n",
    "    chunks=None,\n",
    "    storage_options=dict(token=\"anon\"),\n",
    ")\n",
    "ar_full_37_1h = ds.sel(\n",
    "    time=slice(ds.attrs[\"valid_time_start\"], ds.attrs[\"valid_time_stop\"])\n",
    ")\n",
    "\n",
    "base_ds = standardize(ar_full_37_1h[\"total_precipitation\"].chunk(\"auto\"))\n",
    "base_ds = (\n",
    "    base_ds\n",
    "    .sel(\n",
    "        lat=base_ds.lat >= 0,\n",
    "        time=np.isin(base_ds.time.dt.year, YEARS)\n",
    "    )\n",
    "    .isel(lon=slice(None, None, 2), lat=slice(None, None, 2))\n",
    ")\n",
    "\n",
    "six_hourly = base_ds.resample(time=\"6h\").sum()\n",
    "daily = six_hourly.resample(time=\"1d\").sum()\n",
    "six_hourly = six_hourly * 4\n",
    "\n",
    "base_path_1 = Path(f\"{DATADIR}/ERA5/surf/tp/6H\")\n",
    "base_path_1.mkdir(exist_ok=True, parents=True)\n",
    "base_path_2 = Path(f\"{DATADIR}/ERA5/surf/tp/dailysum\")\n",
    "base_path_2.mkdir(exist_ok=True, parents=True)\n",
    "for year in YEARS:\n",
    "    opath_1 = base_path_1.joinpath(f\"{year}.nc\")\n",
    "    opath_2 = base_path_2.joinpath(f\"{year}.nc\")\n",
    "    if not opath_1.is_file():\n",
    "        six_hourly_ = compute(six_hourly.sel(time=six_hourly.time.dt.year == year), progress_flag=True)\n",
    "        six_hourly_.to_netcdf(opath_1)\n",
    "    if not opath_2.is_file():\n",
    "        daily_ = compute(daily.sel(time=daily.time.dt.year == year), progress_flag=True)\n",
    "        daily_.to_netcdf(opath_2)\n",
    "    print(f\"Completed {year}\")"
   ]
  },
  {
   "cell_type": "code",
   "execution_count": 17,
   "metadata": {},
   "outputs": [],
   "source": [
    "six_hourly = base_ds.resample(time=\"6h\").sum()\n",
    "daily = six_hourly.resample(time=\"1d\").sum()\n",
    "six_hourly = six_hourly * 4"
   ]
  },
  {
   "cell_type": "code",
   "execution_count": null,
   "metadata": {},
   "outputs": [],
   "source": [
    "ds = xr.open_zarr(\n",
    "    \"gs://gcp-public-data-arco-era5/ar/full_37-1h-0p25deg-chunk-1.zarr-v3\",\n",
    "    chunks=None,\n",
    "    storage_options=dict(token=\"anon\"),\n",
    ")\n",
    "ar_full_37_1h = ds.sel(\n",
    "    time=slice(ds.attrs[\"valid_time_start\"], ds.attrs[\"valid_time_stop\"])\n",
    ")\n",
    "\n",
    "temp_full = (\n",
    "    ar_full_37_1h[\"temperature\"]\n",
    "    .sel(\n",
    "        time=ar_full_37_1h.time.dt.hour % 6 == 0,\n",
    "        latitude=ar_full_37_1h.latitude >= 0,\n",
    "        level=[175, 200, 225, 250, 300, 350],\n",
    "    )\n",
    "    .isel(longitude=slice(None, None, 2), latitude=slice(None, None, 2))\n",
    ")\n",
    "\n",
    "temp_full = standardize(temp_full)"
   ]
  },
  {
   "cell_type": "code",
   "execution_count": null,
   "metadata": {},
   "outputs": [],
   "source": [
    "ds = xr.open_zarr(\n",
    "    \"gs://gcp-public-data-arco-era5/ar/full_37-1h-0p25deg-chunk-1.zarr-v3\",\n",
    "    chunks=None,\n",
    "    storage_options=dict(token=\"anon\"),\n",
    ")\n",
    "ar_full_37_1h = ds.sel(\n",
    "    time=slice(ds.attrs[\"valid_time_start\"], ds.attrs[\"valid_time_stop\"])\n",
    ")\n",
    "\n",
    "temp_full = (\n",
    "    ar_full_37_1h[\"temperature\"]\n",
    "    .sel(\n",
    "        time=ar_full_37_1h.time.dt.hour % 6 == 0,\n",
    "        latitude=ar_full_37_1h.latitude >= 0,\n",
    "        level=[175, 200, 225, 250, 300, 350],\n",
    "    )\n",
    "    .isel(longitude=slice(None, None, 2), latitude=slice(None, None, 2))\n",
    ")\n",
    "\n",
    "temp_full = standardize(temp_full)\n",
    "\n",
    "orig_path = Path(f\"{DATADIR}/ERA5/plev/flat_wind/dailymean\")\n",
    "base_path = Path(f\"{DATADIR}/ERA5/plev/flat_wind/dailymean_2\")\n",
    "for year in tqdm(YEARS):\n",
    "    for month in trange(1, 13, leave=False):\n",
    "        month_str = str(month).zfill(2)\n",
    "        opath = base_path.joinpath(f\"{year}{month_str}.nc\")\n",
    "        if opath.is_file():\n",
    "            continue\n",
    "        ipath = orig_path.joinpath(f\"{year}{month_str}.nc\")\n",
    "        ds = xr.open_dataset(ipath)\n",
    "        this_temp = temp_full.sel(time=ds.time.values, lev=ds[\"lev\"])\n",
    "        this_temp = this_temp * (1000 / this_temp.lev) ** KAPPA\n",
    "        this_temp = this_temp.reset_coords(\"lev\", drop=True)\n",
    "        ds[\"theta\"] = compute(this_temp, progress_flag=True)\n",
    "        ds.to_netcdf(opath)"
   ]
  },
  {
   "cell_type": "markdown",
   "metadata": {},
   "source": [
    "# new pvs das: any() over levels"
   ]
  },
  {
   "cell_type": "code",
   "execution_count": 2,
   "metadata": {},
   "outputs": [
    {
     "data": {
      "text/html": [
       "<div><style>\n",
       ".dataframe > thead > tr,\n",
       ".dataframe > tbody > tr {\n",
       "  text-align: right;\n",
       "  white-space: pre-wrap;\n",
       "}\n",
       "</style>\n",
       "<small>shape: (421_621, 7)</small><table border=\"1\" class=\"dataframe\"><thead><tr><th>date</th><th>level</th><th>com</th><th>mean_var</th><th>event_area</th><th>intensity</th><th>geometry</th></tr><tr><td>datetime[ns]</td><td>f64</td><td>list[f64]</td><td>f64</td><td>f64</td><td>f64</td><td>binary</td></tr></thead><tbody><tr><td>1959-01-01 00:00:00</td><td>-2.0</td><td>[-147.0, -18.0]</td><td>-2.09</td><td>375772.89</td><td>23.35</td><td>b&quot;\\x01\\x03\\x00\\x00\\x00\\x01\\x00\\x00\\x00\\x14\\x00\\x00\\x00\\x00\\x00\\x00\\x00\\x00`b\\xc0\\x00\\x00\\x00\\x00\\x00\\x004\\xc0\\x00\\x00\\x00\\x00\\x00`b\\xc0\\x00\\x00\\x00\\x00\\x00\\x003\\xc0\\x00\\x00\\x00\\x00\\x00`b\\xc0\\x00\\x00\\x00\\x00\\x00\\x002&quot;…</td></tr><tr><td>1959-01-01 00:00:00</td><td>-2.0</td><td>[-132.0, -13.0]</td><td>-2.16</td><td>529737.55</td><td>-0.45</td><td>b&quot;\\x01\\x03\\x00\\x00\\x00\\x01\\x00\\x00\\x00\\x12\\x00\\x00\\x00\\x00\\x00\\x00\\x00\\x00\\xe0`\\xc0\\x00\\x00\\x00\\x00\\x00\\x000\\xc0\\x00\\x00\\x00\\x00\\x00\\xc0`\\xc0\\x00\\x00\\x00\\x00\\x00\\x00.\\xc0\\x00\\x00\\x00\\x00\\x00\\xc0`\\xc0\\x00\\x00\\x00\\x00\\x00\\x00,&quot;…</td></tr><tr><td>1959-01-01 00:00:00</td><td>-2.0</td><td>[-20.0, -18.0]</td><td>-2.36</td><td>1.1971e6</td><td>88.36</td><td>b&quot;\\x01\\x03\\x00\\x00\\x00\\x01\\x00\\x00\\x00\\x20\\x00\\x00\\x00\\x00\\x00\\x00\\x00\\x00\\x008\\xc0\\x00\\x00\\x00\\x00\\x00\\x007\\xc0\\x00\\x00\\x00\\x00\\x00\\x008\\xc0\\x00\\x00\\x00\\x00\\x00\\x006\\xc0\\x00\\x00\\x00\\x00\\x00\\x008\\xc0\\x00\\x00\\x00\\x00\\x00\\x005&quot;…</td></tr><tr><td>1959-01-01 00:00:00</td><td>-2.0</td><td>[77.0, -30.0]</td><td>-1.82</td><td>481343.94</td><td>-2.95</td><td>b&quot;\\x01\\x03\\x00\\x00\\x00\\x01\\x00\\x00\\x00\\x13\\x00\\x00\\x00\\x00\\x00\\x00\\x00\\x00@R@\\x00\\x00\\x00\\x00\\x00\\x00@\\xc0\\x00\\x00\\x00\\x00\\x00\\x80R@\\x00\\x00\\x00\\x00\\x00\\x00@\\xc0\\x00\\x00\\x00\\x00\\x00\\xc0R@\\x00\\x00\\x00\\x00\\x00\\x00@&quot;…</td></tr><tr><td>1959-01-01 00:00:00</td><td>-2.0</td><td>[82.0, -27.0]</td><td>-2.17</td><td>462190.13</td><td>-5.23</td><td>b&quot;\\x01\\x03\\x00\\x00\\x00\\x01\\x00\\x00\\x00\\x13\\x00\\x00\\x00\\x00\\x00\\x00\\x00\\x00\\xc0T@\\x00\\x00\\x00\\x00\\x00\\x00&gt;\\xc0\\x00\\x00\\x00\\x00\\x00\\x80T@\\x00\\x00\\x00\\x00\\x00\\x00&gt;\\xc0\\x00\\x00\\x00\\x00\\x00@T@\\x00\\x00\\x00\\x00\\x00\\x00=&quot;…</td></tr><tr><td>&hellip;</td><td>&hellip;</td><td>&hellip;</td><td>&hellip;</td><td>&hellip;</td><td>&hellip;</td><td>&hellip;</td></tr><tr><td>2022-12-31 18:00:00</td><td>-2.0</td><td>[58.0, -29.0]</td><td>-2.69</td><td>1.2129e6</td><td>42.57</td><td>b&quot;\\x01\\x03\\x00\\x00\\x00\\x01\\x00\\x00\\x00#\\x00\\x00\\x00\\x00\\x00\\x00\\x00\\x00\\x00L@\\x00\\x00\\x00\\x00\\x00\\x80A\\xc0\\x00\\x00\\x00\\x00\\x00\\x80L@\\x00\\x00\\x00\\x00\\x00\\x80A\\xc0\\x00\\x00\\x00\\x00\\x00\\x80L@\\x00\\x00\\x00\\x00\\x00\\x00A&quot;…</td></tr><tr><td>2022-12-31 18:00:00</td><td>-2.0</td><td>[169.0, -29.0]</td><td>-2.19</td><td>714050.86</td><td>78.11</td><td>b&quot;\\x01\\x03\\x00\\x00\\x00\\x01\\x00\\x00\\x00\\x16\\x00\\x00\\x00\\x00\\x00\\x00\\x00\\x00\\x80d@\\x00\\x00\\x00\\x00\\x00\\x00;\\xc0\\x00\\x00\\x00\\x00\\x00\\xa0d@\\x00\\x00\\x00\\x00\\x00\\x00;\\xc0\\x00\\x00\\x00\\x00\\x00\\xc0d@\\x00\\x00\\x00\\x00\\x00\\x00;&quot;…</td></tr><tr><td>2022-12-31 18:00:00</td><td>-2.0</td><td>[171.0, -35.0]</td><td>-1.85</td><td>415423.96</td><td>22.4</td><td>b&quot;\\x01\\x03\\x00\\x00\\x00\\x01\\x00\\x00\\x00\\x10\\x00\\x00\\x00\\x00\\x00\\x00\\x00\\x00\\xa0e@\\x00\\x00\\x00\\x00\\x00\\x00?\\xc0\\x00\\x00\\x00\\x00\\x00\\x80e@\\x00\\x00\\x00\\x00\\x00\\x00@\\xc0\\x00\\x00\\x00\\x00\\x00`e@\\x00\\x00\\x00\\x00\\x00\\x00@&quot;…</td></tr><tr><td>2022-12-31 18:00:00</td><td>2.0</td><td>[-107.0, 6.0]</td><td>2.26</td><td>3.2906e6</td><td>30.49</td><td>b&quot;\\x01\\x03\\x00\\x00\\x00\\x01\\x00\\x00\\x00S\\x00\\x00\\x00\\x00\\x00\\x00\\x00\\x00\\xc0Z\\xc0\\x00\\x00\\x00\\x00\\x00\\x002@\\x00\\x00\\x00\\x00\\x00\\xc0Z\\xc0\\x00\\x00\\x00\\x00\\x00\\x001@\\x00\\x00\\x00\\x00\\x00\\xc0Z\\xc0\\x00\\x00\\x00\\x00\\x00\\x000&quot;…</td></tr><tr><td>2022-12-31 18:00:00</td><td>2.0</td><td>[-100.0, 14.0]</td><td>1.92</td><td>417888.01</td><td>29.21</td><td>b&quot;\\x01\\x03\\x00\\x00\\x00\\x01\\x00\\x00\\x00\\x0f\\x00\\x00\\x00\\x00\\x00\\x00\\x00\\x00@X\\xc0\\x00\\x00\\x00\\x00\\x00\\x00&amp;@\\x00\\x00\\x00\\x00\\x00\\x80X\\xc0\\x00\\x00\\x00\\x00\\x00\\x00(@\\x00\\x00\\x00\\x00\\x00\\xc0X\\xc0\\x00\\x00\\x00\\x00\\x00\\x00(&quot;…</td></tr></tbody></table></div>"
      ],
      "text/plain": [
       "shape: (421_621, 7)\n",
       "┌──────────────┬───────┬─────────────────┬──────────┬────────────┬───────────┬─────────────────────┐\n",
       "│ date         ┆ level ┆ com             ┆ mean_var ┆ event_area ┆ intensity ┆ geometry            │\n",
       "│ ---          ┆ ---   ┆ ---             ┆ ---      ┆ ---        ┆ ---       ┆ ---                 │\n",
       "│ datetime[ns] ┆ f64   ┆ list[f64]       ┆ f64      ┆ f64        ┆ f64       ┆ binary              │\n",
       "╞══════════════╪═══════╪═════════════════╪══════════╪════════════╪═══════════╪═════════════════════╡\n",
       "│ 1959-01-01   ┆ -2.0  ┆ [-147.0, -18.0] ┆ -2.09    ┆ 375772.89  ┆ 23.35     ┆ b\"\\x01\\x03\\x00\\x00\\ │\n",
       "│ 00:00:00     ┆       ┆                 ┆          ┆            ┆           ┆ x00\\x01\\x00…        │\n",
       "│ 1959-01-01   ┆ -2.0  ┆ [-132.0, -13.0] ┆ -2.16    ┆ 529737.55  ┆ -0.45     ┆ b\"\\x01\\x03\\x00\\x00\\ │\n",
       "│ 00:00:00     ┆       ┆                 ┆          ┆            ┆           ┆ x00\\x01\\x00…        │\n",
       "│ 1959-01-01   ┆ -2.0  ┆ [-20.0, -18.0]  ┆ -2.36    ┆ 1.1971e6   ┆ 88.36     ┆ b\"\\x01\\x03\\x00\\x00\\ │\n",
       "│ 00:00:00     ┆       ┆                 ┆          ┆            ┆           ┆ x00\\x01\\x00…        │\n",
       "│ 1959-01-01   ┆ -2.0  ┆ [77.0, -30.0]   ┆ -1.82    ┆ 481343.94  ┆ -2.95     ┆ b\"\\x01\\x03\\x00\\x00\\ │\n",
       "│ 00:00:00     ┆       ┆                 ┆          ┆            ┆           ┆ x00\\x01\\x00…        │\n",
       "│ 1959-01-01   ┆ -2.0  ┆ [82.0, -27.0]   ┆ -2.17    ┆ 462190.13  ┆ -5.23     ┆ b\"\\x01\\x03\\x00\\x00\\ │\n",
       "│ 00:00:00     ┆       ┆                 ┆          ┆            ┆           ┆ x00\\x01\\x00…        │\n",
       "│ …            ┆ …     ┆ …               ┆ …        ┆ …          ┆ …         ┆ …                   │\n",
       "│ 2022-12-31   ┆ -2.0  ┆ [58.0, -29.0]   ┆ -2.69    ┆ 1.2129e6   ┆ 42.57     ┆ b\"\\x01\\x03\\x00\\x00\\ │\n",
       "│ 18:00:00     ┆       ┆                 ┆          ┆            ┆           ┆ x00\\x01\\x00…        │\n",
       "│ 2022-12-31   ┆ -2.0  ┆ [169.0, -29.0]  ┆ -2.19    ┆ 714050.86  ┆ 78.11     ┆ b\"\\x01\\x03\\x00\\x00\\ │\n",
       "│ 18:00:00     ┆       ┆                 ┆          ┆            ┆           ┆ x00\\x01\\x00…        │\n",
       "│ 2022-12-31   ┆ -2.0  ┆ [171.0, -35.0]  ┆ -1.85    ┆ 415423.96  ┆ 22.4      ┆ b\"\\x01\\x03\\x00\\x00\\ │\n",
       "│ 18:00:00     ┆       ┆                 ┆          ┆            ┆           ┆ x00\\x01\\x00…        │\n",
       "│ 2022-12-31   ┆ 2.0   ┆ [-107.0, 6.0]   ┆ 2.26     ┆ 3.2906e6   ┆ 30.49     ┆ b\"\\x01\\x03\\x00\\x00\\ │\n",
       "│ 18:00:00     ┆       ┆                 ┆          ┆            ┆           ┆ x00\\x01\\x00…        │\n",
       "│ 2022-12-31   ┆ 2.0   ┆ [-100.0, 14.0]  ┆ 1.92     ┆ 417888.01  ┆ 29.21     ┆ b\"\\x01\\x03\\x00\\x00\\ │\n",
       "│ 18:00:00     ┆       ┆                 ┆          ┆            ┆           ┆ x00\\x01\\x00…        │\n",
       "└──────────────┴───────┴─────────────────┴──────────┴────────────┴───────────┴─────────────────────┘"
      ]
     },
     "execution_count": 2,
     "metadata": {},
     "output_type": "execute_result"
    }
   ],
   "source": [
    "pl.read_parquet(\"/storage/workspaces/giub_meteo_impacts/ci01/ERA5/RWB_index/era5_pv_streamers_350K_1959-2022.parquet\")"
   ]
  },
  {
   "cell_type": "code",
   "execution_count": 13,
   "metadata": {},
   "outputs": [
    {
     "name": "stderr",
     "output_type": "stream",
     "text": [
      "  0%|          | 0/64 [00:09<?, ?it/s]\n"
     ]
    },
    {
     "ename": "KeyboardInterrupt",
     "evalue": "",
     "output_type": "error",
     "traceback": [
      "\u001b[0;31m---------------------------------------------------------------------------\u001b[0m",
      "\u001b[0;31mNameError\u001b[0m                                 Traceback (most recent call last)",
      "File \u001b[0;32m~/jetstream_hugo/src/jetstream_hugo/definitions.py:643\u001b[0m, in \u001b[0;36mcompute\u001b[0;34m(obj, progress_flag, **kwargs)\u001b[0m\n\u001b[1;32m    642\u001b[0m \u001b[38;5;28;01mtry\u001b[39;00m:\n\u001b[0;32m--> 643\u001b[0m     \u001b[43mclient\u001b[49m  \u001b[38;5;66;03m# in globals # type: ignore # noqa: F821\u001b[39;00m\n\u001b[1;32m    644\u001b[0m \u001b[38;5;28;01mexcept\u001b[39;00m \u001b[38;5;167;01mNameError\u001b[39;00m:\n",
      "\u001b[0;31mNameError\u001b[0m: name 'client' is not defined",
      "\nDuring handling of the above exception, another exception occurred:\n",
      "\u001b[0;31mKeyboardInterrupt\u001b[0m                         Traceback (most recent call last)",
      "Cell \u001b[0;32mIn[13], line 6\u001b[0m\n\u001b[1;32m      4\u001b[0m     \u001b[38;5;28;01mcontinue\u001b[39;00m\n\u001b[1;32m      5\u001b[0m da \u001b[38;5;241m=\u001b[39m open_da(\u001b[38;5;124m\"\u001b[39m\u001b[38;5;124mERA5\u001b[39m\u001b[38;5;124m\"\u001b[39m, \u001b[38;5;124m\"\u001b[39m\u001b[38;5;124mthetalev\u001b[39m\u001b[38;5;124m\"\u001b[39m, \u001b[38;5;124m\"\u001b[39m\u001b[38;5;124mapvs\u001b[39m\u001b[38;5;124m\"\u001b[39m, \u001b[38;5;124m\"\u001b[39m\u001b[38;5;124m6H\u001b[39m\u001b[38;5;124m\"\u001b[39m, [year], \u001b[38;5;28;01mNone\u001b[39;00m, \u001b[38;5;28;01mNone\u001b[39;00m, \u001b[38;5;28;01mNone\u001b[39;00m, \u001b[38;5;28;01mNone\u001b[39;00m, \u001b[38;5;28;01mNone\u001b[39;00m, \u001b[38;5;124m\"\u001b[39m\u001b[38;5;124mall\u001b[39m\u001b[38;5;124m\"\u001b[39m)\u001b[38;5;241m.\u001b[39mastype(np\u001b[38;5;241m.\u001b[39mint8)\u001b[38;5;241m.\u001b[39many(\u001b[38;5;124m\"\u001b[39m\u001b[38;5;124mlev\u001b[39m\u001b[38;5;124m\"\u001b[39m)\u001b[38;5;241m.\u001b[39mresample(time\u001b[38;5;241m=\u001b[39m\u001b[38;5;124m\"\u001b[39m\u001b[38;5;124m1D\u001b[39m\u001b[38;5;124m\"\u001b[39m)\u001b[38;5;241m.\u001b[39many()\n\u001b[0;32m----> 6\u001b[0m da \u001b[38;5;241m=\u001b[39m \u001b[43mcompute\u001b[49m\u001b[43m(\u001b[49m\u001b[43mda\u001b[49m\u001b[43m)\u001b[49m\n\u001b[1;32m      7\u001b[0m to_netcdf(da, opath)\n",
      "File \u001b[0;32m~/jetstream_hugo/src/jetstream_hugo/definitions.py:650\u001b[0m, in \u001b[0;36mcompute\u001b[0;34m(obj, progress_flag, **kwargs)\u001b[0m\n\u001b[1;32m    648\u001b[0m             \u001b[38;5;28;01mreturn\u001b[39;00m obj\u001b[38;5;241m.\u001b[39mcompute(\u001b[38;5;241m*\u001b[39m\u001b[38;5;241m*\u001b[39mkwargs)\n\u001b[1;32m    649\u001b[0m     \u001b[38;5;28;01melse\u001b[39;00m:\n\u001b[0;32m--> 650\u001b[0m         \u001b[38;5;28;01mreturn\u001b[39;00m \u001b[43mobj\u001b[49m\u001b[38;5;241;43m.\u001b[39;49m\u001b[43mcompute\u001b[49m\u001b[43m(\u001b[49m\u001b[38;5;241;43m*\u001b[39;49m\u001b[38;5;241;43m*\u001b[39;49m\u001b[43mkwargs\u001b[49m\u001b[43m)\u001b[49m\n\u001b[1;32m    651\u001b[0m \u001b[38;5;28;01mexcept\u001b[39;00m \u001b[38;5;167;01mAttributeError\u001b[39;00m:\n\u001b[1;32m    652\u001b[0m     \u001b[38;5;28;01mreturn\u001b[39;00m obj\n",
      "File \u001b[0;32m~/miniforge3/envs/env12/lib/python3.12/site-packages/xarray/core/dataarray.py:1206\u001b[0m, in \u001b[0;36mDataArray.compute\u001b[0;34m(self, **kwargs)\u001b[0m\n\u001b[1;32m   1181\u001b[0m \u001b[38;5;250m\u001b[39m\u001b[38;5;124;03m\"\"\"Manually trigger loading of this array's data from disk or a\u001b[39;00m\n\u001b[1;32m   1182\u001b[0m \u001b[38;5;124;03mremote source into memory and return a new array.\u001b[39;00m\n\u001b[1;32m   1183\u001b[0m \n\u001b[0;32m   (...)\u001b[0m\n\u001b[1;32m   1203\u001b[0m \u001b[38;5;124;03mdask.compute\u001b[39;00m\n\u001b[1;32m   1204\u001b[0m \u001b[38;5;124;03m\"\"\"\u001b[39;00m\n\u001b[1;32m   1205\u001b[0m new \u001b[38;5;241m=\u001b[39m \u001b[38;5;28mself\u001b[39m\u001b[38;5;241m.\u001b[39mcopy(deep\u001b[38;5;241m=\u001b[39m\u001b[38;5;28;01mFalse\u001b[39;00m)\n\u001b[0;32m-> 1206\u001b[0m \u001b[38;5;28;01mreturn\u001b[39;00m \u001b[43mnew\u001b[49m\u001b[38;5;241;43m.\u001b[39;49m\u001b[43mload\u001b[49m\u001b[43m(\u001b[49m\u001b[38;5;241;43m*\u001b[39;49m\u001b[38;5;241;43m*\u001b[39;49m\u001b[43mkwargs\u001b[49m\u001b[43m)\u001b[49m\n",
      "File \u001b[0;32m~/miniforge3/envs/env12/lib/python3.12/site-packages/xarray/core/dataarray.py:1174\u001b[0m, in \u001b[0;36mDataArray.load\u001b[0;34m(self, **kwargs)\u001b[0m\n\u001b[1;32m   1154\u001b[0m \u001b[38;5;28;01mdef\u001b[39;00m\u001b[38;5;250m \u001b[39m\u001b[38;5;21mload\u001b[39m(\u001b[38;5;28mself\u001b[39m, \u001b[38;5;241m*\u001b[39m\u001b[38;5;241m*\u001b[39mkwargs) \u001b[38;5;241m-\u001b[39m\u001b[38;5;241m>\u001b[39m Self:\n\u001b[1;32m   1155\u001b[0m \u001b[38;5;250m    \u001b[39m\u001b[38;5;124;03m\"\"\"Manually trigger loading of this array's data from disk or a\u001b[39;00m\n\u001b[1;32m   1156\u001b[0m \u001b[38;5;124;03m    remote source into memory and return this array.\u001b[39;00m\n\u001b[1;32m   1157\u001b[0m \n\u001b[0;32m   (...)\u001b[0m\n\u001b[1;32m   1172\u001b[0m \u001b[38;5;124;03m    dask.compute\u001b[39;00m\n\u001b[1;32m   1173\u001b[0m \u001b[38;5;124;03m    \"\"\"\u001b[39;00m\n\u001b[0;32m-> 1174\u001b[0m     ds \u001b[38;5;241m=\u001b[39m \u001b[38;5;28;43mself\u001b[39;49m\u001b[38;5;241;43m.\u001b[39;49m\u001b[43m_to_temp_dataset\u001b[49m\u001b[43m(\u001b[49m\u001b[43m)\u001b[49m\u001b[38;5;241;43m.\u001b[39;49m\u001b[43mload\u001b[49m\u001b[43m(\u001b[49m\u001b[38;5;241;43m*\u001b[39;49m\u001b[38;5;241;43m*\u001b[39;49m\u001b[43mkwargs\u001b[49m\u001b[43m)\u001b[49m\n\u001b[1;32m   1175\u001b[0m     new \u001b[38;5;241m=\u001b[39m \u001b[38;5;28mself\u001b[39m\u001b[38;5;241m.\u001b[39m_from_temp_dataset(ds)\n\u001b[1;32m   1176\u001b[0m     \u001b[38;5;28mself\u001b[39m\u001b[38;5;241m.\u001b[39m_variable \u001b[38;5;241m=\u001b[39m new\u001b[38;5;241m.\u001b[39m_variable\n",
      "File \u001b[0;32m~/miniforge3/envs/env12/lib/python3.12/site-packages/xarray/core/dataset.py:900\u001b[0m, in \u001b[0;36mDataset.load\u001b[0;34m(self, **kwargs)\u001b[0m\n\u001b[1;32m    897\u001b[0m chunkmanager \u001b[38;5;241m=\u001b[39m get_chunked_array_type(\u001b[38;5;241m*\u001b[39mlazy_data\u001b[38;5;241m.\u001b[39mvalues())\n\u001b[1;32m    899\u001b[0m \u001b[38;5;66;03m# evaluate all the chunked arrays simultaneously\u001b[39;00m\n\u001b[0;32m--> 900\u001b[0m evaluated_data: \u001b[38;5;28mtuple\u001b[39m[np\u001b[38;5;241m.\u001b[39mndarray[Any, Any], \u001b[38;5;241m.\u001b[39m\u001b[38;5;241m.\u001b[39m\u001b[38;5;241m.\u001b[39m] \u001b[38;5;241m=\u001b[39m \u001b[43mchunkmanager\u001b[49m\u001b[38;5;241;43m.\u001b[39;49m\u001b[43mcompute\u001b[49m\u001b[43m(\u001b[49m\n\u001b[1;32m    901\u001b[0m \u001b[43m    \u001b[49m\u001b[38;5;241;43m*\u001b[39;49m\u001b[43mlazy_data\u001b[49m\u001b[38;5;241;43m.\u001b[39;49m\u001b[43mvalues\u001b[49m\u001b[43m(\u001b[49m\u001b[43m)\u001b[49m\u001b[43m,\u001b[49m\u001b[43m \u001b[49m\u001b[38;5;241;43m*\u001b[39;49m\u001b[38;5;241;43m*\u001b[39;49m\u001b[43mkwargs\u001b[49m\n\u001b[1;32m    902\u001b[0m \u001b[43m\u001b[49m\u001b[43m)\u001b[49m\n\u001b[1;32m    904\u001b[0m \u001b[38;5;28;01mfor\u001b[39;00m k, data \u001b[38;5;129;01min\u001b[39;00m \u001b[38;5;28mzip\u001b[39m(lazy_data, evaluated_data, strict\u001b[38;5;241m=\u001b[39m\u001b[38;5;28;01mFalse\u001b[39;00m):\n\u001b[1;32m    905\u001b[0m     \u001b[38;5;28mself\u001b[39m\u001b[38;5;241m.\u001b[39mvariables[k]\u001b[38;5;241m.\u001b[39mdata \u001b[38;5;241m=\u001b[39m data\n",
      "File \u001b[0;32m~/miniforge3/envs/env12/lib/python3.12/site-packages/xarray/namedarray/daskmanager.py:85\u001b[0m, in \u001b[0;36mDaskManager.compute\u001b[0;34m(self, *data, **kwargs)\u001b[0m\n\u001b[1;32m     80\u001b[0m \u001b[38;5;28;01mdef\u001b[39;00m\u001b[38;5;250m \u001b[39m\u001b[38;5;21mcompute\u001b[39m(\n\u001b[1;32m     81\u001b[0m     \u001b[38;5;28mself\u001b[39m, \u001b[38;5;241m*\u001b[39mdata: Any, \u001b[38;5;241m*\u001b[39m\u001b[38;5;241m*\u001b[39mkwargs: Any\n\u001b[1;32m     82\u001b[0m ) \u001b[38;5;241m-\u001b[39m\u001b[38;5;241m>\u001b[39m \u001b[38;5;28mtuple\u001b[39m[np\u001b[38;5;241m.\u001b[39mndarray[Any, _DType_co], \u001b[38;5;241m.\u001b[39m\u001b[38;5;241m.\u001b[39m\u001b[38;5;241m.\u001b[39m]:\n\u001b[1;32m     83\u001b[0m     \u001b[38;5;28;01mfrom\u001b[39;00m\u001b[38;5;250m \u001b[39m\u001b[38;5;21;01mdask\u001b[39;00m\u001b[38;5;21;01m.\u001b[39;00m\u001b[38;5;21;01marray\u001b[39;00m\u001b[38;5;250m \u001b[39m\u001b[38;5;28;01mimport\u001b[39;00m compute\n\u001b[0;32m---> 85\u001b[0m     \u001b[38;5;28;01mreturn\u001b[39;00m \u001b[43mcompute\u001b[49m\u001b[43m(\u001b[49m\u001b[38;5;241;43m*\u001b[39;49m\u001b[43mdata\u001b[49m\u001b[43m,\u001b[49m\u001b[43m \u001b[49m\u001b[38;5;241;43m*\u001b[39;49m\u001b[38;5;241;43m*\u001b[39;49m\u001b[43mkwargs\u001b[49m\u001b[43m)\u001b[49m\n",
      "File \u001b[0;32m~/miniforge3/envs/env12/lib/python3.12/site-packages/dask/base.py:662\u001b[0m, in \u001b[0;36mcompute\u001b[0;34m(traverse, optimize_graph, scheduler, get, *args, **kwargs)\u001b[0m\n\u001b[1;32m    659\u001b[0m     postcomputes\u001b[38;5;241m.\u001b[39mappend(x\u001b[38;5;241m.\u001b[39m__dask_postcompute__())\n\u001b[1;32m    661\u001b[0m \u001b[38;5;28;01mwith\u001b[39;00m shorten_traceback():\n\u001b[0;32m--> 662\u001b[0m     results \u001b[38;5;241m=\u001b[39m \u001b[43mschedule\u001b[49m\u001b[43m(\u001b[49m\u001b[43mdsk\u001b[49m\u001b[43m,\u001b[49m\u001b[43m \u001b[49m\u001b[43mkeys\u001b[49m\u001b[43m,\u001b[49m\u001b[43m \u001b[49m\u001b[38;5;241;43m*\u001b[39;49m\u001b[38;5;241;43m*\u001b[39;49m\u001b[43mkwargs\u001b[49m\u001b[43m)\u001b[49m\n\u001b[1;32m    664\u001b[0m \u001b[38;5;28;01mreturn\u001b[39;00m repack([f(r, \u001b[38;5;241m*\u001b[39ma) \u001b[38;5;28;01mfor\u001b[39;00m r, (f, a) \u001b[38;5;129;01min\u001b[39;00m \u001b[38;5;28mzip\u001b[39m(results, postcomputes)])\n",
      "File \u001b[0;32m~/miniforge3/envs/env12/lib/python3.12/queue.py:171\u001b[0m, in \u001b[0;36mQueue.get\u001b[0;34m(self, block, timeout)\u001b[0m\n\u001b[1;32m    169\u001b[0m \u001b[38;5;28;01melif\u001b[39;00m timeout \u001b[38;5;129;01mis\u001b[39;00m \u001b[38;5;28;01mNone\u001b[39;00m:\n\u001b[1;32m    170\u001b[0m     \u001b[38;5;28;01mwhile\u001b[39;00m \u001b[38;5;129;01mnot\u001b[39;00m \u001b[38;5;28mself\u001b[39m\u001b[38;5;241m.\u001b[39m_qsize():\n\u001b[0;32m--> 171\u001b[0m         \u001b[38;5;28;43mself\u001b[39;49m\u001b[38;5;241;43m.\u001b[39;49m\u001b[43mnot_empty\u001b[49m\u001b[38;5;241;43m.\u001b[39;49m\u001b[43mwait\u001b[49m\u001b[43m(\u001b[49m\u001b[43m)\u001b[49m\n\u001b[1;32m    172\u001b[0m \u001b[38;5;28;01melif\u001b[39;00m timeout \u001b[38;5;241m<\u001b[39m \u001b[38;5;241m0\u001b[39m:\n\u001b[1;32m    173\u001b[0m     \u001b[38;5;28;01mraise\u001b[39;00m \u001b[38;5;167;01mValueError\u001b[39;00m(\u001b[38;5;124m\"\u001b[39m\u001b[38;5;124m'\u001b[39m\u001b[38;5;124mtimeout\u001b[39m\u001b[38;5;124m'\u001b[39m\u001b[38;5;124m must be a non-negative number\u001b[39m\u001b[38;5;124m\"\u001b[39m)\n",
      "File \u001b[0;32m~/miniforge3/envs/env12/lib/python3.12/threading.py:355\u001b[0m, in \u001b[0;36mCondition.wait\u001b[0;34m(self, timeout)\u001b[0m\n\u001b[1;32m    353\u001b[0m \u001b[38;5;28;01mtry\u001b[39;00m:    \u001b[38;5;66;03m# restore state no matter what (e.g., KeyboardInterrupt)\u001b[39;00m\n\u001b[1;32m    354\u001b[0m     \u001b[38;5;28;01mif\u001b[39;00m timeout \u001b[38;5;129;01mis\u001b[39;00m \u001b[38;5;28;01mNone\u001b[39;00m:\n\u001b[0;32m--> 355\u001b[0m         \u001b[43mwaiter\u001b[49m\u001b[38;5;241;43m.\u001b[39;49m\u001b[43macquire\u001b[49m\u001b[43m(\u001b[49m\u001b[43m)\u001b[49m\n\u001b[1;32m    356\u001b[0m         gotit \u001b[38;5;241m=\u001b[39m \u001b[38;5;28;01mTrue\u001b[39;00m\n\u001b[1;32m    357\u001b[0m     \u001b[38;5;28;01melse\u001b[39;00m:\n",
      "\u001b[0;31mKeyboardInterrupt\u001b[0m: "
     ]
    }
   ],
   "source": [
    "for year in tqdm(YEARS):\n",
    "    opath = Path(\"/storage/workspaces/giub_meteo_impacts/ci01/ERA5/thetalev/apvs/dailyany\", f\"{year}.nc\")\n",
    "    if opath.is_file():\n",
    "        continue\n",
    "    da = open_da(\"ERA5\", \"thetalev\", \"apvs\", \"6H\", [year], None, None, None, None, None, \"all\").astype(np.int8).any(\"lev\").resample(time=\"1D\").any()\n",
    "    da = compute(da)\n",
    "    to_netcdf(da, opath)"
   ]
  },
  {
   "cell_type": "markdown",
   "metadata": {},
   "source": [
    "# CESM"
   ]
  },
  {
   "cell_type": "markdown",
   "metadata": {},
   "source": [
    "### new download with urls"
   ]
  },
  {
   "cell_type": "markdown",
   "metadata": {},
   "source": [
    "## newnew merger script: download then postprocess:"
   ]
  },
  {
   "cell_type": "code",
   "execution_count": 45,
   "metadata": {},
   "outputs": [
    {
     "name": "stdout",
     "output_type": "stream",
     "text": [
      "\n",
      "--> The keys in the returned dictionary of datasets are constructed as follows:\n",
      "\t'component.experiment.frequency.forcing_variant'\n"
     ]
    },
    {
     "data": {
      "text/html": [
       "\n",
       "<style>\n",
       "    /* Turns off some styling */\n",
       "    progress {\n",
       "        /* gets rid of default border in Firefox and Opera. */\n",
       "        border: none;\n",
       "        /* Needs to be in here for Safari polyfill so background images work as expected. */\n",
       "        background-size: auto;\n",
       "    }\n",
       "    progress:not([value]), progress:not([value])::-webkit-progress-bar {\n",
       "        background: repeating-linear-gradient(45deg, #7e7e7e, #7e7e7e 10px, #5c5c5c 10px, #5c5c5c 20px);\n",
       "    }\n",
       "    .progress-bar-interrupted, .progress-bar-interrupted::-webkit-progress-bar {\n",
       "        background: #F44336;\n",
       "    }\n",
       "</style>\n"
      ],
      "text/plain": [
       "<IPython.core.display.HTML object>"
      ]
     },
     "metadata": {},
     "output_type": "display_data"
    },
    {
     "data": {
      "text/html": [
       "\n",
       "    <div>\n",
       "      <progress value='2' class='' max='2' style='width:300px; height:20px; vertical-align: middle;'></progress>\n",
       "      100.00% [2/2 00:03&lt;00:00]\n",
       "    </div>\n",
       "    "
      ],
      "text/plain": [
       "<IPython.core.display.HTML object>"
      ]
     },
     "metadata": {},
     "output_type": "display_data"
    },
    {
     "name": "stdout",
     "output_type": "stream",
     "text": [
      "[##################                      ] | 45% Completed | 10m 57ss\n"
     ]
    },
    {
     "ename": "KeyboardInterrupt",
     "evalue": "",
     "output_type": "error",
     "traceback": [
      "\u001b[0;31m---------------------------------------------------------------------------\u001b[0m",
      "\u001b[0;31mKeyboardInterrupt\u001b[0m                         Traceback (most recent call last)",
      "Cell \u001b[0;32mIn[45], line 58\u001b[0m\n\u001b[1;32m     56\u001b[0m saved \u001b[38;5;241m=\u001b[39m ds_past_ns\u001b[38;5;241m.\u001b[39mto_zarr(opath\u001b[38;5;241m.\u001b[39mjoinpath(\u001b[38;5;124m\"\u001b[39m\u001b[38;5;124mds.zarr\u001b[39m\u001b[38;5;124m\"\u001b[39m), compute\u001b[38;5;241m=\u001b[39m\u001b[38;5;28;01mFalse\u001b[39;00m, mode\u001b[38;5;241m=\u001b[39m\u001b[38;5;124m\"\u001b[39m\u001b[38;5;124mw\u001b[39m\u001b[38;5;124m\"\u001b[39m)\n\u001b[1;32m     57\u001b[0m \u001b[38;5;28;01mwith\u001b[39;00m ProgressBar():\n\u001b[0;32m---> 58\u001b[0m     \u001b[43msaved\u001b[49m\u001b[38;5;241;43m.\u001b[39;49m\u001b[43mcompute\u001b[49m\u001b[43m(\u001b[49m\u001b[43m)\u001b[49m\n\u001b[1;32m     60\u001b[0m opath \u001b[38;5;241m=\u001b[39m out_path\u001b[38;5;241m.\u001b[39mjoinpath(\u001b[38;5;124m\"\u001b[39m\u001b[38;5;124mssp370\u001b[39m\u001b[38;5;124m\"\u001b[39m)\n\u001b[1;32m     61\u001b[0m opath\u001b[38;5;241m.\u001b[39mmkdir(parents\u001b[38;5;241m=\u001b[39m\u001b[38;5;28;01mTrue\u001b[39;00m, exist_ok\u001b[38;5;241m=\u001b[39m\u001b[38;5;28;01mTrue\u001b[39;00m)\n",
      "File \u001b[0;32m~/miniforge3/envs/env12/lib/python3.12/site-packages/dask/base.py:374\u001b[0m, in \u001b[0;36mDaskMethodsMixin.compute\u001b[0;34m(self, **kwargs)\u001b[0m\n\u001b[1;32m    350\u001b[0m \u001b[38;5;28;01mdef\u001b[39;00m\u001b[38;5;250m \u001b[39m\u001b[38;5;21mcompute\u001b[39m(\u001b[38;5;28mself\u001b[39m, \u001b[38;5;241m*\u001b[39m\u001b[38;5;241m*\u001b[39mkwargs):\n\u001b[1;32m    351\u001b[0m \u001b[38;5;250m    \u001b[39m\u001b[38;5;124;03m\"\"\"Compute this dask collection\u001b[39;00m\n\u001b[1;32m    352\u001b[0m \n\u001b[1;32m    353\u001b[0m \u001b[38;5;124;03m    This turns a lazy Dask collection into its in-memory equivalent.\u001b[39;00m\n\u001b[0;32m   (...)\u001b[0m\n\u001b[1;32m    372\u001b[0m \u001b[38;5;124;03m    dask.compute\u001b[39;00m\n\u001b[1;32m    373\u001b[0m \u001b[38;5;124;03m    \"\"\"\u001b[39;00m\n\u001b[0;32m--> 374\u001b[0m     (result,) \u001b[38;5;241m=\u001b[39m \u001b[43mcompute\u001b[49m\u001b[43m(\u001b[49m\u001b[38;5;28;43mself\u001b[39;49m\u001b[43m,\u001b[49m\u001b[43m \u001b[49m\u001b[43mtraverse\u001b[49m\u001b[38;5;241;43m=\u001b[39;49m\u001b[38;5;28;43;01mFalse\u001b[39;49;00m\u001b[43m,\u001b[49m\u001b[43m \u001b[49m\u001b[38;5;241;43m*\u001b[39;49m\u001b[38;5;241;43m*\u001b[39;49m\u001b[43mkwargs\u001b[49m\u001b[43m)\u001b[49m\n\u001b[1;32m    375\u001b[0m     \u001b[38;5;28;01mreturn\u001b[39;00m result\n",
      "File \u001b[0;32m~/miniforge3/envs/env12/lib/python3.12/site-packages/dask/base.py:662\u001b[0m, in \u001b[0;36mcompute\u001b[0;34m(traverse, optimize_graph, scheduler, get, *args, **kwargs)\u001b[0m\n\u001b[1;32m    659\u001b[0m     postcomputes\u001b[38;5;241m.\u001b[39mappend(x\u001b[38;5;241m.\u001b[39m__dask_postcompute__())\n\u001b[1;32m    661\u001b[0m \u001b[38;5;28;01mwith\u001b[39;00m shorten_traceback():\n\u001b[0;32m--> 662\u001b[0m     results \u001b[38;5;241m=\u001b[39m \u001b[43mschedule\u001b[49m\u001b[43m(\u001b[49m\u001b[43mdsk\u001b[49m\u001b[43m,\u001b[49m\u001b[43m \u001b[49m\u001b[43mkeys\u001b[49m\u001b[43m,\u001b[49m\u001b[43m \u001b[49m\u001b[38;5;241;43m*\u001b[39;49m\u001b[38;5;241;43m*\u001b[39;49m\u001b[43mkwargs\u001b[49m\u001b[43m)\u001b[49m\n\u001b[1;32m    664\u001b[0m \u001b[38;5;28;01mreturn\u001b[39;00m repack([f(r, \u001b[38;5;241m*\u001b[39ma) \u001b[38;5;28;01mfor\u001b[39;00m r, (f, a) \u001b[38;5;129;01min\u001b[39;00m \u001b[38;5;28mzip\u001b[39m(results, postcomputes)])\n",
      "File \u001b[0;32m~/miniforge3/envs/env12/lib/python3.12/queue.py:171\u001b[0m, in \u001b[0;36mQueue.get\u001b[0;34m(self, block, timeout)\u001b[0m\n\u001b[1;32m    169\u001b[0m \u001b[38;5;28;01melif\u001b[39;00m timeout \u001b[38;5;129;01mis\u001b[39;00m \u001b[38;5;28;01mNone\u001b[39;00m:\n\u001b[1;32m    170\u001b[0m     \u001b[38;5;28;01mwhile\u001b[39;00m \u001b[38;5;129;01mnot\u001b[39;00m \u001b[38;5;28mself\u001b[39m\u001b[38;5;241m.\u001b[39m_qsize():\n\u001b[0;32m--> 171\u001b[0m         \u001b[38;5;28;43mself\u001b[39;49m\u001b[38;5;241;43m.\u001b[39;49m\u001b[43mnot_empty\u001b[49m\u001b[38;5;241;43m.\u001b[39;49m\u001b[43mwait\u001b[49m\u001b[43m(\u001b[49m\u001b[43m)\u001b[49m\n\u001b[1;32m    172\u001b[0m \u001b[38;5;28;01melif\u001b[39;00m timeout \u001b[38;5;241m<\u001b[39m \u001b[38;5;241m0\u001b[39m:\n\u001b[1;32m    173\u001b[0m     \u001b[38;5;28;01mraise\u001b[39;00m \u001b[38;5;167;01mValueError\u001b[39;00m(\u001b[38;5;124m\"\u001b[39m\u001b[38;5;124m'\u001b[39m\u001b[38;5;124mtimeout\u001b[39m\u001b[38;5;124m'\u001b[39m\u001b[38;5;124m must be a non-negative number\u001b[39m\u001b[38;5;124m\"\u001b[39m)\n",
      "File \u001b[0;32m~/miniforge3/envs/env12/lib/python3.12/threading.py:355\u001b[0m, in \u001b[0;36mCondition.wait\u001b[0;34m(self, timeout)\u001b[0m\n\u001b[1;32m    353\u001b[0m \u001b[38;5;28;01mtry\u001b[39;00m:    \u001b[38;5;66;03m# restore state no matter what (e.g., KeyboardInterrupt)\u001b[39;00m\n\u001b[1;32m    354\u001b[0m     \u001b[38;5;28;01mif\u001b[39;00m timeout \u001b[38;5;129;01mis\u001b[39;00m \u001b[38;5;28;01mNone\u001b[39;00m:\n\u001b[0;32m--> 355\u001b[0m         \u001b[43mwaiter\u001b[49m\u001b[38;5;241;43m.\u001b[39;49m\u001b[43macquire\u001b[49m\u001b[43m(\u001b[49m\u001b[43m)\u001b[49m\n\u001b[1;32m    356\u001b[0m         gotit \u001b[38;5;241m=\u001b[39m \u001b[38;5;28;01mTrue\u001b[39;00m\n\u001b[1;32m    357\u001b[0m     \u001b[38;5;28;01melse\u001b[39;00m:\n",
      "\u001b[0;31mKeyboardInterrupt\u001b[0m: "
     ]
    }
   ],
   "source": [
    "from concurrent.futures import ThreadPoolExecutor, as_completed\n",
    "from jetutils.definitions import DATADIR, KAPPA, compute\n",
    "from jetutils.data import standardize, flatten_by, extract\n",
    "import intake\n",
    "import numpy as np\n",
    "import xarray as xr\n",
    "from pathlib import Path\n",
    "from dask.diagnostics import ProgressBar\n",
    "\n",
    "varname = \"PRECL\"\n",
    "component = \"atm\" # for land variables like RAIN, \"atm\" for atmospheric variables like wind, and \"ocn\" for ocean variables\n",
    "forcing_variant = \"cmip6\" # other option is \"smbb\", which stands for \"SMoothed Biomass Burning\"\n",
    "out_path = Path(DATADIR, \"CESM2\", varname)\n",
    "minlon, maxlon, minlat, maxlat = None, None, 0, 90\n",
    "levels = None\n",
    "years = {\n",
    "    \"past\": np.arange(1970, 2010),\n",
    "    \"future\": np.arange(2060, 2100),\n",
    "}\n",
    "\n",
    "col_url = (\n",
    "    \"https://ncar-cesm2-lens.s3-us-west-2.amazonaws.com/catalogs/aws-cesm2-le.json\"\n",
    ")\n",
    "catalog = intake.open_esm_datastore(col_url)\n",
    "\n",
    "catalog_subset = catalog.search(variable=varname, frequency='daily', forcing_variant=forcing_variant)\n",
    "dsets = catalog_subset.to_dataset_dict(storage_options={'anon':True})\n",
    "\n",
    "ds_past = dsets[f\"{component}.historical.daily.{forcing_variant}\"]\n",
    "ds_future = dsets[f\"{component}.ssp370.daily.{forcing_variant}\"]\n",
    "\n",
    "ds_past_ns = (\n",
    "    standardize(ds_past)\n",
    "    .reset_coords(\"time_bnds\", drop=True)\n",
    "    .squeeze()\n",
    "    .isel(time=np.isin(ds_past.time.dt.year, years[\"past\"]))\n",
    "    .sel(lon=slice(minlon, maxlon))\n",
    "    .sel(lat=slice(minlat, maxlat))\n",
    ")\n",
    "ds_future_ns = (\n",
    "    standardize(ds_future)\n",
    "    .reset_coords(\"time_bnds\", drop=True)\n",
    "    .squeeze()\n",
    "    .isel(time=np.isin(ds_future.time.dt.year, years[\"future\"]))\n",
    "    .sel(lon=slice(minlon, maxlon))\n",
    "    .sel(lat=slice(minlat, maxlat))\n",
    ")\n",
    "if levels is not None and \"lev\" in ds_past_ns.dims:\n",
    "    ds_past_ns = ds_past_ns.isel(lev=levels)\n",
    "    ds_future_ns = ds_future_ns.isel(lev=levels)\n",
    "\n",
    "opath = out_path.joinpath(\"historical\")\n",
    "opath.mkdir(parents=True, exist_ok=True)\n",
    "for varname in ds_past_ns.data_vars:\n",
    "    ds_past_ns[varname] = ds_past_ns[varname].drop_encoding()\n",
    "saved = ds_past_ns.to_zarr(opath.joinpath(\"ds.zarr\"), compute=False, mode=\"w\")\n",
    "with ProgressBar():\n",
    "    saved.compute()\n",
    "    \n",
    "opath = out_path.joinpath(\"ssp370\")\n",
    "opath.mkdir(parents=True, exist_ok=True)\n",
    "for varname in ds_future_ns.data_vars:\n",
    "    ds_future_ns[varname] = ds_future_ns[varname].drop_encoding()\n",
    "saved = ds_future_ns.to_zarr(opath.joinpath(\"ds.zarr\"), compute=False, mode=\"w\")\n",
    "with ProgressBar():\n",
    "    saved.compute()\n",
    "#     ds_past_ns = ds_past_ns.load()\n",
    "# ds_past_ns.to_netcdf(out_path.joinpath(out_name_past))\n",
    "# del ds_past_ns # free up memory\n",
    "\n",
    "# with ProgressBar():\n",
    "#     ds_future_ns = ds_future_ns.load()\n",
    "# ds_future_ns.to_netcdf(out_path.joinpath(out_name_future))"
   ]
  },
  {
   "cell_type": "markdown",
   "metadata": {},
   "source": [
    "### new cesm zarrification"
   ]
  },
  {
   "cell_type": "code",
   "execution_count": 3,
   "metadata": {},
   "outputs": [
    {
     "name": "stderr",
     "output_type": "stream",
     "text": [
      "  0%|          | 0/50 [00:03<?, ?it/s]\n"
     ]
    }
   ],
   "source": [
    "basepath = Path(\"/storage/workspaces/giub_meteo_impacts/ci01/CESM2/high_wind/ssp370\")\n",
    "paths = list(basepath.glob(\"*.nc\"))\n",
    "names = [path.stem.split(\"-\") for path in paths]\n",
    "members = [name[0] for name in names]\n",
    "years = [name[1] for name in names]\n",
    "for i, member in enumerate(tqdm(np.unique(members))):\n",
    "    da = xr.open_mfdataset(basepath.joinpath(f\"{member}-*.nc\").as_posix())\n",
    "    kwargs = {\"mode\": \"w\"} if i == 0 else {\"mode\": \"a\", \"append_dim\": \"member\"}\n",
    "    da[\"member\"] = da[\"member\"].astype(\"<U15\")\n",
    "    da = da.expand_dims(\"member\").copy(deep=True)\n",
    "    break\n",
    "    # da.to_zarr(basepath.joinpath(\"ds.zarr\"), **kwargs)"
   ]
  }
 ],
 "metadata": {
  "kernelspec": {
   "display_name": "env12",
   "language": "python",
   "name": "env12"
  },
  "language_info": {
   "codemirror_mode": {
    "name": "ipython",
    "version": 3
   },
   "file_extension": ".py",
   "mimetype": "text/x-python",
   "name": "python",
   "nbconvert_exporter": "python",
   "pygments_lexer": "ipython3",
   "version": "3.12.9"
  }
 },
 "nbformat": 4,
 "nbformat_minor": 2
}
