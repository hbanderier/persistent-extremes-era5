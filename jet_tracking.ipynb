{
 "cells": [
  {
   "cell_type": "code",
   "execution_count": 1,
   "metadata": {},
   "outputs": [
    {
     "name": "stderr",
     "output_type": "stream",
     "text": [
      "ERROR 1: PROJ: proj_create_from_database: Open of /storage/homefs/hb22g102/mambaforge/envs/env11/share/proj failed\n"
     ]
    }
   ],
   "source": [
    "from jetstream_hugo.jet_finding import *\n",
    "from jetstream_hugo.definitions import *\n",
    "from jetstream_hugo.stats import *\n",
    "from jetstream_hugo.plots import *\n",
    "from jetstream_hugo.clustering import *\n",
    "from jetstream_hugo.data import *\n",
    "from jetstream_hugo.hotspells import *\n",
    "from simpsom.plots import *\n",
    "import colormaps\n",
    "\n",
    "%load_ext autoreload\n",
    "%autoreload 2\n",
    "%matplotlib inline"
   ]
  },
  {
   "cell_type": "code",
   "execution_count": 2,
   "metadata": {},
   "outputs": [],
   "source": [
    "exp = MultiVarExperiment(\n",
    "    \"ERA5\", \"plev\", [\"u\", \"v\", \"s\"], \"6H\", (1940, 2022), None, -80, 30, 20, 80, [200, 250, 300]\n",
    ")\n",
    "ds = exp.ds\n",
    "all_jets, where_are_jets, all_jets_one_array, all_jets_over_time, flags = exp.track_jets()\n",
    "props_as_ds_uncat = exp.props_as_ds(False)\n",
    "props_as_ds = exp.props_as_ds(True)\n",
    "props_as_ds[\"nao\"] = get_nao(interp_like=props_as_ds)\n",
    "time_mask = (props_as_ds.time.dt.season==\"JJA\") & (props_as_ds.time.dt.year>=1959)\n",
    "da_jet_pos = jet_position_as_da(ds[\"s\"], props_as_ds, props_as_ds_uncat, all_jets, exp.path).sel(time=time_mask)\n",
    "ds_late = flatten_by(ds.sel(time=time_mask), \"s\")\n",
    "subset = [\"mean_lon\", \"mean_lat\", \"mean_lev\", \"width\", \"persistence\", \"int\"]\n",
    "props_as_np = props_as_ds[subset].sel(time=time_mask).to_dataarray().values\n",
    "props_as_np = props_as_np.transpose(1, 0, 2).reshape(props_as_np.shape[1], props_as_np.shape[0] * props_as_np.shape[2]) "
   ]
  },
  {
   "cell_type": "code",
   "execution_count": 10,
   "metadata": {},
   "outputs": [
    {
     "data": {
      "text/plain": [
       "array([[[     0,      0],\n",
       "        [     1,      1],\n",
       "        [     2,      3],\n",
       "        ...,\n",
       "        [121264, 121264],\n",
       "        [121264, 121264],\n",
       "        [121264, 121264]],\n",
       "\n",
       "       [[     0,      1],\n",
       "        [     1,      0],\n",
       "        [     2,      0],\n",
       "        ...,\n",
       "        [121264, 121264],\n",
       "        [121264, 121264],\n",
       "        [121264, 121264]],\n",
       "\n",
       "       [[     1,      2],\n",
       "        [     2,      2],\n",
       "        [     3,      0],\n",
       "        ...,\n",
       "        [121264, 121264],\n",
       "        [121264, 121264],\n",
       "        [121264, 121264]],\n",
       "\n",
       "       ...,\n",
       "\n",
       "       [[121264, 121264],\n",
       "        [121264, 121264],\n",
       "        [121264, 121264],\n",
       "        ...,\n",
       "        [121264, 121264],\n",
       "        [121264, 121264],\n",
       "        [121264, 121264]],\n",
       "\n",
       "       [[121264, 121264],\n",
       "        [121264, 121264],\n",
       "        [121264, 121264],\n",
       "        ...,\n",
       "        [121264, 121264],\n",
       "        [121264, 121264],\n",
       "        [121264, 121264]],\n",
       "\n",
       "       [[121264, 121264],\n",
       "        [121264, 121264],\n",
       "        [121264, 121264],\n",
       "        ...,\n",
       "        [121264, 121264],\n",
       "        [121264, 121264],\n",
       "        [121264, 121264]]], dtype=int32)"
      ]
     },
     "execution_count": 10,
     "metadata": {},
     "output_type": "execute_result"
    }
   ],
   "source": [
    "all_jets_over_time"
   ]
  },
  {
   "cell_type": "code",
   "execution_count": 18,
   "metadata": {},
   "outputs": [
    {
     "name": "stderr",
     "output_type": "stream",
     "text": [
      "  0%|          | 0/60632 [00:00<?, ?it/s]\n"
     ]
    },
    {
     "data": {
      "text/plain": [
       "{'mean_lon': array([  3.73317,   6.07968,   9.0976 ,  13.06367, -30.22551, -35.17758,\n",
       "         -6.26593,  -0.13182,   1.64339,  -4.03657,   5.07767]),\n",
       " 'mean_lat': array([48.49671, 47.54169, 45.18422, 44.14048, 36.75577, 37.17177,\n",
       "        37.85007, 36.7677 , 37.01632, 38.834  , 37.86554]),\n",
       " 'mean_lev': array([236.03264, 244.56333, 248.02675, 244.69881, 250.65663, 248.19197,\n",
       "        258.81276, 268.48601, 245.91983, 243.81845, 237.4432 ]),\n",
       " 'is_polar': array([1., 1., 1., 1., 0., 0., 0., 0., 0., 0., 0.]),\n",
       " 'Lon': array([  1.5,   3.5,  19. ,  24. , -75.5, -80. , -11.5, -20. ,  28.5,\n",
       "         -6. ,  -1.5]),\n",
       " 'Lat': array([51.5, 51.5, 37.5, 37. , 29.5, 29. , 37. , 37.5, 28.5, 34. , 34.5]),\n",
       " 'Spe': array([59.06427, 56.02316, 56.16353, 56.12575, 75.78434, 83.44542,\n",
       "        65.22881, 61.23854, 61.28957, 58.21903, 63.34647]),\n",
       " 'lon_ext': array([ 22. ,  26.5,  28. ,  30.5, 109.5,  97.5,  59. ,  61. ,  56.5,\n",
       "         39.5,  43. ]),\n",
       " 'lat_ext': array([20.5, 23.5, 20.5, 23.5, 18.5, 20. , 20. , 20. , 21. , 12.5, 15. ]),\n",
       " 'tilt': array([-1.11419, -0.97467, -0.79599, -0.71632, -0.02884,  0.01349,\n",
       "        -0.19218, -0.19577, -0.17758,  0.01775, -0.0548 ]),\n",
       " 'sinuosity': array([0.08997, 0.07222, 0.04859, 0.08508, 0.95834, 0.99498, 0.55185,\n",
       "        0.5517 , 0.6872 , 0.9969 , 0.95663]),\n",
       " 'width': array([38.75   , 34.25352, 33.96825, 34.58784, 23.36325, 21.57971,\n",
       "        19.89516, 19.35878, 26.72047, 23.15909, 31.12745]),\n",
       " 'int_over_europe': array([1.58532e+08, 1.88025e+08, 1.67370e+08, 1.90376e+08, 2.29130e+08,\n",
       "        1.69555e+08, 2.03468e+08, 2.48597e+08, 2.57425e+08, 1.51129e+08,\n",
       "        2.40473e+08]),\n",
       " 'int': array([1.58532e+08, 1.88025e+08, 1.67370e+08, 1.90376e+08, 7.21144e+08,\n",
       "        6.67882e+08, 3.83632e+08, 3.98449e+08, 3.80167e+08, 2.50090e+08,\n",
       "        2.94932e+08]),\n",
       " 'persistence': array([2.75, 2.75, 2.75, 2.75, 2.75, 2.75, 2.75, 2.75, 2.75, 2.75, 2.75]),\n",
       " 'int_low': array([2.94813e+07, 3.89565e+07, 3.39336e+07, 4.97959e+07, 2.52234e+08,\n",
       "        2.26095e+08, 1.09578e+08, 1.15601e+08, 1.13095e+08, 8.49156e+07,\n",
       "        9.45279e+07]),\n",
       " 'int_ratio': array([0.18596, 0.20719, 0.20275, 0.26157, 0.34977, 0.33853, 0.28563,\n",
       "        0.29013, 0.29749, 0.33954, 0.32051])}"
      ]
     },
     "execution_count": 18,
     "metadata": {},
     "output_type": "execute_result"
    }
   ],
   "source": [
    "incorrect = len(ds.time)\n",
    "for i, jot in tqdm(enumerate(all_jets_over_time), total=len(all_jets_over_time)):\n",
    "    jot = jot[jot[:, 0] != incorrect, :]\n",
    "    props_over_time = extract_props_over_time(jot, props_as_ds_uncat)\n",
    "    break\n",
    "props_over_time"
   ]
  },
  {
   "cell_type": "code",
   "execution_count": null,
   "metadata": {},
   "outputs": [],
   "source": []
  }
 ],
 "metadata": {
  "kernelspec": {
   "display_name": "env11",
   "language": "python",
   "name": "env11"
  }
 },
 "nbformat": 4,
 "nbformat_minor": 2
}
