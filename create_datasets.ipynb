{
 "cells": [
  {
   "cell_type": "code",
   "execution_count": 1,
   "id": "70c2be01-ea74-4586-825d-b599b067739f",
   "metadata": {},
   "outputs": [],
   "source": [
    "import os\n",
    "import numpy as np\n",
    "from cdo import Cdo\n",
    "import xarray as xr\n",
    "import numpy as np\n",
    "import cartopy.crs as ccrs\n",
    "import cartopy.feature as feat\n",
    "import scipy.constants as co\n",
    "import matplotlib.animation as animation\n",
    "import matplotlib.pyplot as plt\n",
    "import IPython.display as disp\n",
    "import metpy.interpolate as intp\n",
    "import pandas as pd\n",
    "import time\n",
    "from ipywidgets import IntProgress, HTML"
   ]
  },
  {
   "cell_type": "code",
   "execution_count": 2,
   "id": "1fbf9e15",
   "metadata": {},
   "outputs": [],
   "source": [
    "DATADIR = \"/scratch2/hugo/ERA5\"\n",
    "CLIMSTOR = \"/mnt/climstor/ecmwf/era5/raw\"\n",
    "def filenamescm(y, m, d):\n",
    "    return [f\"{CLIMSTOR}/ML/data/{str(y)}/P{str(y)}{str(m).zfill(2)}{str(d).zfill(2)}_{str(h).zfill(2)}\" for h in range(0, 24, 6)]\n",
    "def filenamecp(y, m, d):\n",
    "    return [f\"{CLIMSTOR}/PL/data/an_pl_ERA5_{str(y)}-{str(m).zfill(2)}-{str(d).zfill(2)}.nc\"]  # returns iterable to have same call signature as filenamescl(y, m, d)\n",
    "def fncm(date):  # instead takes pandas.timestamp as input\n",
    "    return filenamescm(date.year, date.month, date.day)\n",
    "def fncp(date):\n",
    "    return filenamecp(date.year, date.month, date.day)\n",
    "a = 6.371e6  # m\n",
    "OMEGA = 7.2921e-5  # rad.s-1\n",
    "\n",
    "def degcos(x):\n",
    "    return np.cos(x / 180 * np.pi)\n",
    "def degsin(x):\n",
    "    return np.sin(x / 180 * np.pi)\n",
    "KAPPA = co.R / 1.0035\n",
    "DATERANGEPL = pd.date_range(\"19590101\", \"20211231\")\n",
    "YEARSPL = np.unique(DATERANGEPL.year)\n",
    "DATERANGEML = pd.date_range(\"19770101\", \"20211231\")\n",
    "cdo = Cdo(debug=1)"
   ]
  },
  {
   "cell_type": "code",
   "execution_count": 3,
   "id": "716d6aff",
   "metadata": {},
   "outputs": [],
   "source": [
    "longname = {\n",
    "    \"u\": \"U-component of wind\",\n",
    "    \"v\": \"V-component of wind\",\n",
    "    \"w\": \"W-component of wind\",\n",
    "    \"z\": \"Geopotential\",\n",
    "    \"t\": \"Temperature\",\n",
    "    \"vo\": \"Relative vorticity\",\n",
    "    \"q\": \"Specific humidity\",\n",
    "    \"r\": \"relative humidity\"\n",
    "    \n",
    "}\n",
    "variablemap = {\n",
    "    f\"{var}{lev}\": [var, \"PL\", lev, f\"{longname[var]} at {lev} hPa\"] \n",
    "    for var in [\"u\", \"v\", \"vo\"] \n",
    "    for lev in range(700, 901, 50)\n",
    "}\n",
    "var = \"z\"\n",
    "vm2 = {\n",
    "    f\"{var}{lev}\": [var, \"PL\", lev, f\"{longname[var]} at {lev} hPa\"] \n",
    "    for lev in [300, 500]\n",
    "}\n",
    "\n",
    "variablemap.update(vm2)\n",
    "variablemap[\"t850\"] = [\"t\", \"PL\", 850, f\"{longname['t']} at 850 hPa\"]"
   ]
  },
  {
   "cell_type": "code",
   "execution_count": null,
   "id": "8de77a27",
   "metadata": {},
   "outputs": [],
   "source": [
    "# create yearly files containing u(700-75-925), compliant with Barripedro et. al (2022); Woollings (2010)\n",
    "\n",
    "f1 = IntProgress(min=0, max=len(YEARSPL) * 12)\n",
    "display(f1)\n",
    "for year in YEARSPL:\n",
    "    for month in range(1, 13):\n",
    "        fn = f\"{DATADIR}/Woollings/{year}{str(month).zfill(2)}.nc\"\n",
    "        if os.path.isfile(fn):\n",
    "            f1.value += 1\n",
    "            continue\n",
    "        to_merge = []\n",
    "        for d in DATERANGEPL[np.logical_and(DATERANGEPL.year == year, DATERANGEPL.month == month)]:    \n",
    "            to_merge.extend(fncp(d))\n",
    "        xr.open_mfdataset(\n",
    "            to_merge, drop_variables=[v for v in longname if v != \"u\"]\n",
    "            ).sel(\n",
    "                level=[700.0, 750.0, 800.0, 850.0, 900.0]\n",
    "                ).to_netcdf(fn)\n",
    "        f1.value += 1"
   ]
  },
  {
   "cell_type": "code",
   "execution_count": 4,
   "id": "beac5d23",
   "metadata": {},
   "outputs": [
    {
     "name": "stdout",
     "output_type": "stream",
     "text": [
      "Warning: ecCodes 2.21.0 or higher is recommended. You are running version 2.16.0\n"
     ]
    }
   ],
   "source": [
    "# dynamical tropopause calculations, to be scaled on piz daint probably\n",
    "ds = xr.open_dataset(filenamescm(1979, 1, 1)[0], engine=\"netcdf4\")"
   ]
  },
  {
   "cell_type": "code",
   "execution_count": 12,
   "id": "0d359237",
   "metadata": {},
   "outputs": [],
   "source": [
    "ds[\"vort\"] = (ds[\"V\"].differentiate(\"lon\") - (ds[\"U\"] * degcos(ds[\"lat\"])).differentiate(\"lat\")) / a / degcos(ds[\"lat\"])\n",
    "ds[\"absvort\"] = ds[\"vort\"] + 2 * OMEGA * degsin(ds[\"lat\"])"
   ]
  },
  {
   "cell_type": "code",
   "execution_count": 6,
   "id": "6a8b81cb",
   "metadata": {},
   "outputs": [],
   "source": [
    "P = np.tensordot(ds[\"PS\"][:, 0, :, 0], ds[\"hybm\"], axes=0) "
   ]
  },
  {
   "cell_type": "code",
   "execution_count": null,
   "id": "3e70d5b7",
   "metadata": {},
   "outputs": [],
   "source": [
    "def create_plot(to_plot, titles, levels, twolevel=False, startindex=-1):\n",
    "    # Figure\n",
    "    transform = ccrs.PlateCarree()\n",
    "    projection = transform\n",
    "    if twolevel:\n",
    "        fig, axes = plt.subplots(\n",
    "            2,\n",
    "            int(len(to_plot) / 2),\n",
    "            subplot_kw={\"projection\": projection}, constrained_layout=True #, figsize=(6 * len(to_plot) // 2, 13)\n",
    "        )\n",
    "    else:\n",
    "        fig, axes = plt.subplots(\n",
    "            1, len(to_plot), subplot_kw={\"projection\": projection}, constrained_layout=True\n",
    "        )\n",
    "    axes = np.atleast_1d(axes)\n",
    "    axes = axes.flatten()\n",
    "\n",
    "    # Add coastline and boarders\n",
    "    coastline = feat.NaturalEarthFeature(\n",
    "        \"physical\", \"coastline\", \"10m\", edgecolor=\"black\", facecolor=\"none\"\n",
    "    )\n",
    "    borders = feat.NaturalEarthFeature(\n",
    "        \"cultural\",\n",
    "        \"admin_0_boundary_lines_land\",\n",
    "        \"10m\",\n",
    "        edgecolor=\"grey\",\n",
    "        facecolor=\"none\",\n",
    "    )\n",
    "    plt_rej = []\n",
    "    cbar = [None] * len(to_plot)\n",
    "    for j in range(len(to_plot)):\n",
    "        ax = axes[j]\n",
    "        plt_rej.append(\n",
    "            ax.contourf(\n",
    "                to_plot[j][\"lon\"],\n",
    "                to_plot[j][\"lat\"],\n",
    "                to_plot[j].isel(time=startindex),\n",
    "                levels=levels[j],\n",
    "                transform=transform,\n",
    "                transform_first=True,\n",
    "                # cmap=cmap,\n",
    "                zorder=0,\n",
    "            )\n",
    "        )\n",
    "\n",
    "        ax.add_feature(coastline)\n",
    "        ax.add_feature(borders)\n",
    "        ax.set_xmargin(0)\n",
    "        ax.set_ymargin(0)\n",
    "        ax.set_title(f\"Day {startindex}, {titles[j]}, g.a : {np.mean(to_plot[j][startindex]):.2f}\")\n",
    "\n",
    "        cbar[j] = fig.colorbar(plt_rej[j], ax=ax,fraction=0.046, pad=0.04)\n",
    "\n",
    "    def animate_all(i):\n",
    "        global plt_rej\n",
    "        for j in range(len(to_plot)):\n",
    "            ax = axes[j]\n",
    "            for c in plt_rej[j].collections:\n",
    "                c.remove()\n",
    "            plt_rej[j] = ax.contourf(\n",
    "                to_plot[j][\"lon\"],\n",
    "                to_plot[j][\"lat\"],\n",
    "                to_plot[j].isel(time=i),\n",
    "                levels=levels[j],\n",
    "                transform=transform,\n",
    "                transform_first=True,\n",
    "                # cmap=cmap,\n",
    "                zorder=0,\n",
    "            )\n",
    "            ax.set_title(f\"Day {i + 1}, {titles[j]}, g.a : {np.mean(to_plot[j][i]):.2f}\")\n",
    "            cbar[j] = fig.colorbar(plt_rej[j], cax=fig.axes[len(axes) + j])\n",
    "        return plt_rej\n",
    "\n",
    "    return fig, axes, plt_rej, animate_all"
   ]
  },
  {
   "cell_type": "code",
   "execution_count": null,
   "id": "1585424d",
   "metadata": {},
   "outputs": [],
   "source": []
  }
 ],
 "metadata": {
  "kernelspec": {
   "display_name": "pers",
   "language": "python",
   "name": "pers"
  },
  "language_info": {
   "codemirror_mode": {
    "name": "ipython",
    "version": 3
   },
   "file_extension": ".py",
   "mimetype": "text/x-python",
   "name": "python",
   "nbconvert_exporter": "python",
   "pygments_lexer": "ipython3",
   "version": "3.10.8"
  },
  "vscode": {
   "interpreter": {
    "hash": "31f2aee4e71d21fbe5cf8b01ff0e069b9275f58929596ceb00d14d90e3e16cd6"
   }
  }
 },
 "nbformat": 4,
 "nbformat_minor": 5
}
