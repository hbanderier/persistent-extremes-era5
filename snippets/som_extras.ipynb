{
 "cells": [
  {
   "cell_type": "markdown",
   "metadata": {},
   "source": [
    "# compute CDSK indices"
   ]
  },
  {
   "cell_type": "markdown",
   "metadata": {},
   "source": [
    "# Explicit SOM"
   ]
  },
  {
   "cell_type": "code",
   "execution_count": null,
   "metadata": {},
   "outputs": [],
   "source": [
    "plt.ioff()\n",
    "from IPython.display import display, clear_output\n",
    "from simpsom.neighborhoods import Neighborhoods\n",
    "%matplotlib inline\n",
    "\n",
    "epochs = 100\n",
    "start_sigma = 1\n",
    "start_lr = 0.05\n",
    "win_size = 7\n",
    "nbatch = len(X_norm) // 64\n",
    "lon, lat = da_s_coarse.lon.values, da_s_coarse.lat.values\n",
    "nei = Neighborhoods(np, 6, 4, \"hexagons\", PBC=True)\n",
    "neighborhood_caller = partial(nei.neighborhood_caller, neigh_func=\"gaussian\")\n",
    "size = nei.width * nei.height\n",
    "weights = np.random.default_rng().random((size, *X_norm.shape[1:]), dtype=np.float32)\n",
    "nodes = np.arange(size)\n",
    "clu = None\n",
    "\n",
    "\n",
    "def iteration_som(thisX: NDArray, weights: NDArray, nodes: NDArray, nbatch: int, win_size: int, data_range: float) -> NDArray:\n",
    "    batches = np.array_split(thisX, nbatch)\n",
    "    pre_numerator = np.zeros(weights.shape, dtype=np.float32)\n",
    "    numerator = pre_numerator.copy()\n",
    "    for batch in tqdm(batches):\n",
    "        distances = pairwise_ssim(batch, weights, win_size, data_range)\n",
    "        indices = np.argmin(distances, axis=1)\n",
    "        \n",
    "        series = indices[:, None] == nodes[None, :]\n",
    "        pop = np.sum(series, axis=0, dtype=np.float32)\n",
    "        for i, s in enumerate(series.T):\n",
    "            pre_numerator[i, :, :] = np.sum(batch[s], axis=0)\n",
    "        for i in range(pre_numerator.shape[0]):\n",
    "            numerator[i, :, :] = np.sum(h[i, :, None, None] * pre_numerator, axis=0)\n",
    "        \n",
    "        # numerator = np.einsum('ij, jkl -> ikl', h, numerator)\n",
    "        denominator = (h @ pop)[:, None, None]\n",
    "        \n",
    "        new_weights = np.where(denominator != 0, numerator / denominator, weights)\n",
    "        weights = (1 - learning_rate) * weights + learning_rate * new_weights\n",
    "        weights = weights.astype(np.float32)\n",
    "    return weights\n",
    "\n",
    "\n",
    "def prepare_plot(weights, lon, lat, Xmin, Xmax):\n",
    "    weights = descale(weights, Xmin, Xmax)\n",
    "    weights_to_plot = xr.DataArray(weights, coords={\"cluster\": nodes, \"lat\": lat, \"lon\": lon})\n",
    "    return weights_to_plot.where(weights_to_plot > 0, 0) / norm_da\n",
    "\n",
    "\n",
    "def prepare_plot_pca(weights, pca, lon, lat):\n",
    "    weights_to_plot = pca.inverse_transform(weights).reshape(weights.shape[0], *da_s.shape[1:])\n",
    "    weights_to_plot = xr.DataArray(weights_to_plot, coords={\"cluster\": nodes, \"lat\": lat, \"lon\": lon})\n",
    "    return weights_to_plot.where(weights_to_plot > 0, 0) / norm_da\n",
    "\n",
    "\n",
    "for epoch in range(epochs):\n",
    "    sigma = start_sigma * np.exp(-epoch / epochs * 3)\n",
    "    learning_rate = start_lr * np.exp(-epoch / epochs)\n",
    "    thisX = X_norm.copy()\n",
    "    np.random.shuffle(thisX)\n",
    "    h = neighborhood_caller(nodes, sigma=sigma).astype(np.float32)\n",
    "    weights = iteration_som(thisX, weights, nodes, nbatch, win_size, data_range)   \n",
    "    weights_to_plot = prepare_plot(weights, lon, lat, Xmin, Xmax) \n",
    "    if clu:\n",
    "        plt.close(clu.fig)\n",
    "        del clu\n",
    "    clear_output(wait = True)\n",
    "    print(f'ite: {epoch + 1}/{epochs}, lr: {learning_rate:.2e}, sigma: {sigma:.2e}', end='\\r')\n",
    "    clu = Clusterplot(nei.height, nei.width, exp_s.region, honeycomb=True)\n",
    "    clu.add_contourf(weights_to_plot, q=0.97, transparify=2, cmap=colormaps.matter)  \n",
    "    display(clu.fig)\n",
    "if clu:\n",
    "    plt.close(clu.fig)\n",
    "    del clu"
   ]
  },
  {
   "cell_type": "markdown",
   "metadata": {},
   "source": [
    "# Sweep sizes"
   ]
  },
  {
   "cell_type": "code",
   "execution_count": null,
   "metadata": {},
   "outputs": [],
   "source": [
    "from simpsom.neighborhoods import Neighborhoods\n",
    "def pairwise_distances_wrapper(X, Y=None, **kwargs):\n",
    "    X = X.reshape(X.shape[0], -1)\n",
    "    if Y is not None:\n",
    "        Y = Y.reshape(Y.shape[0], -1)\n",
    "    return pairwise_distances(X, Y, **kwargs)\n",
    "\n",
    "metric = \"euclidean\"\n",
    "its = np.random.randint(0, exp_s.da.time.shape[0], size=10000)\n",
    "X = to_zero_one(coarsen_da(exp_s.da.isel(time=its), 1.5).values)[0]\n",
    "meanX = X.mean(axis=0)[None, ...]\n",
    "stdX = X.std(axis=0)[None, ...]\n",
    "X_norm = (X - meanX) / stdX"
   ]
  },
  {
   "cell_type": "code",
   "execution_count": null,
   "metadata": {},
   "outputs": [
    {
     "name": "stderr",
     "output_type": "stream",
     "text": [
      "lr: 1.88e-02, sigma: 1.00e-01: 100%|██████████| 50/50 [10:08<00:00, 12.16s/it]\n",
      "lr: 1.88e-02, sigma: 1.00e-01: 100%|██████████| 50/50 [07:57<00:00,  9.56s/it]\n",
      "lr: 1.88e-02, sigma: 1.00e-01: 100%|██████████| 50/50 [03:38<00:00,  4.37s/it]\n",
      "lr: 1.88e-02, sigma: 1.00e-01: 100%|██████████| 50/50 [02:42<00:00,  3.25s/it]\n",
      "lr: 1.88e-02, sigma: 1.00e-01: 100%|██████████| 50/50 [06:37<00:00,  7.94s/it]\n",
      "lr: 1.88e-02, sigma: 1.00e-01: 100%|██████████| 50/50 [04:12<00:00,  5.05s/it]\n",
      "lr: 1.88e-02, sigma: 1.00e-01: 100%|██████████| 50/50 [09:10<00:00, 11.01s/it]\n",
      "lr: 1.88e-02, sigma: 1.00e-01: 100%|██████████| 50/50 [08:23<00:00, 10.06s/it]\n",
      "100%|██████████| 4/4 [57:06<00:00, 856.67s/it]\n"
     ]
    }
   ],
   "source": [
    "all_x = np.arange(4, 11, 2)\n",
    "all_dx = [0, -2]\n",
    "bics1 = np.zeros((len(all_x), len(all_dx)))\n",
    "bics2 = bics1.copy()\n",
    "maxprojs = bics1.copy()\n",
    "for i, x in tqdm(enumerate(all_x), total=len(all_x)):\n",
    "    for j, dx in enumerate(all_dx):\n",
    "        net, centers, labels = exp_s.som_cluster(\n",
    "            x,\n",
    "            x + dx,\n",
    "            metric=metric,\n",
    "            return_type=RAW_REALSPACE,\n",
    "            force=False,\n",
    "            train_kwargs=dict(train_algo=\"batch\", epochs=50, start_learning_rate=0.05),\n",
    "        )\n",
    "        weights = np.load(exp_s.path.joinpath(f\"som_{x}_{x+dx}_pbc_euclidean.npy\"))\n",
    "        m, sx, sy = weights.shape\n",
    "        meanW, stdW = weights.mean(axis=0), weights.std(axis=0)\n",
    "        weights_norm = (weights - meanW) / stdW\n",
    "        distances = pairwise_distances_wrapper(X_norm, weights_norm, n_jobs=12, metric=\"sqeuclidean\")\n",
    "        neighborhood = Neighborhoods(x, x + dx, \"hexagons\", PBC=True)\n",
    "        h = neighborhood.neighborhood_caller(np.arange(m), 0.05, \"gaussian\")\n",
    "        distances_ = h @ distances.T\n",
    "        labels = np.argmin(distances_, axis=0)\n",
    "        masks = labels_to_mask(labels)\n",
    "        n = np.sum(masks, axis=0)\n",
    "        N = X.shape[0]\n",
    "        d = sx * sy\n",
    "        loss = np.sum(np.amin(distances_, axis=0))\n",
    "        bics1[i, j] = (1.0 / (N - m) / d) * loss + m * d * np.log(N)\n",
    "        \n",
    "        cl_var = (1.0 / (N - m) / d) * loss\n",
    "        const_term = 2 * m * np.log(N) * d\n",
    "        bics2[i, j] = np.sum(n * np.log(n) - n * np.log(N) - n * d / 2 * np.log(2 * np.pi * cl_var) - (n - 1) * d / 2) - const_term\n",
    "        \n",
    "        maxprojs[i, j] = (1.0 / d) * np.amin(np.amax(np.einsum('ikl, jkl -> ij', X_norm, weights_norm), axis=1))"
   ]
  },
  {
   "cell_type": "code",
   "execution_count": null,
   "metadata": {},
   "outputs": [],
   "source": [
    "np.save(\"/storage/homefs/hb22g102/persistent-extremes-era5/results/bics1.npy\", bics1)\n",
    "np.save(\"/storage/homefs/hb22g102/persistent-extremes-era5/results/bics2.npy\", bics2)\n",
    "np.save(\"/storage/homefs/hb22g102/persistent-extremes-era5/results/maxprojs.npy\", maxprojs)"
   ]
  },
  {
   "cell_type": "code",
   "execution_count": null,
   "metadata": {},
   "outputs": [],
   "source": [
    "maxprojs = np.load(\"/storage/homefs/hb22g102/persistent-extremes-era5/results/som_maxprojs.npy\")\n",
    "losses = np.load(\"/storage/homefs/hb22g102/persistent-extremes-era5/results/som_losses.npy\")"
   ]
  },
  {
   "cell_type": "code",
   "execution_count": null,
   "metadata": {},
   "outputs": [
    {
     "data": {
      "image/png": "[encoded data removed]",
      "text/plain": [
       "<Figure size 640x480 with 2 Axes>"
      ]
     },
     "metadata": {},
     "output_type": "display_data"
    }
   ],
   "source": [
    "c1 = COLORS[2]\n",
    "c2 = COLORS[1]\n",
    "\n",
    "fig, ax = plt.subplots()\n",
    "all_x = np.arange(4, 11, 2)\n",
    "all_dx = [0, -2]\n",
    "ax.plot(losses[:, [1, 0]].flatten(), color=c2, lw=3, marker=\"+\", ms=15, mew=3)\n",
    "ax.set_xticks(np.arange(8), [f'({x}, {x+dx})' for x, dx in product(all_x, all_dx[::-1])], fontsize=13)\n",
    "ax.set_ylabel(\"$\\mathbf{L(W)}$\", fontsize=14)\n",
    "ax.spines['left'].set_color(c2)\n",
    "ax.spines['right'].set_color(c1)\n",
    "ax.tick_params(color=c2, labelcolor=c2, axis=\"y\")\n",
    "ax.yaxis.label.set_color(c2)\n",
    "\n",
    "axx = ax.twinx()\n",
    "axx.plot(maxprojs[:, [1, 0]].flatten(), color=c1, lw=3, marker=\"x\", ms=10, mew=3)\n",
    "axx.spines['right'].set_color(c1)\n",
    "axx.spines['left'].set_color(c2)\n",
    "axx.set_ylabel(\"$\\mathbf{P(W)}$\", fontsize=14)\n",
    "axx.yaxis.label.set_color(c1)\n",
    "axx.tick_params(color=c1, labelcolor=c1, axis=\"y\")\n",
    "\n",
    "for dire in ['top','bottom','left','right']:\n",
    "    ax.spines[dire].set_linewidth(4)\n",
    "\n",
    "ax.tick_params(width=2, length=6, pad=1, labelsize=13)\n",
    "axx.tick_params(width=2, length=6, pad=1, labelsize=13)\n",
    "    \n",
    "plt.savefig(f\"{FIGURES}/som_training.png\")"
   ]
  },
  {
   "cell_type": "code",
   "execution_count": null,
   "metadata": {},
   "outputs": [],
   "source": [
    "fig, ax = plt.subplots()\n",
    "all_x = np.arange(4, 11, 2)\n",
    "all_dx = [0, -2]\n",
    "ax.plot(losses[:, [1, 0]].flatten(), color=\"red\", lw=2)\n",
    "ax.set_xticks(np.arange(8), [f'({x}, {x+dx})' for x, dx in product(all_x, all_dx[::-1])])\n",
    "ax.set_ylabel(\"SOM Loss\")\n",
    "ax.spines['left'].set_color('red')\n",
    "ax.spines['right'].set_color('blue')\n",
    "ax.tick_params(color='red', labelcolor='red', axis=\"y\")\n",
    "ax.yaxis.label.set_color('red')\n",
    "\n",
    "\n",
    "axx = ax.twinx()\n",
    "axx.plot(maxprojs[:, [1, 0]].flatten(), color=\"blue\", lw=2)\n",
    "axx.spines['right'].set_color('blue')\n",
    "axx.spines['left'].set_color('red')\n",
    "axx.set_ylabel(\"Min Proj\")\n",
    "axx.yaxis.label.set_color('blue')\n",
    "axx.tick_params(color='blue', labelcolor='blue', axis=\"y\")\n",
    "\n",
    "plt.savefig(f\"{FIGURES}/som_training.png\")"
   ]
  },
  {
   "cell_type": "code",
   "execution_count": null,
   "metadata": {},
   "outputs": [],
   "source": [
    "list(ax.spines.keys())"
   ]
  },
  {
   "cell_type": "code",
   "execution_count": null,
   "metadata": {},
   "outputs": [],
   "source": [
    "fig, ax = plt.subplots()\n",
    "ax.plot(maxprojs[:, [1, 0]].flatten())\n",
    "ax.set_xticks(np.arange(8), [f'({x}, {x+dx})' for x, dx in product(all_x, all_dx[::-1])])"
   ]
  },
  {
   "cell_type": "markdown",
   "metadata": {},
   "source": [
    "# test pairwise ssim"
   ]
  },
  {
   "cell_type": "code",
   "execution_count": null,
   "metadata": {},
   "outputs": [],
   "source": [
    "its = np.random.randint(0, exp_s.samples_dims[\"time\"].shape[0], size=20)\n",
    "da_ = exp_s.da.isel(time=its)"
   ]
  },
  {
   "cell_type": "code",
   "execution_count": null,
   "metadata": {},
   "outputs": [],
   "source": [
    "from simpsom.distances import pairwise_ssim\n",
    "da_ = exp_s.da.isel(time=its)\n",
    "da_ = to_zero_one(coarsen_da(da_, 1.5).values)[0]\n",
    "data_range = da_.max() - da_.min()\n",
    "results = pairwise_ssim(da_, win_size=3, strides=1, data_range=data_range.item())\n",
    "results = results[np.triu_indices_from(results, k=1)]\n",
    "results_2 = pairwise_distances(da_.reshape(da_.shape[0], -1))\n",
    "results_2 = results_2[np.triu_indices_from(results_2, k=1)] / np.sqrt(np.prod(da_.shape[-2:])) * 2\n",
    "\n",
    "fig, ax = plt.subplots(figsize=(15, 6))\n",
    "# ax.plot(np.arange(len(results)), (results - results_2) / results_2, lw=4)\n",
    "ax.plot(np.arange(len(results)), results, lw=4)\n",
    "ax.plot(np.arange(len(results_2)), results_2, lw=4)"
   ]
  },
  {
   "cell_type": "code",
   "execution_count": null,
   "metadata": {},
   "outputs": [],
   "source": [
    "np.mean(results / results_2 / 1.044067)"
   ]
  },
  {
   "cell_type": "code",
   "execution_count": null,
   "metadata": {},
   "outputs": [],
   "source": [
    "fig, ax = plt.subplots(figsize=(15, 6))\n",
    "ax.plot(np.arange(len(results)), results, lw=4)\n",
    "ax.plot(np.arange(len(results_2)), results_2 * 2, lw=4)"
   ]
  },
  {
   "cell_type": "code",
   "execution_count": null,
   "metadata": {},
   "outputs": [],
   "source": [
    "clu = Clusterplot(1, 2, exp_s.region)\n",
    "_ = clu.add_contourf(da_)"
   ]
  }
 ],
 "metadata": {
  "language_info": {
   "name": "python"
  }
 },
 "nbformat": 4,
 "nbformat_minor": 2
}
