{
 "cells": [
  {
   "cell_type": "code",
   "execution_count": 274,
   "id": "70c2be01-ea74-4586-825d-b599b067739f",
   "metadata": {
    "tags": []
   },
   "outputs": [
    {
     "name": "stdout",
     "output_type": "stream",
     "text": [
      "The autotime extension is already loaded. To reload it, use:\n",
      "  %reload_ext autotime\n",
      "The autoreload extension is already loaded. To reload it, use:\n",
      "  %reload_ext autoreload\n",
      "time: 1.38 s\n"
     ]
    }
   ],
   "source": [
    "import os\n",
    "import numpy as np\n",
    "import xarray as xr\n",
    "import pandas as pd\n",
    "import cartopy.crs as ccrs\n",
    "import cartopy.feature as feat\n",
    "import xrft\n",
    "import pickle as pkl\n",
    "import simpsom as sps\n",
    "import time as timer\n",
    "from ipywidgets import IntProgress, HTML\n",
    "from itertools import product\n",
    "from scipy import constants as co\n",
    "from scipy.stats import gaussian_kde, norm as normal_dist\n",
    "from sklearn.metrics.pairwise import euclidean_distances\n",
    "from sklearn.decomposition import PCA as pca\n",
    "from sklearn.cluster import KMeans\n",
    "from hmmlearn.hmm import GaussianHMM\n",
    "import kmedoids\n",
    "import matplotlib.pyplot as plt\n",
    "from matplotlib.patches import Rectangle, Patch\n",
    "from matplotlib.widgets import CheckButtons, Slider, Button, RadioButtons\n",
    "from matplotlib.legend_handler import HandlerBase\n",
    "from matplotlib.colors import ListedColormap, LinearSegmentedColormap, Normalize, CenteredNorm, LogNorm, to_hex\n",
    "# from metpy import calc as mcalc\n",
    "# from metpy import interpolate as minterpolate\n",
    "# from metpy.units import units\n",
    "from cdo import Cdo\n",
    "from nco import Nco\n",
    "import hvplot.xarray # noqa\n",
    "import panel.widgets as pnw\n",
    "import panel as pn\n",
    "pn.extension()\n",
    "import holoviews as hv\n",
    "from bokeh.resources import INLINE\n",
    "from definitions import *\n",
    "%load_ext autotime\n",
    "%load_ext autoreload\n",
    "%autoreload 2\n",
    "%matplotlib inline\n",
    "plt.rcParams['animation.ffmpeg_path'] = '/home/hugo/mambaforge-pypy3/envs/env/bin/ffmpeg'\n",
    "cdo = Cdo(logging=True, logFile='cdo_commands.log')\n",
    "nco = Nco()\n",
    "import warnings\n",
    "warnings.filterwarnings(\"ignore\", category=FutureWarning)"
   ]
  },
  {
   "cell_type": "markdown",
   "id": "5059eb95",
   "metadata": {
    "tags": []
   },
   "source": [
    "# Barriopedro"
   ]
  },
  {
   "cell_type": "markdown",
   "id": "03271c75-aefb-4a8b-a4fb-30434ae47c52",
   "metadata": {
    "tags": []
   },
   "source": [
    "### Package"
   ]
  },
  {
   "cell_type": "code",
   "execution_count": null,
   "id": "385fd3d4-fae6-4cbc-be91-e9585aed8536",
   "metadata": {},
   "outputs": [],
   "source": [
    "dataset = \"NCEP\" # dataset = \"NCEP\"\n",
    "datadir = f\"{DATADIR}/{dataset}/Wind/Low/dailymean\"\n",
    "da = xr.open_dataset(f\"{datadir}/u.nc\")[\"u\"]\n",
    "resolution = da.lon[1] - da.lon[0]\n",
    "winsize = int(60 / resolution)\n",
    "halfwinsize = int(winsize / 2)\n",
    "da2 = da.pad(\n",
    "    lon=halfwinsize, mode='wrap'\n",
    ").rolling(\n",
    "    lon=winsize, center=True\n",
    ").mean()[:, :, halfwinsize:-halfwinsize]\n",
    "da_fft = xrft.fft(da2, dim=\"time\")\n",
    "da_fft[np.abs(da_fft.freq_time) > 1 / 10 / 24 / 3600] = 0\n",
    "da3 = xrft.ifft(da_fft, dim=\"freq_time\", true_phase=True, true_amplitude=True).real.assign_coords(time=da.time).rename(\"u\")\n",
    "da2.attrs[\"unit\"] = \"m/s\"\n",
    "da3.attrs[\"unit\"] = \"m/s\"\n",
    "da3['lon'] = da.lon\n",
    "da3.to_netcdf(f\"{datadir}/u_smooth.nc\")"
   ]
  },
  {
   "cell_type": "markdown",
   "id": "a127f4bd",
   "metadata": {
    "jp-MarkdownHeadingCollapsed": true,
    "tags": []
   },
   "source": [
    "### Plot"
   ]
  },
  {
   "cell_type": "code",
   "execution_count": null,
   "id": "260405c7",
   "metadata": {},
   "outputs": [],
   "source": [
    "# timeseries, ax, season=None, bins=LATBINS, **kwargs\n",
    "dataset = \"ERA5\"\n",
    "Zoo = xr.open_dataset(f\"{DATADIR}/{dataset}/processed/BarriopedroZooDetrended.nc\")\n",
    "fig, axes = plt.subplots(2, 2, figsize=(14, 14))\n",
    "axes = axes.flatten()\n",
    "mapping = [[\"Int\", \"Shar\"], [\"Lat\", \"Lats\", \"Latn\"], [\"Lon\", \"Lone\", \"Lonw\"], [\"Tilt\", \"Dep\"]]\n",
    "bins = [WINDBINS, LATBINS, LONBINS, DEPBINS]\n",
    "for i, group in enumerate(mapping):\n",
    "    ax = axes[i]\n",
    "    for j, key in enumerate(group):\n",
    "        midpoints, gkde = kde(Zoo[key], \"DJF\", bins[i], scaled=True, return_x=True, bw_method=0.2)\n",
    "        ax.plot(\n",
    "            midpoints, gkde, color=COLORS5[j], label=key\n",
    "        )\n",
    "    ax.legend()\n",
    "plt.show()"
   ]
  },
  {
   "cell_type": "code",
   "execution_count": null,
   "id": "537135cb-cd1a-4ed6-b3cd-dd5c10b2464e",
   "metadata": {},
   "outputs": [],
   "source": [
    "fig, ax = plt.subplots(tight_layout=True)\n",
    "midpoints, gkde = kde(Zoo['Lat_anomaly'], \"DJF\", np.arange(-30, 30.1, .5), scaled=False, return_x=True, bw_method=0.2)\n",
    "ax.plot(\n",
    "    midpoints, gkde, color=COLORS5[-3], label=key\n",
    ")\n",
    "ax.set_title('Jet Latitude Index')\n",
    "ax.set_xlabel('JLI anomaly [°N]')\n",
    "ax.set_ylabel('PDF')\n",
    "plt.savefig('Figures/JLI_winter.png')"
   ]
  },
  {
   "cell_type": "code",
   "execution_count": null,
   "id": "b556341e-aa23-4eb5-9b05-60b32b192225",
   "metadata": {},
   "outputs": [],
   "source": [
    "fig, ax = plt.subplots(tight_layout=True)\n",
    "midpoints, gkde = kde(Zoo['Lat_anomaly'], \"JJA\", np.arange(-30, 30.1, .5), scaled=False, return_x=True, bw_method=0.2)\n",
    "ax.plot(\n",
    "    midpoints, gkde, color=COLORS5[-3], label=key\n",
    ")\n",
    "ax.set_title('Jet Latitude Index')\n",
    "ax.set_xlabel('JLI anomaly [°N]')\n",
    "ax.set_ylabel('PDF')\n",
    "plt.savefig('Figures/JLI_summer.png')"
   ]
  },
  {
   "cell_type": "markdown",
   "id": "e84eec78-1df3-4672-8a93-49cf0a2fac22",
   "metadata": {
    "jp-MarkdownHeadingCollapsed": true,
    "tags": []
   },
   "source": [
    "## Meandering Index"
   ]
  },
  {
   "cell_type": "code",
   "execution_count": null,
   "id": "f53737e3",
   "metadata": {},
   "outputs": [],
   "source": [
    "dataset = \"ERA5\"\n",
    "da = xr.open_mfdataset(\n",
    "    f\"{DATADIR}/{dataset}/Geopotential/dailymean/*.nc\"\n",
    ").rename(\n",
    "    {\"longitude\": \"lon\", \"latitude\": \"lat\"}\n",
    ").isel(lat=np.arange(180, 361))[\"z\"].load() / co.g"
   ]
  },
  {
   "cell_type": "markdown",
   "id": "dbc0f72b-f760-4baa-bfd5-37827cdb2150",
   "metadata": {
    "jp-MarkdownHeadingCollapsed": true,
    "tags": []
   },
   "source": [
    "### Plot like Dicapua et al. 2016"
   ]
  },
  {
   "cell_type": "code",
   "execution_count": null,
   "id": "ccf2b11d",
   "metadata": {
    "tags": []
   },
   "outputs": [],
   "source": [
    "daM = xr.open_dataarray(f\"{DATADIR}/{dataset}/processed/Meandering.nc\")\n",
    "daM_anom = compute_anomaly(daM)\n",
    "fig, axes = plt.subplots(1, 5, figsize=(18, 5), sharey=True)\n",
    "early = daM.isel(time=(daM.time.dt.year < 2000))\n",
    "recent = daM.isel(time=(daM.time.dt.year >= 2000))\n",
    "fig.subplots_adjust(wspace=0.04)\n",
    "for i, season in enumerate([\"DJF\", \"MAM\", \"JJA\", \"SON\", \"Annual\"]):\n",
    "    \n",
    "    kde_early = kde(early, season, 50, scaled=False, return_x=True)\n",
    "    kde_recent = kde(recent, season, 50, scaled=False, return_x=True)\n",
    "    axes[i].plot(*kde_early, label=\"pre 2000\", color=COLORS5[3], lw=2.5)\n",
    "    axes[i].plot(*kde_recent, label=\"post 2000\", color=COLORS5[0], lw=2.5)\n",
    "    axes[i].fill_between(kde_early[0], 0, kde_early[1], color=COLORS5[3], alpha=0.5)\n",
    "    axes[i].fill_between(kde_recent[0], 0, kde_recent[1], color=COLORS5[0], alpha=0.5)\n",
    "    axes[i].set_title(season)\n",
    "    axes[i].set_xlabel(\"Meandering Index\")\n",
    "    axes[i].set_yticks([0, 0.5, 1, 1.5, 2.0])\n",
    "    axes[i].set_xlim([1, 3.3])\n",
    "    axes[i].set_ylim([0, 2])\n",
    "axes[0].set_ylabel(\"Density\")\n",
    "axes[-1].legend()\n",
    "plt.savefig('Figures/meandering.png')"
   ]
  },
  {
   "cell_type": "markdown",
   "id": "d2cd3f4c",
   "metadata": {
    "jp-MarkdownHeadingCollapsed": true,
    "tags": []
   },
   "source": [
    "## Combine, detrend"
   ]
  },
  {
   "cell_type": "code",
   "execution_count": null,
   "id": "ef6cfb86",
   "metadata": {
    "tags": []
   },
   "outputs": [],
   "source": [
    "# timeseries, ax, season=None, bins=LATBINS, **kwargs\n",
    "dataset = \"ERA5\"\n",
    "Zoo = xr.open_dataset(f\"{DATADIR}/{dataset}/processed/BarriopedroZoo.nc\")\n",
    "daM = xr.open_dataarray(f\"{DATADIR}/{dataset}/processed/Meandering.nc\")\n",
    "Zoo[\"Mea\"] = daM\n",
    "for key, value in Zoo.data_vars.items():\n",
    "    Zoo[f\"{key}_anomaly\"], Zoo[f\"{key}_climatology\"] = compute_anomaly(value, return_clim=True, smooth_kmax=3)\n",
    "    Zoo[f\"{key}_detrended\"] = xrft.detrend(Zoo[f\"{key}_anomaly\"], dim=\"time\", detrend_type=\"linear\")\n",
    "# Zoo.to_netcdf(f\"{DATADIR}/{dataset}/processed/BarriopedroZooDetrended.nc\")"
   ]
  },
  {
   "cell_type": "markdown",
   "id": "d23fc09a-4308-4de3-bd72-acd66dba2de9",
   "metadata": {
    "jp-MarkdownHeadingCollapsed": true,
    "tags": []
   },
   "source": [
    "## LDT on Lat, Int"
   ]
  },
  {
   "cell_type": "code",
   "execution_count": null,
   "id": "a1b33beb-35a7-4174-ac16-4f81f6cea2b0",
   "metadata": {},
   "outputs": [],
   "source": [
    "Zoo = xr.open_dataset(f\"{DATADIR}/ERA5/processed/BarriopedroZooDetrended.nc\")\n",
    "winter = np.isin(Zoo.time.dt.month, [1, 2, 12])\n",
    "JLI = Zoo[\"Lat_anomaly\"].isel(time=winter)\n",
    "JSI = Zoo[\"Int_anomaly\"].isel(time=winter)"
   ]
  },
  {
   "cell_type": "code",
   "execution_count": null,
   "id": "6eef3ed0-2a46-4184-b58e-ddca890f744e",
   "metadata": {},
   "outputs": [],
   "source": [
    "fig, axes = plt.subplots(1, 2, figsize=(10, 5), tight_layout=True, sharey=False)\n",
    "bins = [np.arange(-10, 10.5, .25), np.arange(-8, 8.01, .25)]\n",
    "for i, series in enumerate([JLI, JSI]):\n",
    "    ax = axes[i]\n",
    "    for j, n in enumerate(range(15, 121, 15)):\n",
    "        coarsened = series.rolling(time=n).mean()\n",
    "        \n",
    "        x, gkde = kde(coarsened, bins=bins[i], return_x=True) \n",
    "        y = -np.log(gkde) / n\n",
    "        y -= np.amin(y)\n",
    "        ax.plot(x, y, color=COLORS10[j], label=f\"n={n}\")\n",
    "    ax.set_title(series.name)\n",
    "    ax.legend()"
   ]
  },
  {
   "cell_type": "code",
   "execution_count": null,
   "id": "a80a189a-47de-4b88-9c28-285a1fcec5c7",
   "metadata": {},
   "outputs": [],
   "source": [
    "coarsened = JSI.coarsen(time=60, boundary=\"trim\").mean()\n",
    "x, gkde = kde(coarsened, bins=np.arange(-10, 10.01, 0.1), return_x=True)\n",
    "y = -np.log(gkde) / n\n",
    "a, b, c = np.polyfit(x, y, deg=2, w=1 / y)"
   ]
  },
  {
   "cell_type": "code",
   "execution_count": null,
   "id": "98f12051-5e17-49ee-94db-bad191508d07",
   "metadata": {},
   "outputs": [],
   "source": [
    "plt.plot(x, y)\n",
    "plt.plot(x, a * x * x + b * x + c)"
   ]
  },
  {
   "cell_type": "code",
   "execution_count": null,
   "id": "65629b90-dab4-48b6-82fc-2425563265ee",
   "metadata": {},
   "outputs": [],
   "source": [
    "plt.plot(x, gkde)\n",
    "x2 = np.linspace(-25, 25, 201)\n",
    "plt.plot(x, np.exp(-n * (a * x * x + b * x + c)))\n",
    "plt.plot(x, normal_dist(loc=np.mean(coarsened), scale=np.std(coarsened)).pdf(x))"
   ]
  },
  {
   "cell_type": "markdown",
   "id": "eaac1850-ac1d-49e2-8647-545b8d79e29a",
   "metadata": {
    "tags": []
   },
   "source": [
    "## Barriopedro sweep boxes"
   ]
  },
  {
   "cell_type": "code",
   "execution_count": null,
   "id": "463456fa-dc04-4131-8438-ea6a0a8587ae",
   "metadata": {},
   "outputs": [],
   "source": [
    "minlon = [-90, -60, -30]\n",
    "maxlon = [0, 30, 60, 90, 120, 150]\n",
    "minlat = [15]\n",
    "maxlat = [75]\n",
    "packs = product(minlon, maxlon, minlat, maxlat)\n",
    "for pack in packs:\n",
    "    minlon, maxlon, minlat, maxlat = pack\n",
    "    path = create_grid_directory(\n",
    "        cdo, 'NCEP', 'Wind', 'Low', minlon, maxlon, minlat, maxlat\n",
    "    )\n",
    "    _ = create_grid_directory(\n",
    "        cdo, 'NCEP', 'Geopotential', '500', minlon, maxlon, minlat, maxlat\n",
    "    )\n",
    "    pathlist = path.split('/')\n",
    "    print(path)\n",
    "    compute_Zoo('/'.join(pathlist[:-3]), pathlist[-1], detrend=True)"
   ]
  },
  {
   "cell_type": "code",
   "execution_count": null,
   "id": "07e2d98c-3dba-4922-b4d2-637e3e19c4af",
   "metadata": {},
   "outputs": [],
   "source": [
    "fig, axes = plt.subplots(2, 2, figsize=(12, 12), tight_layout=True)\n",
    "axes = axes.flatten()\n",
    "season = \"DJF\"\n",
    "dataset = \"NCEP\"\n",
    "\n",
    "minlon = [-90, -60, -30]\n",
    "maxlon = [0, 30, 60, 90, 120, 150]\n",
    "minlat = [15]\n",
    "maxlat = [75]\n",
    "varnames = [f'{vname}_detrended' for vname in ['Lat', 'Int', 'Tilt', 'Mea']]\n",
    "packs = product(minlon, maxlon, minlat, maxlat)\n",
    "for pack in packs:\n",
    "    minlon, maxlon, minlat, maxlat = pack\n",
    "    if minlon != -60:\n",
    "        continue\n",
    "    label = f'${np.abs(minlon):.0f}°$W - ${np.abs(maxlon):.0f}°$E'\n",
    "    path = f\"{DATADIR}/{dataset}/Wind/Low/box_{minlon}_{maxlon}_{minlat}_{maxlat}\"\n",
    "    Zoo = xr.load_dataset(f'{path}/Zoo.nc')\n",
    "    for i, varname in enumerate(varnames):\n",
    "        midpoints, gkde = kde(Zoo[varname], season, bins=50, scaled=False, return_x=True, bw_method='scott')\n",
    "        axes[i].plot(midpoints, gkde, label=label)\n",
    "for i, varname in enumerate(varnames):\n",
    "    axes[i].set_title(varname)\n",
    "    axes[i].legend()\n",
    "fig.suptitle(f'15° N - 75° N, {season}')"
   ]
  },
  {
   "cell_type": "code",
   "execution_count": null,
   "id": "0202ed0e-e736-464b-941e-a823aceb2058",
   "metadata": {},
   "outputs": [],
   "source": [
    "compute_Zoo(f'{DATADIR}/{dataset}', 'north_atlantic', detrend=True)\n",
    "minlon, maxlon, minlat, maxlat = -60, 0, 15, 75\n",
    "compute_Zoo(f'{DATADIR}/{dataset}', f'box_{minlon}_{maxlon}_{minlat}_{maxlat}', detrend=True)"
   ]
  },
  {
   "cell_type": "code",
   "execution_count": null,
   "id": "76fdb846-d24c-48e2-b853-77dbba2e736b",
   "metadata": {},
   "outputs": [],
   "source": [
    "minlon, maxlon, minlat, maxlat = -60, 0, 15, 75\n",
    "Zoo1 = xr.open_dataset(f\"{DATADIR}/{dataset}/Wind/Low/box_{minlon}_{maxlon}_{minlat}_{maxlat}/Zoo.nc\")\n",
    "Zoo2 = xr.open_dataset(f\"{DATADIR}/{dataset}/Wind/Low/north_atlantic/Zoo.nc\")"
   ]
  },
  {
   "cell_type": "code",
   "execution_count": null,
   "id": "f8d4463c-659b-4c8b-9fb2-a3b9c6db769e",
   "metadata": {},
   "outputs": [],
   "source": [
    "plt.plot(Zoo1[\"Lat\"] - Zoo2[\"Lat\"])"
   ]
  },
  {
   "cell_type": "markdown",
   "id": "f030f183-fa24-4175-b5c7-7e3c18fefdac",
   "metadata": {
    "jp-MarkdownHeadingCollapsed": true,
    "tags": []
   },
   "source": [
    "# EDG (see Barriopedro)"
   ]
  },
  {
   "cell_type": "markdown",
   "id": "263e98a8",
   "metadata": {
    "jp-MarkdownHeadingCollapsed": true,
    "tags": []
   },
   "source": [
    "### Create EDG filtered datasets"
   ]
  },
  {
   "cell_type": "code",
   "execution_count": null,
   "id": "8dbbce96-7dcd-4b25-974f-499777e2b268",
   "metadata": {},
   "outputs": [],
   "source": [
    "from scipy.stats import gaussian_kde"
   ]
  },
  {
   "cell_type": "code",
   "execution_count": null,
   "id": "fa932f0e",
   "metadata": {},
   "outputs": [],
   "source": [
    "### EDG\n",
    "ds_EDG = xr.open_dataset(f\"{datadir}/EDG.nc\").isel(level=0)"
   ]
  },
  {
   "cell_type": "code",
   "execution_count": null,
   "id": "7c91b3cb",
   "metadata": {},
   "outputs": [],
   "source": [
    "for varname in [\"u\", \"v\"]:\n",
    "    da_fft_bgrnd = xrft.fft(ds_EDG[f\"{varname}wnd\"], dim=\"time\")\n",
    "    da_fft_trans = da_fft_bgrnd.copy()\n",
    "    freq = np.abs(da_fft.freq_time)\n",
    "    da_fft_bgrnd[freq > 1 / 10 / 24 / 3600] = 0\n",
    "    da_fft_trans[np.logical_or(freq > 1 / 2 / 24 / 3600, freq < 1 / 6 / 24 / 3600)] = 0\n",
    "    ds_EDG[f\"{varname}bgrnd\"] = xrft.ifft(da_fft_bgrnd, dim=\"freq_time\", true_phase=True, true_amplitude=True).real.assign_coords(time=ds_EDG.time).rename(f\"{varname}bgrnd\")\n",
    "    ds_EDG[f\"{varname}trans\"] = xrft.ifft(da_fft_trans, dim=\"freq_time\", true_phase=True, true_amplitude=True).real.assign_coords(time=ds_EDG.time).rename(f\"{varname}trans\")"
   ]
  },
  {
   "cell_type": "code",
   "execution_count": null,
   "id": "d66ef0bf",
   "metadata": {},
   "outputs": [],
   "source": [
    "ds_EDG.to_netcdf(f\"{datadir}/EDG3.nc\")"
   ]
  },
  {
   "cell_type": "markdown",
   "id": "83aa962f",
   "metadata": {
    "jp-MarkdownHeadingCollapsed": true,
    "tags": []
   },
   "source": [
    "### EDG Computations"
   ]
  },
  {
   "cell_type": "code",
   "execution_count": null,
   "id": "e3913d81",
   "metadata": {},
   "outputs": [],
   "source": [
    "ds_EDG = xr.open_dataset(f\"{DATADIR}/EDG3.nc\")"
   ]
  },
  {
   "cell_type": "code",
   "execution_count": null,
   "id": "fea2595f",
   "metadata": {},
   "outputs": [],
   "source": [
    "ds_EDG[\"E1\"] = (ds_EDG[\"vtrans\"] ** 2 - ds_EDG[\"utrans\"] ** 2) / 2\n",
    "ds_EDG[\"E2\"] = - ds_EDG[\"utrans\"] * ds_EDG[\"vtrans\"]\n",
    "### D vector in spherical coordinates, see Obsidian page for this\n",
    "ds_EDG[\"D1\"] = ds_EDG[\"ubgrnd\"].differentiate(\"lon\") / RADIUS \\\n",
    "               - 1 / degsin(ds_EDG[\"lat\"]) / RADIUS * ds_EDG[\"vbgrnd\"].differentiate(\"lat\") \\\n",
    "               - ds_EDG[\"ubgrnd\"] * degcos(ds_EDG[\"lat\"]) / degsin(ds_EDG[\"lat\"]) / RADIUS\n",
    "ds_EDG[\"D2\"] = 0.5 * (degsin(ds_EDG[\"lat\"]) / RADIUS * (ds_EDG[\"vbgrnd\"] / degsin(ds_EDG[\"lat\"])).differentiate(\"lon\") \\\n",
    "                    + 1 / degsin(ds_EDG[\"lat\"]) / RADIUS * ds_EDG[\"ubgrnd\"].differentiate(\"lat\"))\n",
    "### Generation rate\n",
    "ds_EDG[\"G\"] = ds_EDG[\"E1\"] * ds_EDG[\"D1\"] + ds_EDG[\"E2\"] * ds_EDG[\"D2\"]\n",
    "### while we're at it, let's compute the vorticity\n",
    "ds_EDG[\"omega\"] = 1 / RADIUS / degcos(ds_EDG[\"lat\"]) * (ds_EDG[\"vwnd\"].differentiate(\"lon\") - \\\n",
    "                    (ds_EDG[\"uwnd\"] * degcos(ds_EDG[\"lat\"])).differentiate(\"lat\"))\n",
    "ds_EDG[\"EKE\"] = 0.5 * (ds_EDG[\"utrans\"] ** 2 + ds_EDG[\"vtrans\"] ** 2)\n",
    "for key in ds_EDG.data_vars:\n",
    "    ds_EDG[key].to_netcdf(f\"{DATADIR}/NCEP/processed/{key}.nc\")"
   ]
  },
  {
   "cell_type": "code",
   "execution_count": null,
   "id": "c47a72c4",
   "metadata": {},
   "outputs": [],
   "source": [
    "for key in ds_EDG.data_vars:\n",
    "    ds_EDG[key].to_netcdf(f\"{DATADIR}/NCEP/processed/{key}.nc\")"
   ]
  },
  {
   "cell_type": "markdown",
   "id": "4f859da9",
   "metadata": {
    "jp-MarkdownHeadingCollapsed": true,
    "tags": []
   },
   "source": [
    "# Stationarity"
   ]
  },
  {
   "cell_type": "markdown",
   "id": "3bcb653f",
   "metadata": {
    "jp-MarkdownHeadingCollapsed": true,
    "tags": []
   },
   "source": [
    "### Zoo Autocorrelation:"
   ]
  },
  {
   "cell_type": "code",
   "execution_count": null,
   "id": "35b09db8",
   "metadata": {
    "tags": []
   },
   "outputs": [],
   "source": [
    "howmany = 50\n",
    "f1 = IntProgress(value=0, max=len(Zoo.data_vars))\n",
    "f2 = IntProgress(value=0, max=howmany)\n",
    "display(f1, f2)\n",
    "autocorrs = {}\n",
    "\n",
    "for i, varname in enumerate(Zoo):\n",
    "    if varname.split('_')[-1] == \"climatology\":\n",
    "        continue\n",
    "    f2.value = 0\n",
    "    autocorrs[varname] = (\"lag\", np.empty(howmany))\n",
    "    for j in range(howmany):\n",
    "        autocorrs[varname][1][j] = xr.corr(Zoo[varname], Zoo[varname].shift(time=j)).values\n",
    "        f2.value = j + 1\n",
    "    f1.value = i + 1\n",
    "autocorrsda = xr.Dataset(autocorrs, coords={\"lag\": np.arange(howmany)})\n",
    "autocorrsda.to_netcdf(f\"{DATADIR}/{dataset}/processed/Zoo_autocorrs.nc\")"
   ]
  },
  {
   "cell_type": "code",
   "execution_count": null,
   "id": "c4e234d2",
   "metadata": {
    "tags": []
   },
   "outputs": [],
   "source": [
    "fig, axes = plt.subplots(3, 4, figsize=(20, 16), tight_layout=True)\n",
    "axes = axes.flatten(order=\"F\")\n",
    "dataset = \"ERA5\"\n",
    "datadir = f\"{DATADIR}/{dataset}/processed\" # daint\n",
    "autocorrs = xr.open_dataset(f\"{datadir}/Zoo_autocorrs.nc\")\n",
    "howmany = len(autocorrs.coords[\"lag\"])\n",
    "newlist = []\n",
    "for key in list(Zoo.data_vars.keys())[:11]:\n",
    "    for suffix in [\"_anomaly\"]:\n",
    "        newlist.append(f\"{key}{suffix}\")\n",
    "telatex = r\"$T^e_{\\rho}$\"\n",
    "tdlatex = r\"$T^d_{\\rho}$\"\n",
    "tclatex = r\"$T^c_{\\rho}$\"\n",
    "lw = 2\n",
    "for i, varname in enumerate(newlist):\n",
    "    te = np.argmax(autocorrs[varname].values <= 1 / np.exp(1))\n",
    "    td = 1 + 2 * np.sum(autocorrs[varname])\n",
    "    tc = 1 + np.sum(autocorrs[varname] * (1 - np.arange(1, howmany + 1) / (howmany + 1)))\n",
    "    axes[i].plot(np.arange(howmany), autocorrs[varname], color=COLORS5[0], lw=lw)\n",
    "    axes[i].plot([te, te], [0, 1], label=telatex, color=COLORS5[2], lw=lw)\n",
    "    axes[i].plot([tc, tc], [0, 1], label=tclatex, color=COLORS5[3], lw=lw)\n",
    "    axes[i].plot([td, td], [0, 1], label=tdlatex, color=COLORS5[4], lw=lw)\n",
    "    axes[i].grid()\n",
    "    axes[i].legend()\n",
    "    axes[i].set_title(f\"{varname}, {telatex}={te}, {tdlatex}={td:.3f}, {tclatex}={tc:.3f}\")\n",
    "    axes[i].set_ylabel(\"Autocorrelation\")\n",
    "    axes[i].set_xlabel(\"Lag time [days]\")\n",
    "plt.savefig('Figures/zoo_autocorrs.png')"
   ]
  },
  {
   "cell_type": "markdown",
   "id": "e649b4ac",
   "metadata": {
    "jp-MarkdownHeadingCollapsed": true,
    "tags": []
   },
   "source": [
    "###  Zoo Hurst exponent"
   ]
  },
  {
   "cell_type": "code",
   "execution_count": null,
   "id": "366e7c5b",
   "metadata": {},
   "outputs": [],
   "source": [
    "fig, ax = plt.subplots()\n",
    "subdivs = [2**n for n in range(11)]\n",
    "lengths = [len(Zoo.time) // n for n in subdivs]\n",
    "all_lengths = np.repeat(lengths, subdivs)\n",
    "N_chunks = np.sum(subdivs)\n",
    "Hurst = {}\n",
    "for i, varname in enumerate(Zoo.data_vars):\n",
    "    adjusted_ranges = []\n",
    "    for n_chunks, n in zip(subdivs, lengths):\n",
    "        start = 0\n",
    "        aranges = []\n",
    "        for k in range(n_chunks):\n",
    "            end = start + n\n",
    "            series = Zoo[varname].isel(time=np.arange(start, end)).values\n",
    "            mean = np.mean(series)\n",
    "            std = np.std(series)\n",
    "            series -= mean\n",
    "            series = np.cumsum(series)\n",
    "            raw_range = series.max() - series.min()\n",
    "            aranges.append(raw_range / std)\n",
    "        adjusted_ranges.append(np.mean(aranges))\n",
    "    print(varname)\n",
    "    ax.loglog(lengths, adjusted_ranges, color=COLORS10[i % 10])\n",
    "    coeffs = np.polyfit(np.log(lengths), np.log(adjusted_ranges), deg=1)\n",
    "    Hurst[varname] = [coeffs[0], np.exp(coeffs[1])]\n",
    "    ax.loglog(lengths, np.exp(coeffs[1]) * lengths ** coeffs[0], color=COLORS10[i % 10])\n",
    "with open(f\"{datadir}/Hurst_ERA5.pkl\", \"wb\") as handle:\n",
    "    pkl.dump(Hurst, handle)"
   ]
  },
  {
   "cell_type": "code",
   "execution_count": null,
   "id": "a9b7a5a9",
   "metadata": {},
   "outputs": [],
   "source": [
    "with open(f\"{DATADIR}/ERA5/processed/Hurst.pkl\", \"rb\") as handle:\n",
    "    Hurst = pkl.load(handle)"
   ]
  },
  {
   "cell_type": "code",
   "execution_count": null,
   "id": "501a2709",
   "metadata": {},
   "outputs": [],
   "source": [
    "Hurst"
   ]
  },
  {
   "cell_type": "markdown",
   "id": "7ba74dfe",
   "metadata": {
    "tags": []
   },
   "source": [
    "# Clustering"
   ]
  },
  {
   "cell_type": "markdown",
   "id": "7264401e",
   "metadata": {
    "jp-MarkdownHeadingCollapsed": true,
    "tags": []
   },
   "source": [
    "## Check output from `many_kmeans.py`"
   ]
  },
  {
   "cell_type": "code",
   "execution_count": null,
   "id": "bbe9cfcf",
   "metadata": {},
   "outputs": [],
   "source": [
    "from glob import glob\n",
    "basepath = f\"{DATADIR}/ERA5/Wind/300\"\n",
    "all_results = []\n",
    "for dir in glob(f\"{basepath}/box_*\"):\n",
    "    minlon, maxlon, minlat, maxlat = dir.split('/')[-1].split('_')[-4:]\n",
    "    for k in range(2, 6):\n",
    "        file = glob(f'{dir}/k{k}*')[0]\n",
    "        with open(file, \"rb\") as handle:\n",
    "            results = pkl.load(handle)\n",
    "        infos = file.split('/')[-1].split('.')[0].lstrip('k')\n",
    "        n_clu, midname, season, weigh = infos.split('_')\n",
    "        n_clu = int(n_clu)\n",
    "        scores = [np.mean(results.labels_ == i) for i in range(n_clu)]\n",
    "        all_results.append(dict(\n",
    "            minlon=minlon, maxlon=maxlon, minlat=minlat, maxlat=maxlat, \n",
    "            detrended=(midname=='detrended'), season=season, weigh=weigh,\n",
    "            n_clu=n_clu, centers=results.cluster_centers_, scores=scores,\n",
    "        ))"
   ]
  },
  {
   "cell_type": "code",
   "execution_count": null,
   "id": "b3ec65cd",
   "metadata": {},
   "outputs": [],
   "source": [
    "for results in all_results:\n",
    "    results['lon'] = np.arange(float(results['minlon']), float(results['maxlon']) + 0.5, 0.5)\n",
    "    results['lat'] = np.arange(float(results['minlat']), float(results['maxlat']) + 0.5, 0.5)\n",
    "    n_clu = results[\"n_clu\"]\n",
    "    results['centers_da'] = xr.DataArray(\n",
    "        results[\"centers\"].reshape(n_clu, len(results['lat']), len(results['lon'])), \n",
    "        coords={\"cluster\": np.arange(n_clu), \"lat\": results['lat'], \"lon\": results['lon']},\n",
    "    ) / np.sqrt(degcos(results['lat']))[None, :, None]\n",
    "    results['to_plot'] = [results['centers_da'].isel(cluster=i) for i in range(n_clu)]"
   ]
  },
  {
   "cell_type": "code",
   "execution_count": null,
   "id": "fb4f9395",
   "metadata": {},
   "outputs": [],
   "source": [
    "plt.ioff()\n",
    "for i, results in enumerate(all_results):\n",
    "    # if results['minlon'] != '-60' or results['maxlon'] != '30' or results['minlat'] != '15':\n",
    "    #     print(i, results['minlon'], results['maxlon'], results['minlat'])\n",
    "    #     continue\n",
    "    lon = results['lon']\n",
    "    lat = results['lat']\n",
    "    n_clu = results['n_clu']\n",
    "    to_plot = results['to_plot']\n",
    "    n_row = 1 + int(n_clu > 3)\n",
    "    n_col = int(np.ceil(n_clu / n_row))\n",
    "    suptitle_kwargs = {key: results[key] for key in ['minlon', 'maxlon', 'minlat', 'maxlat', 'season']}\n",
    "    fig.suptitle(figtitle(**suptitle_kwargs))\n",
    "    if os.isfile(f'Figures/kmeans/k{n_clu}_{\"_\".join(suptitle_kwargs.values())}.png'):\n",
    "        continue\n",
    "    fig, axes, cbar = clusterplot(\n",
    "        n_row, n_col, to_plot, 7, 12, \n",
    "        cbar_ylabel=\"S300 [m/s]\", clabels=[0], draw_labels=True\n",
    "    )\n",
    "    for k, score in enumerate(results[\"scores\"]):\n",
    "        ax = axes[k]\n",
    "        ax.set_title(f'${score * 100:.2f} \\%$')\n",
    "    plt.savefig(f'Figures/kmeans/k{n_clu}_{\"_\".join(suptitle_kwargs.values())}.png')\n",
    "    plt.close(fig=fig)\n",
    "plt.ion()"
   ]
  },
  {
   "cell_type": "markdown",
   "id": "4658d5da-3488-434e-beff-6fedacc52487",
   "metadata": {
    "tags": []
   },
   "source": [
    "## S300, SOM"
   ]
  },
  {
   "cell_type": "code",
   "execution_count": null,
   "id": "14656f2a-0e84-4e76-a5ef-0d1a95e78d8d",
   "metadata": {},
   "outputs": [],
   "source": [
    "variable = \"Wind\"\n",
    "level = \"300\"\n",
    "region = \"box_-60_30_15_80\"\n",
    "dataset = \"ERA5\"\n",
    "n_components = 100\n",
    "path = f\"{DATADIR}/{dataset}/{variable}/{level}/{region}\"\n",
    "thisda = xr.open_dataarray(f\"{path}/s_detrended.nc\")\n",
    "season = \"JJA\"\n",
    "thisda = thisda.isel(time=thisda.time.dt.season==season)\n",
    "tbt = (thisda * np.sqrt(degcos(thisda.lat))).values.reshape(len(thisda.time), -1)\n",
    "pca_results = pca(n_components=n_components, whiten=False).fit(tbt)\n",
    "with open(f'{path}/pca_{n_components}_{season}.pkl', 'wb') as handle:\n",
    "    pkl.dump(pca_results, handle)"
   ]
  },
  {
   "cell_type": "code",
   "execution_count": 2,
   "id": "f5a58767-ea9e-4729-85b9-6547b8c43e4b",
   "metadata": {},
   "outputs": [
    {
     "name": "stderr",
     "output_type": "stream",
     "text": [
      "2023-03-16 09:21:45.406 | INFO     | simpsom.network:__init__:104 - Periodic Boundary Conditions active.\n",
      "2023-03-16 09:21:45.413 | INFO     | simpsom.network:__init__:113 - Hexagonal topology.\n",
      "2023-03-16 09:21:45.415 | WARNING  | simpsom.network:_set_weights:177 - Please be sure that the data have been standardized before using PCA.\n",
      "2023-03-16 09:21:45.416 | INFO     | simpsom.network:_set_weights:179 - The weights will be initialized with PCA.\n",
      "2023-03-16 09:21:45.547 | INFO     | simpsom.network:train:373 - The map will be trained with the batch algorithm.\n",
      "2023-03-16 09:21:50.176 | INFO     | simpsom.network:save_map:301 - Map shape and weights will be saved to:\n",
      "././trained_som.npy\n"
     ]
    },
    {
     "name": "stdout",
     "output_type": "stream",
     "text": [
      "time: 20.7 s\n"
     ]
    }
   ],
   "source": [
    "import simpsom as sps\n",
    "\n",
    "variable = \"Wind\"\n",
    "level = \"300\"\n",
    "region = \"box_-60_30_15_80\"\n",
    "dataset = \"ERA5\"\n",
    "season = \"JJA\"\n",
    "n_components = 100\n",
    "path = f\"{DATADIR}/{dataset}/{variable}/{level}/{region}\"\n",
    "thisda = xr.open_dataarray(f\"{path}/s_detrended.nc\")\n",
    "thisda = thisda.isel(time=thisda.time.dt.season==\"JJA\")\n",
    "tbt = (thisda * np.sqrt(degcos(thisda.lat))).values.reshape(len(thisda.time), -1)\n",
    "\n",
    "with open(f'{path}/pca_{n_components}_{season}.pkl', 'rb') as handle:\n",
    "    pca_results = pkl.load(handle)\n",
    "    \n",
    "reduced = pca_results.transform(tbt)   \n",
    "nx, ny = 9, 11\n",
    "net = sps.SOMNet(\n",
    "    nx, ny, reduced, topology='hexagonal', \n",
    "    init='PCA', metric='cosine',\n",
    "    neighborhood_fun='gaussian', PBC=True,\n",
    "    random_seed=32, GPU=False, CUML=False,\n",
    "    output_path=\"./\"\n",
    ")\n",
    "net.train(\n",
    "    train_algo='batch', start_learning_rate=0.01, epochs=-1, \n",
    "    batch_size=100\n",
    ")\n",
    "net.save_map(\"./trained_som.npy\")\n",
    "\n",
    "# net = sps.SOMNet(nx, ny, reduced, load_file='trained_som.npy')"
   ]
  },
  {
   "cell_type": "code",
   "execution_count": 4,
   "id": "ac9e042d-ca41-476b-9a62-54d2e4b078d1",
   "metadata": {},
   "outputs": [
    {
     "name": "stderr",
     "output_type": "stream",
     "text": [
      "2023-03-16 09:22:02.189 | INFO     | simpsom.network:project_onto_map:605 - Projected coordinates will be saved to:\n",
      "././som_projected.npy\n",
      "2023-03-16 09:22:02.287 | INFO     | simpsom.network:get_nodes_difference:580 - Weights difference among neighboring nodes calculated.\n"
     ]
    },
    {
     "data": {
      "image/png": "[encoded data removed]",
      "text/plain": [
       "<Figure size 500x500 with 2 Axes>"
      ]
     },
     "metadata": {},
     "output_type": "display_data"
    },
    {
     "name": "stdout",
     "output_type": "stream",
     "text": [
      "time: 543 ms\n"
     ]
    }
   ],
   "source": [
    "projected = net.project_onto_map(reduced)\n",
    "indices = net.find_bmu_ix(reduced)\n",
    "net.get_nodes_difference()\n",
    "kwargs = {\n",
    "    'cmap': cm.get_cmap('inferno').reversed(),\n",
    "    'cbar_label': 'Population',\n",
    "    'title': 'Wind speed anomaly, JJA, SOM'\n",
    "}\n",
    "fig, ax = sps.plots.plot_map(\n",
    "    [[node.pos[0], node.pos[1]] for node in net.nodes_list],\n",
    "    [np.sum(indices==i) for i in range(len(net.nodes_list))],\n",
    "    net.polygons, show=False, **kwargs\n",
    ")\n",
    "plt.draw()\n",
    "fcs = ax.collections[0].get_facecolors()\n",
    "# for i, node in enumerate(net.nodes_list):\n",
    "#     t = ax.text(node.pos[0], node.pos[1], s=i, ha='center', va='center', fontweight='bold', bbox=dict(boxstyle='square', edgecolor=fcs[i], facecolor='white', pad=0.1))"
   ]
  },
  {
   "cell_type": "code",
   "execution_count": 5,
   "id": "a68bed37-2c8e-4bdf-862d-1b2d1d60e8f1",
   "metadata": {},
   "outputs": [
    {
     "name": "stdout",
     "output_type": "stream",
     "text": [
      "time: 829 ms\n"
     ]
    }
   ],
   "source": [
    "df = pd.DataFrame(indices)\n",
    "\n",
    "# create a new column with data shifted one space\n",
    "df['shift'] = df[0].shift(-1)\n",
    "\n",
    "# add a count column (for group by function)\n",
    "df['count'] = 1\n",
    "\n",
    "# groupby and then unstack, fill the zeros\n",
    "trans_mat = df.groupby([0, 'shift']).count().unstack().fillna(0)\n",
    "\n",
    "# normalise by occurences and save values to get transition matrix\n",
    "trans_mat = trans_mat.div(trans_mat.sum(axis=1), axis=0).values"
   ]
  },
  {
   "cell_type": "code",
   "execution_count": 7,
   "id": "54ea2d72-d46b-43a3-b412-3e2aec50f4da",
   "metadata": {},
   "outputs": [
    {
     "data": {
      "text/plain": [
       "<matplotlib.colorbar.Colorbar at 0x7faac492ca90>"
      ]
     },
     "execution_count": 7,
     "metadata": {},
     "output_type": "execute_result"
    },
    {
     "data": {
      "image/png": "[encoded data removed]",
      "text/plain": [
       "<Figure size 640x480 with 2 Axes>"
      ]
     },
     "metadata": {},
     "output_type": "display_data"
    },
    {
     "name": "stdout",
     "output_type": "stream",
     "text": [
      "time: 699 ms\n"
     ]
    }
   ],
   "source": [
    "fig, ax = plt.subplots()\n",
    "im = ax.imshow(trans_mat, origin='lower')\n",
    "fig.colorbar(im, ax=ax)"
   ]
  },
  {
   "cell_type": "code",
   "execution_count": 8,
   "id": "74e20bca-0705-4527-9892-5638464d58d7",
   "metadata": {},
   "outputs": [
    {
     "data": {
      "image/png": "[encoded data removed]",
      "text/plain": [
       "<Figure size 500x500 with 2 Axes>"
      ]
     },
     "metadata": {},
     "output_type": "display_data"
    },
    {
     "name": "stdout",
     "output_type": "stream",
     "text": [
      "time: 1.39 s\n"
     ]
    }
   ],
   "source": [
    "diff = np.gradient(projected, axis=0)\n",
    "diff = np.sqrt(diff[:, 0] ** 2 + diff[:, 1] ** 2)\n",
    "meandiff = [np.sum(diff[indices==i] == 0) for i in range(len(net.nodes_list))]\n",
    "kwargs = {\n",
    "    'cmap': cm.get_cmap('inferno').reversed(),\n",
    "    'cbar_label': 'Days with 0 speed',\n",
    "    'title': 'Wind speed anomaly, JJA, SOM'\n",
    "}\n",
    "fig, ax = sps.plots.plot_map(\n",
    "    [[node.pos[0], node.pos[1]] for node in net.nodes_list],\n",
    "    meandiff,\n",
    "    net.polygons, show=False, **kwargs\n",
    ")\n",
    "plt.draw()\n",
    "fcs = ax.collections[0].get_facecolors()\n",
    "# for i, node in enumerate(net.nodes_list):\n",
    "#     t = ax.text(node.pos[0], node.pos[1], s=i, ha='center', va='center', fontweight='bold', bbox=dict(boxstyle='square', edgecolor=fcs[i], facecolor='white', pad=0.1))"
   ]
  },
  {
   "cell_type": "code",
   "execution_count": 9,
   "id": "110727bb-63ec-448d-beb0-f3ed66691f83",
   "metadata": {},
   "outputs": [
    {
     "data": {
      "image/png": "[encoded data removed]",
      "text/plain": [
       "<Figure size 500x500 with 2 Axes>"
      ]
     },
     "metadata": {},
     "output_type": "display_data"
    },
    {
     "name": "stdout",
     "output_type": "stream",
     "text": [
      "time: 942 ms\n"
     ]
    }
   ],
   "source": [
    "c = []\n",
    "for i in range(nx * ny):\n",
    "    s = pd.Series(indices == i)\n",
    "    c.append((~s).cumsum()[s].value_counts().mean())\n",
    "    \n",
    "diff = np.gradient(projected, axis=0)\n",
    "diff = np.sqrt(diff[:, 0] ** 2 + diff[:, 1] ** 2)\n",
    "meandiff = [np.mean(diff[indices==i]) for i in range(len(net.nodes_list))]\n",
    "kwargs = {\n",
    "    'cmap': cm.get_cmap('inferno').reversed(),\n",
    "    'cbar_label': 'Avg. residence time',\n",
    "    'title': 'Wind speed anomaly, JJA, SOM'\n",
    "}\n",
    "fig, ax = sps.plots.plot_map(\n",
    "    [[node.pos[0], node.pos[1]] for node in net.nodes_list],\n",
    "    c, net.polygons, show=False, **kwargs, levels=[0, 1, 2, 3, 4, 5, 6, 7]\n",
    ")\n",
    "plt.draw()\n",
    "fcs = ax.collections[0].get_facecolors()\n",
    "# for i, node in enumerate(net.nodes_list):\n",
    "#     t = ax.text(node.pos[0], node.pos[1], s=i, ha='center', va='center', fontweight='bold', bbox=dict(boxstyle='square', edgecolor=fcs[i], facecolor='white', pad=0.1))"
   ]
  },
  {
   "cell_type": "code",
   "execution_count": 12,
   "id": "992dee84-3e20-4f32-bf43-27741ff51670",
   "metadata": {},
   "outputs": [
    {
     "data": {
      "image/png": "[encoded data removed]",
      "text/plain": [
       "<Figure size 500x500 with 2 Axes>"
      ]
     },
     "metadata": {},
     "output_type": "display_data"
    },
    {
     "name": "stdout",
     "output_type": "stream",
     "text": [
      "time: 1.73 s\n"
     ]
    }
   ],
   "source": [
    "c = []\n",
    "for i in range(nx * ny):\n",
    "    s = pd.Series(indices == i)\n",
    "    c.append((~s).cumsum()[s].value_counts().max())\n",
    "    \n",
    "diff = np.gradient(projected, axis=0)\n",
    "diff = np.sqrt(diff[:, 0] ** 2 + diff[:, 1] ** 2)\n",
    "meandiff = [np.mean(diff[indices==i]) for i in range(len(net.nodes_list))]\n",
    "kwargs = {\n",
    "    'cmap': cm.get_cmap('inferno').reversed(),\n",
    "    'cbar_label': 'Max. residence time',\n",
    "    'title': 'Wind speed anomaly, JJA, SOM'\n",
    "}\n",
    "fig, ax = sps.plots.plot_map(\n",
    "    [[node.pos[0], node.pos[1]] for node in net.nodes_list],\n",
    "    c, net.polygons, show=False, **kwargs\n",
    ")\n",
    "plt.draw()\n",
    "fcs = ax.collections[0].get_facecolors()\n",
    "for i, node in enumerate(net.nodes_list):\n",
    "    t = ax.text(node.pos[0], node.pos[1], s=i, ha='center', va='center', fontweight='bold', bbox=dict(boxstyle='square', edgecolor=fcs[i], facecolor='white', pad=0.1))"
   ]
  },
  {
   "cell_type": "code",
   "execution_count": 235,
   "id": "d5d2e875",
   "metadata": {},
   "outputs": [
    {
     "data": {
      "image/png": "[encoded data removed]",
      "text/plain": [
       "<Figure size 500x500 with 2 Axes>"
      ]
     },
     "metadata": {},
     "output_type": "display_data"
    },
    {
     "name": "stdout",
     "output_type": "stream",
     "text": [
      "time: 976 ms\n"
     ]
    }
   ],
   "source": [
    "j = np.random.randint(0, 98)\n",
    "\n",
    "kwargs = {\n",
    "    'cmap': cm.get_cmap('inferno').reversed(),\n",
    "    'cbar_label': f'Distance from i={j}',\n",
    "    'title': 'Wind speed anomaly, JJA, SOM',\n",
    "    'levels': np.arange(15)\n",
    "}\n",
    "\n",
    "distances = hexagonal_grid_distance(np.arange(99), j, nx)\n",
    "\n",
    "fig, ax = sps.plots.plot_map(\n",
    "    [[node.pos[0], node.pos[1]] for node in net.nodes_list],\n",
    "    distances, net.polygons, show=False, **kwargs\n",
    ")\n",
    "plt.draw()\n",
    "fcs = ax.collections[0].get_facecolors()\n",
    "for i, node in enumerate(net.nodes_list):\n",
    "    t = ax.text(node.pos[0], node.pos[1], s=i, ha='center', va='center', fontweight='bold', bbox=dict(boxstyle='square', edgecolor=fcs[i], facecolor='white', pad=0.1))\n",
    "    if i == j:\n",
    "        t.set_color('red')"
   ]
  },
  {
   "cell_type": "code",
   "execution_count": 272,
   "id": "c17af0ee",
   "metadata": {},
   "outputs": [
    {
     "name": "stdout",
     "output_type": "stream",
     "text": [
      "time: 962 ms\n"
     ]
    }
   ],
   "source": [
    "from somperf.metrics import combined_error, distortion, quantization_error, topographic_error\n",
    "from somperf.utils.neighborhood import gaussian_neighborhood\n",
    "from functools import partial"
   ]
  },
  {
   "cell_type": "code",
   "execution_count": 268,
   "id": "9e845687",
   "metadata": {},
   "outputs": [
    {
     "name": "stdout",
     "output_type": "stream",
     "text": [
      "time: 1min 23s\n"
     ]
    }
   ],
   "source": [
    "som = np.asarray([node.weights for node in net.nodes_list])\n",
    "dist_fun = partial(hexagonal_grid_distance, nx=nx)\n",
    "sigma = net.sigma\n",
    "k = 100\n",
    "d = euclidean_distances(x, som)\n",
    "prec_dist = hexagonal_grid_distance(np.arange(nx * ny), np.arange(nx * ny), nx)\n",
    "ce = combined_error(dist_fun, som, d=d)\n",
    "di = distortion(dist_fun, gaussian_neighborhood(sigma), d=d)\n",
    "kse = kruskal_shepard_error_vectorized(prec_dist, x, som, d)\n",
    "qe = quantization_error(d=d)\n",
    "te = topographic_error(dist_fun, d=d)\n",
    "npr, tr = neighborhood_preservation_trustworthiness_vectorized(k, som, x, d)"
   ]
  },
  {
   "cell_type": "code",
   "execution_count": null,
   "id": "50366e97",
   "metadata": {},
   "outputs": [],
   "source": [
    "iterator_size = enumerate(zip([1, 3, 5, 7, 9, 11, 11], [13, 4, 6, 8, 11, 13, 1]))\n",
    "for _, (nx, ny) in iterator_size:\n",
    "    print(nx, ny, end=' ')\n",
    "    t = timer.time()\n",
    "    net = sps.SOMNet(\n",
    "        nx, ny, reduced, topology='hexagonal', \n",
    "        init='PCA', metric='cosine',\n",
    "        neighborhood_fun='gaussian', PBC=True,\n",
    "        random_seed=32, GPU=False, CUML=False,\n",
    "        output_path=\"./\"\n",
    "    )\n",
    "    net.train(\n",
    "        train_algo='batch', start_learning_rate=0.01, epochs=-1, \n",
    "        batch_size=100\n",
    "    )\n",
    "    ttt = timer.time() - t\n",
    "    filename = f'{DATADIR}/SOMs/trained_som_{reduced.shape[1]}_{nx}_{ny}'\n",
    "    net.save_map(f'{filename}.npy')\n",
    "    som = np.asarray([node.weights for node in net.nodes_list])\n",
    "    dist_fun = partial(hexagonal_grid_distance, nx=nx)\n",
    "    sigma = net.sigma\n",
    "    k = 100\n",
    "    d = euclidean_distances(x, som)\n",
    "    prec_dist = hexagonal_grid_distance(np.arange(nx * ny), np.arange(nx * ny), nx)\n",
    "    ce = combined_error(dist_fun, som, d=d)\n",
    "    di = distortion(dist_fun, gaussian_neighborhood(sigma), d=d)\n",
    "    kse = kruskal_shepard_error_vectorized(prec_dist, x, som, d)\n",
    "    qe = quantization_error(d=d)\n",
    "    te = topographic_error(dist_fun, d=d)\n",
    "    npr, tr = neighborhood_preservation_trustworthiness_vectorized(k, som, x, d)\n",
    "    perf = {\n",
    "        'combined error': ce, 'distortion': di, 'kruskal_shepard_error': kse, 'quantization error': qe, 'topographic error': te, \n",
    "        'neighborhood preservation': npr, 'trustworthiness': te, 'time_to_train': ttt,\n",
    "    }\n",
    "    with open(f'{filename}.pkl', 'wb') as handle:\n",
    "        pkl.dump(perf, handle)\n",
    "    print(f'{timer.time() - t:.2f}s')"
   ]
  },
  {
   "cell_type": "code",
   "execution_count": 320,
   "id": "21defc02",
   "metadata": {},
   "outputs": [
    {
     "data": {
      "image/png": "[encoded data removed]",
      "text/plain": [
       "<Figure size 1800x1000 with 8 Axes>"
      ]
     },
     "metadata": {},
     "output_type": "display_data"
    },
    {
     "name": "stdout",
     "output_type": "stream",
     "text": [
      "time: 3.2 s\n"
     ]
    }
   ],
   "source": [
    "fix, axes = plt.subplots(2, 4, tight_layout=True, figsize=(18, 10), sharex=True)\n",
    "axes = axes.flatten()\n",
    "iterator_size = enumerate(zip([1, 3, 5, 7, 9, 11, 11], [13, 4, 6, 8, 11, 13, 1]))\n",
    "sizes = [f'${nx}' + r'\\times' + f'{ny}$' for _, (nx, ny) in iterator_size]\n",
    "iterator_size = enumerate(zip([1, 3, 5, 7, 9, 11, 11], [13, 4, 6, 8, 11, 13, 1]))\n",
    "for i, (nx, ny) in iterator_size:\n",
    "    filename = f'{DATADIR}/SOMs/trained_som_{reduced.shape[1]}_{nx}_{ny}'\n",
    "    with open(f'{filename}.pkl', 'rb') as handle:\n",
    "        perf = pkl.load(handle)\n",
    "    for j, value in enumerate(perf.values()):\n",
    "        axes[j].bar(i, value, width=0.8, color=COLORS10[j])\n",
    "for j, key in enumerate(perf.keys()):\n",
    "    axes[j].set_title(key)\n",
    "    axes[j].set_xlabel('SOM size')\n",
    "    axes[j].set_xticks(np.arange(len(sizes)))\n",
    "    axes[j].set_xticklabels(sizes)"
   ]
  },
  {
   "cell_type": "code",
   "execution_count": null,
   "id": "582683aa-79ce-4fdb-886d-67f27fcdcd27",
   "metadata": {},
   "outputs": [],
   "source": [
    "thisda = xr.open_dataarray(f\"{path}/s_detrended.nc\")\n",
    "thisda = thisda.isel(time=thisda.time.dt.season==\"JJA\")\n",
    "centers = xr.DataArray(\n",
    "    pca_results.inverse_transform([node.weights for node in net.nodes_list]).reshape(ny, nx, *thisda.shape[1:]), \n",
    "    coords={\"y\": np.arange(ny), \"x\": np.arange(nx), \"lat\": thisda.lat.values, \"lon\": thisda.lon.values},\n",
    ") / np.sqrt(degcos(thisda.lat))\n",
    "to_plot = [centers.isel(x=i, y=j) for j in range(ny) for i in range(nx - 1, -1, -1)]"
   ]
  },
  {
   "cell_type": "code",
   "execution_count": null,
   "id": "155e6bb7-bf93-4b35-a1ac-4268ed557d47",
   "metadata": {},
   "outputs": [],
   "source": [
    "fig, axes, cbar = clusterplot(nx, ny, to_plot, 9, 8, cbar_ylabel=\"S300 [m/s]\", clabels=[0])\n",
    "axes = axes.reshape(nx, ny)\n",
    "for i in range(nx):\n",
    "    for j in range(ny):\n",
    "        axes[i, j].set_title(f'Diff : {net.nodes_list[j * nx + (nx - i - 1)].difference:.4f}, Pop : {np.sum(indices==j * nx + (nx - i - 1))}')\n",
    "plt.show()"
   ]
  },
  {
   "cell_type": "markdown",
   "id": "47811919-a264-4ff3-881f-94f06ca2a5f9",
   "metadata": {
    "jp-MarkdownHeadingCollapsed": true,
    "tags": []
   },
   "source": [
    "## S300, kmedoids"
   ]
  },
  {
   "cell_type": "code",
   "execution_count": null,
   "id": "2cb88130-3171-4f92-9db0-848a5e11aa4b",
   "metadata": {
    "tags": []
   },
   "outputs": [],
   "source": [
    "n_clu = 3\n",
    "variable = \"Wind\"\n",
    "level = \"300\"\n",
    "region = \"box_-60_30_15_80\"\n",
    "dataset = \"ERA5\"\n",
    "path = f\"{DATADIR}/{dataset}/{variable}/{level}/{region}\"\n",
    "thisda = xr.open_dataarray(f\"{path}/s_detrended.nc\")\n",
    "thisda = thisda.isel(time=thisda.time.dt.season==\"JJA\")\n",
    "tbt = (thisda * np.sqrt(degcos(thisda.lat))).values.reshape(len(thisda.time), -1)\n",
    "diss = euclidean_distances(tbt)\n",
    "results = kmedoids.fasterpam(diss, n_clu)\n",
    "with open(f\"{path}/kmed3_detrended_JJA_sqrtcos.pkl\", \"wb\") as handle:\n",
    "    pkl.dump(results, handle)\n",
    "# results = KMeans(n_clu, n_init=\"auto\").fit(tbt)\n",
    "# with open(f\"{path}/kmeans_ERA5_detrended_summer.pkl\", \"wb\") as handle:\n",
    "#     pkl.dump(results, handle)"
   ]
  },
  {
   "cell_type": "code",
   "execution_count": null,
   "id": "f48b02b1-ac37-45f7-bcad-93817d632a21",
   "metadata": {
    "tags": []
   },
   "outputs": [],
   "source": [
    "variable = \"Wind\"\n",
    "level = \"300\"\n",
    "region = \"box_-60_30_15_80\"\n",
    "dataset = \"ERA5\"\n",
    "path = f\"{DATADIR}/{dataset}/{variable}/{level}/{region}\"\n",
    "with open(f\"{path}/kmed3_detrended_JJA_sqrtcos.pkl\", \"rb\") as handle:\n",
    "    results = pkl.load(handle)\n",
    "thisda = xr.open_dataarray(f\"{path}/s_detrended.nc\")\n",
    "thisda = thisda.isel(time=thisda.time.dt.season==\"JJA\")\n",
    "n_clu = len(results.medoids)\n",
    "centers = thisda.isel(time=results.medoids).rename({'time': 'cluster'}).assign_coords({'cluster': np.arange(n_clu)})\n",
    "to_plot = [centers.isel(cluster=i) for i in range(n_clu)]\n",
    "fig, axes, cbar = clusterplot(1, n_clu, to_plot, 9, 16, cbar_ylabel=\"S300 [m/s]\", clabels=[0])\n",
    "plt.show()"
   ]
  },
  {
   "cell_type": "code",
   "execution_count": null,
   "id": "6ecd1596-7bb2-4be2-a47c-942ae09700ae",
   "metadata": {},
   "outputs": [],
   "source": [
    "variable = \"Wind\"\n",
    "level = \"300\"\n",
    "region = \"box_-60_30_15_80\"\n",
    "dataset = \"ERA5\"\n",
    "path = f\"{DATADIR}/{dataset}/{variable}/{level}/{region}\"\n",
    "with open(f\"{path}/kmed3_detrended_JJA_sqrtcos.pkl\", \"rb\") as handle:\n",
    "    results = pkl.load(handle)\n",
    "thisda = xr.open_dataarray(f\"{path}/s_detrended.nc\")\n",
    "thisda = thisda.isel(time=thisda.time.dt.season==\"JJA\")\n",
    "n_clu = len(results.medoids)\n",
    "centers = thisda.isel(time=results.medoids).rename({'time': 'cluster'}).assign_coords({'cluster': np.arange(n_clu)})\n",
    "to_plot = [centers.isel(cluster=i) for i in range(n_clu)]\n",
    "fig, axes, cbar = clusterplot(1, n_clu, to_plot, 9, 16, cbar_ylabel=\"S300 [m/s]\", clabels=[0])\n",
    "plt.show()"
   ]
  },
  {
   "cell_type": "code",
   "execution_count": null,
   "id": "6c35a1d1-4736-47d1-a594-d66671a74e47",
   "metadata": {},
   "outputs": [],
   "source": [
    "[np.mean(results.labels == i) for i in range(n_clu)]"
   ]
  },
  {
   "cell_type": "markdown",
   "id": "463f05bb-d1b0-473d-98e2-730e6d4d6790",
   "metadata": {
    "jp-MarkdownHeadingCollapsed": true,
    "tags": []
   },
   "source": [
    "### Predict hot spells"
   ]
  },
  {
   "cell_type": "code",
   "execution_count": null,
   "id": "ca889b7a-5da9-4019-9da8-de84b46f0f65",
   "metadata": {
    "tags": []
   },
   "outputs": [],
   "source": [
    "n_clu=3\n",
    "variable = \"Wind\"\n",
    "level = \"300\"\n",
    "region = \"north_atlantic\"\n",
    "dataset = \"ERA5\"\n",
    "path = f\"{DATADIR}/{dataset}/{variable}/{level}/{region}\"\n",
    "with open(f\"{path}/kmeans_ERA5_detrended_summer.pkl\", \"rb\") as handle:\n",
    "    results = pkl.load(handle)"
   ]
  },
  {
   "cell_type": "code",
   "execution_count": null,
   "id": "06df0abf-fd0a-4071-91fb-5031100de6a3",
   "metadata": {
    "tags": []
   },
   "outputs": [],
   "source": [
    "list_of_dates = np.loadtxt(\"hotspells.csv\", delimiter=\",\", dtype=np.datetime64)\n",
    "hotspells_clusters = {}\n",
    "keys = [\"South\", \"West\", \"Balkans\", \"Scandinavia\", \"Russia\", \"Arctic\"]\n",
    "detrended = xr.open_dataarray(f\"{path}/detrended.nc\") # Don't limit to summer here\n",
    "minus = 21\n",
    "plus = 5\n",
    "for j, key in enumerate(keys):\n",
    "    dates = np.sort(list_of_dates[:, j])\n",
    "    dates = dates[~(np.isnat(dates) | (np.datetime_as_string(dates, unit=\"Y\") == \"2022\"))]\n",
    "    hotspells_clusters[key] = []\n",
    "    for i, date in enumerate(dates):\n",
    "        tsta = date - np.timedelta64(minus, \"D\") + np.timedelta64(9, \"h\")\n",
    "        tend = date + np.timedelta64(plus, \"D\") + np.timedelta64(9, \"h\")\n",
    "        to_predict = detrended.sel(time=pd.date_range(tsta, tend, freq=\"1D\"))\n",
    "        to_predict = to_predict.values.reshape(len(to_predict.time), -1)\n",
    "        hotspells_clusters[key].append(results.predict(to_predict))\n",
    "    hotspells_clusters[key] = xr.DataArray(\n",
    "        np.stack(hotspells_clusters[key]).transpose(), \n",
    "        coords={\"time\": np.arange(-minus, plus + 1), \"hotspell\": dates}\n",
    "    )\n",
    "with open(f\"{path}/hotspells_clusters.pkl\", \"wb\") as handle:\n",
    "    pkl.dump(hotspells_clusters, handle)"
   ]
  },
  {
   "cell_type": "code",
   "execution_count": null,
   "id": "ca6d82c4-37fe-45b1-8ba4-7ae970210d94",
   "metadata": {
    "tags": []
   },
   "outputs": [],
   "source": [
    "%matplotlib inline\n",
    "with open(f\"{path}/hotspells_clusters.pkl\", \"rb\") as handle:\n",
    "    hotspells_clusters = pkl.load(handle)\n",
    "hot_time = hotspells_clusters[\"South\"].time.values\n",
    "to_plot = np.zeros((2, len(keys), 2 * len(hot_time)))\n",
    "cmaps = [\"Blues\", \"Greens\", \"Reds\", \"Purples\"]\n",
    "for i in range(3):\n",
    "    for j, (key, value) in enumerate(hotspells_clusters.items()):\n",
    "        to_plot[int(i <= 1), j, (i % 2)::2] = i + (value == i).mean(dim=\"hotspell\").values\n",
    "class HandlerColormap(HandlerBase): # https://stackoverflow.com/questions/55501860/how-to-put-multiple-colormap-patches-in-a-matplotlib-legend\n",
    "    def __init__(self, cmap, num_stripes=8, **kw):\n",
    "        HandlerBase.__init__(self, **kw)\n",
    "        self.cmap = cmap\n",
    "        self.num_stripes = num_stripes\n",
    "    def create_artists(self, legend, orig_handle, xdescent, ydescent, width, height, fontsize, trans):\n",
    "        stripes = []\n",
    "        for i in range(self.num_stripes):\n",
    "            s = Rectangle(\n",
    "                [xdescent + i * width / self.num_stripes, ydescent], \n",
    "                width / self.num_stripes, \n",
    "                height, \n",
    "                fc=self.cmap((2 * i + 1) / (2 * self.num_stripes)), \n",
    "                transform=trans,\n",
    "            )\n",
    "            stripes.append(s)\n",
    "        return stripes\n",
    "\n",
    "cmaps = [mpl.colormaps[cmap].resampled(256) for cmap in [\"Blues\", \"Greens\", \"Reds\", \"Purples\"]]\n",
    "cmap = ListedColormap(np.concatenate([cmap(np.linspace(0, 1, 256)) for cmap in cmaps]))\n",
    "\n",
    "fig, axes = plt.subplots(len(keys), 1, figsize=(15, 5))\n",
    "norm = Normalize(0, len(cmaps))\n",
    "for j, ax in enumerate(axes):\n",
    "    ax.set_yticks([1])\n",
    "    ax.set_yticklabels([list(hotspells_clusters.keys())[j]])\n",
    "    if j==len(axes) - 1:\n",
    "        ax.set_xticks(np.arange(hot_time[0] + 0.5, hot_time[-1] + 1.5))\n",
    "        ax.set_xticklabels(np.arange(hot_time[0], hot_time[-1] + 1))\n",
    "        ax.set_xlabel(\"Days around center\")\n",
    "    else:\n",
    "        ax.set_xticks([])\n",
    "    ax.set_frame_on(False)\n",
    "    for i in range(2):\n",
    "        ax.pcolormesh(\n",
    "            np.arange(hot_time[0], hot_time[-1] + 1.1, .5), \n",
    "            np.arange(3), to_plot[:, j].reshape(2, len(hot_time) * 2), \n",
    "            cmap=cmap, norm=norm\n",
    "        )\n",
    "    ax.vlines(np.arange(hot_time[0] + 1, hot_time[-1] + 1), 0, 2, color=\"white\", lw=4)\n",
    "cmap_handles = [Rectangle((0, 0), 3, 1) for _ in cmaps]\n",
    "handler_map = dict(zip(cmap_handles, [HandlerColormap(cm, num_stripes=20) for cm in cmaps]))\n",
    "cmap_labels = [f\"regime {k + 1}\" for k in range(4)]\n",
    "axes[-1].legend(\n",
    "    handles=cmap_handles, \n",
    "    labels=cmap_labels, \n",
    "    handler_map=handler_map, \n",
    "    fontsize=12,\n",
    "    bbox_to_anchor=(1.13, 4.2),\n",
    "    loc=\"upper right\",\n",
    ")\n",
    "plt.subplots_adjust(hspace=0.1)"
   ]
  },
  {
   "cell_type": "code",
   "execution_count": null,
   "id": "94240953-df83-4a1c-b327-ea62160a56e1",
   "metadata": {
    "tags": []
   },
   "outputs": [],
   "source": [
    "%matplotlib inline\n",
    "with open(f\"{path}/hotspells_clusters.pkl\", \"rb\") as handle:\n",
    "    hotspells_clusters = pkl.load(handle)\n",
    "with open(f\"{path}/kmeans_ERA5_detrended_summer.pkl\", \"rb\") as handle:\n",
    "    results = pkl.load(handle)\n",
    "abs_freq = [np.mean(results.labels_ == i) for i in range(n_clu)]\n",
    "hot_time = hotspells_clusters[\"South\"].time.values\n",
    "to_plot = np.zeros((n_clu, len(hotspells_clusters), len(hot_time)))\n",
    "cmaps = [\"Blues\", \"Greens\", \"Reds\", \"Purples\"]\n",
    "for i in range(n_clu):\n",
    "    for j, (key, value) in enumerate(hotspells_clusters.items()):\n",
    "        to_plot[i, j] = abs_freq[i] - (value == i).mean(dim=\"hotspell\").values\n",
    "\n",
    "fig, axes = plt.subplots(len(hotspells_clusters), 1, figsize=(15, 8), sharex=True)\n",
    "fig.subplots_adjust(hspace=0, wspace=0, left=0.06)\n",
    "for j, key in enumerate(hotspells_clusters):\n",
    "    ax = axes[j]\n",
    "#     ax.spines[[\"left\", \"right\"]].set_visible(False)\n",
    "    for i in range(n_clu):\n",
    "        ax.plot(hot_time, to_plot[i, j], lw=2, color=COLORS5[i], label=f\"Regime {i + 1}\")\n",
    "    ax.set_ylim([-0.5, 0.5])\n",
    "    ax.set_yticks([-0.25, 0, 0.25])\n",
    "    ax.set_yticklabels([-25, 0, 25])\n",
    "    ax.text(-20.8, 0.21, key, fontweight=\"bold\")\n",
    "    ax.grid()\n",
    "fig.supylabel('Regime relative occurence [%]')\n",
    "ax.set_xlabel(\"Time around center [Days]\")\n",
    "ax.set_xlim([-21, 5])\n",
    "ax.legend(bbox_to_anchor=(1.12, 3.53),)"
   ]
  },
  {
   "cell_type": "markdown",
   "id": "f748df38",
   "metadata": {
    "jp-MarkdownHeadingCollapsed": true,
    "tags": []
   },
   "source": [
    "## Z500"
   ]
  },
  {
   "cell_type": "code",
   "execution_count": null,
   "id": "716f7b7c",
   "metadata": {
    "tags": []
   },
   "outputs": [],
   "source": [
    "n_clu = 4\n",
    "variable = \"Wind\"\n",
    "level = \"300\"\n",
    "region = \"north_atlantic\"\n",
    "dataset = \"ERA5\"\n",
    "path = f\"{DATADIR}/{dataset}/{variable}/{level}/{region}\"\n",
    "# path = detrend(dataset, variable, level, region)\n",
    "thisda = xr.open_dataarray(f\"{path}/detrended.nc\")\n",
    "thisda = thisda.isel(time=thisda.time.dt.season==\"JJA\")\n",
    "tbt = (thisda * np.sqrt(degcos(thisda.lat))).values.reshape(len(thisda.time), -1)\n",
    "results = KMeans(n_clu, n_init=\"auto\").fit(tbt)\n",
    "with open(f\"{path}/kmeans_ERA5_detrended_summer.pkl\", \"wb\") as handle:\n",
    "    pkl.dump(results, handle)"
   ]
  },
  {
   "cell_type": "code",
   "execution_count": null,
   "id": "01212676",
   "metadata": {
    "tags": []
   },
   "outputs": [],
   "source": [
    "variable = \"Geopotential\"\n",
    "level = \"500\"\n",
    "region = \"north_atlantic\"\n",
    "dataset = \"ERA5\"\n",
    "path = f\"{DATADIR}/{dataset}/{variable}/{level}/{region}\"\n",
    "with open(f\"{path}/kmeans_ERA5_detrended_summer.pkl\", \"rb\") as handle:\n",
    "    results = pkl.load(handle)\n",
    "n_clu = len(results.cluster_centers_)\n",
    "thisda = xr.open_dataarray(f\"{path}/detrended.nc\")\n",
    "thisda = thisda.isel(time=thisda.time.dt.season==\"JJA\")\n",
    "centers = xr.DataArray(\n",
    "    results.cluster_centers_.reshape(n_clu, *thisda.shape[1:]), \n",
    "    coords={\"cluster\": np.arange(n_clu), \"lat\": thisda.lat.values, \"lon\": thisda.lon.values},\n",
    ") / np.sqrt(degcos(thisda.lat))\n",
    "to_plot = [centers.isel(cluster=i) for i in range(n_clu)]\n",
    "fig, axes, cbar = clusterplot(2, 2, to_plot, 11, 150, cbar_ylabel=\"Z500 [m]\", clabels=False)\n",
    "plt.show()"
   ]
  },
  {
   "cell_type": "markdown",
   "id": "02d8a4d4",
   "metadata": {
    "jp-MarkdownHeadingCollapsed": true,
    "tags": []
   },
   "source": [
    "### Predict hot spells"
   ]
  },
  {
   "cell_type": "code",
   "execution_count": null,
   "id": "5bed2f67",
   "metadata": {
    "tags": []
   },
   "outputs": [],
   "source": [
    "variable = \"Wind\"\n",
    "level = \"300\"\n",
    "region = \"north_atlantic\"\n",
    "dataset = \"ERA5\"\n",
    "path = f\"{DATADIR}/{dataset}/{variable}/{level}/{region}\"\n",
    "with open(f\"{path}/kmeans_ERA5_detrended_summer.pkl\", \"rb\") as handle:\n",
    "    results = pkl.load(handle)"
   ]
  },
  {
   "cell_type": "code",
   "execution_count": null,
   "id": "f593c0c0",
   "metadata": {
    "tags": []
   },
   "outputs": [],
   "source": [
    "list_of_dates = np.loadtxt(\"hotspells.csv\", delimiter=\",\", dtype=np.datetime64)\n",
    "hotspells_clusters = {}\n",
    "keys = [\"South\", \"West\", \"Balkans\", \"Scandinavia\", \"Russia\", \"Arctic\"]\n",
    "detrended = xr.open_dataarray(f\"{path}/detrended.nc\") # Don't limit to summer here\n",
    "minus = 21\n",
    "plus = 5\n",
    "for j, key in enumerate(keys):\n",
    "    dates = np.sort(list_of_dates[:, j])\n",
    "    dates = dates[~(np.isnat(dates) | (np.datetime_as_string(dates, unit=\"Y\") == \"2022\"))]\n",
    "    hotspells_clusters[key] = []\n",
    "    for i, date in enumerate(dates):\n",
    "        tsta = date - np.timedelta64(minus, \"D\") + np.timedelta64(9, \"h\")\n",
    "        tend = date + np.timedelta64(plus, \"D\") + np.timedelta64(9, \"h\")\n",
    "        to_predict = detrended.sel(time=pd.date_range(tsta, tend, freq=\"1D\"))\n",
    "        to_predict = to_predict.values.reshape(len(to_predict.time), -1)\n",
    "        hotspells_clusters[key].append(results.predict(to_predict))\n",
    "    hotspells_clusters[key] = xr.DataArray(\n",
    "        np.stack(hotspells_clusters[key]).transpose(), \n",
    "        coords={\"time\": np.arange(-minus, plus + 1), \"hotspell\": dates}\n",
    "    )\n",
    "with open(f\"{path}/hotspells_clusters.pkl\", \"wb\") as handle:\n",
    "    pkl.dump(hotspells_clusters, handle)"
   ]
  },
  {
   "cell_type": "code",
   "execution_count": null,
   "id": "94dc126d",
   "metadata": {
    "tags": []
   },
   "outputs": [],
   "source": [
    "%matplotlib inline\n",
    "with open(f\"{path}/hotspells_clusters.pkl\", \"rb\") as handle:\n",
    "    hotspells_clusters = pkl.load(handle)\n",
    "hot_time = hotspells_clusters[\"South\"].time.values\n",
    "to_plot = np.zeros((n_clu // 2, len(keys), 2 * len(hot_time)))\n",
    "cmaps = [\"Blues\", \"Greens\", \"Reds\", \"Purples\"]\n",
    "for i in range(4):\n",
    "    for j, (key, value) in enumerate(hotspells_clusters.items()):\n",
    "        to_plot[int(i <= 1), j, (i % 2)::2] = i + (value == i).mean(dim=\"hotspell\").values\n",
    "class HandlerColormap(HandlerBase): # https://stackoverflow.com/questions/55501860/how-to-put-multiple-colormap-patches-in-a-matplotlib-legend\n",
    "    def __init__(self, cmap, num_stripes=8, **kw):\n",
    "        HandlerBase.__init__(self, **kw)\n",
    "        self.cmap = cmap\n",
    "        self.num_stripes = num_stripes\n",
    "    def create_artists(self, legend, orig_handle, xdescent, ydescent, width, height, fontsize, trans):\n",
    "        stripes = []\n",
    "        for i in range(self.num_stripes):\n",
    "            s = Rectangle(\n",
    "                [xdescent + i * width / self.num_stripes, ydescent], \n",
    "                width / self.num_stripes, \n",
    "                height, \n",
    "                fc=self.cmap((2 * i + 1) / (2 * self.num_stripes)), \n",
    "                transform=trans,\n",
    "            )\n",
    "            stripes.append(s)\n",
    "        return stripes\n",
    "\n",
    "cmaps = [mpl.colormaps[cmap].resampled(256) for cmap in [\"Blues\", \"Greens\", \"Reds\", \"Purples\"]]\n",
    "cmap = ListedColormap(np.concatenate([cmap(np.linspace(0, 1, 256)) for cmap in cmaps]))\n",
    "\n",
    "fig, axes = plt.subplots(len(keys), 1, figsize=(15, 5))\n",
    "norm = Normalize(0, len(cmaps))\n",
    "for j, ax in enumerate(axes):\n",
    "    ax.set_yticks([1])\n",
    "    ax.set_yticklabels([list(hotspells_clusters.keys())[j]])\n",
    "    if j==len(axes) - 1:\n",
    "        ax.set_xticks(np.arange(hot_time[0] + 0.5, hot_time[-1] + 1.5))\n",
    "        ax.set_xticklabels(np.arange(hot_time[0], hot_time[-1] + 1))\n",
    "        ax.set_xlabel(\"Days around center\")\n",
    "    else:\n",
    "        ax.set_xticks([])\n",
    "    ax.set_frame_on(False)\n",
    "    for i in range(2):\n",
    "        ax.pcolormesh(\n",
    "            np.arange(hot_time[0], hot_time[-1] + 1.1, .5), \n",
    "            np.arange(3), to_plot[:, j].reshape(2, len(hot_time) * 2), \n",
    "            cmap=cmap, norm=norm\n",
    "        )\n",
    "    ax.vlines(np.arange(hot_time[0] + 1, hot_time[-1] + 1), 0, 2, color=\"white\", lw=4)\n",
    "cmap_handles = [Rectangle((0, 0), 3, 1) for _ in cmaps]\n",
    "handler_map = dict(zip(cmap_handles, [HandlerColormap(cm, num_stripes=20) for cm in cmaps]))\n",
    "cmap_labels = [f\"regime {k + 1}\" for k in range(4)]\n",
    "axes[-1].legend(\n",
    "    handles=cmap_handles, \n",
    "    labels=cmap_labels, \n",
    "    handler_map=handler_map, \n",
    "    fontsize=12,\n",
    "    bbox_to_anchor=(1.13, 4.2),\n",
    "    loc=\"upper right\",\n",
    ")\n",
    "plt.subplots_adjust(hspace=0.1)"
   ]
  },
  {
   "cell_type": "code",
   "execution_count": null,
   "id": "5e819982",
   "metadata": {
    "tags": []
   },
   "outputs": [],
   "source": [
    "%matplotlib inline\n",
    "with open(f\"{path}/hotspells_clusters.pkl\", \"rb\") as handle:\n",
    "    hotspells_clusters = pkl.load(handle)\n",
    "with open(f\"{path}/kmeans_ERA5_detrended.pkl\", \"rb\") as handle:\n",
    "    results = pkl.load(handle)\n",
    "n_clu = 4\n",
    "abs_freq = [np.mean(results.labels_ == i) for i in range(n_clu)]\n",
    "hot_time = hotspells_clusters[\"South\"].time.values\n",
    "to_plot = np.zeros((n_clu, len(hotspells_clusters), len(hot_time)))\n",
    "cmaps = [\"Blues\", \"Greens\", \"Reds\", \"Purples\"]\n",
    "for i in range(n_clu):\n",
    "    for j, (key, value) in enumerate(hotspells_clusters.items()):\n",
    "        to_plot[i, j] = abs_freq[i] - (value == i).mean(dim=\"hotspell\").values\n",
    "\n",
    "fig, axes = plt.subplots(len(hotspells_clusters), 1, figsize=(15, 8), sharex=True)\n",
    "fig.subplots_adjust(hspace=0, wspace=0, left=0.06)\n",
    "for j, key in enumerate(hotspells_clusters):\n",
    "    ax = axes[j]\n",
    "#     ax.spines[[\"left\", \"right\"]].set_visible(False)\n",
    "    for i in range(n_clu):\n",
    "        ax.plot(hot_time, to_plot[i, j], lw=2, color=COLORS5[i], label=f\"Regime {i + 1}\")\n",
    "    ax.set_ylim([-0.5, 0.5])\n",
    "    ax.set_yticks([-0.25, 0, 0.25])\n",
    "    ax.set_yticklabels([-25, 0, 25])\n",
    "    ax.text(-20.8, 0.21, key, fontweight=\"bold\")\n",
    "    ax.grid()\n",
    "fig.supylabel('Regime relative occurence [%]')\n",
    "ax.set_xlabel(\"Time around center [Days]\")\n",
    "ax.set_xlim([-21, 5])\n",
    "ax.legend(bbox_to_anchor=(1.12, 3.53),)"
   ]
  },
  {
   "cell_type": "markdown",
   "id": "a053d1dc",
   "metadata": {
    "jp-MarkdownHeadingCollapsed": true,
    "tags": []
   },
   "source": [
    "# PCA"
   ]
  },
  {
   "cell_type": "markdown",
   "id": "1533b17b-5054-4716-a2d5-ff0852763887",
   "metadata": {
    "jp-MarkdownHeadingCollapsed": true,
    "tags": []
   },
   "source": [
    "## S300"
   ]
  },
  {
   "cell_type": "code",
   "execution_count": null,
   "id": "04f88b79-dd28-4ba7-acae-288b192ec434",
   "metadata": {
    "tags": []
   },
   "outputs": [],
   "source": [
    "n_components = 20\n",
    "variable = \"Wind\"\n",
    "level = \"300\"\n",
    "region = \"north_atlantic\"\n",
    "dataset = \"ERA5\"\n",
    "path = f\"{DATADIR}/{dataset}/{variable}/{level}/{region}\"\n",
    "thisda = xr.open_dataarray(f\"{path}/detrended.nc\")\n",
    "thisda = thisda.isel(time=thisda.time.dt.season==\"JJA\")\n",
    "tbt = (thisda * np.sqrt(degcos(thisda.lat))).values.reshape(len(thisda.time), -1)\n",
    "pca_results = pca(n_components=n_components, whiten=True).fit(tbt)"
   ]
  },
  {
   "cell_type": "code",
   "execution_count": null,
   "id": "71d13f0d-7b89-42d8-b025-bccae63b5ea6",
   "metadata": {
    "tags": []
   },
   "outputs": [],
   "source": [
    "centers = xr.DataArray(\n",
    "    pca_results.components_.reshape(n_components, *thisda.shape[1:]), \n",
    "    coords={\"component\": np.arange(n_components), \"lat\": thisda.lat.values, \"lon\": thisda.lon.values},\n",
    ") / np.sqrt(degcos(thisda.lat))\n",
    "to_plot = [centers.isel(component=i) for i in range(n_components)]\n",
    "levels = 10\n",
    "lower, upper = -0.045, 0.045\n",
    "fig, axes, cbar = clusterplot(6, 4, to_plot, levels, 0.045)"
   ]
  },
  {
   "cell_type": "code",
   "execution_count": null,
   "id": "fa418464-4ed4-473e-a5d2-771e3a558532",
   "metadata": {
    "tags": []
   },
   "outputs": [],
   "source": [
    "with open(f\"{path}/pca_ERA5_detrended_summer.pkl\", \"wb\") as handle:\n",
    "    pkl.dump(pca_results, handle)"
   ]
  },
  {
   "cell_type": "markdown",
   "id": "8abc887e-e706-40cd-a3b8-a43e94b49c53",
   "metadata": {
    "jp-MarkdownHeadingCollapsed": true,
    "tags": []
   },
   "source": [
    "## Z500"
   ]
  },
  {
   "cell_type": "code",
   "execution_count": null,
   "id": "97521897",
   "metadata": {
    "tags": []
   },
   "outputs": [],
   "source": [
    "from sklearn.decomposition import PCA as pca\n",
    "n_components = 20\n",
    "variable = \"Geopotential\"\n",
    "level = \"500\"\n",
    "region = \"north_atlantic\"\n",
    "dataset = \"ERA5\"\n",
    "path = f\"{DATADIR}/{dataset}/{variable}/{level}/{region}\"\n",
    "thisda = xr.open_dataarray(f\"{path}/detrended.nc\")\n",
    "thisda = thisda.isel(time=thisda.time.dt.season==\"JJA\")\n",
    "tbt = (thisda * np.sqrt(degcos(thisda.lat))).values.reshape(len(thisda.time), -1)\n",
    "pca_results = pca(n_components=n_components, whiten=True).fit(tbt)"
   ]
  },
  {
   "cell_type": "code",
   "execution_count": null,
   "id": "289471f7",
   "metadata": {
    "tags": []
   },
   "outputs": [],
   "source": [
    "centers = xr.DataArray(\n",
    "    pca_results.components_.reshape(n_components, *thisda.shape[1:]), \n",
    "    coords={\"component\": np.arange(n_components), \"lat\": thisda.lat.values, \"lon\": thisda.lon.values},\n",
    ") / np.sqrt(degcos(thisda.lat))\n",
    "projection = ccrs.LambertConformal(\n",
    "    central_longitude=np.mean(thisda.lon.values),\n",
    ")\n",
    "lon = thisda[\"lon\"].values\n",
    "lat = thisda[\"lat\"].values\n",
    "fig, axes = plt.subplots(5, 4, figsize=(20, 25), subplot_kw={\"projection\": projection}, constrained_layout=True)\n",
    "extent = [np.amin(lon), np.amax(lon), np.amin(lat), np.amax(lat)]\n",
    "boundary = make_boundary_path(*extent)\n",
    "levels = 10\n",
    "cmap = \"seismic\"\n",
    "lower, upper = -0.045, 0.045\n",
    "levels = np.delete(np.append(np.linspace(lower, 0, levels), np.linspace(0, upper, levels)), [levels - 1, levels])\n",
    "cmap = cm.get_cmap(cmap)\n",
    "norm = mpl.colors.BoundaryNorm(levels, cmap.N, extend='both')\n",
    "im = cm.ScalarMappable(norm=norm, cmap=cmap)\n",
    "axes = axes.flatten()\n",
    "for i in range(n_components):\n",
    "    axes[i].contourf(\n",
    "        lon,\n",
    "        lat,\n",
    "        centers.isel(component=i), \n",
    "        transform=ccrs.PlateCarree(),\n",
    "        levels=levels, \n",
    "        cmap=cmap, \n",
    "        norm=norm,\n",
    "        extend=\"both\",\n",
    "    )\n",
    "    axes[i].contour(\n",
    "        lon,\n",
    "        lat,\n",
    "        centers.isel(component=i), \n",
    "        transform=ccrs.PlateCarree(),\n",
    "        levels=levels, \n",
    "        colors=\"k\",\n",
    "    )\n",
    "    axes[i].set_boundary(boundary, transform=ccrs.PlateCarree())\n",
    "    axes[i].add_feature(COASTLINE)\n",
    "    axes[i].add_feature(BORDERS)\n",
    "    axes[i].set_title(f\"{pca_results.explained_variance_ratio_[i] * 100:.2f} %\")\n",
    "cbar = fig.colorbar(im, ax=axes.ravel().tolist(), spacing=\"proportional\")\n",
    "cbar.ax.set_ylabel(\"Z500 [m]\")\n",
    "# _ = cbar.ax.set_yticks(np.concatenate([np.arange(-0.045, -0.004, 0.005), np.arange(0.005, 0.046, 0.005)]))\n",
    "plt.show()"
   ]
  },
  {
   "cell_type": "code",
   "execution_count": null,
   "id": "a1196389",
   "metadata": {
    "tags": []
   },
   "outputs": [],
   "source": [
    "with open(f\"{path}/pca_ERA5_detrended_summer.pkl\", \"wb\") as handle:\n",
    "    pkl.dump(pca_results, handle)"
   ]
  },
  {
   "cell_type": "markdown",
   "id": "9e63918f",
   "metadata": {
    "jp-MarkdownHeadingCollapsed": true,
    "tags": []
   },
   "source": [
    "# K means on EOFs"
   ]
  },
  {
   "cell_type": "markdown",
   "id": "1a350b39-54ee-4360-a938-6c12e7b65638",
   "metadata": {
    "jp-MarkdownHeadingCollapsed": true,
    "tags": []
   },
   "source": [
    "## S300"
   ]
  },
  {
   "cell_type": "code",
   "execution_count": null,
   "id": "f2fa166f-d8ef-4991-ba7a-f51469379d5c",
   "metadata": {
    "tags": []
   },
   "outputs": [],
   "source": [
    "variable = \"Wind\"\n",
    "level = \"300\"\n",
    "region = \"north_atlantic\"\n",
    "dataset = \"ERA5\"\n",
    "path = f\"{DATADIR}/{dataset}/{variable}/{level}/{region}\"\n",
    "with open(f\"{path}/pca_ERA5_detrended_summer.pkl\", \"rb\") as handle:\n",
    "    pca_results = pkl.load(handle)\n",
    "thisda = xr.open_dataarray(f\"{path}/detrended.nc\")\n",
    "thisda = thisda.isel(time=thisda.time.dt.season==\"JJA\")\n",
    "tbt = (thisda * np.sqrt(degcos(thisda.lat))).values.reshape(len(thisda.time), -1)\n",
    "reduced = pca_results.transform(tbt)"
   ]
  },
  {
   "cell_type": "code",
   "execution_count": null,
   "id": "65724b8c-7c06-4cf1-b848-cfb680f0f723",
   "metadata": {
    "tags": []
   },
   "outputs": [],
   "source": [
    "n_clu=3\n",
    "pca_kmeans_results = KMeans(n_clu, n_init=\"auto\").fit(reduced)"
   ]
  },
  {
   "cell_type": "code",
   "execution_count": null,
   "id": "23d17dc4-ae43-4557-8d7a-bb24d8db18c8",
   "metadata": {
    "tags": []
   },
   "outputs": [],
   "source": [
    "# with open(\"kmeans_ERA5_detrended.pkl\", \"rb\") as handle:\n",
    "#     results = pkl.load(handle)\n",
    "thisda = xr.open_dataarray(f\"{path}/detrended.nc\")\n",
    "thisda = thisda.isel(time=thisda.time.dt.season==\"JJA\")\n",
    "centers = xr.DataArray(\n",
    "    pca_results.inverse_transform(pca_kmeans_results.cluster_centers_).reshape(n_clu, *thisda.shape[1:]), \n",
    "    coords={\"cluster\": np.arange(n_clu), \"lat\": thisda.lat.values, \"lon\": thisda.lon.values},\n",
    ") / np.sqrt(degcos(thisda.lat))\n",
    "projection = ccrs.LambertConformal(\n",
    "    central_longitude=np.mean(thisda.lon.values),\n",
    ")\n",
    "lon = thisda[\"lon\"].values\n",
    "lat = thisda[\"lat\"].values\n",
    "fig, axes = plt.subplots(2, 2, figsize=(10, 7.5), subplot_kw={\"projection\": projection}, constrained_layout=True)\n",
    "extent = [np.amin(lon), np.amax(lon), np.amin(lat), np.amax(lat)]\n",
    "boundary = make_boundary_path(*extent)\n",
    "nlevels = 5\n",
    "cmap = \"seismic\"\n",
    "lower, upper = -8, 8\n",
    "levels0 = np.delete(np.append(np.linspace(lower, 0, nlevels), np.linspace(0, upper, nlevels)), nlevels - 1)\n",
    "levels = np.delete(levels0, nlevels - 1)\n",
    "cmap = cm.get_cmap(cmap)\n",
    "norm = mpl.colors.BoundaryNorm(levels, cmap.N, extend='both')\n",
    "im = cm.ScalarMappable(norm=norm, cmap=cmap)\n",
    "axes = axes.flatten()\n",
    "for i in range(n_clu):\n",
    "    axes[i].contourf(\n",
    "        lon,\n",
    "        lat,\n",
    "        centers.isel(cluster=i), \n",
    "        transform=ccrs.PlateCarree(),\n",
    "        levels=levels, cmap=cmap, norm=norm,\n",
    "        extend=\"both\",\n",
    "    )\n",
    "    cs = axes[i].contour(\n",
    "        lon,\n",
    "        lat,\n",
    "        centers.isel(cluster=i), \n",
    "        transform=ccrs.PlateCarree(),\n",
    "        levels=levels0, colors=\"k\",\n",
    "    )\n",
    "    axes[i].clabel(cs, cs.levels, inline=True, fontsize=10)\n",
    "    axes[i].set_boundary(boundary, transform=ccrs.PlateCarree())\n",
    "    axes[i].add_feature(COASTLINE)\n",
    "    axes[i].add_feature(BORDERS)\n",
    "    axes[i].set_title(f\"Regime {i + 1}, {np.sum(pca_kmeans_results.labels_ == i) / len(pca_kmeans_results.labels_) * 100:.2f}%\")\n",
    "cbar = fig.colorbar(im, ax=axes.ravel().tolist(), spacing=\"proportional\")\n",
    "cbar.ax.set_ylabel(\"Z500 [m]\")\n",
    "# _ = cbar.ax.set_yticks(np.concatenate([np.arange(-150, 20, 30), np.arange(30, 151, 30)]))\n",
    "plt.show()"
   ]
  },
  {
   "cell_type": "markdown",
   "id": "3d96f63b-6f1d-4063-97f8-913b45713e37",
   "metadata": {
    "jp-MarkdownHeadingCollapsed": true,
    "tags": []
   },
   "source": [
    "## Z500"
   ]
  },
  {
   "cell_type": "code",
   "execution_count": null,
   "id": "06ce8592",
   "metadata": {
    "tags": []
   },
   "outputs": [],
   "source": [
    "variable = \"Geopotential\"\n",
    "level = \"500\"\n",
    "region = \"north_atlantic\"\n",
    "dataset = \"ERA5\"\n",
    "path = f\"{DATADIR}/{dataset}/{variable}/{level}/{region}\"\n",
    "with open(f\"{path}/pca_ERA5_detrended_summer.pkl\", \"rb\") as handle:\n",
    "    pca_results = pkl.load(handle)\n",
    "thisda = xr.open_dataarray(f\"{path}/detrended.nc\")\n",
    "thisda = thisda.isel(time=thisda.time.dt.season==\"JJA\")\n",
    "tbt = (thisda * np.sqrt(degcos(thisda.lat))).values.reshape(len(thisda.time), -1)\n",
    "reduced = pca_results.transform(tbt)"
   ]
  },
  {
   "cell_type": "code",
   "execution_count": null,
   "id": "1d88a2c5",
   "metadata": {
    "tags": []
   },
   "outputs": [],
   "source": [
    "n_clu=4\n",
    "pca_kmeans_results = KMeans(n_clu, n_init=\"auto\").fit(reduced)"
   ]
  },
  {
   "cell_type": "code",
   "execution_count": null,
   "id": "1bab357d",
   "metadata": {
    "tags": []
   },
   "outputs": [],
   "source": [
    "# with open(\"kmeans_ERA5_detrended.pkl\", \"rb\") as handle:\n",
    "#     results = pkl.load(handle)\n",
    "thisda = xr.open_dataarray(f\"{path}/detrended.nc\")\n",
    "thisda = thisda.isel(time=thisda.time.dt.season==\"JJA\")\n",
    "centers = xr.DataArray(\n",
    "    pca_results.inverse_transform(pca_kmeans_results.cluster_centers_).reshape(n_clu, *thisda.shape[1:]), \n",
    "    coords={\"cluster\": np.arange(n_clu), \"lat\": thisda.lat.values, \"lon\": thisda.lon.values},\n",
    ") / np.sqrt(degcos(thisda.lat))\n",
    "projection = ccrs.LambertConformal(\n",
    "    central_longitude=np.mean(thisda.lon.values),\n",
    ")\n",
    "lon = thisda[\"lon\"].values\n",
    "lat = thisda[\"lat\"].values\n",
    "fig, axes = plt.subplots(2, 2, figsize=(10, 7.5), subplot_kw={\"projection\": projection}, constrained_layout=True)\n",
    "extent = [np.amin(lon), np.amax(lon), np.amin(lat), np.amax(lat)]\n",
    "boundary = make_boundary_path(*extent)\n",
    "levels = 11\n",
    "cmap = \"seismic\"\n",
    "lower, upper = -150, 150\n",
    "levels = np.delete(np.append(np.linspace(lower, 0, levels), np.linspace(0, upper, levels)), [levels - 1, levels])\n",
    "cmap = cm.get_cmap(cmap)\n",
    "norm = mpl.colors.BoundaryNorm(levels, cmap.N, extend='both')\n",
    "im = cm.ScalarMappable(norm=norm, cmap=cmap)\n",
    "axes = axes.flatten()\n",
    "for i in range(n_clu):\n",
    "    axes[i].contourf(\n",
    "        lon,\n",
    "        lat,\n",
    "        centers.isel(cluster=i), \n",
    "        transform=ccrs.PlateCarree(),\n",
    "        levels=levels, cmap=cmap, norm=norm,\n",
    "        extend=\"both\",\n",
    "    )\n",
    "    axes[i].contour(\n",
    "        lon,\n",
    "        lat,\n",
    "        centers.isel(cluster=i), \n",
    "        transform=ccrs.PlateCarree(),\n",
    "        levels=levels, colors=\"k\",\n",
    "    )\n",
    "    axes[i].set_boundary(boundary, transform=ccrs.PlateCarree())\n",
    "    axes[i].add_feature(COASTLINE)\n",
    "    axes[i].add_feature(BORDERS)\n",
    "    axes[i].set_title(f\"Regime {i + 1}, {np.sum(pca_kmeans_results.labels_ == i) / len(pca_kmeans_results.labels_) * 100:.2f}%\")\n",
    "cbar = fig.colorbar(im, ax=axes.ravel().tolist(), spacing=\"proportional\")\n",
    "cbar.ax.set_ylabel(\"Z500 [m]\")\n",
    "_ = cbar.ax.set_yticks(np.concatenate([np.arange(-150, 20, 30), np.arange(30, 151, 30)]))\n",
    "plt.show()"
   ]
  },
  {
   "cell_type": "markdown",
   "id": "7e12fe38",
   "metadata": {
    "jp-MarkdownHeadingCollapsed": true,
    "tags": []
   },
   "source": [
    "# OPP from EOFs (optimal $T_1$, TODO $T_2$) "
   ]
  },
  {
   "cell_type": "markdown",
   "id": "f2f3b7c6-3f45-47b0-a855-761eb50e11f4",
   "metadata": {
    "jp-MarkdownHeadingCollapsed": true,
    "tags": []
   },
   "source": [
    "## S300"
   ]
  },
  {
   "cell_type": "code",
   "execution_count": null,
   "id": "d0217d22-dc99-4058-8ac6-45bd21bf8a88",
   "metadata": {
    "tags": []
   },
   "outputs": [],
   "source": [
    "variable = \"Wind\"\n",
    "level = \"300\"\n",
    "region = \"north_atlantic\"\n",
    "dataset = \"ERA5\"\n",
    "path = f\"{DATADIR}/{dataset}/{variable}/{level}/{region}\"\n",
    "with open(f\"{path}/pca_ERA5_detrended_summer.pkl\", \"rb\") as handle:\n",
    "    pca_results = pkl.load(handle)\n",
    "thisda = xr.open_dataarray(f\"{path}/s_detrended.nc\")\n",
    "tbt = (thisda * np.sqrt(degcos(thisda.lat))).values.reshape(len(thisda.time), -1)\n",
    "reduced = pca_results.transform(tbt)"
   ]
  },
  {
   "cell_type": "code",
   "execution_count": null,
   "id": "8bc85c94-1589-4492-b96d-944bfae94d9f",
   "metadata": {
    "tags": []
   },
   "outputs": [],
   "source": [
    "da_reduced = xr.DataArray(reduced, coords={\"time\": thisda.time.values, \"projection\": np.arange(n_components)})\n",
    "\n",
    "lag_max = 15 # days\n",
    "autocorrs = []\n",
    "for j in range(lag_max):\n",
    "    autocorrs.append(np.cov(da_reduced.values[j:], da_reduced.shift(time=j).values[j:], rowvar=False)[n_components:, :n_components])\n",
    "\n",
    "autocorrs = np.asarray(autocorrs)\n",
    "M = autocorrs[0] + np.sum([autocorrs[i] + autocorrs[i].transpose() for i in range(1, lag_max)], axis=0)\n",
    "\n",
    "eigenvals, eigenvecs = np.linalg.eig(np.linalg.inv(autocorrs[0]) @ M)\n",
    "\n",
    "OPPs_realspace = pca_results.inverse_transform(eigenvecs)"
   ]
  },
  {
   "cell_type": "code",
   "execution_count": null,
   "id": "bed40d80-80c9-4744-9902-a7d60988147a",
   "metadata": {
    "tags": []
   },
   "outputs": [],
   "source": [
    "centers = xr.DataArray(\n",
    "    OPPs_realspace.reshape(n_components, *thisda.shape[1:]), \n",
    "    coords={\"component\": np.arange(n_components), \"lat\": thisda.lat.values, \"lon\": thisda.lon.values},\n",
    ") / np.sqrt(degcos(thisda.lat.values))[None, :, None]\n",
    "to_plot = [centers.isel(cluster=i) for i in range(n_clu)]\n",
    "fig, axes, cbar = clusterplot(1, n_clu, to_plot, 9, 16, cbar_ylabel=\"S300 [m/s]\", clabels=[0])\n",
    "for i in range(n_components):\n",
    "    axes[i].set_title(eigenvals[i])"
   ]
  },
  {
   "cell_type": "markdown",
   "id": "456a0d6d-58d7-42f3-929b-fe52817cf945",
   "metadata": {
    "jp-MarkdownHeadingCollapsed": true,
    "tags": []
   },
   "source": [
    "## Z500"
   ]
  },
  {
   "cell_type": "code",
   "execution_count": null,
   "id": "89ead43f",
   "metadata": {},
   "outputs": [],
   "source": [
    "variable = \"Geopotential\"\n",
    "level = \"500\"\n",
    "region = \"north_atlantic\"\n",
    "dataset = \"ERA5\"\n",
    "path = f\"{DATADIR}/{dataset}/{variable}/{level}/{region}\"\n",
    "with open(f\"{path}/pca_ERA5_detrended.pkl\", \"rb\") as handle:\n",
    "    pca_results = pkl.load(handle)\n",
    "thisda = xr.open_dataarray(f\"{path}/detrended.nc\")\n",
    "tbt = (thisda * np.sqrt(degcos(thisda.lat))).values.reshape(len(thisda.time), -1)\n",
    "reduced = pca_results.transform(tbt)"
   ]
  },
  {
   "cell_type": "code",
   "execution_count": null,
   "id": "f1ef5f4e",
   "metadata": {},
   "outputs": [],
   "source": [
    "da_reduced = xr.DataArray(reduced, coords={\"time\": thisda.time.values, \"projection\": np.arange(n_components)})\n",
    "\n",
    "lag_max = 15 # days\n",
    "autocorrs = []\n",
    "for j in range(lag_max):\n",
    "    autocorrs.append(np.cov(da_reduced.values[j:], da_reduced.shift(time=j).values[j:], rowvar=False)[n_components:, :n_components])\n",
    "\n",
    "autocorrs = np.asarray(autocorrs)\n",
    "M = autocorrs[0] + np.sum([autocorrs[i] + autocorrs[i].transpose() for i in range(1, lag_max)], axis=0)\n",
    "\n",
    "eigenvals, eigenvecs = np.linalg.eig(np.linalg.inv(autocorrs[0]) @ M)\n",
    "\n",
    "OPPs_realspace = pca_results.inverse_transform(eigenvecs)"
   ]
  },
  {
   "cell_type": "code",
   "execution_count": null,
   "id": "9c65cb2a",
   "metadata": {},
   "outputs": [],
   "source": [
    "centers = xr.DataArray(\n",
    "    OPPs_realspace.reshape(n_components, *thisda.shape[1:]), \n",
    "    coords={\"component\": np.arange(n_components), \"lat\": thisda.lat.values, \"lon\": thisda.lon.values},\n",
    ") / np.sqrt(degcos(thisda.lat))\n",
    "to_plot = [centers.isel(cluster=i) for i in range(n_clu)]\n",
    "fig, axes, cbar = clusterplot(1, n_clu, to_plot, 11, 0.05, cbar_ylabel=\"S300 [m/s]\", clabels=[0])\n",
    "for i in range(n_components):\n",
    "    axes[i].set_title(eigenvals[i])\n",
    "plt.show()"
   ]
  },
  {
   "cell_type": "markdown",
   "id": "d5ec4f15",
   "metadata": {
    "jp-MarkdownHeadingCollapsed": true,
    "tags": []
   },
   "source": [
    "# Hidden Markov Model"
   ]
  },
  {
   "cell_type": "code",
   "execution_count": null,
   "id": "eca7fcbd",
   "metadata": {
    "tags": []
   },
   "outputs": [],
   "source": [
    "Zoo = xr.open_dataset(f\"{DATADIR}/ERA5/processed/BarriopedroZooDetrended.nc\")\n",
    "Y = Zoo[\"Lat_detrended\"].isel(time=Zoo.time.dt.season==\"DJF\").values"
   ]
  },
  {
   "cell_type": "code",
   "execution_count": null,
   "id": "07038739",
   "metadata": {
    "tags": []
   },
   "outputs": [],
   "source": [
    "n_components = 3\n",
    "n_sel = 50\n",
    "n_sam = 4500\n",
    "means = []\n",
    "sigmas = []\n",
    "transmats = []\n",
    "for i in range(n_sel):\n",
    "    ghmm = GaussianHMM(n_components=n_components).fit(Y[:, None])\n",
    "    transmats.append(ghmm.transmat_)\n",
    "    means.append(ghmm.means_[:, 0])\n",
    "    sigmas.append(ghmm.covars_[:, 0, 0])\n",
    "# im = plt.imshow(ghmm.transmat_)\n",
    "# plt.colorbar(im)"
   ]
  },
  {
   "cell_type": "code",
   "execution_count": null,
   "id": "bab88eea",
   "metadata": {
    "tags": []
   },
   "outputs": [],
   "source": [
    "means = np.stack(means)\n",
    "sigmas = np.stack(sigmas)\n",
    "transmats = np.stack(transmats)\n",
    "idx2 = np.argsort(means, axis=1)\n",
    "means = np.take_along_axis(means, idx2, axis=1)\n",
    "sigmas = np.take_along_axis(sigmas, idx2, axis=1)\n",
    "transmatss = np.take_along_axis(transmats, idx2[:, :, np.newaxis], axis=1)\n",
    "transmatss = np.take_along_axis(transmatss, idx2[:, np.newaxis, :], axis=2)\n",
    "mean = np.mean(means, axis=0)\n",
    "sigma = np.mean(sigmas, axis=0)\n",
    "transmat = np.mean(transmatss, axis=0)\n",
    "c = np.real(np.log(np.linalg.eigvals(transmat).astype(np.complex128)))\n",
    "c[np.isclose(c, 0)] = 0\n",
    "for i in range(n_components):\n",
    "    thisnorm = normal_dist(loc=mean[i], scale=np.sqrt(sigma[i]))\n",
    "    X = np.linspace(thisnorm.ppf(0.005), thisnorm.ppf(0.995), 100)\n",
    "    plt.plot(X, thisnorm.pdf(X) / n_components, label=f\"$c={c[i]:.2f}$\")\n",
    "plt.plot(*kde(Y, season=None, bins=np.arange(-30, 30.1, 0.5), scaled=False, return_x=True, bw_method=0.2), label=\"JLI, KDE\")\n",
    "plt.legend()"
   ]
  },
  {
   "cell_type": "code",
   "execution_count": null,
   "id": "e0f24706-ea0e-418b-a5c0-c65eccfeec86",
   "metadata": {},
   "outputs": [],
   "source": [
    "meanghmm = GaussianHMM(n_components=3, covariance_type='full')\n",
    "meanghmm.transmat_ = transmat\n",
    "meanghmm.means_ = mean.reshape(3, 1)\n",
    "meanghmm.covars_ = sigma.reshape(3, 1, 1)\n",
    "meanghmm.startprob_ = [0, 0, 1]"
   ]
  },
  {
   "cell_type": "code",
   "execution_count": null,
   "id": "184616a7",
   "metadata": {},
   "outputs": [],
   "source": [
    "Zda = xr.open_dataarray(f\"{DATADIR}/ERA5/Geopotential/500/north_atlantic/detrended.nc\").isel(time=Zoo.time.dt.season==\"DJF\")\n",
    "states = meanghmm.predict(Y.reshape(-1, 1))\n",
    "to_plot = [Zda.isel(time=states==i).mean(dim=\"time\") for i in range(n_components)]\n",
    "fig, axes, cbar = clusterplot(1, n_components, to_plot, 11, 150, cbar_ylabel=\"Z500 [m]\", cmap=\"PRGn\")\n",
    "plt.show()"
   ]
  },
  {
   "cell_type": "code",
   "execution_count": null,
   "id": "8d8f7108-0284-40a6-84ea-e2bb0d1de18f",
   "metadata": {
    "tags": []
   },
   "outputs": [],
   "source": [
    "Sda = xr.open_dataarray(f\"{DATADIR}/ERA5/Wind/300/box_-90_30_30_80/s_detrended.nc\")[1:].isel(time=Zoo.time.dt.season==\"DJF\")\n",
    "states = meanghmm.predict(Y.reshape(-1, 1))\n",
    "to_plot = [Sda.isel(time=states==i).mean(dim=\"time\") for i in range(n_components)]\n",
    "fig, axes, cbar = clusterplot(1, n_components, to_plot, 7, 12, cbar_ylabel=\"S300 [m/s]\")\n",
    "plt.show()"
   ]
  },
  {
   "cell_type": "markdown",
   "id": "102631e6",
   "metadata": {},
   "source": [
    "## Length of events"
   ]
  },
  {
   "cell_type": "code",
   "execution_count": null,
   "id": "2e16d068",
   "metadata": {},
   "outputs": [],
   "source": [
    "def runs_of_ones_array(bits): # https://stackoverflow.com/questions/1066758/find-length-of-sequences-of-identical-values-in-a-numpy-array-run-length-encodi\n",
    "    # make sure all runs of ones are well-bounded\n",
    "    bounded = np.hstack(([0], bits, [0]))\n",
    "    # get 1 at run starts and -1 at run ends\n",
    "    difs = np.diff(bounded)\n",
    "    run_starts, = np.where(difs > 0)\n",
    "    run_ends, = np.where(difs < 0)\n",
    "    return run_starts, run_ends - run_starts\n",
    "\n",
    "fig, ax = plt.subplots()\n",
    "for i in range(meanghmm.n_components):\n",
    "    thisseq = states==i\n",
    "    _, durations = runs_of_ones_array(thisseq)\n",
    "    dur, occu = np.unique(durations, return_counts=True)\n",
    "    durind = np.argsort(dur)\n",
    "    dur = dur[durind]\n",
    "    occu = occu[durind] / np.amax(occu)\n",
    "    ax.plot(dur, occu, label=f\"$\\mu = {mean[i]:.2f}$° N, $c={c[i]:.2f}$\")\n",
    "ax.legend()"
   ]
  },
  {
   "cell_type": "markdown",
   "id": "482e7a61",
   "metadata": {
    "jp-MarkdownHeadingCollapsed": true,
    "tags": []
   },
   "source": [
    "# Quasi stationary states"
   ]
  },
  {
   "cell_type": "code",
   "execution_count": null,
   "id": "ef337c17",
   "metadata": {},
   "outputs": [],
   "source": [
    "# n_components = 20\n",
    "variable = \"Wind\"\n",
    "level = \"300\"\n",
    "dataset = \"ERA5\"\n",
    "region = \"box_-60_30_30_80\"\n",
    "thisda = xr.open_dataarray(f\"{path}/s_detrended.nc\")\n",
    "thisda = thisda.isel(time=thisda.time.dt.season==\"JJA\")\n",
    "tbt = (thisda * np.sqrt(degcos(thisda.lat))).values.reshape(len(thisda.time), -1)\n",
    "pca_resultsw = pca(n_components=100, whiten=True).fit(tbt)\n",
    "pca_results = pca(n_components=100, whiten=False).fit(tbt)\n",
    "plt.plot(np.cumsum(pca_results.explained_variance_ratio_))\n",
    "plt.plot(np.cumsum(pca_resultsw.explained_variance_ratio_))"
   ]
  },
  {
   "cell_type": "code",
   "execution_count": null,
   "id": "76c214c6-e198-4aaf-98dd-a94d65589844",
   "metadata": {},
   "outputs": [],
   "source": [
    "n_components = 100\n",
    "centers = xr.DataArray(\n",
    "    pca_results.components_.reshape(n_components, *thisda.shape[1:]), \n",
    "    coords={\"component\": np.arange(n_components), \"lat\": thisda.lat.values, \"lon\": thisda.lon.values},\n",
    ") / np.sqrt(degcos(thisda.lat))\n",
    "to_plot = [centers.isel(component=i) for i in range(24)]\n",
    "levels = 10\n",
    "lower, upper = -0.045, 0.045\n",
    "fig, axes, cbar = clusterplot(6, 4, to_plot, levels, 0.045)\n",
    "plt.show()"
   ]
  },
  {
   "cell_type": "markdown",
   "id": "50ec26e6",
   "metadata": {
    "tags": []
   },
   "source": [
    "# Dynamical systems theory"
   ]
  },
  {
   "cell_type": "code",
   "execution_count": null,
   "id": "ed16d787",
   "metadata": {
    "tags": []
   },
   "outputs": [],
   "source": [
    "import CDSK as ck"
   ]
  },
  {
   "cell_type": "code",
   "execution_count": null,
   "id": "2e2600d8",
   "metadata": {
    "scrolled": true
   },
   "outputs": [],
   "source": [
    "local_indices = []\n",
    "for year in YEARSPL:\n",
    "    print(year)\n",
    "    da = xr.open_dataset(f\"{DATADIR}/ERA5/Wind/300/north_atlantic/{year}.nc\")[\"u\"]\n",
    "    local_indices.append(ck.dynamical_local_indexes(da.values.reshape(len(da.time), -1, 1)))\n",
    "# todo : classify wind using Lachmy & Harnik 2016"
   ]
  },
  {
   "cell_type": "code",
   "execution_count": null,
   "id": "3e1b7592-9c87-4de1-915e-57a43b54bb8f",
   "metadata": {
    "tags": []
   },
   "outputs": [],
   "source": [
    "ld = xr.DataArray(np.concatenate([li[0].flatten() for li in local_indices]), coords={\"time\": DATERANGEPL}, name=\"ld\")\n",
    "theta = xr.DataArray(np.concatenate([li[1].flatten() for li in local_indices]), coords={\"time\": DATERANGEPL}, name=\"theta\")"
   ]
  },
  {
   "cell_type": "code",
   "execution_count": null,
   "id": "d8f5f127",
   "metadata": {},
   "outputs": [],
   "source": [
    "ld.to_netcdf(\"ld_u300_NA.nc\")\n",
    "theta.to_netcdf(\"theta_u300_NA.nc\")"
   ]
  },
  {
   "cell_type": "code",
   "execution_count": null,
   "id": "617fbb64",
   "metadata": {
    "tags": []
   },
   "outputs": [],
   "source": [
    "fig, axes = plt.subplots(2, 1, figsize=(10, 8), sharex=True)\n",
    "fig.subplots_adjust(hspace=0)\n",
    "ld.plot(ax=axes[0])\n",
    "persistence = 1 / theta\n",
    "q95 = np.quantile(persistence, 0.95)\n",
    "theta.plot(ax=axes[1])\n",
    "theta.isel(time=persistence>=q95).plot(color=\"red\", ls=\"\", marker=\"x\")"
   ]
  },
  {
   "cell_type": "markdown",
   "id": "764d1a06",
   "metadata": {
    "tags": []
   },
   "source": [
    "## HMM on theta, because it looks ladder-y"
   ]
  },
  {
   "cell_type": "code",
   "execution_count": null,
   "id": "67931694",
   "metadata": {},
   "outputs": [],
   "source": [
    "Y_theta = theta.values.reshape((-1, 1))\n",
    "n_components = 4\n",
    "ghmm_theta = GaussianHMM(n_components=n_components).fit(Y_theta)\n",
    "belongs = ghmm_theta.predict(Y_theta)\n",
    "theta.plot()\n",
    "for i in range(n_components):\n",
    "    theta.isel(time=belongs==i).plot(marker=\"x\", color=COLORS10[i%10], ls=\"\")"
   ]
  },
  {
   "cell_type": "code",
   "execution_count": null,
   "id": "3b925c51",
   "metadata": {},
   "outputs": [],
   "source": [
    "fig, ax = plt.subplots()\n",
    "for i, s in enumerate([\"DJF\", \"MAM\", \"JJA\", \"SON\"]):\n",
    "    ax.scatter(ld.isel(time=ld.time.dt.season==s), theta.isel(time=ld.time.dt.season==s), s=2, label=s, c=COLORS5[i])\n",
    "# plt.scatter(ld[20000:], theta[5:])\n",
    "ax.set_xlim([0, 25])\n",
    "ax.legend()"
   ]
  },
  {
   "cell_type": "code",
   "execution_count": null,
   "id": "2b2cf84b",
   "metadata": {},
   "outputs": [],
   "source": [
    "EKE = xr.open_dataarray(f\"{DATADIR}/NCEP/processed/EDG/EKE.nc\").sel(time=DATERANGEPL)"
   ]
  },
  {
   "cell_type": "code",
   "execution_count": null,
   "id": "9b8ef3d5",
   "metadata": {},
   "outputs": [],
   "source": [
    "EKE.lat"
   ]
  },
  {
   "cell_type": "code",
   "execution_count": null,
   "id": "7cbbf5fe",
   "metadata": {},
   "outputs": [],
   "source": [
    "mean_EKE_NA = EKE.isel(lat=(EKE.lat >= 20)&(EKE.lat <= 80), lon=(EKE.lon >= -30) & (EKE.lon <= 90)).mean(dim=[\"lon\", \"lat\"])\n",
    "mean_EKE_NA.plot()"
   ]
  },
  {
   "cell_type": "code",
   "execution_count": null,
   "id": "72c8c201",
   "metadata": {},
   "outputs": [],
   "source": [
    "fig, ax = plt.subplots()\n",
    "idx = np.argsort(mean_EKE_NA).values\n",
    "hi = ax.scatter(ld[idx], theta[idx], c=mean_EKE_NA[idx], s=mean_EKE_NA[idx], cmap=\"cool\", vmin=0, vmax=140)\n",
    "fig.colorbar(hi)\n",
    "ax.set_xlim([-1, 200])"
   ]
  },
  {
   "cell_type": "code",
   "execution_count": null,
   "id": "d933cf1d",
   "metadata": {},
   "outputs": [],
   "source": [
    "da.differentiate(coord=\"time\").mean(dim=[\"longitude\", \"latitude\"]).plot()"
   ]
  },
  {
   "cell_type": "code",
   "execution_count": null,
   "id": "be39065b",
   "metadata": {},
   "outputs": [],
   "source": [
    "da"
   ]
  },
  {
   "cell_type": "markdown",
   "id": "3e605aba",
   "metadata": {
    "jp-MarkdownHeadingCollapsed": true,
    "tags": []
   },
   "source": [
    "## Residence times"
   ]
  },
  {
   "cell_type": "markdown",
   "id": "591d4ab7",
   "metadata": {
    "jp-MarkdownHeadingCollapsed": true,
    "tags": []
   },
   "source": [
    "# Recurrence"
   ]
  },
  {
   "cell_type": "code",
   "execution_count": null,
   "id": "21fa67f1",
   "metadata": {},
   "outputs": [],
   "source": [
    "list_of_dates = np.loadtxt(\"hotspells.csv\", delimiter=\",\", dtype=np.datetime64)\n",
    "hotspells = {}\n",
    "dataset = \"ERA5\"\n",
    "keys = [\"South\", \"West\", \"Balkans\", \"Scandinavia\", \"Russia\", \"Arctic\"]\n",
    "minus = 21\n",
    "plus = 5\n",
    "for j, key in enumerate(keys):\n",
    "    hotspells[key] = []\n",
    "    dates = np.sort(list_of_dates[:, j])\n",
    "    dates = dates[~(np.isnat(dates) | (np.datetime_as_string(dates, unit=\"Y\") == \"2022\"))]\n",
    "    print(key, len(dates))\n",
    "    for i, date in enumerate(dates):\n",
    "        tsta = date - np.timedelta64(minus, \"D\")\n",
    "        tend = date + np.timedelta64(plus, \"D\")\n",
    "        hotspells[key].append(pd.date_range(tsta, tend, freq=\"1D\"))\n",
    "\n",
    "hotspells_per_year = {year: {key: [] for key in keys} for year in YEARSPL}\n",
    "for key, hotspell in hotspells.items():\n",
    "    for series in hotspell:\n",
    "        year = series[0].year\n",
    "        tsta = max(0, (series[0] - da.time.isel(time=da.time.dt.year==year).values[0]).days)\n",
    "        tend = min(92, (series[-1] - da.time.isel(time=da.time.dt.year==year).values[0]).days)\n",
    "        hotspells_per_year[year][key].append([tsta, tend])"
   ]
  },
  {
   "cell_type": "markdown",
   "id": "14ddb580-e249-4b0a-a025-4e55d0f7a31f",
   "metadata": {
    "jp-MarkdownHeadingCollapsed": true,
    "tags": []
   },
   "source": [
    "## Recurrence plots without PCA"
   ]
  },
  {
   "cell_type": "code",
   "execution_count": null,
   "id": "3c37796a-3fa9-4c15-ad32-59763008d013",
   "metadata": {},
   "outputs": [],
   "source": [
    "variable = \"Wind\"\n",
    "level = \"300\"\n",
    "region = \"box_-60_90_30_80\"\n",
    "dataset = \"ERA5\"\n",
    "path = f\"{DATADIR}/{dataset}/{variable}/{level}/{region}\"\n",
    "da = xr.open_dataarray(f\"{path}/s_detrended.nc\")\n",
    "da = da.isel(time=da.time.dt.season==\"JJA\")\n",
    "da = (da * np.sqrt(degcos(da.lat)))\n",
    "distances = xr.DataArray(np.zeros((len(YEARSPL), 92, 92)), coords={\"year\": YEARSPL, \"d1\": np.arange(92), \"d2\": np.arange(92)})\n",
    "for i, year in enumerate(YEARSPL):\n",
    "    thisda = da.isel(time=da.time.dt.year==year).values.reshape(92, -1)\n",
    "    distances[i, :, :] = euclidean_distances(thisda, thisda)\n",
    "# indexer = xr.DataArray(distda.year1.values, dims=\"year\")\n",
    "# distda_reduced = distda.isel(year1=indexer, year2=indexer)"
   ]
  },
  {
   "cell_type": "code",
   "execution_count": null,
   "id": "a14d5bf2-28a5-4933-b018-b4c9c2abdd59",
   "metadata": {},
   "outputs": [],
   "source": [
    "fig, axes = plt.subplots(13, 5, figsize=(12, 12*13/5), sharex=True, sharey=True)\n",
    "fig.subplots_adjust(wspace=0, hspace=0)\n",
    "axes = axes.flatten()\n",
    "cmap = \"Reds\"\n",
    "thresh = 1200\n",
    "for i, ax in enumerate(axes):\n",
    "    if i == 63:\n",
    "        ax.imshow(distances.mean(dim=\"year\").values < thresh, cmap=cmap, origin=\"lower\")\n",
    "        ax.text(1, 81, \"Average\", fontweight=\"bold\")\n",
    "        ax.text(55, 3, f\"$d<{thresh:.0f}$\")\n",
    "        ax = axes[64]\n",
    "        break\n",
    "    else:\n",
    "        for j, (key, hotspell) in enumerate(hotspells_per_year[YEARSPL[i]].items()):\n",
    "            for pair in hotspell:\n",
    "                ax.fill_between(np.arange(pair[0], pair[1]), 0, 91, alpha=0.5, color=COLORS5[j])\n",
    "        ax.imshow(distances.isel(year=i).values < thresh, cmap=cmap, origin=\"lower\")\n",
    "        ax.text(1, 81, f\"{YEARSPL[i]}\", fontweight=\"bold\")\n",
    "    ax.set_xticks([0, 30, 61])\n",
    "    ax.set_yticks([0, 30, 61])\n",
    "    ax.grid()\n",
    "ax.legend(handles=[Patch(color=COLORS5[i], label=keys[i]) for i in range(len(keys))])"
   ]
  },
  {
   "cell_type": "code",
   "execution_count": null,
   "id": "98a4e336-4ca2-47e9-a134-30354d8879ae",
   "metadata": {},
   "outputs": [],
   "source": [
    "fig, axes = plt.subplots(8, 8, figsize=(19, 15.2), sharex=True, sharey=True)\n",
    "fig.subplots_adjust(wspace=0, hspace=0)\n",
    "norm = Normalize(vmin=0, vmax=2400, clip=True)\n",
    "axes = axes.flatten()\n",
    "cmap = \"CMRmap\"\n",
    "im = cm.ScalarMappable(norm=norm, cmap=cmap)\n",
    "thresh = 1300\n",
    "for i, ax in enumerate(axes):\n",
    "    if i > 62:\n",
    "        d = distances.mean(dim=\"year\").values\n",
    "        ax.text(1, 81, \"Average\", fontweight=\"bold\")\n",
    "    else:\n",
    "        d = distances.isel(year=i).values\n",
    "        ax.text(1, 81, f\"{YEARSPL[i]}\", fontweight=\"bold\")\n",
    "        for j, (key, hotspell) in enumerate(hotspells_per_year[YEARSPL[i]].items()):\n",
    "            for pair in hotspell:\n",
    "                ax.fill_between(np.arange(pair[0], pair[1]), 0, 91, alpha=0.5, color=COLORS5[j])\n",
    "    d[d >= thresh] = 3000\n",
    "    ax.imshow(d, norm=norm, cmap=cmap, origin=\"lower\")\n",
    "    ax.set_xticks([0, 30, 61])\n",
    "    ax.set_yticks([0, 30, 61])\n",
    "    ax.grid()\n",
    "cbar = fig.colorbar(im, ax=axes.ravel().tolist(), spacing=\"proportional\")\n",
    "cbar.ax.set_ylabel(\"Distance\")"
   ]
  },
  {
   "cell_type": "markdown",
   "id": "baff1d4a",
   "metadata": {
    "tags": []
   },
   "source": [
    "# Duncan's hotspells"
   ]
  },
  {
   "cell_type": "markdown",
   "id": "0a045e37",
   "metadata": {
    "tags": []
   },
   "source": [
    "### Create hotspells file"
   ]
  },
  {
   "cell_type": "code",
   "execution_count": null,
   "id": "6951755b",
   "metadata": {
    "tags": []
   },
   "outputs": [],
   "source": [
    "list_of_dates = np.loadtxt(\"hotspells.csv\", delimiter=\",\", dtype=np.datetime64)\n",
    "hotspells = {}\n",
    "dataset = \"ERA5\"\n",
    "keys = [\"South\", \"West\", \"Balkans\", \"Scandinavia\", \"Russia\", \"Arctic\"]\n",
    "minus = 21\n",
    "plus = 5\n",
    "for j, key in enumerate(keys):\n",
    "    hotspells[key] = []\n",
    "    dates = np.sort(list_of_dates[:, j])\n",
    "    dates = dates[~(np.isnat(dates) | (np.datetime_as_string(dates, unit=\"Y\") == \"2022\"))]\n",
    "    print(key, len(dates))\n",
    "    for i, date in enumerate(dates):\n",
    "        tsta = date - np.timedelta64(minus, \"D\") + np.timedelta64(9, \"h\")\n",
    "        tend = date + np.timedelta64(plus, \"D\") + np.timedelta64(9, \"h\")\n",
    "        thisds = xr.open_dataset(f\"{DATADIR}/{dataset}/Wind/300/dailymean/{np.datetime_as_string(date, unit='Y')}.nc\")\n",
    "        thisds = thisds.sel(time=pd.date_range(tsta, tend, freq=\"1D\"))\n",
    "        thisds = thisds.assign_coords({\"time\": np.arange(-minus, plus + 1)})\n",
    "        hotspells[key].append(thisds)\n",
    "    hotspells[key] = xr.concat(hotspells[key], dim=\"hotspell\").assign_coords({\"hotspell\": dates})\n",
    "with open(f\"{DATADIR}/{dataset}/processed/hotspells_uv300.pkl\", \"wb\") as handle:\n",
    "    pkl.dump(hotspells, handle)"
   ]
  },
  {
   "cell_type": "markdown",
   "id": "02c0001c",
   "metadata": {},
   "source": [
    "- Replace time coords with range(21), keep track of the center date (or all time as index but not coord) : done\n",
    "- create aggregates : mean, std, correlation with T, look at individuals for all clusters\n",
    "- compare with duncan's plot, also get boundaries of the clusters\n",
    "- cluster wind myself and compare backwards"
   ]
  },
  {
   "cell_type": "markdown",
   "id": "92f961a6",
   "metadata": {
    "jp-MarkdownHeadingCollapsed": true,
    "tags": []
   },
   "source": [
    "### Study hotspells"
   ]
  },
  {
   "cell_type": "code",
   "execution_count": null,
   "id": "efc062dc",
   "metadata": {
    "tags": []
   },
   "outputs": [],
   "source": [
    "dataset = \"ERA5\"\n",
    "with open(f\"{DATADIR}/{dataset}/processed/hotspells_uv300.pkl\", \"rb\") as handle:\n",
    "    hotspells = pkl.load(handle)\n",
    "\n",
    "meanwind_hotspell = xr.concat([hotspell.mean(dim=\"hotspell\") for hotspell in hotspells.values()], dim=\"region\").assign_coords({\"region\": list(hotspells.keys())})"
   ]
  },
  {
   "cell_type": "code",
   "execution_count": null,
   "id": "47a0e419",
   "metadata": {
    "tags": []
   },
   "outputs": [],
   "source": [
    "meanwind_hotspell_NA = meanwind_hotspell.sel(latitude=np.arange(30, 90, 0.5)).load()\n",
    "meanwind_hotspell_NA[\"s\"] = np.sqrt(meanwind_hotspell_NA[\"u\"] ** 2 + meanwind_hotspell_NA[\"v\"] ** 2)\n",
    "lon_NA = meanwind_hotspell_NA.longitude.values\n",
    "lat_NA = meanwind_hotspell_NA.latitude.values\n",
    "meanwind_hotspell_NA.to_netcdf(f\"{DATADIR}/{dataset}/processed/hotspells_uv300_NA.nc\")"
   ]
  },
  {
   "cell_type": "code",
   "execution_count": null,
   "id": "895dee24-b9f7-4242-bb30-2a120ac740be",
   "metadata": {},
   "outputs": [],
   "source": [
    "dataset = \"ERA5\"\n",
    "meanwind_hotspell_NA = xr.open_dataset(f\"{DATADIR}/{dataset}/processed/hotspells_uv300_NA.nc\")\n",
    "lon_NA = meanwind_hotspell_NA.longitude.values\n",
    "lat_NA = meanwind_hotspell_NA.latitude.values"
   ]
  },
  {
   "cell_type": "code",
   "execution_count": null,
   "id": "be28da25",
   "metadata": {
    "tags": []
   },
   "outputs": [],
   "source": [
    "ticker_region = pnw.Select(name=\"Region\", options=meanwind_hotspell_NA.region.values.tolist())\n",
    "ticker_variable = pnw.Select(name=\"Component\", options=list(meanwind_hotspell_NA.data_vars.keys()))\n",
    "ticker_kind= pnw.Select(name=\"Kind\", options=[\"contour\", \"contourf\", \"quadmesh\"])\n",
    "\n",
    "tsta, tend = int(np.amin(meanwind_hotspell_NA.time.values)), int(np.amax(meanwind_hotspell_NA.time.values))\n",
    "slider = pnw.IntSlider(name=\"Day around center\", start=tsta, end=tend)\n",
    "\n",
    "extent = [np.amin(lon_NA), np.amax(lon_NA) + 0.5, np.amin(lat_NA), np.amax(lat_NA) + 0.5]\n",
    "# boundary = mpath.Path(np.stack([np.linspace(180, 0, 361), np.full(361, 30)]).transpose())\n",
    "boundary = make_boundary_path(*extent)\n",
    "boundary.vertices = boundary.vertices[(boundary.vertices[:, 1] == 30) | (boundary.vertices[:, 1] == 90)]\n",
    "nlevels = 11\n",
    "levels0 = np.delete(np.append(np.linspace(-30, 0, nlevels), np.linspace(0, 30, nlevels)), nlevels - 1)\n",
    "levels = np.delete(levels0, nlevels - 1)\n",
    "cmap=\"seismic\"\n",
    "cmap = cm.get_cmap(cmap)\n",
    "norm = mpl.colors.BoundaryNorm(levels, cmap.N, extend='both')\n",
    "im = cm.ScalarMappable(norm=norm, cmap=cmap)\n",
    "\n",
    "def crop_axis(plot, element):\n",
    "    b = plot.state\n",
    "    b.axes[0].set_boundary(boundary, transform=ccrs.PlateCarree())\n",
    "    if len(b.axes) == 1:\n",
    "        b.colorbar(im, ax=b.axes[0], spacing=\"proportional\")\n",
    "    else:\n",
    "        b.get_figure().colorbar(im, cax=b.axes[1], spacing=\"proportional\")\n",
    "    b.axes[1].set_yticks(levels)\n",
    "\n",
    "a = meanwind_hotspell_NA.interactive.sel(region=ticker_region, time=slider).hvplot(\n",
    "    kind=ticker_kind, \n",
    "    x=\"longitude\", y=\"latitude\", z=ticker_variable, \n",
    "    cmap=\"seismic\", \n",
    "    colorbar=False,\n",
    "    color=None,\n",
    "    linewidth=1.5, \n",
    "    symmetric=True,\n",
    "    projection=\"NorthPolarStereo\",\n",
    "    geo=True, \n",
    "    coastline='110m', \n",
    "    levels=levels,\n",
    "    xlabel=None,\n",
    "    ylabel=None,\n",
    "    xaxis=None,\n",
    "    yaxis=None,\n",
    "    title=ticker_variable,\n",
    "    width=700,\n",
    "    height=400\n",
    ")\n",
    "# a = a.opts(hooks=[crop_axis])\n",
    "\n",
    "pn.Row(a.widgets(), a.holoviews())"
   ]
  },
  {
   "cell_type": "markdown",
   "id": "dfd8c193",
   "metadata": {
    "tags": []
   },
   "source": [
    "## Zoo during hotspells"
   ]
  },
  {
   "cell_type": "markdown",
   "id": "90fd5b78",
   "metadata": {
    "jp-MarkdownHeadingCollapsed": true,
    "tags": []
   },
   "source": [
    "### Create hotspells_zoo file"
   ]
  },
  {
   "cell_type": "code",
   "execution_count": null,
   "id": "408e4263",
   "metadata": {
    "tags": []
   },
   "outputs": [],
   "source": [
    "list_of_dates = np.loadtxt(\"hotspells.csv\", delimiter=\",\", dtype=np.datetime64)\n",
    "hotspells_Zoo = {}\n",
    "dataset = \"ERA5\"\n",
    "keys = [\"South\", \"West\", \"Balkans\", \"Scandinavia\", \"Russia\", \"Arctic\"]\n",
    "dataset = \"ERA5\"\n",
    "datadir = f\"{DATADIR}/{dataset}/processed\"\n",
    "Zoo = xr.open_dataset(f\"{datadir}/BarriopedroZooDetrended.nc\")\n",
    "Zookeys = list(Zoo.data_vars.keys()) # copy and not view !\n",
    "minus = 21\n",
    "plus = 5\n",
    "for varname in Zookeys:\n",
    "    if varname[-11:].split('_')[-1] == \"climatology\":\n",
    "        del Zoo[varname]\n",
    "for j, key in enumerate(keys):\n",
    "    hotspells_Zoo[key] = []\n",
    "    dates = np.sort(list_of_dates[:, j])\n",
    "    dates = dates[~(np.isnat(dates) | (np.datetime_as_string(dates, unit=\"Y\") == \"2022\"))]\n",
    "    for i, date in enumerate(dates):\n",
    "        tsta = date - np.timedelta64(minus, \"D\") + np.timedelta64(9, \"h\")\n",
    "        tend = date + np.timedelta64(plus, \"D\") + np.timedelta64(9, \"h\")\n",
    "        thisds = Zoo.sel(time=pd.date_range(tsta, tend, freq=\"1D\"))\n",
    "        thisds.attrs[\"center_date\"] = date\n",
    "        thisds = thisds.assign_coords({\"time\": np.arange(-minus, plus + 1)}).reset_index(\"dayofyear\", drop=True)\n",
    "        hotspells_Zoo[key].append(thisds)\n",
    "    hotspells_Zoo[key] = xr.concat(hotspells_Zoo[key], dim=\"hotspell\").assign_coords({\"hotspell\": dates})\n",
    "with open(f\"{DATADIR}/{dataset}/processed/hotspells_Zoo.pkl\", \"wb\") as handle:\n",
    "    pkl.dump(hotspells_Zoo, handle)"
   ]
  },
  {
   "cell_type": "markdown",
   "id": "4b84f820",
   "metadata": {
    "tags": []
   },
   "source": [
    "### Plot"
   ]
  },
  {
   "cell_type": "code",
   "execution_count": null,
   "id": "16d43ba4",
   "metadata": {
    "tags": []
   },
   "outputs": [],
   "source": [
    "%matplotlib inline\n",
    "dataset = \"ERA5\"\n",
    "datadir = f\"{DATADIR}/{dataset}/processed\"\n",
    "Zoo = xr.open_dataset(f\"{datadir}/BarriopedroZooDetrended.nc\")\n",
    "with open(f\"{DATADIR}/{dataset}/processed/hotspells_Zoo.pkl\", \"rb\") as handle:\n",
    "    hotspells_Zoo = pkl.load(handle)"
   ]
  },
  {
   "cell_type": "code",
   "execution_count": null,
   "id": "e06726fb",
   "metadata": {
    "tags": []
   },
   "outputs": [],
   "source": [
    "fig, axes = plt.subplots(4, 3, figsize=(20, 25), tight_layout=True)\n",
    "axes = axes.flatten()\n",
    "for k, key in enumerate([f\"{key}_anomaly\" for key in ZOO]):\n",
    "    ax = axes[k]\n",
    "    for i, regionkey in enumerate(hotspells_Zoo):\n",
    "        to_plot = hotspells_Zoo[regionkey][key].mean(dim=\"hotspell\")\n",
    "        (to_plot / np.amax(np.abs(to_plot))).plot(ax=ax, label=regionkey, color=COLORS10[(2 * i) % 9], lw=2)\n",
    "        # ax.fill_between(\n",
    "        #     to_plot.time, \n",
    "        #     *(np.quantile(hotspells_Zoo[regionkey][key], [0.05, 0.95], axis=0) / np.amax(np.abs(to_plot)).values), \n",
    "        #     color=COLORS10[(2 * i) % 9],\n",
    "        #     alpha=0.1,\n",
    "        # )\n",
    "    ax.set_title(key)\n",
    "    ax.set_xlabel(\"Time around center\")\n",
    "    ax.set_ylabel(\"Normalized anomaly\")\n",
    "    if k==9:\n",
    "        ax.legend(ncol=2)"
   ]
  },
  {
   "cell_type": "code",
   "execution_count": null,
   "id": "950060d2",
   "metadata": {
    "tags": []
   },
   "outputs": [],
   "source": [
    "fig, axes = plt.subplots(2, 3, figsize=(15, 9), tight_layout=True)\n",
    "axes = axes.flatten()\n",
    "x = hotspells_Zoo[\"South\"].time.values\n",
    "tsta, tend = x[[0, -1]]\n",
    "for k, regionkey in enumerate(hotspells_Zoo):\n",
    "    ax = axes[k]\n",
    "    for i, key in enumerate([f\"{key}_anomaly\" for key in [\"Lat\", \"Int\", \"Tilt\", \"Lon\", \"Mea\"]]):\n",
    "        norm = np.amax(np.abs(Zoo[key].isel(time=Zoo.time.dt.season==\"JJA\")))\n",
    "        to_plot = (hotspells_Zoo[regionkey][key] / norm).mean(dim=\"hotspell\")\n",
    "        quantiles = (hotspells_Zoo[regionkey][key] / norm).quantile([0.1, 0.9], dim=\"hotspell\")\n",
    "        ax.plot(x, to_plot, label=key.split(\"_\")[0], color=COLORS5[i % 5], lw=2)\n",
    "        ax.fill_between(x, *quantiles, color=COLORS5[i % 5], alpha=0.5)\n",
    "    ax.set_title(regionkey)\n",
    "    ax.set_xlabel(\"Days around center\")\n",
    "    ax.set_ylabel(\"Normalized anomaly\")\n",
    "    ax.set_xticks(np.arange(tsta, tend + 1, 2))\n",
    "    if k==5:\n",
    "        ax.legend(ncol=2)"
   ]
  },
  {
   "cell_type": "markdown",
   "id": "7bf883c9-53ee-44ff-ba50-f1ba926c55bd",
   "metadata": {
    "tags": []
   },
   "source": [
    "### As p-values"
   ]
  },
  {
   "cell_type": "code",
   "execution_count": null,
   "id": "e621d947",
   "metadata": {},
   "outputs": [],
   "source": [
    "fig, axes = plt.subplots(2, 3, figsize=(15, 9), tight_layout=True)\n",
    "axes = axes.flatten()\n",
    "tsta, tend = hotspells_Zoo[\"South\"].time.values[[0, -1]]\n",
    "keys = [f\"{key}_anomaly\" for key in [\"Lat\", \"Int\", \"Tilt\", \"Lon\", \"Mea\"]]\n",
    "cdfs = {key: cdf(Zoo[key].isel(time=Zoo.time.dt.season==\"JJA\")) for key in keys}\n",
    "for k, regionkey in enumerate(hotspells_Zoo):\n",
    "    ax = axes[k]\n",
    "    for i, key in enumerate(keys):\n",
    "        x, y = cdfs[key]\n",
    "        base = hotspells_Zoo[regionkey][key].mean(dim=\"hotspell\")\n",
    "        to_plot = y[np.searchsorted(x, base)]\n",
    "        ax.plot(base.time, to_plot, label=key.split(\"_\")[0], color=COLORS5[i % 5], lw=2)\n",
    "    ax.set_title(regionkey)\n",
    "    ax.set_xlabel(\"Days around center\")\n",
    "    ax.set_ylabel(\"p-value of anomaly\")\n",
    "    ax.set_xticks(np.arange(tsta, tend + 1, 2))\n",
    "    if k==5:\n",
    "        ax.legend(ncol=2)"
   ]
  },
  {
   "cell_type": "markdown",
   "id": "67790777-5168-4242-9f0b-490d20d61f4d",
   "metadata": {},
   "source": [
    "#### How gaussian are those timeseries ?"
   ]
  },
  {
   "cell_type": "code",
   "execution_count": null,
   "id": "c605a1a9-fc95-4e25-b779-324c53431095",
   "metadata": {},
   "outputs": [],
   "source": [
    "fig, axes = plt.subplots(4, 3, figsize=(15, 15), tight_layout=True)\n",
    "axes = axes.flatten()\n",
    "varkeys = [f\"{key}_anomaly\" for key in ZOO]\n",
    "cdfs = {key: cdf(Zoo[key]) for key in varkeys}\n",
    "for i, key in enumerate(varkeys):\n",
    "    ax = axes[i]\n",
    "    x, y = cdfs[key]\n",
    "    ax.plot(x, y, \"k\", zorder=4)\n",
    "    y2 = normal_dist.cdf(x, loc=np.mean(Zoo[key]), scale=np.std(Zoo[key], ddof=1))\n",
    "    ax.plot(x, y2, \"b--\")\n",
    "    ax.plot(x, np.abs(y-y2), \"r\")\n",
    "    ax.set_title(f\"{np.linalg.norm(np.abs(y-y2)) / len(y):.2e}\")\n",
    "    ax.set_xlabel(key)\n",
    "    ax.set_ylabel(\"$p$\")\n",
    "    ax.grid()"
   ]
  },
  {
   "cell_type": "markdown",
   "id": "2ac946b5",
   "metadata": {
    "jp-MarkdownHeadingCollapsed": true,
    "tags": []
   },
   "source": [
    "## Dynamical indices during hotspells"
   ]
  },
  {
   "cell_type": "code",
   "execution_count": null,
   "id": "e023f31e",
   "metadata": {},
   "outputs": [],
   "source": [
    "list_of_dates = np.loadtxt(\"hotspells.csv\", delimiter=\",\", dtype=np.datetime64)\n",
    "hotspells_dynind = {}\n",
    "dataset = \"ERA5\"\n",
    "keys = [\"South\", \"West\", \"Balkans\", \"Scandinavia\", \"Russia\", \"Arctic\"]\n",
    "dataset = \"ERA5\"\n",
    "datadir = f\"{DATADIR}/{dataset}/processed\"\n",
    "ld = xr.open_dataarray(f\"{datadir}/ld.nc\")\n",
    "theta = xr.open_dataarray(f\"{datadir}/theta.nc\")\n",
    "indices = xr.Dataset({\"ld\": ld, \"theta\": theta})\n",
    "indikeys = list(indices.data_vars.keys()) # copy and not view !\n",
    "minus = 21\n",
    "plus = 5\n",
    "for j, key in enumerate(keys):\n",
    "    hotspells_dynind[key] = []\n",
    "    dates = np.sort(list_of_dates[:, j])\n",
    "    dates = dates[~(np.isnat(dates) | (np.datetime_as_string(dates, unit=\"Y\") == \"2022\"))]\n",
    "    for i, date in enumerate(dates):\n",
    "        tsta = date - np.timedelta64(minus, \"D\")\n",
    "        tend = date + np.timedelta64(plus, \"D\")\n",
    "        thisds = indices.sel(time=pd.date_range(tsta, tend, freq=\"1D\"))\n",
    "        thisds.attrs[\"center_date\"] = date\n",
    "        thisds = thisds.assign_coords({\"time\": np.arange(-minus, plus + 1)})\n",
    "        hotspells_dynind[key].append(thisds)\n",
    "    hotspells_dynind[key] = xr.concat(hotspells_dynind[key], dim=\"hotspell\").assign_coords({\"hotspell\": dates})\n",
    "with open(f\"{DATADIR}/{dataset}/processed/hotspells_dynind.pkl\", \"wb\") as handle:\n",
    "    pkl.dump(hotspells_dynind, handle)"
   ]
  },
  {
   "cell_type": "code",
   "execution_count": null,
   "id": "4a1a8579",
   "metadata": {},
   "outputs": [],
   "source": [
    "fig, axes = plt.subplots(2, 3, figsize=(15, 9), tight_layout=True)\n",
    "axes = axes.flatten()\n",
    "tsta, tend = hotspells_dynind[\"South\"].time.values[[0, -1]]\n",
    "for k, regionkey in enumerate(hotspells_dynind):\n",
    "    ax = axes[k]\n",
    "    for i, key in enumerate(hotspells_dynind[\"South\"].data_vars):\n",
    "        to_plot = hotspells_dynind[regionkey][key].mean(dim=\"hotspell\")\n",
    "        (to_plot / np.amax(to_plot)).plot(ax=ax, label=key.split(\"_\")[0], color=COLORS5[i % 5], lw=2)\n",
    "    ax.set_title(regionkey)\n",
    "    ax.set_xlabel(\"Day around center\")\n",
    "    ax.set_ylabel(\"Normalized index\")\n",
    "    ax.set_xticks(np.arange(tsta, tend + 1, 2))\n",
    "    if k==5:\n",
    "        ax.legend(ncol=2)"
   ]
  },
  {
   "cell_type": "markdown",
   "id": "7616a2cc",
   "metadata": {
    "tags": []
   },
   "source": [
    "# Misc"
   ]
  },
  {
   "cell_type": "markdown",
   "id": "6c275439",
   "metadata": {
    "tags": []
   },
   "source": [
    "### Create_plot"
   ]
  },
  {
   "cell_type": "code",
   "execution_count": null,
   "id": "7c0356ad",
   "metadata": {
    "scrolled": true
   },
   "outputs": [],
   "source": [
    "def create_plot(to_plot, titles, levels, twolevel=False, startindex=-1):\n",
    "    # Figure\n",
    "    transform = ccrs.PlateCarree()\n",
    "    projection = transform\n",
    "    if twolevel:\n",
    "        fig, axes = plt.subplots(\n",
    "            2,\n",
    "            int(len(to_plot) / 2),\n",
    "            subplot_kw={\"projection\": projection}, constrained_layout=True #, figsize=(6 * len(to_plot) // 2, 13)\n",
    "        )\n",
    "    else:\n",
    "        fig, axes = plt.subplots(\n",
    "            1, len(to_plot), subplot_kw={\"projection\": projection}, constrained_layout=True, figsize=(3.5 * len(to_plot), 6)\n",
    "        )\n",
    "    axes = np.atleast_1d(axes)\n",
    "    axes = axes.flatten()\n",
    "\n",
    "    # Add coastline and boarders\n",
    "    coastline = feat.NaturalEarthFeature(\n",
    "        \"physical\", \"coastline\", \"10m\", edgecolor=\"black\", facecolor=\"none\"\n",
    "    )\n",
    "    borders = feat.NaturalEarthFeature(\n",
    "        \"cultural\",\n",
    "        \"admin_0_boundary_lines_land\",\n",
    "        \"10m\",\n",
    "        edgecolor=\"grey\",\n",
    "        facecolor=\"none\",\n",
    "    )\n",
    "    plt_rej = []\n",
    "    cbar = [None] * len(to_plot)\n",
    "    for j in range(len(to_plot)):\n",
    "        ax = axes[j]\n",
    "        plt_rej.append(\n",
    "            ax.contourf(\n",
    "                to_plot[j][\"lon\"].values[:, None] * np.ones(len(to_plot[j][\"lat\"])),\n",
    "                to_plot[j][\"lat\"].values[None, :] * np.ones(len(to_plot[j][\"lon\"]))[:, None],\n",
    "                to_plot[j].isel(time=startindex).transpose(),\n",
    "                levels=levels[j],\n",
    "                transform=transform,\n",
    "                transform_first=True,\n",
    "                # cmap=cmap,\n",
    "                zorder=0,\n",
    "            )\n",
    "        )\n",
    "\n",
    "        ax.add_feature(coastline)\n",
    "        ax.add_feature(borders)\n",
    "        ax.set_xmargin(0)\n",
    "        ax.set_ymargin(0)\n",
    "        ax.set_title(f\"Day {startindex}, {titles[j]}, g.a : {np.mean(to_plot[j][startindex]):.2f}\")\n",
    "\n",
    "        cbar[j] = fig.colorbar(plt_rej[j], ax=ax,fraction=0.046, pad=0.04)\n",
    "\n",
    "    def animate_all(i):\n",
    "        global plt_rej\n",
    "        for j in range(len(to_plot)):\n",
    "            ax = axes[j]\n",
    "            for c in plt_rej[j].collections:\n",
    "                c.remove()\n",
    "            plt_rej[j] = ax.contourf(\n",
    "                to_plot[j][\"lon\"].values[:, None] * np.ones(len(to_plot[j][\"lat\"])),\n",
    "                to_plot[j][\"lat\"].values[None, :] * np.ones(len(to_plot[j][\"lon\"]))[:, None],\n",
    "                to_plot[j].isel(time=i).transpose(),\n",
    "                levels=levels[j],\n",
    "                transform=transform,\n",
    "                transform_first=True,\n",
    "                # cmap=cmap,\n",
    "                zorder=0,\n",
    "            )\n",
    "            ax.set_title(f\"Day {i + 1}, {titles[j]}, g.a : {np.mean(to_plot[j][i]):.2f}\")\n",
    "            cbar[j] = fig.colorbar(plt_rej[j], cax=fig.axes[len(axes) + j])\n",
    "        return plt_rej\n",
    "\n",
    "    return fig, axes, plt_rej, animate_all"
   ]
  },
  {
   "cell_type": "markdown",
   "id": "bae42819",
   "metadata": {
    "jp-MarkdownHeadingCollapsed": true,
    "tags": []
   },
   "source": [
    "### Fetch"
   ]
  },
  {
   "cell_type": "code",
   "execution_count": null,
   "id": "716d6aff",
   "metadata": {},
   "outputs": [],
   "source": [
    "longname = {\n",
    "    \"u\": \"U-component of wind\",\n",
    "    \"v\": \"V-component of wind\",\n",
    "    \"w\": \"W-component of wind\",\n",
    "    \"z\": \"Geopotential\",\n",
    "    \"t\": \"Temperature\",\n",
    "    \"vo\": \"Relative vorticity\",\n",
    "    \"q\": \"Specific humidity\",\n",
    "    \"r\": \"relative humidity\"\n",
    "    \n",
    "}\n",
    "variablemap = {\n",
    "    f\"{var}{lev}\": [var, \"PL\", lev, f\"{longname[var]} at {lev} hPa\"] \n",
    "    for var in [\"u\", \"v\", \"vo\"] \n",
    "    for lev in range(700, 901, 50)\n",
    "}\n",
    "var = \"z\"\n",
    "vm2 = {\n",
    "    f\"{var}{lev}\": [var, \"PL\", lev, f\"{longname[var]} at {lev} hPa\"] \n",
    "    for lev in [300, 500]\n",
    "}\n",
    "\n",
    "variablemap.update(vm2)\n",
    "variablemap[\"t850\"] = [\"t\", \"PL\", 850, f\"{longname['t']} at 850 hPa\"]"
   ]
  },
  {
   "cell_type": "markdown",
   "id": "8452f1fe",
   "metadata": {
    "jp-MarkdownHeadingCollapsed": true,
    "tags": []
   },
   "source": [
    "### PV calculations"
   ]
  },
  {
   "cell_type": "code",
   "execution_count": null,
   "id": "767dcf49",
   "metadata": {},
   "outputs": [],
   "source": [
    "ds = xr.open_mfdataset(fn(DATERANGEML[0], which=\"ML\")[:1], combine=\"nested\", concat_dim=\"time\")\n",
    "ds[\"P\"] = (ds[\"hybm\"] * ds[\"PS\"] + ds[\"hyam\"]).isel(lev_2=0).drop(\"lev_2\").rename({\"nhym\": \"lev\"})\n",
    "ds[\"P\"].attrs[\"units\"] = \"Pa\"\n",
    "ds[\"T\"].attrs[\"units\"] = \"celsius\"\n",
    "ds = ds.isel(lat=range(1, len(ds.lat) -1)).metpy.quantify()\n",
    "ds[\"THETA\"] = mcalc.potential_temperature(ds[\"P\"], ds[\"T\"])\n",
    "ds[\"PV\"] = mcalc.potential_vorticity_baroclinic(ds[\"THETA\"], ds[\"P\"], ds[\"U\"], ds[\"V\"], x_dim=3, y_dim=2, vertical_dim=1)"
   ]
  },
  {
   "cell_type": "code",
   "execution_count": null,
   "id": "baad1777",
   "metadata": {},
   "outputs": [],
   "source": [
    "fig, axes = plt.subplots(5, 4, figsize=[20, 20])\n",
    "axes = axes.flatten()\n",
    "for l, k in enumerate(range(0, 137, int(137/20) + 1)):\n",
    "    ds[\"PV\"].isel(lev=k, time=0).plot(ax=axes[l])"
   ]
  },
  {
   "cell_type": "code",
   "execution_count": null,
   "id": "7b9ba649",
   "metadata": {},
   "outputs": [],
   "source": [
    "dims = [\"time\", \"lat\", \"lon\"]\n",
    "ds[\"U_2PVU\"] = xr.DataArray(np.empty([len(ds[\"T\"].coords[dim]) for dim in dims]), dims=dims, coords={dim: ds[\"T\"].coords[dim] for dim in dims})\n",
    "ds[\"V_2PVU\"] = ds[\"U_2PVU\"].copy()\n",
    "for ti, t in enumerate(ds.time):\n",
    "    this_ds = ds.isel(time=ti)\n",
    "    for w in [\"U\", \"V\"]:\n",
    "        ds[f\"{w}_2PVU\"][ti, :, :] = minterpolate.interpolate_to_isosurface(this_ds[\"PV\"].values, this_ds[w].values, 2e-6)"
   ]
  },
  {
   "cell_type": "code",
   "execution_count": null,
   "id": "9ea5bfdd",
   "metadata": {},
   "outputs": [],
   "source": [
    "ds[\"U_2PVU\"].plot()"
   ]
  },
  {
   "cell_type": "code",
   "execution_count": null,
   "id": "93445d15",
   "metadata": {},
   "outputs": [],
   "source": [
    "ds[\"V_2PVU\"].plot()"
   ]
  },
  {
   "cell_type": "markdown",
   "id": "e005c1e0",
   "metadata": {
    "jp-MarkdownHeadingCollapsed": true,
    "tags": []
   },
   "source": [
    "### Matplotlib widgets example (use panel + hvplot it's much faster)"
   ]
  },
  {
   "cell_type": "code",
   "execution_count": null,
   "id": "b531afdd",
   "metadata": {},
   "outputs": [],
   "source": [
    "transform = ccrs.PlateCarree()\n",
    "projection = ccrs.LambertConformal(central_longitude=np.mean(lon_NA))\n",
    "fig, ax = plt.subplots(figsize=(15, 7), subplot_kw={\"projection\": projection})\n",
    "REGION = \"South\"\n",
    "DAY = 0\n",
    "VARIABLE = \"u\"\n",
    "mesh = ax.pcolormesh(\n",
    "    lon_NA, lat_NA, meanwind_hotspell_NA[VARIABLE].sel(region=REGION, time=DAY), \n",
    "    shading=\"nearest\", cmap=\"bwr\", transform=transform, norm=CenteredNorm())\n",
    "fig.subplots_adjust(left=0.3)\n",
    "cbar = fig.colorbar(mesh)\n",
    "ax.add_feature(COASTLINE)\n",
    "ax.add_feature(BORDERS)\n",
    "extent = [np.amin(lon_NA), np.amax(lon_NA), np.amin(lat_NA), np.amax(lat_NA)]\n",
    "boundary = make_boundary_path(*extent)\n",
    "ax.set_boundary(boundary, transform=ccrs.PlateCarree())\n",
    "\n",
    "def update_mesh():\n",
    "    global mesh, cbar\n",
    "    mesh.set_array(meanwind_hotspell_NA[VARIABLE].sel(region=REGION, time=DAY).values.flatten())\n",
    "    mesh.autoscale()\n",
    "    cbar.update_normal(mesh)\n",
    "    plt.draw()\n",
    "\n",
    "def change_region(region):\n",
    "    global REGION\n",
    "    REGION=region\n",
    "    update_mesh()\n",
    "\n",
    "def change_day(day):\n",
    "    global DAY\n",
    "    DAY=day\n",
    "    update_mesh()\n",
    "\n",
    "def change_variable(variable):\n",
    "    global VARIABLE\n",
    "    VARIABLE=variable\n",
    "    update_mesh()\n",
    "\n",
    "rax = fig.add_axes([0.05, 0.4, 0.2, 0.4])\n",
    "radio_region = RadioButtons(rax, meanwind_hotspell[VARIABLE].region.values)\n",
    "radio_region.on_clicked(change_region)\n",
    "\n",
    "rax = fig.add_axes([0.05, 0.25, 0.2, 0.17])\n",
    "radio_variable = RadioButtons(rax, list(meanwind_hotspell.data_vars.keys()))\n",
    "radio_variable.on_clicked(change_variable)\n",
    "\n",
    "sax = fig.add_axes([0.32, 0.05, 0.4, 0.03])\n",
    "slider_day = Slider(\n",
    "    ax=sax,\n",
    "    label='Day',\n",
    "    valmin=-10,\n",
    "    valstep=1,\n",
    "    valmax=10,\n",
    "    valinit=0,\n",
    ")\n",
    "slider_day.on_changed(change_day)\n",
    "plt.show()"
   ]
  }
 ],
 "metadata": {
  "kernelspec": {
   "display_name": "Python 3",
   "language": "python",
   "name": "python3"
  },
  "language_info": {
   "codemirror_mode": {
    "name": "ipython",
    "version": 3
   },
   "file_extension": ".py",
   "mimetype": "text/x-python",
   "name": "python",
   "nbconvert_exporter": "python",
   "pygments_lexer": "ipython3",
   "version": "3.9.15"
  },
  "vscode": {
   "interpreter": {
    "hash": "378ea7c63d4b6fb60adf5fd8a6ef85eea5cb6e0bc5100e1a810638b5d5ef98b1"
   }
  }
 },
 "nbformat": 4,
 "nbformat_minor": 5
}
