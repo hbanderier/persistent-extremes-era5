{
 "cells": [
  {
   "cell_type": "code",
   "execution_count": 21,
   "id": "70c2be01-ea74-4586-825d-b599b067739f",
   "metadata": {},
   "outputs": [],
   "source": [
    "import cdsapi\n",
    "import os"
   ]
  },
  {
   "cell_type": "code",
   "execution_count": 22,
   "id": "81cf48f4-485b-4949-919d-eba638e689c9",
   "metadata": {},
   "outputs": [
    {
     "name": "stderr",
     "output_type": "stream",
     "text": [
      "2022-11-21 10:30:57,431 INFO Welcome to the CDS\n",
      "2022-11-21 10:30:57,431 INFO Sending request to https://cds.climate.copernicus.eu/api/v2/tasks/services/tool/toolbox/orchestrator/workflow/clientid-a119b45daf3641598bd7cbe52dd28a7a\n",
      "2022-11-21 10:30:57,478 INFO Request is queued\n",
      "2022-11-21 10:31:18,408 INFO Request is running\n",
      "2022-11-21 12:51:28,435 INFO Request is failed\n",
      "2022-11-21 12:51:28,435 ERROR Message: \n",
      "2022-11-21 12:51:28,436 ERROR Reason:  Traceback (most recent call last):\n",
      "  File \"/opt/cdstoolbox/cdscompute/cdscompute/cdshandlers/services/handler.py\", line 59, in handle_request\n",
      "    result = cached(context.method, proc, context, context.args, context.kwargs)\n",
      "  File \"/opt/cdstoolbox/cdscompute/cdscompute/caching.py\", line 108, in cached\n",
      "    result = proc(context, *context.args, **context.kwargs)\n",
      "  File \"/opt/cdstoolbox/cdscompute/cdscompute/services.py\", line 124, in __call__\n",
      "    return p(*args, **kwargs)\n",
      "  File \"/opt/cdstoolbox/cdscompute/cdscompute/services.py\", line 60, in __call__\n",
      "    return self.proc(context, *args, **kwargs)\n",
      "  File \"/home/cds/cdsservices/services/retrieve.py\", line 200, in execute\n",
      "    **retrieve_kwargs\n",
      "  File \"/opt/cdstoolbox/cdscompute/cdscompute/context.py\", line 301, in call\n",
      "    return c.call(service, *args, **kwargs).value\n",
      "  File \"/opt/cdstoolbox/cdsworkflows/cdsworkflows/future.py\", line 76, in value\n",
      "    raise self._result\n",
      "cdsworkflows.error.ClientError: None\n",
      "2022-11-21 12:51:28,436 ERROR   Traceback (most recent call last):\n",
      "2022-11-21 12:51:28,437 ERROR     File \"/opt/cdstoolbox/cdscompute/cdscompute/cdshandlers/services/handler.py\", line 59, in handle_request\n",
      "2022-11-21 12:51:28,437 ERROR       result = cached(context.method, proc, context, context.args, context.kwargs)\n",
      "2022-11-21 12:51:28,437 ERROR     File \"/opt/cdstoolbox/cdscompute/cdscompute/caching.py\", line 108, in cached\n",
      "2022-11-21 12:51:28,438 ERROR       result = proc(context, *context.args, **context.kwargs)\n",
      "2022-11-21 12:51:28,438 ERROR     File \"/opt/cdstoolbox/cdscompute/cdscompute/services.py\", line 124, in __call__\n",
      "2022-11-21 12:51:28,439 ERROR       return p(*args, **kwargs)\n",
      "2022-11-21 12:51:28,439 ERROR     File \"/opt/cdstoolbox/cdscompute/cdscompute/services.py\", line 60, in __call__\n",
      "2022-11-21 12:51:28,439 ERROR       return self.proc(context, *args, **kwargs)\n",
      "2022-11-21 12:51:28,440 ERROR     File \"/home/cds/cdsservices/services/workflow.py\", line 35, in execute\n",
      "2022-11-21 12:51:28,440 ERROR       raise exceptions.CDSException(True, True, logging + traceback, '', uri)\n",
      "2022-11-21 12:51:28,441 ERROR   cdsclient.exceptions.CDSException: Traceback (most recent call last):\n",
      "2022-11-21 12:51:28,441 ERROR     File \"/opt/cdstoolbox/cdscompute/cdscompute/cdshandlers/services/handler.py\", line 59, in handle_request\n",
      "2022-11-21 12:51:28,442 ERROR       result = cached(context.method, proc, context, context.args, context.kwargs)\n",
      "2022-11-21 12:51:28,442 ERROR     File \"/opt/cdstoolbox/cdscompute/cdscompute/caching.py\", line 108, in cached\n",
      "2022-11-21 12:51:28,442 ERROR       result = proc(context, *context.args, **context.kwargs)\n",
      "2022-11-21 12:51:28,443 ERROR     File \"/opt/cdstoolbox/cdscompute/cdscompute/services.py\", line 124, in __call__\n",
      "2022-11-21 12:51:28,443 ERROR       return p(*args, **kwargs)\n",
      "2022-11-21 12:51:28,444 ERROR     File \"/opt/cdstoolbox/cdscompute/cdscompute/services.py\", line 60, in __call__\n",
      "2022-11-21 12:51:28,444 ERROR       return self.proc(context, *args, **kwargs)\n",
      "2022-11-21 12:51:28,444 ERROR     File \"/home/cds/cdsservices/services/retrieve.py\", line 200, in execute\n",
      "2022-11-21 12:51:28,445 ERROR       **retrieve_kwargs\n",
      "2022-11-21 12:51:28,445 ERROR     File \"/opt/cdstoolbox/cdscompute/cdscompute/context.py\", line 301, in call\n",
      "2022-11-21 12:51:28,445 ERROR       return c.call(service, *args, **kwargs).value\n",
      "2022-11-21 12:51:28,446 ERROR     File \"/opt/cdstoolbox/cdsworkflows/cdsworkflows/future.py\", line 76, in value\n",
      "2022-11-21 12:51:28,446 ERROR       raise self._result\n",
      "2022-11-21 12:51:28,447 ERROR   cdsworkflows.error.ClientError: None\n"
     ]
    },
    {
     "ename": "Exception",
     "evalue": ". Traceback (most recent call last):\n  File \"/opt/cdstoolbox/cdscompute/cdscompute/cdshandlers/services/handler.py\", line 59, in handle_request\n    result = cached(context.method, proc, context, context.args, context.kwargs)\n  File \"/opt/cdstoolbox/cdscompute/cdscompute/caching.py\", line 108, in cached\n    result = proc(context, *context.args, **context.kwargs)\n  File \"/opt/cdstoolbox/cdscompute/cdscompute/services.py\", line 124, in __call__\n    return p(*args, **kwargs)\n  File \"/opt/cdstoolbox/cdscompute/cdscompute/services.py\", line 60, in __call__\n    return self.proc(context, *args, **kwargs)\n  File \"/home/cds/cdsservices/services/retrieve.py\", line 200, in execute\n    **retrieve_kwargs\n  File \"/opt/cdstoolbox/cdscompute/cdscompute/context.py\", line 301, in call\n    return c.call(service, *args, **kwargs).value\n  File \"/opt/cdstoolbox/cdsworkflows/cdsworkflows/future.py\", line 76, in value\n    raise self._result\ncdsworkflows.error.ClientError: None.",
     "output_type": "error",
     "traceback": [
      "\u001b[0;31m---------------------------------------------------------------------------\u001b[0m",
      "\u001b[0;31mException\u001b[0m                                 Traceback (most recent call last)",
      "Input \u001b[0;32mIn [22]\u001b[0m, in \u001b[0;36m<module>\u001b[0;34m\u001b[0m\n\u001b[1;32m      9\u001b[0m plevel \u001b[38;5;241m=\u001b[39m \u001b[38;5;124m\"\u001b[39m\u001b[38;5;124m850\u001b[39m\u001b[38;5;124m\"\u001b[39m\n\u001b[1;32m     10\u001b[0m \u001b[38;5;28;01mfor\u001b[39;00m month \u001b[38;5;129;01min\u001b[39;00m MONTHS[:\u001b[38;5;241m1\u001b[39m]:\n\u001b[0;32m---> 11\u001b[0m     result \u001b[38;5;241m=\u001b[39m \u001b[43mc\u001b[49m\u001b[38;5;241;43m.\u001b[39;49m\u001b[43mservice\u001b[49m\u001b[43m(\u001b[49m\n\u001b[1;32m     12\u001b[0m \u001b[43m        \u001b[49m\u001b[38;5;124;43m\"\u001b[39;49m\u001b[38;5;124;43mtool.toolbox.orchestrator.workflow\u001b[39;49m\u001b[38;5;124;43m\"\u001b[39;49m\u001b[43m,\u001b[49m\n\u001b[1;32m     13\u001b[0m \u001b[43m        \u001b[49m\n\u001b[1;32m     14\u001b[0m \u001b[43m        \u001b[49m\u001b[43mparams\u001b[49m\u001b[38;5;241;43m=\u001b[39;49m\u001b[43m{\u001b[49m\n\u001b[1;32m     15\u001b[0m \u001b[43m            \u001b[49m\u001b[38;5;124;43m\"\u001b[39;49m\u001b[38;5;124;43mrealm\u001b[39;49m\u001b[38;5;124;43m\"\u001b[39;49m\u001b[43m:\u001b[49m\u001b[43m \u001b[49m\u001b[38;5;124;43m\"\u001b[39;49m\u001b[38;5;124;43muser-apps\u001b[39;49m\u001b[38;5;124;43m\"\u001b[39;49m\u001b[43m,\u001b[49m\n\u001b[1;32m     16\u001b[0m \u001b[43m            \u001b[49m\u001b[38;5;124;43m\"\u001b[39;49m\u001b[38;5;124;43mproject\u001b[39;49m\u001b[38;5;124;43m\"\u001b[39;49m\u001b[43m:\u001b[49m\u001b[43m \u001b[49m\u001b[38;5;124;43m'\u001b[39;49m\u001b[38;5;124;43mapp-c3s-daily-era5-statistics\u001b[39;49m\u001b[38;5;124;43m'\u001b[39;49m\u001b[43m,\u001b[49m\n\u001b[1;32m     17\u001b[0m \u001b[43m            \u001b[49m\u001b[38;5;124;43m\"\u001b[39;49m\u001b[38;5;124;43mversion\u001b[39;49m\u001b[38;5;124;43m\"\u001b[39;49m\u001b[43m:\u001b[49m\u001b[43m \u001b[49m\u001b[38;5;124;43m\"\u001b[39;49m\u001b[38;5;124;43mmaster\u001b[39;49m\u001b[38;5;124;43m\"\u001b[39;49m\u001b[43m,\u001b[49m\n\u001b[1;32m     18\u001b[0m \u001b[43m            \u001b[49m\u001b[38;5;124;43m\"\u001b[39;49m\u001b[38;5;124;43mkwargs\u001b[39;49m\u001b[38;5;124;43m\"\u001b[39;49m\u001b[43m:\u001b[49m\u001b[43m \u001b[49m\u001b[43m{\u001b[49m\n\u001b[1;32m     19\u001b[0m \u001b[43m                \u001b[49m\u001b[38;5;124;43m\"\u001b[39;49m\u001b[38;5;124;43mdataset\u001b[39;49m\u001b[38;5;124;43m\"\u001b[39;49m\u001b[43m:\u001b[49m\u001b[43m \u001b[49m\u001b[38;5;124;43m\"\u001b[39;49m\u001b[38;5;124;43mreanalysis-era5-pressure-levels\u001b[39;49m\u001b[38;5;124;43m\"\u001b[39;49m\u001b[43m,\u001b[49m\n\u001b[1;32m     20\u001b[0m \u001b[43m                \u001b[49m\u001b[38;5;124;43m\"\u001b[39;49m\u001b[38;5;124;43mproduct_type\u001b[39;49m\u001b[38;5;124;43m\"\u001b[39;49m\u001b[43m:\u001b[49m\u001b[43m \u001b[49m\u001b[38;5;124;43m\"\u001b[39;49m\u001b[38;5;124;43mreanalysis\u001b[39;49m\u001b[38;5;124;43m\"\u001b[39;49m\u001b[43m,\u001b[49m\n\u001b[1;32m     21\u001b[0m \u001b[43m                \u001b[49m\u001b[38;5;124;43m\"\u001b[39;49m\u001b[38;5;124;43mvariable\u001b[39;49m\u001b[38;5;124;43m\"\u001b[39;49m\u001b[43m:\u001b[49m\u001b[43m \u001b[49m\u001b[43mvarname\u001b[49m\u001b[43m,\u001b[49m\n\u001b[1;32m     22\u001b[0m \u001b[43m                \u001b[49m\u001b[38;5;124;43m\"\u001b[39;49m\u001b[38;5;124;43mstatistic\u001b[39;49m\u001b[38;5;124;43m\"\u001b[39;49m\u001b[43m:\u001b[49m\u001b[43m \u001b[49m\u001b[38;5;124;43m\"\u001b[39;49m\u001b[38;5;124;43mdaily_mean\u001b[39;49m\u001b[38;5;124;43m\"\u001b[39;49m\u001b[43m,\u001b[49m\n\u001b[1;32m     23\u001b[0m \u001b[43m                \u001b[49m\u001b[38;5;124;43m\"\u001b[39;49m\u001b[38;5;124;43myear\u001b[39;49m\u001b[38;5;124;43m\"\u001b[39;49m\u001b[43m:\u001b[49m\u001b[43m \u001b[49m\u001b[43myear\u001b[49m\u001b[43m,\u001b[49m\n\u001b[1;32m     24\u001b[0m \u001b[43m                \u001b[49m\u001b[38;5;124;43m\"\u001b[39;49m\u001b[38;5;124;43mmonth\u001b[39;49m\u001b[38;5;124;43m\"\u001b[39;49m\u001b[43m \u001b[49m\u001b[43m:\u001b[49m\u001b[43m \u001b[49m\u001b[43mmonth\u001b[49m\u001b[43m,\u001b[49m\n\u001b[1;32m     25\u001b[0m \u001b[43m                \u001b[49m\u001b[38;5;124;43m\"\u001b[39;49m\u001b[38;5;124;43mtime_zone\u001b[39;49m\u001b[38;5;124;43m\"\u001b[39;49m\u001b[43m:\u001b[49m\u001b[43m \u001b[49m\u001b[38;5;124;43m\"\u001b[39;49m\u001b[38;5;124;43mUTC+00:0\u001b[39;49m\u001b[38;5;124;43m\"\u001b[39;49m\u001b[43m,\u001b[49m\n\u001b[1;32m     26\u001b[0m \u001b[43m                \u001b[49m\u001b[38;5;124;43m\"\u001b[39;49m\u001b[38;5;124;43mfrequency\u001b[39;49m\u001b[38;5;124;43m\"\u001b[39;49m\u001b[43m:\u001b[49m\u001b[43m \u001b[49m\u001b[38;5;124;43m\"\u001b[39;49m\u001b[38;5;124;43m1-hourly\u001b[39;49m\u001b[38;5;124;43m\"\u001b[39;49m\u001b[43m,\u001b[49m\n\u001b[1;32m     27\u001b[0m \u001b[43m                \u001b[49m\u001b[38;5;124;43m\"\u001b[39;49m\u001b[38;5;124;43mgrid\u001b[39;49m\u001b[38;5;124;43m\"\u001b[39;49m\u001b[43m:\u001b[49m\u001b[43m \u001b[49m\u001b[43mplevel\u001b[49m\u001b[43m,\u001b[49m\n\u001b[1;32m     28\u001b[0m \u001b[43m                \u001b[49m\u001b[38;5;124;43m\"\u001b[39;49m\u001b[38;5;124;43marea\u001b[39;49m\u001b[38;5;124;43m\"\u001b[39;49m\u001b[43m:\u001b[49m\u001b[43m \u001b[49m\u001b[43m{\u001b[49m\u001b[38;5;124;43m\"\u001b[39;49m\u001b[38;5;124;43mlat\u001b[39;49m\u001b[38;5;124;43m\"\u001b[39;49m\u001b[43m:\u001b[49m\u001b[43m \u001b[49m\u001b[43m[\u001b[49m\u001b[38;5;241;43m10\u001b[39;49m\u001b[43m,\u001b[49m\u001b[43m \u001b[49m\u001b[38;5;241;43m80\u001b[39;49m\u001b[43m]\u001b[49m\u001b[43m,\u001b[49m\u001b[43m \u001b[49m\u001b[38;5;124;43m\"\u001b[39;49m\u001b[38;5;124;43mlon\u001b[39;49m\u001b[38;5;124;43m\"\u001b[39;49m\u001b[43m:\u001b[49m\u001b[43m \u001b[49m\u001b[43m[\u001b[49m\u001b[38;5;241;43m-\u001b[39;49m\u001b[38;5;241;43m80\u001b[39;49m\u001b[43m,\u001b[49m\u001b[43m \u001b[49m\u001b[38;5;241;43m10\u001b[39;49m\u001b[43m]\u001b[49m\u001b[43m}\u001b[49m\u001b[43m,\u001b[49m\n\u001b[1;32m     29\u001b[0m \u001b[43m                \u001b[49m\u001b[38;5;124;43m\"\u001b[39;49m\u001b[38;5;124;43mpressure_level\u001b[39;49m\u001b[38;5;124;43m\"\u001b[39;49m\u001b[43m:\u001b[49m\u001b[43m \u001b[49m\u001b[43mplevel\u001b[49m\u001b[43m,\u001b[49m\n\u001b[1;32m     30\u001b[0m \u001b[43m            \u001b[49m\u001b[43m}\u001b[49m\u001b[43m,\u001b[49m\n\u001b[1;32m     31\u001b[0m \u001b[43m            \u001b[49m\u001b[38;5;124;43m\"\u001b[39;49m\u001b[38;5;124;43mworkflow_name\u001b[39;49m\u001b[38;5;124;43m\"\u001b[39;49m\u001b[43m:\u001b[49m\u001b[43m \u001b[49m\u001b[38;5;124;43m\"\u001b[39;49m\u001b[38;5;124;43mapplication\u001b[39;49m\u001b[38;5;124;43m\"\u001b[39;49m\n\u001b[1;32m     32\u001b[0m \u001b[43m        \u001b[49m\u001b[43m}\u001b[49m\n\u001b[1;32m     33\u001b[0m \u001b[43m    \u001b[49m\u001b[43m)\u001b[49m\n\u001b[1;32m     34\u001b[0m     c\u001b[38;5;241m.\u001b[39mdownload(result)\n\u001b[1;32m     36\u001b[0m     filename \u001b[38;5;241m=\u001b[39m \u001b[38;5;124mf\u001b[39m\u001b[38;5;124m\"\u001b[39m\u001b[38;5;132;01m{\u001b[39;00mvarname\u001b[38;5;132;01m}\u001b[39;00m\u001b[38;5;124m_\u001b[39m\u001b[38;5;132;01m{\u001b[39;00myear\u001b[38;5;132;01m}\u001b[39;00m\u001b[38;5;132;01m{\u001b[39;00mmonth\u001b[38;5;132;01m}\u001b[39;00m\u001b[38;5;124m_\u001b[39m\u001b[38;5;132;01m{\u001b[39;00mgrid\u001b[38;5;132;01m}\u001b[39;00m\u001b[38;5;124m_\u001b[39m\u001b[38;5;132;01m{\u001b[39;00mplevel\u001b[38;5;132;01m}\u001b[39;00m\u001b[38;5;124m.nc\u001b[39m\u001b[38;5;124m\"\u001b[39m\n",
      "File \u001b[0;32m/project/pr133/hbanderi/miniconda3/envs/env/lib/python3.9/site-packages/cdsapi/api.py:366\u001b[0m, in \u001b[0;36mClient.service\u001b[0;34m(self, name, *args, **kwargs)\u001b[0m\n\u001b[1;32m    364\u001b[0m     request[\u001b[38;5;124m\"\u001b[39m\u001b[38;5;124m_cds_metadata\u001b[39m\u001b[38;5;124m\"\u001b[39m] \u001b[38;5;241m=\u001b[39m \u001b[38;5;28mself\u001b[39m\u001b[38;5;241m.\u001b[39mmetadata\n\u001b[1;32m    365\u001b[0m request \u001b[38;5;241m=\u001b[39m toJSON(request)\n\u001b[0;32m--> 366\u001b[0m result \u001b[38;5;241m=\u001b[39m \u001b[38;5;28;43mself\u001b[39;49m\u001b[38;5;241;43m.\u001b[39;49m\u001b[43m_api\u001b[49m\u001b[43m(\u001b[49m\n\u001b[1;32m    367\u001b[0m \u001b[43m    \u001b[49m\u001b[38;5;124;43m\"\u001b[39;49m\u001b[38;5;132;43;01m%s\u001b[39;49;00m\u001b[38;5;124;43m/tasks/services/\u001b[39;49m\u001b[38;5;132;43;01m%s\u001b[39;49;00m\u001b[38;5;124;43m/clientid-\u001b[39;49m\u001b[38;5;132;43;01m%s\u001b[39;49;00m\u001b[38;5;124;43m\"\u001b[39;49m\u001b[43m \u001b[49m\u001b[38;5;241;43m%\u001b[39;49m\u001b[43m \u001b[49m\u001b[43m(\u001b[49m\u001b[38;5;28;43mself\u001b[39;49m\u001b[38;5;241;43m.\u001b[39;49m\u001b[43murl\u001b[49m\u001b[43m,\u001b[49m\u001b[43m \u001b[49m\u001b[43mname\u001b[49m\u001b[43m,\u001b[49m\u001b[43m \u001b[49m\u001b[43muuid\u001b[49m\u001b[38;5;241;43m.\u001b[39;49m\u001b[43muuid4\u001b[49m\u001b[43m(\u001b[49m\u001b[43m)\u001b[49m\u001b[38;5;241;43m.\u001b[39;49m\u001b[43mhex\u001b[49m\u001b[43m)\u001b[49m\u001b[43m,\u001b[49m\n\u001b[1;32m    368\u001b[0m \u001b[43m    \u001b[49m\u001b[43mrequest\u001b[49m\u001b[43m,\u001b[49m\n\u001b[1;32m    369\u001b[0m \u001b[43m    \u001b[49m\u001b[38;5;124;43m\"\u001b[39;49m\u001b[38;5;124;43mPUT\u001b[39;49m\u001b[38;5;124;43m\"\u001b[39;49m\u001b[43m,\u001b[49m\n\u001b[1;32m    370\u001b[0m \u001b[43m\u001b[49m\u001b[43m)\u001b[49m\n\u001b[1;32m    371\u001b[0m \u001b[38;5;28;01mreturn\u001b[39;00m result\n",
      "File \u001b[0;32m/project/pr133/hbanderi/miniconda3/envs/env/lib/python3.9/site-packages/cdsapi/api.py:506\u001b[0m, in \u001b[0;36mClient._api\u001b[0;34m(self, url, request, method)\u001b[0m\n\u001b[1;32m    504\u001b[0m             \u001b[38;5;28;01mbreak\u001b[39;00m\n\u001b[1;32m    505\u001b[0m         \u001b[38;5;28mself\u001b[39m\u001b[38;5;241m.\u001b[39merror(\u001b[38;5;124m\"\u001b[39m\u001b[38;5;124m  \u001b[39m\u001b[38;5;132;01m%s\u001b[39;00m\u001b[38;5;124m\"\u001b[39m, n)\n\u001b[0;32m--> 506\u001b[0m     \u001b[38;5;28;01mraise\u001b[39;00m \u001b[38;5;167;01mException\u001b[39;00m(\n\u001b[1;32m    507\u001b[0m         \u001b[38;5;124m\"\u001b[39m\u001b[38;5;132;01m%s\u001b[39;00m\u001b[38;5;124m. \u001b[39m\u001b[38;5;132;01m%s\u001b[39;00m\u001b[38;5;124m.\u001b[39m\u001b[38;5;124m\"\u001b[39m\n\u001b[1;32m    508\u001b[0m         \u001b[38;5;241m%\u001b[39m (reply[\u001b[38;5;124m\"\u001b[39m\u001b[38;5;124merror\u001b[39m\u001b[38;5;124m\"\u001b[39m]\u001b[38;5;241m.\u001b[39mget(\u001b[38;5;124m\"\u001b[39m\u001b[38;5;124mmessage\u001b[39m\u001b[38;5;124m\"\u001b[39m), reply[\u001b[38;5;124m\"\u001b[39m\u001b[38;5;124merror\u001b[39m\u001b[38;5;124m\"\u001b[39m]\u001b[38;5;241m.\u001b[39mget(\u001b[38;5;124m\"\u001b[39m\u001b[38;5;124mreason\u001b[39m\u001b[38;5;124m\"\u001b[39m))\n\u001b[1;32m    509\u001b[0m     )\n\u001b[1;32m    511\u001b[0m \u001b[38;5;28;01mraise\u001b[39;00m \u001b[38;5;167;01mException\u001b[39;00m(\u001b[38;5;124m\"\u001b[39m\u001b[38;5;124mUnknown API state [\u001b[39m\u001b[38;5;132;01m%s\u001b[39;00m\u001b[38;5;124m]\u001b[39m\u001b[38;5;124m\"\u001b[39m \u001b[38;5;241m%\u001b[39m (reply[\u001b[38;5;124m\"\u001b[39m\u001b[38;5;124mstate\u001b[39m\u001b[38;5;124m\"\u001b[39m],))\n",
      "\u001b[0;31mException\u001b[0m: . Traceback (most recent call last):\n  File \"/opt/cdstoolbox/cdscompute/cdscompute/cdshandlers/services/handler.py\", line 59, in handle_request\n    result = cached(context.method, proc, context, context.args, context.kwargs)\n  File \"/opt/cdstoolbox/cdscompute/cdscompute/caching.py\", line 108, in cached\n    result = proc(context, *context.args, **context.kwargs)\n  File \"/opt/cdstoolbox/cdscompute/cdscompute/services.py\", line 124, in __call__\n    return p(*args, **kwargs)\n  File \"/opt/cdstoolbox/cdscompute/cdscompute/services.py\", line 60, in __call__\n    return self.proc(context, *args, **kwargs)\n  File \"/home/cds/cdsservices/services/retrieve.py\", line 200, in execute\n    **retrieve_kwargs\n  File \"/opt/cdstoolbox/cdscompute/cdscompute/context.py\", line 301, in call\n    return c.call(service, *args, **kwargs).value\n  File \"/opt/cdstoolbox/cdsworkflows/cdsworkflows/future.py\", line 76, in value\n    raise self._result\ncdsworkflows.error.ClientError: None."
     ]
    }
   ],
   "source": [
    "DATADIR = \"/scratch/snx3000/hbanderi/data/persistent_data\"\n",
    "\n",
    "c = cdsapi.Client()\n",
    "MONTHS = [\n",
    "    \"01\", \"02\", \"03\", \"04\", \"05\", \"06\",\n",
    "    \"07\", \"08\", \"09\", \"10\", \"11\", \"12\"\n",
    "]\n",
    "varname = \"potential_vorticity\"\n",
    "year = \"2020\"\n",
    "grid = \"1.0/1.0\"\n",
    "plevel = \"850\"\n",
    "for month in MONTHS[:1]:\n",
    "    result = c.service(\n",
    "        \"tool.toolbox.orchestrator.workflow\",\n",
    "        \n",
    "        params={\n",
    "            \"realm\": \"user-apps\",\n",
    "            \"project\": 'app-c3s-daily-era5-statistics',\n",
    "            \"version\": \"master\",\n",
    "            \"kwargs\": {\n",
    "                \"dataset\": \"reanalysis-era5-pressure-levels\",\n",
    "                \"product_type\": \"reanalysis\",\n",
    "                \"variable\": varname,\n",
    "                \"statistic\": \"daily_mean\",\n",
    "                \"year\": year,\n",
    "                \"month\" : month,\n",
    "                \"time_zone\": \"UTC+00:0\",\n",
    "                \"frequency\": \"1-hourly\",\n",
    "                \"grid\": plevel,\n",
    "                \"area\": {\"lat\": [10, 80], \"lon\": [-80, 10]},\n",
    "                \"pressure_level\": plevel,\n",
    "            },\n",
    "            \"workflow_name\": \"application\"\n",
    "        }\n",
    "    )\n",
    "    c.download(result)\n",
    "    \n",
    "    filename = f\"{DATADIR}/{varname}_{year}{month}_{grid}_{plevel}.nc\"\n",
    "    os.rename(result[0][\"location\"].split(\"/\")[-1], filename)"
   ]
  }
 ],
 "metadata": {
  "kernelspec": {
   "display_name": "Python (other-env)",
   "language": "python",
   "name": "other-env"
  },
  "language_info": {
   "codemirror_mode": {
    "name": "ipython",
    "version": 3
   },
   "file_extension": ".py",
   "mimetype": "text/x-python",
   "name": "python",
   "nbconvert_exporter": "python",
   "pygments_lexer": "ipython3",
   "version": "3.9.12"
  }
 },
 "nbformat": 4,
 "nbformat_minor": 5
}
