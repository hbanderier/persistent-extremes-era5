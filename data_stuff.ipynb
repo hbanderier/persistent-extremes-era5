{
 "cells": [
  {
   "cell_type": "code",
   "execution_count": 1,
   "metadata": {},
   "outputs": [],
   "source": [
    "from jetstream_hugo.definitions import *\n",
    "from jetstream_hugo.plots import *\n",
    "from jetstream_hugo.data import *\n",
    "from jetstream_hugo.anyspell import *\n",
    "from jetstream_hugo.jet_finding import *\n",
    "from jetstream_hugo.clustering import *\n",
    "\n",
    "import colormaps\n",
    "\n",
    "%load_ext autoreload\n",
    "%autoreload 2\n",
    "%matplotlib inline"
   ]
  },
  {
   "cell_type": "markdown",
   "metadata": {},
   "source": [
    "# full globe jet finding"
   ]
  },
  {
   "cell_type": "code",
   "execution_count": 2,
   "metadata": {},
   "outputs": [],
   "source": [
    "ds = xr.open_mfdataset(\"/storage/workspaces/giub_meteo_impacts/ci01/ERA5/plev/flat_wind/dailymean/2022*.nc\")\n",
    "dh = DataHandler(ds, \"/storage/workspaces/giub_meteo_impacts/ci01/ERA5/plev/flat_wind/dailymean/results\")\n",
    "exp = JetFindingExperiment(dh)"
   ]
  },
  {
   "cell_type": "code",
   "execution_count": 5,
   "metadata": {},
   "outputs": [
    {
     "name": "stdout",
     "output_type": "stream",
     "text": [
      "[########################################] | 100.00% Completed | 708.87 ms\n"
     ]
    },
    {
     "name": "stderr",
     "output_type": "stream",
     "text": [
      "  0%|          | 0/146 [00:00<?, ?it/s]\n"
     ]
    },
    {
     "ename": "ValueError",
     "evalue": "cannot concat empty list",
     "output_type": "error",
     "traceback": [
      "\u001b[0;31m---------------------------------------------------------------------------\u001b[0m",
      "\u001b[0;31mValueError\u001b[0m                                Traceback (most recent call last)",
      "Cell \u001b[0;32mIn[5], line 1\u001b[0m\n\u001b[0;32m----> 1\u001b[0m all_jets \u001b[38;5;241m=\u001b[39m \u001b[43mexp\u001b[49m\u001b[38;5;241;43m.\u001b[39;49m\u001b[43mfind_jets\u001b[49m\u001b[43m(\u001b[49m\u001b[43m)\u001b[49m\n",
      "File \u001b[0;32m~/jetstream_hugo/src/jetstream_hugo/jet_finding.py:1280\u001b[0m, in \u001b[0;36mJetFindingExperiment.find_jets\u001b[0;34m(self, **kwargs)\u001b[0m\n\u001b[1;32m   1278\u001b[0m         ds_ \u001b[38;5;241m=\u001b[39m compute(\u001b[38;5;28mself\u001b[39m\u001b[38;5;241m.\u001b[39mds\u001b[38;5;241m.\u001b[39misel(time\u001b[38;5;241m=\u001b[39mindices), progress_flag\u001b[38;5;241m=\u001b[39m\u001b[38;5;28;01mTrue\u001b[39;00m)\n\u001b[1;32m   1279\u001b[0m         df_ds \u001b[38;5;241m=\u001b[39m pl\u001b[38;5;241m.\u001b[39mfrom_pandas(ds_\u001b[38;5;241m.\u001b[39mto_dataframe()\u001b[38;5;241m.\u001b[39mreset_index())\n\u001b[0;32m-> 1280\u001b[0m         all_jets_one_df\u001b[38;5;241m.\u001b[39mappend(\u001b[43mfind_all_jets\u001b[49m\u001b[43m(\u001b[49m\u001b[43mdf_ds\u001b[49m\u001b[43m,\u001b[49m\u001b[43m \u001b[49m\u001b[38;5;241;43m*\u001b[39;49m\u001b[38;5;241;43m*\u001b[39;49m\u001b[43mkwargs\u001b[49m\u001b[43m)\u001b[49m)\n\u001b[1;32m   1282\u001b[0m \u001b[38;5;28;01melse\u001b[39;00m:\n\u001b[1;32m   1283\u001b[0m     members \u001b[38;5;241m=\u001b[39m \u001b[38;5;28mself\u001b[39m\u001b[38;5;241m.\u001b[39mdata_handler\u001b[38;5;241m.\u001b[39mget_sample_dims()[\u001b[38;5;124m\"\u001b[39m\u001b[38;5;124mmember\u001b[39m\u001b[38;5;124m\"\u001b[39m]\n",
      "File \u001b[0;32m~/jetstream_hugo/src/jetstream_hugo/jet_finding.py:441\u001b[0m, in \u001b[0;36mfind_all_jets\u001b[0;34m(df, thresholds)\u001b[0m\n\u001b[1;32m    435\u001b[0m df \u001b[38;5;241m=\u001b[39m df\u001b[38;5;241m.\u001b[39mwith_columns(\n\u001b[1;32m    436\u001b[0m     lon\u001b[38;5;241m=\u001b[39mround_polars(\u001b[38;5;124m\"\u001b[39m\u001b[38;5;124mlon\u001b[39m\u001b[38;5;124m\"\u001b[39m)\u001b[38;5;241m.\u001b[39mcast(pl\u001b[38;5;241m.\u001b[39mFloat32),\n\u001b[1;32m    437\u001b[0m     lat\u001b[38;5;241m=\u001b[39mround_polars(\u001b[38;5;124m\"\u001b[39m\u001b[38;5;124mlat\u001b[39m\u001b[38;5;124m\"\u001b[39m)\u001b[38;5;241m.\u001b[39mcast(pl\u001b[38;5;241m.\u001b[39mFloat32),\n\u001b[1;32m    438\u001b[0m )\n\u001b[1;32m    440\u001b[0m \u001b[38;5;66;03m# contours\u001b[39;00m\n\u001b[0;32m--> 441\u001b[0m all_contours \u001b[38;5;241m=\u001b[39m \u001b[43mcompute_contours\u001b[49m\u001b[43m(\u001b[49m\u001b[43mdf\u001b[49m\u001b[43m)\u001b[49m\n\u001b[1;32m    442\u001b[0m all_contours \u001b[38;5;241m=\u001b[39m all_contours\u001b[38;5;241m.\u001b[39mwith_columns(\n\u001b[1;32m    443\u001b[0m     index\u001b[38;5;241m=\u001b[39mall_contours\u001b[38;5;241m.\u001b[39mgroup_by([\u001b[38;5;241m*\u001b[39mindex_columns, \u001b[38;5;124m\"\u001b[39m\u001b[38;5;124mcontour\u001b[39m\u001b[38;5;124m\"\u001b[39m], maintain_order\u001b[38;5;241m=\u001b[39m\u001b[38;5;28;01mTrue\u001b[39;00m)\n\u001b[1;32m    444\u001b[0m     \u001b[38;5;241m.\u001b[39magg(index\u001b[38;5;241m=\u001b[39mpl\u001b[38;5;241m.\u001b[39mint_range(\u001b[38;5;241m0\u001b[39m, pl\u001b[38;5;241m.\u001b[39mcol(\u001b[38;5;124m\"\u001b[39m\u001b[38;5;124mlon\u001b[39m\u001b[38;5;124m\"\u001b[39m)\u001b[38;5;241m.\u001b[39mlen()))\n\u001b[1;32m    445\u001b[0m     \u001b[38;5;241m.\u001b[39mexplode(\u001b[38;5;124m\"\u001b[39m\u001b[38;5;124mindex\u001b[39m\u001b[38;5;124m\"\u001b[39m)[\u001b[38;5;124m\"\u001b[39m\u001b[38;5;124mindex\u001b[39m\u001b[38;5;124m\"\u001b[39m]\n\u001b[1;32m    446\u001b[0m )\n\u001b[1;32m    447\u001b[0m \u001b[38;5;28;01mfor\u001b[39;00m index_column \u001b[38;5;129;01min\u001b[39;00m index_columns:\n",
      "File \u001b[0;32m~/jetstream_hugo/src/jetstream_hugo/jet_finding.py:276\u001b[0m, in \u001b[0;36mcompute_contours\u001b[0;34m(df)\u001b[0m\n\u001b[1;32m    274\u001b[0m iterator \u001b[38;5;241m=\u001b[39m df\u001b[38;5;241m.\u001b[39mgroup_by(index_columns, maintain_order\u001b[38;5;241m=\u001b[39m\u001b[38;5;28;01mTrue\u001b[39;00m)\n\u001b[1;32m    275\u001b[0m len_ \u001b[38;5;241m=\u001b[39m iterator\u001b[38;5;241m.\u001b[39mfirst()\u001b[38;5;241m.\u001b[39mshape[\u001b[38;5;241m0\u001b[39m]\n\u001b[0;32m--> 276\u001b[0m all_contours \u001b[38;5;241m=\u001b[39m \u001b[43mmap_maybe_parallel\u001b[49m\u001b[43m(\u001b[49m\n\u001b[1;32m    277\u001b[0m \u001b[43m    \u001b[49m\u001b[43miterator\u001b[49m\u001b[43m,\u001b[49m\u001b[43m \u001b[49m\u001b[43minnter_compute_contours\u001b[49m\u001b[43m,\u001b[49m\u001b[43m \u001b[49m\u001b[43mlen_\u001b[49m\u001b[43m,\u001b[49m\u001b[43m \u001b[49m\u001b[43mprocesses\u001b[49m\u001b[38;5;241;43m=\u001b[39;49m\u001b[38;5;241;43m1\u001b[39;49m\n\u001b[1;32m    278\u001b[0m \u001b[43m\u001b[49m\u001b[43m)\u001b[49m  \u001b[38;5;66;03m# polars-sequential is much faster than 20 cores multiproc\u001b[39;00m\n\u001b[1;32m    279\u001b[0m all_contours \u001b[38;5;241m=\u001b[39m pl\u001b[38;5;241m.\u001b[39mconcat(all_contours)\u001b[38;5;241m.\u001b[39mwith_columns(\n\u001b[1;32m    280\u001b[0m     lon\u001b[38;5;241m=\u001b[39mround_polars(\u001b[38;5;124m\"\u001b[39m\u001b[38;5;124mlon\u001b[39m\u001b[38;5;124m\"\u001b[39m, \u001b[38;5;241m2\u001b[39m), lat\u001b[38;5;241m=\u001b[39mround_polars(\u001b[38;5;124m\"\u001b[39m\u001b[38;5;124mlat\u001b[39m\u001b[38;5;124m\"\u001b[39m, \u001b[38;5;241m2\u001b[39m)\n\u001b[1;32m    281\u001b[0m )[\u001b[38;5;241m*\u001b[39mindex_columns, \u001b[38;5;124m\"\u001b[39m\u001b[38;5;124mcontour\u001b[39m\u001b[38;5;124m\"\u001b[39m, \u001b[38;5;124m\"\u001b[39m\u001b[38;5;124mlon\u001b[39m\u001b[38;5;124m\"\u001b[39m, \u001b[38;5;124m\"\u001b[39m\u001b[38;5;124mlat\u001b[39m\u001b[38;5;124m\"\u001b[39m, \u001b[38;5;124m\"\u001b[39m\u001b[38;5;124mcyclic\u001b[39m\u001b[38;5;124m\"\u001b[39m]\n\u001b[1;32m    282\u001b[0m lat_mapping \u001b[38;5;241m=\u001b[39m nearest_mapping(all_contours, df, \u001b[38;5;124m\"\u001b[39m\u001b[38;5;124mlat\u001b[39m\u001b[38;5;124m\"\u001b[39m)\n",
      "File \u001b[0;32m~/jetstream_hugo/src/jetstream_hugo/jet_finding.py:692\u001b[0m, in \u001b[0;36mmap_maybe_parallel\u001b[0;34m(iterator, func, len_, processes, chunksize, progress, pool_kwargs, ctx)\u001b[0m\n\u001b[1;32m    690\u001b[0m processes \u001b[38;5;241m=\u001b[39m \u001b[38;5;28mmin\u001b[39m(processes, len_)\n\u001b[1;32m    691\u001b[0m \u001b[38;5;28;01mif\u001b[39;00m processes \u001b[38;5;241m==\u001b[39m \u001b[38;5;241m1\u001b[39m \u001b[38;5;129;01mand\u001b[39;00m progress:\n\u001b[0;32m--> 692\u001b[0m     \u001b[38;5;28;01mreturn\u001b[39;00m \u001b[38;5;28;43mlist\u001b[39;49m\u001b[43m(\u001b[49m\u001b[43mtqdm\u001b[49m\u001b[43m(\u001b[49m\u001b[38;5;28;43mmap\u001b[39;49m\u001b[43m(\u001b[49m\u001b[43mfunc\u001b[49m\u001b[43m,\u001b[49m\u001b[43m \u001b[49m\u001b[43miterator\u001b[49m\u001b[43m)\u001b[49m\u001b[43m,\u001b[49m\u001b[43m \u001b[49m\u001b[43mtotal\u001b[49m\u001b[38;5;241;43m=\u001b[39;49m\u001b[43mlen_\u001b[49m\u001b[43m)\u001b[49m\u001b[43m)\u001b[49m\n\u001b[1;32m    693\u001b[0m \u001b[38;5;28;01mif\u001b[39;00m processes \u001b[38;5;241m==\u001b[39m \u001b[38;5;241m1\u001b[39m:\n\u001b[1;32m    694\u001b[0m     \u001b[38;5;28;01mreturn\u001b[39;00m \u001b[38;5;28mlist\u001b[39m(\u001b[38;5;28mmap\u001b[39m(func, iterator))\n",
      "File \u001b[0;32m~/miniforge3/envs/env11_2/lib/python3.11/site-packages/tqdm/std.py:1181\u001b[0m, in \u001b[0;36mtqdm.__iter__\u001b[0;34m(self)\u001b[0m\n\u001b[1;32m   1178\u001b[0m time \u001b[38;5;241m=\u001b[39m \u001b[38;5;28mself\u001b[39m\u001b[38;5;241m.\u001b[39m_time\n\u001b[1;32m   1180\u001b[0m \u001b[38;5;28;01mtry\u001b[39;00m:\n\u001b[0;32m-> 1181\u001b[0m \u001b[43m    \u001b[49m\u001b[38;5;28;43;01mfor\u001b[39;49;00m\u001b[43m \u001b[49m\u001b[43mobj\u001b[49m\u001b[43m \u001b[49m\u001b[38;5;129;43;01min\u001b[39;49;00m\u001b[43m \u001b[49m\u001b[43miterable\u001b[49m\u001b[43m:\u001b[49m\n\u001b[1;32m   1182\u001b[0m \u001b[43m        \u001b[49m\u001b[38;5;28;43;01myield\u001b[39;49;00m\u001b[43m \u001b[49m\u001b[43mobj\u001b[49m\n\u001b[1;32m   1183\u001b[0m \u001b[43m        \u001b[49m\u001b[38;5;66;43;03m# Update and possibly print the progressbar.\u001b[39;49;00m\n\u001b[1;32m   1184\u001b[0m \u001b[43m        \u001b[49m\u001b[38;5;66;43;03m# Note: does not call self.update(1) for speed optimisation.\u001b[39;49;00m\n",
      "File \u001b[0;32m~/jetstream_hugo/src/jetstream_hugo/jet_finding.py:269\u001b[0m, in \u001b[0;36minnter_compute_contours\u001b[0;34m(args)\u001b[0m\n\u001b[1;32m    261\u001b[0m valid_index \u001b[38;5;241m=\u001b[39m [i \u001b[38;5;28;01mfor\u001b[39;00m i, contour \u001b[38;5;129;01min\u001b[39;00m \u001b[38;5;28menumerate\u001b[39m(contours) \u001b[38;5;28;01mif\u001b[39;00m \u001b[38;5;28mlen\u001b[39m(contour) \u001b[38;5;241m>\u001b[39m \u001b[38;5;241m20\u001b[39m]\n\u001b[1;32m    262\u001b[0m contours \u001b[38;5;241m=\u001b[39m [\n\u001b[1;32m    263\u001b[0m     pl\u001b[38;5;241m.\u001b[39mDataFrame(contours[i], schema\u001b[38;5;241m=\u001b[39m{\u001b[38;5;124m\"\u001b[39m\u001b[38;5;124mlon\u001b[39m\u001b[38;5;124m\"\u001b[39m: pl\u001b[38;5;241m.\u001b[39mFloat32, \u001b[38;5;124m\"\u001b[39m\u001b[38;5;124mlat\u001b[39m\u001b[38;5;124m\"\u001b[39m: pl\u001b[38;5;241m.\u001b[39mFloat32})\n\u001b[1;32m    264\u001b[0m     \u001b[38;5;241m.\u001b[39mwith_columns(\u001b[38;5;241m*\u001b[39m\u001b[38;5;241m*\u001b[39mindexer)\n\u001b[0;32m   (...)\u001b[0m\n\u001b[1;32m    267\u001b[0m     \u001b[38;5;28;01mfor\u001b[39;00m i \u001b[38;5;129;01min\u001b[39;00m valid_index\n\u001b[1;32m    268\u001b[0m ]\n\u001b[0;32m--> 269\u001b[0m \u001b[38;5;28;01mreturn\u001b[39;00m \u001b[43mpl\u001b[49m\u001b[38;5;241;43m.\u001b[39;49m\u001b[43mconcat\u001b[49m\u001b[43m(\u001b[49m\u001b[43mcontours\u001b[49m\u001b[43m)\u001b[49m\n",
      "File \u001b[0;32m~/miniforge3/envs/env11_2/lib/python3.11/site-packages/polars/functions/eager.py:133\u001b[0m, in \u001b[0;36mconcat\u001b[0;34m(items, how, rechunk, parallel)\u001b[0m\n\u001b[1;32m    131\u001b[0m \u001b[38;5;28;01mif\u001b[39;00m \u001b[38;5;129;01mnot\u001b[39;00m elems:\n\u001b[1;32m    132\u001b[0m     msg \u001b[38;5;241m=\u001b[39m \u001b[38;5;124m\"\u001b[39m\u001b[38;5;124mcannot concat empty list\u001b[39m\u001b[38;5;124m\"\u001b[39m\n\u001b[0;32m--> 133\u001b[0m     \u001b[38;5;28;01mraise\u001b[39;00m \u001b[38;5;167;01mValueError\u001b[39;00m(msg)\n\u001b[1;32m    134\u001b[0m \u001b[38;5;28;01melif\u001b[39;00m \u001b[38;5;28mlen\u001b[39m(elems) \u001b[38;5;241m==\u001b[39m \u001b[38;5;241m1\u001b[39m \u001b[38;5;129;01mand\u001b[39;00m \u001b[38;5;28misinstance\u001b[39m(\n\u001b[1;32m    135\u001b[0m     elems[\u001b[38;5;241m0\u001b[39m], (pl\u001b[38;5;241m.\u001b[39mDataFrame, pl\u001b[38;5;241m.\u001b[39mSeries, pl\u001b[38;5;241m.\u001b[39mLazyFrame)\n\u001b[1;32m    136\u001b[0m ):\n\u001b[1;32m    137\u001b[0m     \u001b[38;5;28;01mreturn\u001b[39;00m elems[\u001b[38;5;241m0\u001b[39m]\n",
      "\u001b[0;31mValueError\u001b[0m: cannot concat empty list"
     ]
    }
   ],
   "source": [
    "all_jets = exp.find_jets()"
   ]
  },
  {
   "cell_type": "code",
   "execution_count": 4,
   "metadata": {},
   "outputs": [
    {
     "data": {
      "image/png": "[encoded data removed]",
      "text/plain": [
       "<Figure size 650x162.726 with 2 Axes>"
      ]
     },
     "metadata": {},
     "output_type": "display_data"
    }
   ],
   "source": [
    "clu = Clusterplot(1, 1, get_region(ds))\n",
    "clu.add_contourf([ds[\"s\"][0]], cmap=colormaps.matter, levels=7)\n",
    "jets = all_jets.filter(pl.col(\"time\") == all_jets[0, \"time\"]) \n",
    "for indexer, jet in jets.group_by(\"jet ID\"):\n",
    "    lon, lat = jet[[\"lon\", \"lat\"]].to_numpy().T\n",
    "    plt.plot(lon, lat)"
   ]
  },
  {
   "cell_type": "markdown",
   "metadata": {},
   "source": [
    "# arco-era5 tests"
   ]
  },
  {
   "cell_type": "code",
   "execution_count": null,
   "metadata": {},
   "outputs": [],
   "source": [
    "ds = xr.open_zarr(\n",
    "    \"gs://gcp-public-data-arco-era5/ar/full_37-1h-0p25deg-chunk-1.zarr-v3\",\n",
    "    chunks=None,\n",
    "    storage_options=dict(token=\"anon\"),\n",
    ")\n",
    "ar_full_37_1h = ds.sel(\n",
    "    time=slice(ds.attrs[\"valid_time_start\"], ds.attrs[\"valid_time_stop\"])\n",
    ")\n",
    "\n",
    "base_ds = (\n",
    "    ar_full_37_1h[[\"u_component_of_wind\", \"v_component_of_wind\"]]\n",
    "    .sel(\n",
    "        time=ar_full_37_1h.time.dt.hour % 6 == 0,\n",
    "        latitude=ar_full_37_1h.latitude >= 0,\n",
    "        level=[175, 200, 225, 250, 300, 350],\n",
    "    )\n",
    "    .isel(longitude=slice(None, None, 2), latitude=slice(None, None, 2))\n",
    ")\n",
    "\n",
    "base_path = Path(f\"{DATADIR}/ERA5/plev/flat_wind/dailymean\")\n",
    "for year in YEARS:\n",
    "    for month in range(1, 13):\n",
    "        month_str = str(month).zfill(2)\n",
    "        opath = base_path.joinpath(f\"{year}{month_str}.nc\")\n",
    "        if opath.is_file():\n",
    "            continue\n",
    "        ds = compute(\n",
    "            base_ds.sel(\n",
    "                time=(base_ds.time.dt.year == year) & (base_ds.time.dt.month == month)\n",
    "            ),\n",
    "            progress=True,\n",
    "        )\n",
    "        ds = standardize(ds)\n",
    "        ds[\"s\"] = np.sqrt(ds[\"u\"] ** 2 + ds[\"v\"] ** 2)\n",
    "        ds = flatten_by(ds, \"s\")\n",
    "        ds.to_netcdf(opath)\n",
    "        print(f\"Completed {year}{month}\")"
   ]
  },
  {
   "cell_type": "markdown",
   "metadata": {},
   "source": [
    "# Climatologies, datahandlers of new data"
   ]
  },
  {
   "cell_type": "code",
   "execution_count": null,
   "metadata": {},
   "outputs": [],
   "source": [
    "compute_all_smoothed_anomalies(\"ERA5\", \"surf\", \"t2m\", \"dailymean\", 'dayofyear', {'dayofyear': ('win', 15)}, None)"
   ]
  },
  {
   "cell_type": "code",
   "execution_count": null,
   "metadata": {},
   "outputs": [],
   "source": [
    "compute_all_smoothed_anomalies(\"ERA5\", \"surf\", \"tp\", \"dailymean\", 'dayofyear', {'dayofyear': ('win', 15)}, None)"
   ]
  },
  {
   "cell_type": "code",
   "execution_count": null,
   "metadata": {},
   "outputs": [],
   "source": [
    "compute_all_smoothed_anomalies(\"ERA5\", \"surf\", \"sst\", \"dailymean\", 'dayofyear', {'dayofyear': ('win', 15)}, None)"
   ]
  },
  {
   "cell_type": "code",
   "execution_count": null,
   "metadata": {},
   "outputs": [],
   "source": [
    "compute_all_smoothed_anomalies(\"ERA5\", \"surf\", \"mslp\", \"dailymean\", 'dayofyear', {'dayofyear': ('win', 15)}, None)"
   ]
  },
  {
   "cell_type": "code",
   "execution_count": null,
   "metadata": {},
   "outputs": [],
   "source": [
    "compute_all_smoothed_anomalies(\"ERA5\", \"thetalev\", \"apvs\", \"dailymean\", 'dayofyear', {'dayofyear': ('win', 15)}, None)"
   ]
  },
  {
   "cell_type": "code",
   "execution_count": null,
   "metadata": {},
   "outputs": [],
   "source": [
    "compute_all_smoothed_anomalies(\"ERA5\", \"thetalev\", \"cpvs\", \"dailymean\", 'dayofyear', {'dayofyear': ('win', 15)}, None)"
   ]
  },
  {
   "cell_type": "code",
   "execution_count": null,
   "metadata": {},
   "outputs": [],
   "source": [
    "for year in tqdm(YEARS):\n",
    "    da = open_da(\"ERA5\", \"thetalev\", \"apvs\", \"6H\", period=[year])\n",
    "    da = compute(da.chunk({\"lev\": 1}).resample(time=\"1d\").mean(), progress_flag=True)\n",
    "    da.to_netcdf(data_path(\"ERA5\", \"thetalev\", \"apvs\", \"dailymean\").joinpath(f\"{year}.nc\"))"
   ]
  },
  {
   "cell_type": "code",
   "execution_count": null,
   "metadata": {},
   "outputs": [],
   "source": [
    "for year in tqdm(YEARS):\n",
    "    da = open_da(\"ERA5\", \"plev\", \"z\", \"6H\", period=[year])\n",
    "    da = compute(da.chunk({\"lev\": 1}).resample(time=\"1d\").mean(), progress_flag=True)\n",
    "    da.to_netcdf(data_path(\"ERA5\", \"plev\", \"z\", \"dailymean\").joinpath(f\"{year}.nc\"))"
   ]
  },
  {
   "cell_type": "code",
   "execution_count": null,
   "metadata": {},
   "outputs": [],
   "source": [
    "compute_all_smoothed_anomalies(\"ERA5\", \"plev\", \"z\", \"dailymean\", 'dayofyear', {'dayofyear': ('win', 15)}, None)"
   ]
  },
  {
   "cell_type": "code",
   "execution_count": null,
   "metadata": {},
   "outputs": [],
   "source": [
    "for year in tqdm(YEARS):\n",
    "    da = open_da(\"ERA5\", \"thetalev\", \"cpvs\", \"6H\", period=[year])\n",
    "    da = compute(da.chunk({\"lev\": 1}).resample(time=\"1d\").mean(), progress_flag=False)\n",
    "    da.to_netcdf(data_path(\"ERA5\", \"thetalev\", \"cpvs\", \"dailymean\").joinpath(f\"{year}.nc\"))"
   ]
  },
  {
   "cell_type": "code",
   "execution_count": null,
   "metadata": {},
   "outputs": [],
   "source": [
    "da_ = compute(da.sel(lev=350), progress_flag=True)"
   ]
  },
  {
   "cell_type": "code",
   "execution_count": null,
   "metadata": {},
   "outputs": [],
   "source": [
    "da_"
   ]
  },
  {
   "cell_type": "code",
   "execution_count": null,
   "metadata": {},
   "outputs": [],
   "source": [
    "da_ = pl.from_pandas(da_.to_dataframe().reset_index()).cast({\"lat\": pl.Float32, \"lon\": pl.Float32, \"lev\": pl.UInt16})"
   ]
  },
  {
   "cell_type": "code",
   "execution_count": null,
   "metadata": {},
   "outputs": [],
   "source": [
    "da_"
   ]
  },
  {
   "cell_type": "code",
   "execution_count": null,
   "metadata": {},
   "outputs": [],
   "source": [
    "da_.group_by(pl.col(\"time\").dt.ordinal_day(), pl.col(\"lat\"), pl.col(\"lon\")).agg(pl.col(\"apvs\").mean())"
   ]
  },
  {
   "cell_type": "code",
   "execution_count": null,
   "metadata": {},
   "outputs": [],
   "source": [
    "compute_all_smoothed_anomalies(\"ERA5\", \"thetalev\", \"apvs\", \"6H\", 'hourofyear', {'hourofyear': ('win', 60)}, None)"
   ]
  },
  {
   "cell_type": "code",
   "execution_count": null,
   "metadata": {},
   "outputs": [],
   "source": [
    "compute_all_smoothed_anomalies(\"ERA5\", \"thetalev\", \"cpvs\", \"6H\", 'hourofyear', {'hourofyear': ('win', 60)}, None)"
   ]
  },
  {
   "cell_type": "markdown",
   "metadata": {},
   "source": [
    "# new pvs das"
   ]
  },
  {
   "cell_type": "code",
   "execution_count": null,
   "metadata": {},
   "outputs": [],
   "source": [
    "import polars_st as st"
   ]
  },
  {
   "cell_type": "code",
   "execution_count": null,
   "metadata": {},
   "outputs": [],
   "source": [
    "def to_xarray(events: st.GeoDataFrame, dummy_da: xr.DataArray, varname: str):\n",
    "    dummy_da = dummy_da.rename(\"dummy\")\n",
    "    da_df = pl.from_pandas(dummy_da.to_dataframe().reset_index())\n",
    "    orig_times = da_df[\"time\"]\n",
    "    timedtype = orig_times.dtype\n",
    "    da_df = da_df.drop(\"time\", \"dummy\")\n",
    "    da_df = da_df.unique([\"lat\", \"lon\"]).sort([\"lat\", \"lon\"]).with_columns(geometry=st.from_xy(\"lon\", \"lat\"))\n",
    "    da_df = st.GeoDataFrame(da_df)\n",
    "    events = events.with_columns(pl.col(\"geometry\").st.buffer(0.25))\n",
    "    events = (\n",
    "        events.select([\"date\", \"geometry\", varname])\n",
    "        .cast({varname: pl.Float32})\n",
    "        .rename({\"date\": \"time\"})\n",
    "    )\n",
    "    events = events.cast({\"time\": timedtype})\n",
    "    events = events.filter(pl.col(\"time\").is_in(orig_times))\n",
    "    dummy_da = xr.zeros_like(dummy_da, dtype=np.float32)\n",
    "    events = events.st.sjoin(da_df, on=\"geometry\", how=\"inner\", predicate=\"contains\")\n",
    "    events = events.unique([\"time\", \"lon\", \"lat\"])\n",
    "    events_da = xr.DataArray.from_series(\n",
    "        events[[\"time\", varname, \"lat\", \"lon\"]]\n",
    "        .to_pandas()\n",
    "        .set_index([\"time\", \"lat\", \"lon\"])[varname]\n",
    "    ).fillna(0)\n",
    "    dummy_da.loc[\n",
    "        {\n",
    "            \"time\": events_da.time.values,\n",
    "            \"lat\": events_da.lat.values,\n",
    "            \"lon\": events_da.lon.values,\n",
    "        }\n",
    "    ] = events_da\n",
    "    return dummy_da"
   ]
  },
  {
   "cell_type": "code",
   "execution_count": null,
   "metadata": {},
   "outputs": [],
   "source": [
    "all_events = {}\n",
    "for level in trange(310, 365, 5):\n",
    "    events = st.from_geopandas(gpd.read_parquet(f\"/storage/workspaces/giub_meteo_impacts/ci01/ERA5/RWB_index/era5_pv_streamers_{level}K_1959-2022.parquet\"))\n",
    "\n",
    "    tropospheric = events.filter(pl.col(\"mean_var\") < pl.col(\"level\"))\n",
    "    anticyclonic = tropospheric.filter(pl.col(\"intensity\") >= pl.col(\"level\"))\n",
    "    cyclonic = tropospheric.filter(pl.col(\"intensity\") < pl.col(\"level\"))\n",
    "    \n",
    "    all_events[level] = {\"anti\": anticyclonic, \"cycl\": cyclonic}"
   ]
  },
  {
   "cell_type": "code",
   "execution_count": null,
   "metadata": {},
   "outputs": [],
   "source": [
    "for year in YEARS:\n",
    "    # for month in range(1, 13):\n",
    "    ofile_anti = Path(f\"{DATADIR}/ERA5/thetalev/apvs/6H/{year}.nc\")\n",
    "    ofile_cycl = Path(f\"{DATADIR}/ERA5/thetalev/cpvs/6H/{year}.nc\")\n",
    "    if ofile_cycl.is_file() and ofile_anti.is_file():\n",
    "        continue\n",
    "    time_mask = (TIMERANGE.year == year)# & (TIMERANGE.month == month)\n",
    "    coords = {\n",
    "        \"time\": TIMERANGE[time_mask],\n",
    "        \"lat\": np.arange(0, 90.5, .5),\n",
    "        \"lon\": np.arange(-180, 180, .5),\n",
    "    }\n",
    "    shape = [len(co) for co in coords.values()]\n",
    "    dummy_da = xr.DataArray(np.zeros(shape), coords=coords)\n",
    "    anti_all_levs = {}\n",
    "    cycl_all_levs = {}\n",
    "    for lev, events in tqdm(all_events.items(), total=11):\n",
    "        anti_all_levs[lev] = to_xarray(events[\"anti\"], dummy_da, \"intensity\")\n",
    "        cycl_all_levs[lev] = to_xarray(events[\"cycl\"], dummy_da, \"intensity\")\n",
    "    anti_all_levs = xr.concat(anti_all_levs.values(), dim=\"lev\").assign_coords(lev=list(anti_all_levs))\n",
    "    cycl_all_levs = xr.concat(cycl_all_levs.values(), dim=\"lev\").assign_coords(lev=list(cycl_all_levs))\n",
    "    anti_all_levs.to_netcdf(ofile_anti)\n",
    "    cycl_all_levs.to_netcdf(ofile_cycl)"
   ]
  },
  {
   "cell_type": "markdown",
   "metadata": {},
   "source": [
    "# CESM"
   ]
  },
  {
   "cell_type": "code",
   "execution_count": null,
   "metadata": {},
   "outputs": [],
   "source": [
    "from pathlib import Path\n",
    "import numpy as np\n",
    "import xarray as xr\n",
    "basepath = Path(\"/storage/workspaces/giub_meteo_impacts/ci01/CESM2/flat_wind\")\n",
    "paths = list(basepath.iterdir())\n",
    "paths = [path for path in paths if path.suffix == \".nc\" and path.name != \"ds.nc\"]\n",
    "parts = [path.name.split(\".\")[0].split(\"-\") for path in paths]\n",
    "parts = np.asarray(parts)\n",
    "sorted_order = np.argsort([memb.replace(\"r10\", \"r0\") for memb in parts[:, 0]])\n",
    "parts = parts[sorted_order]\n",
    "paths = [paths[i] for i in sorted_order]\n",
    "all_members = np.unique(parts[:, 0])\n",
    "all_years = np.unique(parts[:, 1])\n",
    "\n",
    "not_here = []\n",
    "here = []\n",
    "for year in all_years:\n",
    "    for member in all_members:\n",
    "        potential_path = basepath.joinpath(f\"{member}-{year}.nc\")\n",
    "        if potential_path.is_file():\n",
    "            here.append(potential_path)\n",
    "        else:\n",
    "            not_here.append(potential_path)\n",
    "len(here)\n",
    "\n",
    "from itertools import groupby\n",
    "paths_to_load = []\n",
    "valid_ensembles = []\n",
    "for key, indices in groupby(range(len(parts)), lambda i: parts[i][0]):\n",
    "    indices = list(indices)\n",
    "    group = parts[indices]\n",
    "    these_paths = [paths[i] for i in indices]\n",
    "    years = np.asarray(list([g[1] for g in group]))\n",
    "    if len(years) == 60:\n",
    "        paths_to_load.append(these_paths)\n",
    "        valid_ensembles.append(key)\n",
    "    else:\n",
    "        print(key, len(years))"
   ]
  },
  {
   "cell_type": "code",
   "execution_count": null,
   "metadata": {},
   "outputs": [],
   "source": [
    "from tqdm import tqdm\n",
    "ds = []\n",
    "for ptl in tqdm(paths_to_load):\n",
    "    ds_ = []\n",
    "    for p in ptl:\n",
    "        this = xr.open_dataset(p)\n",
    "        this = this.reset_coords(\"time_bnds\", drop=True).drop_dims(\"nbnd\")\n",
    "        ds_.append(this)\n",
    "    ds.append(xr.concat(ds_, dim=\"time\"))\n",
    "ds = xr.concat(ds, dim=\"member\")\n",
    "# ds = xr.concat([xr.concat([xr.open_dataset[ptl_] for ptl_ in ptl], dim=\"time\") for ptl in paths_to_load], dim=\"member\")"
   ]
  },
  {
   "cell_type": "code",
   "execution_count": null,
   "metadata": {},
   "outputs": [],
   "source": [
    "import dask\n",
    "from dask.distributed import progress, Client\n",
    "from jetstream_hugo.definitions import COMPUTE_KWARGS\n",
    "client = Client(**COMPUTE_KWARGS)\n",
    "dask.persist(ds)\n",
    "progress(ds, notebook=False)\n",
    "ds = dask.compute(ds)"
   ]
  },
  {
   "cell_type": "code",
   "execution_count": null,
   "metadata": {},
   "outputs": [],
   "source": [
    "ds = ds[0]\n",
    "to_comp = ds.to_zarr(f\"/storage/workspaces/giub_meteo_impacts/ci01/CESM2/flat_wind/ds.zarr\", compute=False, encoding={var: {\"chunks\": (-1, 100, -1, -1)} for var in ds.data_vars}, mode=\"w\")\n",
    "dask.persist(to_comp)\n",
    "progress(to_comp, notebook=False)\n",
    "dask.compute(to_comp)"
   ]
  },
  {
   "cell_type": "markdown",
   "metadata": {},
   "source": [
    "# extreme cesm clim"
   ]
  },
  {
   "cell_type": "code",
   "execution_count": null,
   "metadata": {},
   "outputs": [],
   "source": [
    "import numpy as np\n",
    "from jetstream_hugo.data import *\n",
    "quantiles = ds[\"s\"].quantile(np.arange(0.6, 1, 0.05), [\"member\", \"lon\", \"lat\"]).compute()\n",
    "quantiles = smooth(quantiles, {\"time\": (\"win\", 15)}).load()\n",
    "quantiles.to_netcdf(f\"{DATADIR}/CESM2/flat_wind/results/s_q.nc\")\n"
   ]
  },
  {
   "cell_type": "code",
   "execution_count": null,
   "metadata": {},
   "outputs": [],
   "source": [
    "from matplotlib.dates import DateFormatter, MonthLocator\n",
    "from jetstream_hugo.definitions import *\n",
    "from scipy.stats import linregress\n",
    "\n",
    "def get_trend(da):\n",
    "    years = np.unique(da.time.dt.year)\n",
    "    if \"jet\" not in da.dims:\n",
    "        result = linregress(years, da.values)\n",
    "        return xr.Dataset({\"slope\": result.slope, \"p\": result.pvalue})\n",
    "    jets = da.jet.values\n",
    "    slopes = xr.DataArray(np.zeros(len(jets)), coords={\"jet\": jets})\n",
    "    pvalues = slopes.copy()\n",
    "    for j, jet in enumerate(jets):\n",
    "        result = linregress(years, da.isel(jet=j).values)\n",
    "        slopes[j] = result.slope\n",
    "        pvalues[j] = result.pvalue\n",
    "    return xr.Dataset({\"slope\": slopes, \"p\": pvalues})\n",
    "\n",
    "winsize = 15\n",
    "halfwinsize = int(np.ceil(winsize / 2))\n",
    "\n",
    "fig, ax = plt.subplots()\n",
    "for q, qval in zip(quantiles[::2], np.arange(0.6, 1, 0.05 * 2)):\n",
    "    gb = q.groupby(\"time.dayofyear\")\n",
    "    x = list(gb.groups)\n",
    "    x = DATERANGE[x]\n",
    "    ys = gb.map(get_trend) \n",
    "    ps = ys[\"p\"]\n",
    "    ys = ys[\"slope\"]\n",
    "    ys = ys.pad({\"dayofyear\": halfwinsize}, mode=\"wrap\")\n",
    "    ys = ys.rolling(dayofyear=winsize, center=True).mean()\n",
    "    ys = ys.isel({\"dayofyear\": slice(halfwinsize, -halfwinsize)})\n",
    "    ax.plot(x, ys, label=f\"$q={qval:.1f}$\", lw=2)\n",
    "ax.grid(True)\n",
    "ax.xaxis.set_major_locator(MonthLocator(range(0, 13, 3)))\n",
    "ax.xaxis.set_major_formatter(DateFormatter(\"1 %b\"))\n",
    "ax.set_xlim(min(x), max(x))\n",
    "ax.legend()"
   ]
  },
  {
   "cell_type": "code",
   "execution_count": null,
   "metadata": {},
   "outputs": [],
   "source": [
    "q_clim = compute_clim(quantiles, \"dayofyear\")\n",
    "q_clim = smooth(q_clim, {\"dayofyear\": (\"win\", 61)}).load()\n",
    "q_clim.to_netcdf(f\"{DATADIR}/CESM2/flat_wind/results/s_q_clim.nc\")"
   ]
  },
  {
   "cell_type": "code",
   "execution_count": null,
   "metadata": {},
   "outputs": [],
   "source": [
    "ds = ds.reset_coords(\"time_bnds\", drop=True)"
   ]
  },
  {
   "cell_type": "markdown",
   "metadata": {},
   "source": [
    "# Extreme experiment"
   ]
  },
  {
   "cell_type": "code",
   "execution_count": null,
   "metadata": {},
   "outputs": [],
   "source": [
    "exp_tp = ExtremeExperiment(\n",
    "    DataHandler(\"ERA5\", \"surf\", \"tp\", \"6H\", \"all\", \"JJA\", -30, 40, 30, 75, 250, 'hourofyear', {'hourofyear': ('win', 4 * 15)}, None),\n",
    "    q = 0.95,\n",
    ")\n",
    "da_tp = exp_tp.da.load()\n",
    "\n",
    "data_handlers = {}\n",
    "for varname in [\"u\", \"v\", \"s\"]:\n",
    "    dh = DataHandler(\"ERA5\", \"plev\", varname, \"6H\", \"all\", None, -80, 40, 15, 80, [175, 200, 225, 250, 300, 350], reduce_da=False)\n",
    "    data_handlers[varname] = dh\n",
    "exp = MultiVarExperiment(data_handlers)\n",
    "\n",
    "all_jets_one_df, where_are_jets, all_jets_one_array, all_jets_over_time, flags = exp.track_jets()\n",
    "props_as_ds = exp.props_as_ds(True)"
   ]
  },
  {
   "cell_type": "code",
   "execution_count": null,
   "metadata": {},
   "outputs": [],
   "source": [
    "from deepdiff import DeepHash\n",
    "DeepHash(load_pickle(\"/storage/workspaces/giub_meteo_impacts/ci01/ERA5/surf/tp/6H/hourofyear_hourofyearwin60/results/1/predictions/1/metadata.pkl\"))"
   ]
  },
  {
   "cell_type": "code",
   "execution_count": null,
   "metadata": {},
   "outputs": [],
   "source": [
    "subset = [\"mean_lon\", \"mean_lat\", \"mean_lev\", \"spe_star\", \"width\", \"wavinessR16\", \"persistence\", \"com_speed\", \"int\"]\n",
    "predictors = prepare_predictors(\n",
    "    props_as_ds,\n",
    "    subset=subset,\n",
    "    anomalize=True,\n",
    "    normalize=True,\n",
    "    detrend=True,\n",
    "    nan_method=\"nearest\",\n",
    "    season=\"JJA\",\n",
    ")\n",
    "time_before = pd.Timedelta(0, \"D\")\n",
    "n_clu = 22\n",
    "clusters_da = exp_tp.spatial_clusters_as_da(n_clu)\n",
    "targets, length_targets, all_spells_ts, all_spells = exp_tp.create_targets(n_clu, 0.95, minlen=np.timedelta64(1, \"D\"))\n",
    "binary_targets = length_targets > 0\n",
    "masked_predictors = mask_from_spells_multi_region(predictors, targets, all_spells_ts, all_spells, time_before=time_before)"
   ]
  },
  {
   "cell_type": "code",
   "execution_count": null,
   "metadata": {},
   "outputs": [],
   "source": [
    "clu = Clusterplot(1, 1, exp_tp.region)\n",
    "cmap = colormaps.BlAqGrYeOrReVi200\n",
    "ax = clu.axes[0]\n",
    "unique_clusters = np.arange(n_clu)\n",
    "norm = BoundaryNorm(np.concatenate([[-1], unique_clusters]) + 0.5, cmap.N)\n",
    "clusters_da.unstack().plot(\n",
    "    ax=ax,\n",
    "    cmap=cmap,\n",
    "    norm=norm,\n",
    "    add_colorbar=False,\n",
    "    add_labels=False\n",
    ")\n",
    "for j in range(n_clu):\n",
    "    lo = clusters_da.lon.where(clusters_da==j).mean().item()\n",
    "    la = clusters_da.lat.where(clusters_da==j).mean().item()\n",
    "    ax.text(lo, la, f\"${j}$\", ha=\"center\", va=\"center\", fontweight=\"bold\")"
   ]
  },
  {
   "cell_type": "code",
   "execution_count": null,
   "metadata": {},
   "outputs": [],
   "source": [
    "compute_all_smoothed_anomalies(\"ERA5\", \"plev\", \"s\", \"6H\", 'hourofyear', {'hourofyear': ('win', 4 * 15)}, None)"
   ]
  },
  {
   "cell_type": "code",
   "execution_count": null,
   "metadata": {},
   "outputs": [],
   "source": [
    "compute_all_smoothed_anomalies(\"ERA5\", \"surf\", \"tp\", \"6H\", 'hourofyear', {'hourofyear': ('win', 4 * 15)}, None)"
   ]
  },
  {
   "cell_type": "code",
   "execution_count": null,
   "metadata": {},
   "outputs": [],
   "source": [
    "basepath = Path(f\"{DATADIR}/ERA5/surf\")\n",
    "varnames = [\"u10\", \"v10\", \"s10\"]\n",
    "for year, month in tqdm(product(YEARS, range(1, 13)), total=len(YEARS) * 12):\n",
    "    month_str = str(month).zfill(2)\n",
    "    ofiles = {varname: basepath.joinpath(f\"{varname}/6H/{year}{month_str}.nc\") for varname in varnames}\n",
    "    if all([ofile.is_file() for ofile in ofiles.values()]):\n",
    "        continue\n",
    "    ds = xr.open_dataset(basepath.joinpath(f\"raw/{year}{month_str}.nc\"))\n",
    "    ds = ds.rename(longitude=\"lon\", latitude=\"lat\")\n",
    "    ds = ds.assign_coords(lon=(((ds.lon + 180) % 360) - 180))\n",
    "    ds = ds.sortby(\"lon\")\n",
    "    ds = ds.sortby(\"lat\")\n",
    "    ds[\"s10\"] = np.sqrt(ds[\"u10\"] ** 2 + ds[\"v10\"] ** 2)\n",
    "    for varname in varnames:\n",
    "        da = ds[varname]\n",
    "        with warnings.catch_warnings():\n",
    "            warnings.simplefilter(\"ignore\", category=xr.SerializationWarning)\n",
    "            da.to_netcdf(ofiles[varname])"
   ]
  }
 ],
 "metadata": {
  "kernelspec": {
   "display_name": "env112",
   "language": "python",
   "name": "env112"
  },
  "language_info": {
   "codemirror_mode": {
    "name": "ipython",
    "version": 3
   },
   "file_extension": ".py",
   "mimetype": "text/x-python",
   "name": "python",
   "nbconvert_exporter": "python",
   "pygments_lexer": "ipython3",
   "version": "3.11.9"
  }
 },
 "nbformat": 4,
 "nbformat_minor": 2
}
