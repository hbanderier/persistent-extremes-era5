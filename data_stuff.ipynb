{
 "cells": [
  {
   "cell_type": "code",
   "execution_count": 3,
   "metadata": {},
   "outputs": [],
   "source": [
    "from jetstream_hugo.definitions import *\n",
    "from jetstream_hugo.plots import *\n",
    "from jetstream_hugo.data import *\n",
    "from jetstream_hugo.anyspell import *\n",
    "from jetstream_hugo.jet_finding import *\n",
    "import intake\n",
    "\n",
    "import colormaps\n",
    "\n",
    "%load_ext autoreload\n",
    "%autoreload 2\n",
    "%matplotlib inline\n"
   ]
  },
  {
   "cell_type": "markdown",
   "metadata": {},
   "source": [
    "# CESM"
   ]
  },
  {
   "cell_type": "code",
   "execution_count": 7,
   "metadata": {},
   "outputs": [
    {
     "name": "stdout",
     "output_type": "stream",
     "text": [
      "\n",
      "--> The keys in the returned dictionary of datasets are constructed as follows:\n",
      "\t'component.experiment.frequency.forcing_variant'\n"
     ]
    },
    {
     "data": {
      "text/html": [
       "\n",
       "<style>\n",
       "    /* Turns off some styling */\n",
       "    progress {\n",
       "        /* gets rid of default border in Firefox and Opera. */\n",
       "        border: none;\n",
       "        /* Needs to be in here for Safari polyfill so background images work as expected. */\n",
       "        background-size: auto;\n",
       "    }\n",
       "    progress:not([value]), progress:not([value])::-webkit-progress-bar {\n",
       "        background: repeating-linear-gradient(45deg, #7e7e7e, #7e7e7e 10px, #5c5c5c 10px, #5c5c5c 20px);\n",
       "    }\n",
       "    .progress-bar-interrupted, .progress-bar-interrupted::-webkit-progress-bar {\n",
       "        background: #F44336;\n",
       "    }\n",
       "</style>\n"
      ],
      "text/plain": [
       "<IPython.core.display.HTML object>"
      ]
     },
     "metadata": {},
     "output_type": "display_data"
    },
    {
     "data": {
      "text/html": [
       "\n",
       "    <div>\n",
       "      <progress value='2' class='' max='2' style='width:300px; height:20px; vertical-align: middle;'></progress>\n",
       "      100.00% [2/2 00:15&lt;00:00]\n",
       "    </div>\n",
       "    "
      ],
      "text/plain": [
       "<IPython.core.display.HTML object>"
      ]
     },
     "metadata": {},
     "output_type": "display_data"
    },
    {
     "name": "stderr",
     "output_type": "stream",
     "text": [
      "Increasing number of chunks by factor of 49\n"
     ]
    }
   ],
   "source": [
    "catalog = intake.open_esm_datastore(\n",
    "    'https://raw.githubusercontent.com/NCAR/cesm2-le-aws/main/intake-catalogs/aws-cesm2-le.json'\n",
    ")\n",
    "catalog_subset = catalog.search(variable=['U', \"V\"], frequency=\"daily\", forcing_variant=\"cmip6\")\n",
    "dsets = catalog_subset.to_dataset_dict(storage_options={'anon':True})"
   ]
  },
  {
   "cell_type": "code",
   "execution_count": 8,
   "metadata": {},
   "outputs": [],
   "source": [
    "historical_cmip6 = dsets['atm.historical.daily.cmip6']\n",
    "future_cmip6 = dsets['atm.ssp370.daily.cmip6']"
   ]
  },
  {
   "cell_type": "code",
   "execution_count": null,
   "metadata": {},
   "outputs": [],
   "source": [
    "def standardize(ds):\n",
    "    ds = ds.rename({\"U\": \"u\", \"V\": \"v\"})\n",
    "    ds[\"u\"] = ds[\"u\"].astype(np.float16)\n",
    "    ds[\"u\"] = ds[\"u\"].astype(np.float16)\n",
    "    ds = ds.assign_coords(lon=(((ds.lon + 180) % 360) - 180))\n",
    "    ds = ds.sortby(\"lon\")\n",
    "    ds = ds.sortby(\"lat\")\n",
    "    ds[\"s\"] = np.sqrt(ds[\"u\"] ** 2 + ds[\"v\"] ** 2)\n",
    "    return ds.unify_chunks()\n",
    "\n",
    "merge_ds_cmip6= xr.concat([standardize(historical_cmip6), standardize(future_cmip6)], dim='time')\n",
    "merge_ds_cmip6['time'] = merge_ds_cmip6.indexes['time'].to_datetimeindex()"
   ]
  },
  {
   "cell_type": "code",
   "execution_count": null,
   "metadata": {},
   "outputs": [],
   "source": [
    "def flatten_by(ds: xr.Dataset, by: str = \"-criterion\") -> xr.Dataset:\n",
    "    if \"lev\" not in ds.dims:\n",
    "        return ds\n",
    "    ope = np.nanargmin if by[0] == \"-\" else np.nanargmax\n",
    "    by = by.lstrip(\"-\")\n",
    "    levmax = ds[by].reduce(ope, dim=\"lev\")\n",
    "    ds = ds.isel(lev=levmax).reset_coords(\"lev\")  # but not drop\n",
    "    ds[\"lev\"] = ds[\"lev\"].astype(np.float32)\n",
    "    return ds\n",
    "\n",
    "\n",
    "template = merge_ds_cmip6.isel(lev=0).reset_coords(\"lev\", drop=True)\n",
    "template[\"lev\"] = template[\"u\"]\n",
    "flattened = xr.map_blocks(flatten_by, merge_ds_cmip6, kwargs=dict(by=\"s\"), template=template)"
   ]
  },
  {
   "cell_type": "markdown",
   "metadata": {},
   "source": [
    "# Daskify"
   ]
  },
  {
   "cell_type": "code",
   "execution_count": 4,
   "metadata": {},
   "outputs": [],
   "source": [
    "data_handlers = {}\n",
    "for varname in [\"u\", \"v\", \"s\"]:\n",
    "    dh = DataHandler(\"ERA5\", \"plev\", varname, \"6H\", \"all\", None, -80, 40, 15, 80, [175, 200, 225, 250, 300, 350], reduce_da=False)\n",
    "    data_handlers[varname] = dh\n",
    "# exp = MultiVarExperiment(data_handlers)\n",
    "\n",
    "# all_jets_one_df, where_are_jets, all_jets_one_array, all_jets_over_time, flags = exp.track_jets()"
   ]
  },
  {
   "cell_type": "code",
   "execution_count": 5,
   "metadata": {},
   "outputs": [],
   "source": [
    "ds = xr.Dataset({varname: dh.da.astype(np.float32) for varname, dh in data_handlers.items()})"
   ]
  },
  {
   "cell_type": "code",
   "execution_count": 13,
   "metadata": {},
   "outputs": [],
   "source": [
    "def flatten_by(ds: xr.Dataset, by: str = \"-criterion\") -> xr.Dataset:\n",
    "    if \"lev\" not in ds.dims:\n",
    "        return ds\n",
    "    ope = np.nanargmin if by[0] == \"-\" else np.nanargmax\n",
    "    by = by.lstrip(\"-\")\n",
    "    levmax = ds[by].reduce(ope, dim=\"lev\")\n",
    "    ds = ds.isel(lev=levmax).reset_coords(\"lev\")  # but not drop\n",
    "    ds[\"lev\"] = ds[\"lev\"].astype(np.float32)\n",
    "    return ds\n",
    "\n",
    "\n",
    "def preprocess(ds: xr.Dataset, smooth_s: float = None) -> xr.Dataset:\n",
    "    ds = flatten_by(ds, \"s\")\n",
    "    ds = coarsen_da(ds, 1.5)\n",
    "    if smooth_s is not None:\n",
    "        for var in [\"u\", \"v\", \"s\"]:\n",
    "            ds[var] = smooth(ds[var], smooth_map={\"lon+lat\": (\"fft\", smooth_s)})\n",
    "    ds = ds.assign_coords(\n",
    "        {\n",
    "            \"x\": np.radians(ds[\"lon\"]) * RADIUS,\n",
    "            \"y\": RADIUS\n",
    "            * np.log(\n",
    "                (1 + np.sin(np.radians(ds[\"lat\"])) / np.cos(np.radians(ds[\"lat\"])))\n",
    "            ),\n",
    "        }\n",
    "    )\n",
    "    with warnings.catch_warnings():\n",
    "        warnings.simplefilter(\"ignore\", category=RuntimeWarning)\n",
    "        ds[\"sigma\"] = (\n",
    "            ds[\"u\"] * ds[\"s\"].differentiate(\"y\") - ds[\"v\"] * ds[\"s\"].differentiate(\"x\")\n",
    "        ) / ds[\"s\"]\n",
    "    fft_smoothing = 1.0 if ds[\"sigma\"].min() < -0.0001 else 0.8\n",
    "    ds[\"sigma\"] = smooth(ds[\"sigma\"], smooth_map={\"lon+lat\": (\"fft\", fft_smoothing)})\n",
    "    return ds.reset_coords([\"x\", \"y\"], drop=True)\n",
    "\n",
    "\n",
    "def find_jets(\n",
    "    ds: xr.Dataset,\n",
    "    wind_threshold: float = 23,\n",
    "    jet_threshold: float = 1.0e8,\n",
    "    alignment_threshold: float = 0.3,\n",
    "    mean_alignment_threshold: float = 0.7,\n",
    "    smooth_s: float = 0.3,\n",
    "    hole_size: int = 1,\n",
    "):\n",
    "    if \"threshold\" in ds:\n",
    "        wind_threshold = ds[\"threshold\"].item()\n",
    "        jet_threshold = jet_threshold * ds[\"threshold_ratio\"].item()\n",
    "    ds = preprocess(ds, smooth_s=smooth_s)\n",
    "    lon, lat = ds.lon.values, ds.lat.values\n",
    "    dx = lon[1] - lon[0]\n",
    "    contours, types = contour_generator(\n",
    "        x=lon, y=lat, z=ds[\"sigma\"].values, line_type=\"SeparateCode\", quad_as_tri=False\n",
    "    ).lines(0.0)\n",
    "    groups = []\n",
    "    for contour, types_ in zip(contours, types):\n",
    "        if len(contour) < 15:\n",
    "            continue\n",
    "        cyclic: bool = 79 in types_\n",
    "        group = interp_xy_ds(ds, contour[::-1])\n",
    "        group = compute_alignment(group)\n",
    "        mask = (group[\"alignment\"] > alignment_threshold) & (\n",
    "            group[\"s\"].values > wind_threshold\n",
    "        )\n",
    "        mask = mask.values\n",
    "        indicess = get_runs_fill_holes(mask, hole_size=hole_size, cyclic=cyclic)\n",
    "        for indices in indicess:\n",
    "            indices = np.unique(indices)\n",
    "            if len(indices) < 15:\n",
    "                continue\n",
    "            try:\n",
    "                group_df = group.to_dataframe().drop(columns=\"time\").iloc[indices]\n",
    "            except KeyError:\n",
    "                group_df = (\n",
    "                    group.to_dataframe().drop(columns=[\"ratio\", \"label\"]).iloc[indices]\n",
    "                )\n",
    "            group_ = group_df[[\"lon\", \"lat\"]].values.astype(np.float32)\n",
    "            labels = (\n",
    "                AgglomerativeClustering(\n",
    "                    n_clusters=None, distance_threshold=dx * 1.9, linkage=\"single\"\n",
    "                )\n",
    "                .fit(group_)\n",
    "                .labels_\n",
    "            )\n",
    "            masks = labels_to_mask(labels)\n",
    "            for mask in masks.T:\n",
    "                groups.append(group_df.iloc[mask])\n",
    "    jets = []\n",
    "    for group_df in groups:\n",
    "        bigjump = np.diff(group_df[\"lon\"]) < -3 * dx\n",
    "        if any(bigjump):\n",
    "            here = np.where(bigjump)[0][0] + 1\n",
    "            group_df = group_df.apply(np.roll, args=(-here,), raw=True)\n",
    "        group_ = group_df[[\"lon\", \"lat\", \"s\"]].values.astype(np.float32)\n",
    "        jet_int = jet_integral_haversine(group_)\n",
    "        mean_alignment = np.mean(group_df[\"alignment\"].values)\n",
    "        if jet_int > jet_threshold and mean_alignment > mean_alignment_threshold:\n",
    "            jets.append(xr.Dataset.from_dataframe(group_df.reset_index()))\n",
    "    return xr.concat(jets, dim=\"jet\").drop_vars(\"points\").rename(index=\"point\").astype(np.float32)\n",
    "\n",
    "\n",
    "def find_all_jets(\n",
    "    ds: xr.Dataset,\n",
    "    n_jets: int = 15,\n",
    "    n_points: int = 230,\n",
    "    **kwargs,\n",
    "):\n",
    "    template = ds.copy()\n",
    "    template = template.isel(lev=0, lat=0, lon=0).reset_coords([\"lev\", \"lat\", \"lon\"], drop=True)\n",
    "    template = template.expand_dims({\"jet\": np.arange(n_jets), \"point\": np.arange(n_points)}).copy()\n",
    "    for newvar in [\"lev\", \"sigma\", \"lon\", \"lat\", \"alignment\"]:\n",
    "        template[newvar] = template[\"s\"].copy().astype(np.float32)\n",
    "    template = template.transpose(\"time\", \"jet\", \"point\")\n",
    "\n",
    "    def inner_find_all_jets(ds_block):\n",
    "        extra_dims = {}\n",
    "        for potential in [\"time\", \"member\"]:\n",
    "            if potential in ds_block.dims:\n",
    "                extra_dims[potential] = ds_block[potential].values\n",
    "        coords = extra_dims | {\"jet\": np.arange(n_jets), \"point\": np.arange(n_points)}\n",
    "        shape = [len(co) for co in coords.values()]\n",
    "        template_da = xr.DataArray(np.full(shape, np.nan, dtype=np.float32), coords=coords)\n",
    "        to_ret = None\n",
    "        iter_ = product(*list(extra_dims.values()))\n",
    "        for vals in iter_:\n",
    "            indexer = {dim: val for dim, val in zip(extra_dims, vals)}\n",
    "            this_ds = ds_block.loc[indexer]\n",
    "            these_jets = find_jets(this_ds, **kwargs)\n",
    "            indexer = indexer | {\"jet\": these_jets.jet.values, \"point\": these_jets.point.values}\n",
    "            if to_ret is None:\n",
    "                to_ret = xr.Dataset({varname: template_da.copy() for varname in these_jets.data_vars})\n",
    "            to_ret.loc[indexer] = these_jets\n",
    "        return to_ret\n",
    "    \n",
    "    all_jets_one_ds = xr.map_blocks(inner_find_all_jets, ds, template=template)\n",
    "    with ProgressBar():\n",
    "        all_jets_one_ds = all_jets_one_ds.compute(**COMPUTE_KWARGS)\n",
    "\n",
    "    return all_jets_one_ds"
   ]
  },
  {
   "cell_type": "code",
   "execution_count": 14,
   "metadata": {},
   "outputs": [
    {
     "name": "stdout",
     "output_type": "stream",
     "text": [
      "[                                        ] | 1% Completed | 297.65 ss\n"
     ]
    },
    {
     "name": "stderr",
     "output_type": "stream",
     "text": [
      "\n",
      "KeyboardInterrupt\n",
      "\n"
     ]
    }
   ],
   "source": [
    "find_all_jets(ds)"
   ]
  },
  {
   "cell_type": "code",
   "execution_count": 8,
   "metadata": {},
   "outputs": [],
   "source": [
    "n_jets = 15\n",
    "n_points = 250\n",
    "\n",
    "template = ds.copy()\n",
    "template = template.isel(lev=0, lat=0, lon=0).reset_coords([\"lev\", \"lat\", \"lon\"], drop=True)\n",
    "template = template.expand_dims({\"jet\": np.arange(n_jets), \"point\": np.arange(n_points)}).copy()\n",
    "for newvar in [\"lev\", \"sigma\", \"lon\", \"lat\", \"alignment\"]:\n",
    "    template[newvar] = template[\"s\"].copy().astype(np.float32)\n",
    "template = template.transpose(\"time\", \"jet\", \"point\")"
   ]
  },
  {
   "cell_type": "code",
   "execution_count": 9,
   "metadata": {},
   "outputs": [
    {
     "name": "stdout",
     "output_type": "stream",
     "text": [
      "[#                                       ] | 3% Completed | 17m 12sss\n"
     ]
    },
    {
     "name": "stderr",
     "output_type": "stream",
     "text": [
      "\n",
      "KeyboardInterrupt\n",
      "\n"
     ]
    }
   ],
   "source": [
    "from dask.diagnostics import ProgressBar\n",
    "all_jets_one_ds = xr.map_blocks(find_all_jets, ds, template=template)\n",
    "with ProgressBar():\n",
    "    all_jets_one_ds = all_jets_one_ds.compute(**COMPUTE_KWARGS)"
   ]
  },
  {
   "cell_type": "markdown",
   "metadata": {},
   "source": [
    "# Extreme experiment"
   ]
  },
  {
   "cell_type": "code",
   "execution_count": 5,
   "metadata": {},
   "outputs": [],
   "source": [
    "exp_tp = ExtremeExperiment(\n",
    "    DataHandler(\"ERA5\", \"surf\", \"tp\", \"6H\", \"all\", \"JJA\", -30, 40, 30, 75, 250, 'hourofyear', {'hourofyear': ('win', 4 * 15)}, None),\n",
    "    q = 0.95,\n",
    ")\n",
    "da_tp = exp_tp.da.load()\n",
    "\n",
    "data_handlers = {}\n",
    "for varname in [\"u\", \"v\", \"s\"]:\n",
    "    dh = DataHandler(\"ERA5\", \"plev\", varname, \"6H\", \"all\", None, -80, 40, 15, 80, [175, 200, 225, 250, 300, 350], reduce_da=False)\n",
    "    data_handlers[varname] = dh\n",
    "exp = MultiVarExperiment(data_handlers)\n",
    "\n",
    "all_jets_one_df, where_are_jets, all_jets_one_array, all_jets_over_time, flags = exp.track_jets()\n",
    "props_as_ds = exp.props_as_ds(True)"
   ]
  },
  {
   "cell_type": "code",
   "execution_count": 28,
   "metadata": {},
   "outputs": [
    {
     "data": {
      "text/plain": [
       "{'n_clu': 'f7d339d7242593cf7bacb03b4648e837ae9cd8ce0f70b43f2205848296cf18d6', 11: 'fa26322d0f2ff88344439244a7df169ea50f03fa52ec69ff090791329db4e06f', 'q': 'ee5da069bca4e15d4536ace9d495f182cff455ff5156ad6cb383d41043ad6fe3', 0.95: 'f7d6e1d019c39117d19622ec38491cf2c8a97a485b09091b33645d4099dff124', 'simple': 'f7fdc0e90632355be9e3fd9b0a9ebb265a227b3909a48a09282fb451697b7035', <BoolObj.FALSE: 0>: 'b195620d3676be89da6277412918e9f4e5e2bf23b0eaacfcf674c87609c67f3a', 'minlen': '57c29967c27c63a5330cbe4...}"
      ]
     },
     "execution_count": 28,
     "metadata": {},
     "output_type": "execute_result"
    }
   ],
   "source": [
    "from deepdiff import DeepHash\n",
    "DeepHash(load_pickle(\"/storage/workspaces/giub_meteo_impacts/ci01/ERA5/surf/tp/6H/hourofyear_hourofyearwin60/results/1/predictions/1/metadata.pkl\"))"
   ]
  },
  {
   "cell_type": "code",
   "execution_count": 30,
   "metadata": {},
   "outputs": [
    {
     "name": "stderr",
     "output_type": "stream",
     "text": [
      "100%|██████████| 22/22 [01:07<00:00,  3.06s/it]\n",
      "100%|██████████| 22/22 [00:05<00:00,  4.01it/s]\n"
     ]
    }
   ],
   "source": [
    "subset = [\"mean_lon\", \"mean_lat\", \"mean_lev\", \"spe_star\", \"width\", \"wavinessR16\", \"persistence\", \"com_speed\", \"int\"]\n",
    "predictors = prepare_predictors(\n",
    "    props_as_ds,\n",
    "    subset=subset,\n",
    "    anomalize=True,\n",
    "    normalize=True,\n",
    "    detrend=True,\n",
    "    nan_method=\"nearest\",\n",
    "    season=\"JJA\",\n",
    ")\n",
    "time_before = pd.Timedelta(0, \"D\")\n",
    "n_clu = 22\n",
    "clusters_da = exp_tp.spatial_clusters_as_da(n_clu)\n",
    "targets, length_targets, all_spells_ts, all_spells = exp_tp.create_targets(n_clu, 0.95, minlen=np.timedelta64(1, \"D\"))\n",
    "binary_targets = length_targets > 0\n",
    "masked_predictors = mask_from_spells_multi_region(predictors, targets, all_spells_ts, all_spells, time_before=time_before)"
   ]
  },
  {
   "cell_type": "code",
   "execution_count": 31,
   "metadata": {},
   "outputs": [
    {
     "data": {
      "image/png": "[encoded data removed]",
      "text/plain": [
       "<Figure size 650x417.857 with 1 Axes>"
      ]
     },
     "metadata": {},
     "output_type": "display_data"
    }
   ],
   "source": [
    "clu = Clusterplot(1, 1, exp_tp.region)\n",
    "cmap = colormaps.BlAqGrYeOrReVi200\n",
    "ax = clu.axes[0]\n",
    "unique_clusters = np.arange(n_clu)\n",
    "norm = BoundaryNorm(np.concatenate([[-1], unique_clusters]) + 0.5, cmap.N)\n",
    "clusters_da.unstack().plot(\n",
    "    ax=ax,\n",
    "    cmap=cmap,\n",
    "    norm=norm,\n",
    "    add_colorbar=False,\n",
    "    add_labels=False\n",
    ")\n",
    "for j in range(n_clu):\n",
    "    lo = clusters_da.lon.where(clusters_da==j).mean().item()\n",
    "    la = clusters_da.lat.where(clusters_da==j).mean().item()\n",
    "    ax.text(lo, la, f\"${j}$\", ha=\"center\", va=\"center\", fontweight=\"bold\")"
   ]
  },
  {
   "cell_type": "code",
   "execution_count": 2,
   "metadata": {},
   "outputs": [
    {
     "name": "stdout",
     "output_type": "stream",
     "text": [
      "[########################################] | 100% Completed | 43m 20s\n"
     ]
    },
    {
     "name": "stderr",
     "output_type": "stream",
     "text": [
      "100%|██████████| 768/768 [1:00:00<00:00,  4.69s/it]\n"
     ]
    }
   ],
   "source": [
    "compute_all_smoothed_anomalies(\"ERA5\", \"plev\", \"s\", \"6H\", 'hourofyear', {'hourofyear': ('win', 4 * 15)}, None)"
   ]
  },
  {
   "cell_type": "code",
   "execution_count": 3,
   "metadata": {},
   "outputs": [
    {
     "name": "stderr",
     "output_type": "stream",
     "text": [
      "/storage/homefs/hb22g102/miniforge3/envs/env11_2/lib/python3.11/site-packages/xarray/core/indexing.py:1620: PerformanceWarning: Slicing is producing a large chunk. To accept the large\n",
      "chunk and silence this warning, set the option\n",
      "    >>> with dask.config.set(**{'array.slicing.split_large_chunks': False}):\n",
      "    ...     array[indexer]\n",
      "\n",
      "To avoid creating the large chunks, set the option\n",
      "    >>> with dask.config.set(**{'array.slicing.split_large_chunks': True}):\n",
      "    ...     array[indexer]\n",
      "  return self.array[key]\n",
      "100%|██████████| 83/83 [02:30<00:00,  1.81s/it]\n"
     ]
    }
   ],
   "source": [
    "compute_all_smoothed_anomalies(\"ERA5\", \"surf\", \"tp\", \"6H\", 'hourofyear', {'hourofyear': ('win', 4 * 15)}, None)"
   ]
  },
  {
   "cell_type": "code",
   "execution_count": null,
   "metadata": {},
   "outputs": [
    {
     "name": "stderr",
     "output_type": "stream",
     "text": [
      "  0%|          | 0/768 [00:00<?, ?it/s]"
     ]
    },
    {
     "name": "stderr",
     "output_type": "stream",
     "text": [
      "100%|██████████| 768/768 [25:46<00:00,  2.01s/it]\n"
     ]
    }
   ],
   "source": [
    "basepath = Path(f\"{DATADIR}/ERA5/surf\")\n",
    "varnames = [\"u10\", \"v10\", \"s10\"]\n",
    "for year, month in tqdm(product(YEARS, range(1, 13)), total=len(YEARS) * 12):\n",
    "    month_str = str(month).zfill(2)\n",
    "    ofiles = {varname: basepath.joinpath(f\"{varname}/6H/{year}{month_str}.nc\") for varname in varnames}\n",
    "    if all([ofile.is_file() for ofile in ofiles.values()]):\n",
    "        continue\n",
    "    ds = xr.open_dataset(basepath.joinpath(f\"raw/{year}{month_str}.nc\"))\n",
    "    ds = ds.rename(longitude=\"lon\", latitude=\"lat\")\n",
    "    ds = ds.assign_coords(lon=(((ds.lon + 180) % 360) - 180))\n",
    "    ds = ds.sortby(\"lon\")\n",
    "    ds = ds.sortby(\"lat\")\n",
    "    ds[\"s10\"] = np.sqrt(ds[\"u10\"] ** 2 + ds[\"v10\"] ** 2)\n",
    "    for varname in varnames:\n",
    "        da = ds[varname]\n",
    "        with warnings.catch_warnings():\n",
    "            warnings.simplefilter(\"ignore\", category=xr.SerializationWarning)\n",
    "            da.to_netcdf(ofiles[varname])"
   ]
  }
 ],
 "metadata": {
  "kernelspec": {
   "display_name": "env112",
   "language": "python",
   "name": "env112"
  },
  "language_info": {
   "codemirror_mode": {
    "name": "ipython",
    "version": 3
   },
   "file_extension": ".py",
   "mimetype": "text/x-python",
   "name": "python",
   "nbconvert_exporter": "python",
   "pygments_lexer": "ipython3",
   "version": "3.11.9"
  }
 },
 "nbformat": 4,
 "nbformat_minor": 2
}
