{
 "cells": [
  {
   "cell_type": "code",
   "execution_count": 21,
   "id": "70c2be01-ea74-4586-825d-b599b067739f",
   "metadata": {},
   "outputs": [],
   "source": [
    "import os\n",
    "import sys\n",
    "import numpy as np\n",
    "import xarray as xr\n",
    "import numpy as np\n",
    "import cartopy.crs as ccrs\n",
    "import cartopy.feature as feat\n",
    "from definitions import *"
   ]
  },
  {
   "cell_type": "code",
   "execution_count": null,
   "id": "b3f1d413",
   "metadata": {},
   "outputs": [],
   "source": [
    "iles = np.asarray([filenamegeneric(y, m, \"Woollings_daily\") for y in YEARSPL for m in range(1, 13)]).flatten()\n",
    "da = xr.open_mfdataset(files, concat_dim=\"time\", combine='nested', engine=\"netcdf4\")[\"u\"].isel(lon=0)"
   ]
  }
 ],
 "metadata": {
  "kernelspec": {
   "display_name": "Python 3 (ipykernel)",
   "language": "python",
   "name": "python3"
  },
  "vscode": {
   "interpreter": {
    "hash": "31f2aee4e71d21fbe5cf8b01ff0e069b9275f58929596ceb00d14d90e3e16cd6"
   }
  }
 },
 "nbformat": 4,
 "nbformat_minor": 5
}
