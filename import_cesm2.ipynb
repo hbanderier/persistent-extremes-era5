{
 "cells": [
  {
   "cell_type": "markdown",
   "id": "8ef45b84-10f4-4dd4-b580-2eebcdcb5396",
   "metadata": {},
   "source": [
    "# Access CESM2-LE data"
   ]
  },
  {
   "cell_type": "code",
   "execution_count": 1,
   "id": "f42c901b-50a7-4f88-92f1-28a51c1be169",
   "metadata": {},
   "outputs": [],
   "source": [
    "# import packages\n",
    "import intake\n",
    "import xarray as xr\n",
    "import numpy as np\n",
    "import cupy as cp\n",
    "import cupy_xarray\n",
    "# import matplotlib.pyplot as plt\n",
    "\n",
    "def degcos(x):\n",
    "    return np.cos(x / 180 * np.pi)\n",
    "\n",
    "UBILEXSCRATCH = \"/storage/scratch/users/hb22g102\""
   ]
  },
  {
   "cell_type": "code",
   "execution_count": 3,
   "id": "560040fc",
   "metadata": {},
   "outputs": [
    {
     "name": "stderr",
     "output_type": "stream",
     "text": [
      "/storage/homefs/hb22g102/.conda/envs/pers/lib/python3.9/site-packages/fastprogress/fastprogress.py:107: UserWarning: Couldn't import ipywidgets properly, progress bar will use console behavior\n",
      "  warn(\"Couldn't import ipywidgets properly, progress bar will use console behavior\")\n"
     ]
    },
    {
     "ename": "ImportError",
     "evalue": "HTTPFileSystem requires \"requests\" and \"aiohttp\" to be installed",
     "output_type": "error",
     "traceback": [
      "\u001b[0;31m---------------------------------------------------------------------------\u001b[0m",
      "\u001b[0;31mModuleNotFoundError\u001b[0m                       Traceback (most recent call last)",
      "File \u001b[0;32m~/.conda/envs/pers/lib/python3.9/site-packages/fsspec/registry.py:243\u001b[0m, in \u001b[0;36mget_filesystem_class\u001b[0;34m(protocol)\u001b[0m\n\u001b[1;32m    242\u001b[0m \u001b[39mtry\u001b[39;00m:\n\u001b[0;32m--> 243\u001b[0m     register_implementation(protocol, _import_class(bit[\u001b[39m\"\u001b[39;49m\u001b[39mclass\u001b[39;49m\u001b[39m\"\u001b[39;49m]))\n\u001b[1;32m    244\u001b[0m \u001b[39mexcept\u001b[39;00m \u001b[39mImportError\u001b[39;00m \u001b[39mas\u001b[39;00m e:\n",
      "File \u001b[0;32m~/.conda/envs/pers/lib/python3.9/site-packages/fsspec/registry.py:266\u001b[0m, in \u001b[0;36m_import_class\u001b[0;34m(cls, minv)\u001b[0m\n\u001b[1;32m    265\u001b[0m mod, name \u001b[39m=\u001b[39m \u001b[39mcls\u001b[39m\u001b[39m.\u001b[39mrsplit(\u001b[39m\"\u001b[39m\u001b[39m.\u001b[39m\u001b[39m\"\u001b[39m, \u001b[39m1\u001b[39m)\n\u001b[0;32m--> 266\u001b[0m mod \u001b[39m=\u001b[39m importlib\u001b[39m.\u001b[39;49mimport_module(mod)\n\u001b[1;32m    267\u001b[0m \u001b[39mreturn\u001b[39;00m \u001b[39mgetattr\u001b[39m(mod, name)\n",
      "File \u001b[0;32m~/.conda/envs/pers/lib/python3.9/importlib/__init__.py:127\u001b[0m, in \u001b[0;36mimport_module\u001b[0;34m(name, package)\u001b[0m\n\u001b[1;32m    126\u001b[0m         level \u001b[39m+\u001b[39m\u001b[39m=\u001b[39m \u001b[39m1\u001b[39m\n\u001b[0;32m--> 127\u001b[0m \u001b[39mreturn\u001b[39;00m _bootstrap\u001b[39m.\u001b[39;49m_gcd_import(name[level:], package, level)\n",
      "File \u001b[0;32m<frozen importlib._bootstrap>:1030\u001b[0m, in \u001b[0;36m_gcd_import\u001b[0;34m(name, package, level)\u001b[0m\n",
      "File \u001b[0;32m<frozen importlib._bootstrap>:1007\u001b[0m, in \u001b[0;36m_find_and_load\u001b[0;34m(name, import_)\u001b[0m\n",
      "File \u001b[0;32m<frozen importlib._bootstrap>:986\u001b[0m, in \u001b[0;36m_find_and_load_unlocked\u001b[0;34m(name, import_)\u001b[0m\n",
      "File \u001b[0;32m<frozen importlib._bootstrap>:680\u001b[0m, in \u001b[0;36m_load_unlocked\u001b[0;34m(spec)\u001b[0m\n",
      "File \u001b[0;32m<frozen importlib._bootstrap_external>:850\u001b[0m, in \u001b[0;36mexec_module\u001b[0;34m(self, module)\u001b[0m\n",
      "File \u001b[0;32m<frozen importlib._bootstrap>:228\u001b[0m, in \u001b[0;36m_call_with_frames_removed\u001b[0;34m(f, *args, **kwds)\u001b[0m\n",
      "File \u001b[0;32m~/.conda/envs/pers/lib/python3.9/site-packages/fsspec/implementations/http.py:11\u001b[0m\n\u001b[1;32m      9\u001b[0m \u001b[39mfrom\u001b[39;00m \u001b[39murllib\u001b[39;00m\u001b[39m.\u001b[39;00m\u001b[39mparse\u001b[39;00m \u001b[39mimport\u001b[39;00m urlparse\n\u001b[0;32m---> 11\u001b[0m \u001b[39mimport\u001b[39;00m \u001b[39maiohttp\u001b[39;00m\n\u001b[1;32m     12\u001b[0m \u001b[39mimport\u001b[39;00m \u001b[39mrequests\u001b[39;00m\n",
      "\u001b[0;31mModuleNotFoundError\u001b[0m: No module named 'aiohttp'",
      "\nThe above exception was the direct cause of the following exception:\n",
      "\u001b[0;31mImportError\u001b[0m                               Traceback (most recent call last)",
      "Cell \u001b[0;32mIn[3], line 1\u001b[0m\n\u001b[0;32m----> 1\u001b[0m catalog \u001b[39m=\u001b[39m intake\u001b[39m.\u001b[39;49mopen_esm_datastore(\u001b[39m\"\u001b[39;49m\u001b[39mhttps://ncar-cesm2-lens.s3-us-west-2.amazonaws.com/catalogs/aws-cesm2-le.json\u001b[39;49m\u001b[39m\"\u001b[39;49m)\n\u001b[1;32m      2\u001b[0m catalog_subset \u001b[39m=\u001b[39m catalog\u001b[39m.\u001b[39msearch(frequency \u001b[39m=\u001b[39m \u001b[39m\"\u001b[39m\u001b[39mdaily\u001b[39m\u001b[39m\"\u001b[39m, variable \u001b[39m=\u001b[39m[\u001b[39m\"\u001b[39m\u001b[39mU\u001b[39m\u001b[39m\"\u001b[39m, \u001b[39m\"\u001b[39m\u001b[39mV\u001b[39m\u001b[39m\"\u001b[39m], forcing_variant \u001b[39m=\u001b[39m \u001b[39m\"\u001b[39m\u001b[39mcmip6\u001b[39m\u001b[39m\"\u001b[39m, experiment\u001b[39m=\u001b[39m\u001b[39m\"\u001b[39m\u001b[39mhistorical\u001b[39m\u001b[39m\"\u001b[39m)\n\u001b[1;32m      3\u001b[0m dsets \u001b[39m=\u001b[39m catalog_subset\u001b[39m.\u001b[39mto_dataset_dict(storage_options\u001b[39m=\u001b[39m{\u001b[39m'\u001b[39m\u001b[39manon\u001b[39m\u001b[39m'\u001b[39m: \u001b[39mTrue\u001b[39;00m}, xarray_open_kwargs\u001b[39m=\u001b[39m{\u001b[39m\"\u001b[39m\u001b[39mengine\u001b[39m\u001b[39m\"\u001b[39m: \u001b[39m\"\u001b[39m\u001b[39mkvikio\u001b[39m\u001b[39m\"\u001b[39m}) \u001b[39m# , xarray_open_kwargs={\"engine\": \"kvikio\"}\u001b[39;00m\n",
      "File \u001b[0;32m~/.conda/envs/pers/lib/python3.9/site-packages/intake_esm/core.py:94\u001b[0m, in \u001b[0;36mesm_datastore.__init__\u001b[0;34m(self, obj, progressbar, sep, registry, read_csv_kwargs, storage_options, intake_kwargs)\u001b[0m\n\u001b[1;32m     92\u001b[0m     \u001b[39mself\u001b[39m\u001b[39m.\u001b[39mesmcat \u001b[39m=\u001b[39m ESMCatalogModel\u001b[39m.\u001b[39mfrom_dict(obj)\n\u001b[1;32m     93\u001b[0m \u001b[39melse\u001b[39;00m:\n\u001b[0;32m---> 94\u001b[0m     \u001b[39mself\u001b[39m\u001b[39m.\u001b[39mesmcat \u001b[39m=\u001b[39m ESMCatalogModel\u001b[39m.\u001b[39;49mload(\n\u001b[1;32m     95\u001b[0m         obj, storage_options\u001b[39m=\u001b[39;49m\u001b[39mself\u001b[39;49m\u001b[39m.\u001b[39;49mstorage_options, read_csv_kwargs\u001b[39m=\u001b[39;49mread_csv_kwargs\n\u001b[1;32m     96\u001b[0m     )\n\u001b[1;32m     98\u001b[0m \u001b[39mself\u001b[39m\u001b[39m.\u001b[39mderivedcat \u001b[39m=\u001b[39m registry \u001b[39mor\u001b[39;00m default_registry\n\u001b[1;32m     99\u001b[0m \u001b[39mself\u001b[39m\u001b[39m.\u001b[39m_entries \u001b[39m=\u001b[39m {}\n",
      "File \u001b[0;32m~/.conda/envs/pers/lib/python3.9/site-packages/intake_esm/cat.py:249\u001b[0m, in \u001b[0;36mESMCatalogModel.load\u001b[0;34m(cls, json_file, storage_options, read_csv_kwargs)\u001b[0m\n\u001b[1;32m    247\u001b[0m storage_options \u001b[39m=\u001b[39m storage_options \u001b[39mif\u001b[39;00m storage_options \u001b[39mis\u001b[39;00m \u001b[39mnot\u001b[39;00m \u001b[39mNone\u001b[39;00m \u001b[39melse\u001b[39;00m {}\n\u001b[1;32m    248\u001b[0m read_csv_kwargs \u001b[39m=\u001b[39m read_csv_kwargs \u001b[39mor\u001b[39;00m {}\n\u001b[0;32m--> 249\u001b[0m _mapper \u001b[39m=\u001b[39m fsspec\u001b[39m.\u001b[39;49mget_mapper(json_file, \u001b[39m*\u001b[39;49m\u001b[39m*\u001b[39;49mstorage_options)\n\u001b[1;32m    251\u001b[0m \u001b[39mwith\u001b[39;00m fsspec\u001b[39m.\u001b[39mopen(json_file, \u001b[39m*\u001b[39m\u001b[39m*\u001b[39mstorage_options) \u001b[39mas\u001b[39;00m fobj:\n\u001b[1;32m    252\u001b[0m     data \u001b[39m=\u001b[39m json\u001b[39m.\u001b[39mloads(fobj\u001b[39m.\u001b[39mread())\n",
      "File \u001b[0;32m~/.conda/envs/pers/lib/python3.9/site-packages/fsspec/mapping.py:237\u001b[0m, in \u001b[0;36mget_mapper\u001b[0;34m(url, check, create, missing_exceptions, alternate_root, **kwargs)\u001b[0m\n\u001b[1;32m    206\u001b[0m \u001b[39m\u001b[39m\u001b[39m\"\"\"Create key-value interface for given URL and options\u001b[39;00m\n\u001b[1;32m    207\u001b[0m \n\u001b[1;32m    208\u001b[0m \u001b[39mThe URL will be of the form \"protocol://location\" and point to the root\u001b[39;00m\n\u001b[0;32m   (...)\u001b[0m\n\u001b[1;32m    234\u001b[0m \u001b[39m``FSMap`` instance, the dict-like key-value store.\u001b[39;00m\n\u001b[1;32m    235\u001b[0m \u001b[39m\"\"\"\u001b[39;00m\n\u001b[1;32m    236\u001b[0m \u001b[39m# Removing protocol here - could defer to each open() on the backend\u001b[39;00m\n\u001b[0;32m--> 237\u001b[0m fs, urlpath \u001b[39m=\u001b[39m url_to_fs(url, \u001b[39m*\u001b[39;49m\u001b[39m*\u001b[39;49mkwargs)\n\u001b[1;32m    238\u001b[0m root \u001b[39m=\u001b[39m alternate_root \u001b[39mif\u001b[39;00m alternate_root \u001b[39mis\u001b[39;00m \u001b[39mnot\u001b[39;00m \u001b[39mNone\u001b[39;00m \u001b[39melse\u001b[39;00m urlpath\n\u001b[1;32m    239\u001b[0m \u001b[39mreturn\u001b[39;00m FSMap(root, fs, check, create, missing_exceptions\u001b[39m=\u001b[39mmissing_exceptions)\n",
      "File \u001b[0;32m~/.conda/envs/pers/lib/python3.9/site-packages/fsspec/core.py:382\u001b[0m, in \u001b[0;36murl_to_fs\u001b[0;34m(url, **kwargs)\u001b[0m\n\u001b[1;32m    380\u001b[0m \u001b[39melse\u001b[39;00m:\n\u001b[1;32m    381\u001b[0m     protocol \u001b[39m=\u001b[39m split_protocol(url)[\u001b[39m0\u001b[39m]\n\u001b[0;32m--> 382\u001b[0m     \u001b[39mcls\u001b[39m \u001b[39m=\u001b[39m get_filesystem_class(protocol)\n\u001b[1;32m    384\u001b[0m     options \u001b[39m=\u001b[39m \u001b[39mcls\u001b[39m\u001b[39m.\u001b[39m_get_kwargs_from_urls(url)\n\u001b[1;32m    385\u001b[0m     update_storage_options(options, kwargs)\n",
      "File \u001b[0;32m~/.conda/envs/pers/lib/python3.9/site-packages/fsspec/registry.py:245\u001b[0m, in \u001b[0;36mget_filesystem_class\u001b[0;34m(protocol)\u001b[0m\n\u001b[1;32m    243\u001b[0m         register_implementation(protocol, _import_class(bit[\u001b[39m\"\u001b[39m\u001b[39mclass\u001b[39m\u001b[39m\"\u001b[39m]))\n\u001b[1;32m    244\u001b[0m     \u001b[39mexcept\u001b[39;00m \u001b[39mImportError\u001b[39;00m \u001b[39mas\u001b[39;00m e:\n\u001b[0;32m--> 245\u001b[0m         \u001b[39mraise\u001b[39;00m \u001b[39mImportError\u001b[39;00m(bit[\u001b[39m\"\u001b[39m\u001b[39merr\u001b[39m\u001b[39m\"\u001b[39m]) \u001b[39mfrom\u001b[39;00m \u001b[39me\u001b[39;00m\n\u001b[1;32m    246\u001b[0m \u001b[39mcls\u001b[39m \u001b[39m=\u001b[39m registry[protocol]\n\u001b[1;32m    247\u001b[0m \u001b[39mif\u001b[39;00m \u001b[39mgetattr\u001b[39m(\u001b[39mcls\u001b[39m, \u001b[39m\"\u001b[39m\u001b[39mprotocol\u001b[39m\u001b[39m\"\u001b[39m, \u001b[39mNone\u001b[39;00m) \u001b[39min\u001b[39;00m (\u001b[39m\"\u001b[39m\u001b[39mabstract\u001b[39m\u001b[39m\"\u001b[39m, \u001b[39mNone\u001b[39;00m):\n",
      "\u001b[0;31mImportError\u001b[0m: HTTPFileSystem requires \"requests\" and \"aiohttp\" to be installed"
     ]
    }
   ],
   "source": [
    "catalog = intake.open_esm_datastore(\"https://ncar-cesm2-lens.s3-us-west-2.amazonaws.com/catalogs/aws-cesm2-le.json\")\n",
    "catalog_subset = catalog.search(frequency = \"daily\", variable =[\"U\", \"V\"], forcing_variant = \"cmip6\", experiment=\"historical\")\n",
    "dsets = catalog_subset.to_dataset_dict(storage_options={'anon': True}, xarray_open_kwargs={\"engine\": \"kvikio\"}) # , xarray_open_kwargs={\"engine\": \"kvikio\"}\n",
    "dsets.keys()\n",
    "# historical_cmip6 = dsets['atm.historical.daily.cmip6']\n",
    "# future_cmip6 = dsets['atm.ssp370.daily.cmip6']\n",
    "# ds = xr.concat([historical_cmip6, future_cmip6], dim='time')\n",
    "# ds = ds.isel(member_id=np.delete(np.arange(50), np.arange(0, 50, 5))) # dont want the \"first ten\"\n",
    "# ds = ds.isel(lon=np.append(np.arange(10), np.arange(230, len(ds.lon)))).isel(lat=np.arange(107, 182)) # na sector\n",
    "# ods = ds.copy()"
   ]
  },
  {
   "cell_type": "code",
   "execution_count": 26,
   "id": "0a466cff",
   "metadata": {},
   "outputs": [
    {
     "data": {
      "text/plain": [
       "<xarray.backends.zarr.ZarrStore at 0x7f15f2476e40>"
      ]
     },
     "execution_count": 26,
     "metadata": {},
     "output_type": "execute_result"
    }
   ],
   "source": [
    "dsets['atm.historical.daily.cmip6'].isel(member_id=0, time=0, lev=0, lat=0).to_zarr(f\"{UBILEXSCRATCH}/test.zarr\")"
   ]
  },
  {
   "cell_type": "code",
   "execution_count": 2,
   "id": "a5656cc4",
   "metadata": {},
   "outputs": [
    {
     "ename": "TypeError",
     "evalue": "Implicit conversion to a NumPy array is not allowed. Please use `.get()` to construct a NumPy array explicitly.",
     "output_type": "error",
     "traceback": [
      "\u001b[0;31m---------------------------------------------------------------------------\u001b[0m",
      "\u001b[0;31mTypeError\u001b[0m                                 Traceback (most recent call last)",
      "Cell \u001b[0;32mIn[2], line 1\u001b[0m\n\u001b[0;32m----> 1\u001b[0m xr\u001b[39m.\u001b[39;49mopen_dataset(\u001b[39mf\u001b[39;49m\u001b[39m\"\u001b[39;49m\u001b[39m{\u001b[39;49;00mUBILEXSCRATCH\u001b[39m}\u001b[39;49;00m\u001b[39m/test.zarr\u001b[39;49m\u001b[39m\"\u001b[39;49m, engine\u001b[39m=\u001b[39;49m\u001b[39m\"\u001b[39;49m\u001b[39mkvikio\u001b[39;49m\u001b[39m\"\u001b[39;49m, consolidated\u001b[39m=\u001b[39;49m\u001b[39mFalse\u001b[39;49;00m)\n",
      "File \u001b[0;32m~/.conda/envs/pers/lib/python3.9/site-packages/xarray/backends/api.py:540\u001b[0m, in \u001b[0;36mopen_dataset\u001b[0;34m(filename_or_obj, engine, chunks, cache, decode_cf, mask_and_scale, decode_times, decode_timedelta, use_cftime, concat_characters, decode_coords, drop_variables, inline_array, backend_kwargs, **kwargs)\u001b[0m\n\u001b[1;32m    528\u001b[0m decoders \u001b[39m=\u001b[39m _resolve_decoders_kwargs(\n\u001b[1;32m    529\u001b[0m     decode_cf,\n\u001b[1;32m    530\u001b[0m     open_backend_dataset_parameters\u001b[39m=\u001b[39mbackend\u001b[39m.\u001b[39mopen_dataset_parameters,\n\u001b[0;32m   (...)\u001b[0m\n\u001b[1;32m    536\u001b[0m     decode_coords\u001b[39m=\u001b[39mdecode_coords,\n\u001b[1;32m    537\u001b[0m )\n\u001b[1;32m    539\u001b[0m overwrite_encoded_chunks \u001b[39m=\u001b[39m kwargs\u001b[39m.\u001b[39mpop(\u001b[39m\"\u001b[39m\u001b[39moverwrite_encoded_chunks\u001b[39m\u001b[39m\"\u001b[39m, \u001b[39mNone\u001b[39;00m)\n\u001b[0;32m--> 540\u001b[0m backend_ds \u001b[39m=\u001b[39m backend\u001b[39m.\u001b[39;49mopen_dataset(\n\u001b[1;32m    541\u001b[0m     filename_or_obj,\n\u001b[1;32m    542\u001b[0m     drop_variables\u001b[39m=\u001b[39;49mdrop_variables,\n\u001b[1;32m    543\u001b[0m     \u001b[39m*\u001b[39;49m\u001b[39m*\u001b[39;49mdecoders,\n\u001b[1;32m    544\u001b[0m     \u001b[39m*\u001b[39;49m\u001b[39m*\u001b[39;49mkwargs,\n\u001b[1;32m    545\u001b[0m )\n\u001b[1;32m    546\u001b[0m ds \u001b[39m=\u001b[39m _dataset_from_backend_dataset(\n\u001b[1;32m    547\u001b[0m     backend_ds,\n\u001b[1;32m    548\u001b[0m     filename_or_obj,\n\u001b[0;32m   (...)\u001b[0m\n\u001b[1;32m    556\u001b[0m     \u001b[39m*\u001b[39m\u001b[39m*\u001b[39mkwargs,\n\u001b[1;32m    557\u001b[0m )\n\u001b[1;32m    558\u001b[0m \u001b[39mreturn\u001b[39;00m ds\n",
      "File \u001b[0;32m~/.conda/envs/pers/lib/python3.9/site-packages/cupy_xarray/kvikio.py:191\u001b[0m, in \u001b[0;36mKvikioBackendEntrypoint.open_dataset\u001b[0;34m(self, filename_or_obj, mask_and_scale, decode_times, concat_characters, decode_coords, drop_variables, use_cftime, decode_timedelta, group, mode, synchronizer, consolidated, chunk_store, storage_options, stacklevel)\u001b[0m\n\u001b[1;32m    189\u001b[0m store_entrypoint \u001b[39m=\u001b[39m StoreBackendEntrypoint()\n\u001b[1;32m    190\u001b[0m \u001b[39mwith\u001b[39;00m close_on_error(store):\n\u001b[0;32m--> 191\u001b[0m     ds \u001b[39m=\u001b[39m store_entrypoint\u001b[39m.\u001b[39;49mopen_dataset(\n\u001b[1;32m    192\u001b[0m         store,\n\u001b[1;32m    193\u001b[0m         mask_and_scale\u001b[39m=\u001b[39;49mmask_and_scale,\n\u001b[1;32m    194\u001b[0m         decode_times\u001b[39m=\u001b[39;49mdecode_times,\n\u001b[1;32m    195\u001b[0m         concat_characters\u001b[39m=\u001b[39;49mconcat_characters,\n\u001b[1;32m    196\u001b[0m         decode_coords\u001b[39m=\u001b[39;49mdecode_coords,\n\u001b[1;32m    197\u001b[0m         drop_variables\u001b[39m=\u001b[39;49mdrop_variables,\n\u001b[1;32m    198\u001b[0m         use_cftime\u001b[39m=\u001b[39;49muse_cftime,\n\u001b[1;32m    199\u001b[0m         decode_timedelta\u001b[39m=\u001b[39;49mdecode_timedelta,\n\u001b[1;32m    200\u001b[0m     )\n\u001b[1;32m    201\u001b[0m \u001b[39mreturn\u001b[39;00m ds\n",
      "File \u001b[0;32m~/.conda/envs/pers/lib/python3.9/site-packages/xarray/backends/store.py:28\u001b[0m, in \u001b[0;36mStoreBackendEntrypoint.open_dataset\u001b[0;34m(self, store, mask_and_scale, decode_times, concat_characters, decode_coords, drop_variables, use_cftime, decode_timedelta)\u001b[0m\n\u001b[1;32m     16\u001b[0m \u001b[39mdef\u001b[39;00m \u001b[39mopen_dataset\u001b[39m(\n\u001b[1;32m     17\u001b[0m     \u001b[39mself\u001b[39m,\n\u001b[1;32m     18\u001b[0m     store,\n\u001b[0;32m   (...)\u001b[0m\n\u001b[1;32m     26\u001b[0m     decode_timedelta\u001b[39m=\u001b[39m\u001b[39mNone\u001b[39;00m,\n\u001b[1;32m     27\u001b[0m ):\n\u001b[0;32m---> 28\u001b[0m     \u001b[39mvars\u001b[39m, attrs \u001b[39m=\u001b[39m store\u001b[39m.\u001b[39;49mload()\n\u001b[1;32m     29\u001b[0m     encoding \u001b[39m=\u001b[39m store\u001b[39m.\u001b[39mget_encoding()\n\u001b[1;32m     31\u001b[0m     \u001b[39mvars\u001b[39m, attrs, coord_names \u001b[39m=\u001b[39m conventions\u001b[39m.\u001b[39mdecode_cf_variables(\n\u001b[1;32m     32\u001b[0m         \u001b[39mvars\u001b[39m,\n\u001b[1;32m     33\u001b[0m         attrs,\n\u001b[0;32m   (...)\u001b[0m\n\u001b[1;32m     40\u001b[0m         decode_timedelta\u001b[39m=\u001b[39mdecode_timedelta,\n\u001b[1;32m     41\u001b[0m     )\n",
      "File \u001b[0;32m~/.conda/envs/pers/lib/python3.9/site-packages/xarray/backends/common.py:128\u001b[0m, in \u001b[0;36mAbstractDataStore.load\u001b[0;34m(self)\u001b[0m\n\u001b[1;32m    106\u001b[0m \u001b[39mdef\u001b[39;00m \u001b[39mload\u001b[39m(\u001b[39mself\u001b[39m):\n\u001b[1;32m    107\u001b[0m \u001b[39m    \u001b[39m\u001b[39m\"\"\"\u001b[39;00m\n\u001b[1;32m    108\u001b[0m \u001b[39m    This loads the variables and attributes simultaneously.\u001b[39;00m\n\u001b[1;32m    109\u001b[0m \u001b[39m    A centralized loading function makes it easier to create\u001b[39;00m\n\u001b[0;32m   (...)\u001b[0m\n\u001b[1;32m    125\u001b[0m \u001b[39m    are requested, so care should be taken to make sure its fast.\u001b[39;00m\n\u001b[1;32m    126\u001b[0m \u001b[39m    \"\"\"\u001b[39;00m\n\u001b[1;32m    127\u001b[0m     variables \u001b[39m=\u001b[39m FrozenDict(\n\u001b[0;32m--> 128\u001b[0m         (_decode_variable_name(k), v) \u001b[39mfor\u001b[39;00m k, v \u001b[39min\u001b[39;00m \u001b[39mself\u001b[39;49m\u001b[39m.\u001b[39;49mget_variables()\u001b[39m.\u001b[39mitems()\n\u001b[1;32m    129\u001b[0m     )\n\u001b[1;32m    130\u001b[0m     attributes \u001b[39m=\u001b[39m FrozenDict(\u001b[39mself\u001b[39m\u001b[39m.\u001b[39mget_attrs())\n\u001b[1;32m    131\u001b[0m     \u001b[39mreturn\u001b[39;00m variables, attributes\n",
      "File \u001b[0;32m~/.conda/envs/pers/lib/python3.9/site-packages/xarray/backends/zarr.py:480\u001b[0m, in \u001b[0;36mZarrStore.get_variables\u001b[0;34m(self)\u001b[0m\n\u001b[1;32m    479\u001b[0m \u001b[39mdef\u001b[39;00m \u001b[39mget_variables\u001b[39m(\u001b[39mself\u001b[39m):\n\u001b[0;32m--> 480\u001b[0m     \u001b[39mreturn\u001b[39;00m FrozenDict(\n\u001b[1;32m    481\u001b[0m         (k, \u001b[39mself\u001b[39;49m\u001b[39m.\u001b[39;49mopen_store_variable(k, v)) \u001b[39mfor\u001b[39;49;00m k, v \u001b[39min\u001b[39;49;00m \u001b[39mself\u001b[39;49m\u001b[39m.\u001b[39;49mzarr_group\u001b[39m.\u001b[39;49marrays()\n\u001b[1;32m    482\u001b[0m     )\n",
      "File \u001b[0;32m~/.conda/envs/pers/lib/python3.9/site-packages/xarray/core/utils.py:469\u001b[0m, in \u001b[0;36mFrozenDict\u001b[0;34m(*args, **kwargs)\u001b[0m\n\u001b[1;32m    468\u001b[0m \u001b[39mdef\u001b[39;00m \u001b[39mFrozenDict\u001b[39m(\u001b[39m*\u001b[39margs, \u001b[39m*\u001b[39m\u001b[39m*\u001b[39mkwargs) \u001b[39m-\u001b[39m\u001b[39m>\u001b[39m Frozen:\n\u001b[0;32m--> 469\u001b[0m     \u001b[39mreturn\u001b[39;00m Frozen(\u001b[39mdict\u001b[39;49m(\u001b[39m*\u001b[39;49margs, \u001b[39m*\u001b[39;49m\u001b[39m*\u001b[39;49mkwargs))\n",
      "File \u001b[0;32m~/.conda/envs/pers/lib/python3.9/site-packages/xarray/backends/zarr.py:481\u001b[0m, in \u001b[0;36m<genexpr>\u001b[0;34m(.0)\u001b[0m\n\u001b[1;32m    479\u001b[0m \u001b[39mdef\u001b[39;00m \u001b[39mget_variables\u001b[39m(\u001b[39mself\u001b[39m):\n\u001b[1;32m    480\u001b[0m     \u001b[39mreturn\u001b[39;00m FrozenDict(\n\u001b[0;32m--> 481\u001b[0m         (k, \u001b[39mself\u001b[39;49m\u001b[39m.\u001b[39;49mopen_store_variable(k, v)) \u001b[39mfor\u001b[39;00m k, v \u001b[39min\u001b[39;00m \u001b[39mself\u001b[39m\u001b[39m.\u001b[39mzarr_group\u001b[39m.\u001b[39marrays()\n\u001b[1;32m    482\u001b[0m     )\n",
      "File \u001b[0;32m~/.conda/envs/pers/lib/python3.9/site-packages/cupy_xarray/kvikio.py:131\u001b[0m, in \u001b[0;36mGDSZarrStore.open_store_variable\u001b[0;34m(self, name, zarr_array)\u001b[0m\n\u001b[1;32m    129\u001b[0m \u001b[39melse\u001b[39;00m:\n\u001b[1;32m    130\u001b[0m     array_wrapper \u001b[39m=\u001b[39m CupyZarrArrayWrapper\n\u001b[0;32m--> 131\u001b[0m data \u001b[39m=\u001b[39m indexing\u001b[39m.\u001b[39mLazilyIndexedArray(array_wrapper(name, \u001b[39mself\u001b[39;49m))\n\u001b[1;32m    133\u001b[0m attributes \u001b[39m=\u001b[39m \u001b[39mdict\u001b[39m(attributes)\n\u001b[1;32m    134\u001b[0m encoding \u001b[39m=\u001b[39m {\n\u001b[1;32m    135\u001b[0m     \u001b[39m\"\u001b[39m\u001b[39mchunks\u001b[39m\u001b[39m\"\u001b[39m: zarr_array\u001b[39m.\u001b[39mchunks,\n\u001b[1;32m    136\u001b[0m     \u001b[39m\"\u001b[39m\u001b[39mpreferred_chunks\u001b[39m\u001b[39m\"\u001b[39m: \u001b[39mdict\u001b[39m(\u001b[39mzip\u001b[39m(dimensions, zarr_array\u001b[39m.\u001b[39mchunks)),\n\u001b[1;32m    137\u001b[0m     \u001b[39m\"\u001b[39m\u001b[39mcompressor\u001b[39m\u001b[39m\"\u001b[39m: zarr_array\u001b[39m.\u001b[39mcompressor,\n\u001b[1;32m    138\u001b[0m     \u001b[39m\"\u001b[39m\u001b[39mfilters\u001b[39m\u001b[39m\"\u001b[39m: zarr_array\u001b[39m.\u001b[39mfilters,\n\u001b[1;32m    139\u001b[0m }\n",
      "File \u001b[0;32m~/.conda/envs/pers/lib/python3.9/site-packages/xarray/backends/zarr.py:56\u001b[0m, in \u001b[0;36mZarrArrayWrapper.__init__\u001b[0;34m(self, variable_name, datastore)\u001b[0m\n\u001b[1;32m     53\u001b[0m \u001b[39mself\u001b[39m\u001b[39m.\u001b[39mdatastore \u001b[39m=\u001b[39m datastore\n\u001b[1;32m     54\u001b[0m \u001b[39mself\u001b[39m\u001b[39m.\u001b[39mvariable_name \u001b[39m=\u001b[39m variable_name\n\u001b[0;32m---> 56\u001b[0m array \u001b[39m=\u001b[39m \u001b[39mself\u001b[39;49m\u001b[39m.\u001b[39;49mget_array()\n\u001b[1;32m     57\u001b[0m \u001b[39mself\u001b[39m\u001b[39m.\u001b[39mshape \u001b[39m=\u001b[39m array\u001b[39m.\u001b[39mshape\n\u001b[1;32m     59\u001b[0m dtype \u001b[39m=\u001b[39m array\u001b[39m.\u001b[39mdtype\n",
      "File \u001b[0;32m~/.conda/envs/pers/lib/python3.9/site-packages/cupy_xarray/kvikio.py:35\u001b[0m, in \u001b[0;36mEagerCupyZarrArrayWrapper.get_array\u001b[0;34m(self)\u001b[0m\n\u001b[1;32m     34\u001b[0m \u001b[39mdef\u001b[39;00m \u001b[39mget_array\u001b[39m(\u001b[39mself\u001b[39m):\n\u001b[0;32m---> 35\u001b[0m     \u001b[39mreturn\u001b[39;00m np\u001b[39m.\u001b[39;49masarray(\u001b[39mself\u001b[39;49m)\n",
      "File \u001b[0;32m~/.conda/envs/pers/lib/python3.9/site-packages/cupy_xarray/kvikio.py:32\u001b[0m, in \u001b[0;36mEagerCupyZarrArrayWrapper.__array__\u001b[0;34m(self)\u001b[0m\n\u001b[1;32m     31\u001b[0m \u001b[39mdef\u001b[39;00m \u001b[39m__array__\u001b[39m(\u001b[39mself\u001b[39m):\n\u001b[0;32m---> 32\u001b[0m     \u001b[39mreturn\u001b[39;00m \u001b[39mself\u001b[39;49m\u001b[39m.\u001b[39;49mdatastore\u001b[39m.\u001b[39;49mzarr_group[\u001b[39mself\u001b[39;49m\u001b[39m.\u001b[39;49mvariable_name][:]\u001b[39m.\u001b[39mget()\n",
      "File \u001b[0;32m~/.conda/envs/pers/lib/python3.9/site-packages/zarr/core.py:807\u001b[0m, in \u001b[0;36mArray.__getitem__\u001b[0;34m(self, selection)\u001b[0m\n\u001b[1;32m    805\u001b[0m     result \u001b[39m=\u001b[39m \u001b[39mself\u001b[39m\u001b[39m.\u001b[39mvindex[selection]\n\u001b[1;32m    806\u001b[0m \u001b[39melse\u001b[39;00m:\n\u001b[0;32m--> 807\u001b[0m     result \u001b[39m=\u001b[39m \u001b[39mself\u001b[39;49m\u001b[39m.\u001b[39;49mget_basic_selection(pure_selection, fields\u001b[39m=\u001b[39;49mfields)\n\u001b[1;32m    808\u001b[0m \u001b[39mreturn\u001b[39;00m result\n",
      "File \u001b[0;32m~/.conda/envs/pers/lib/python3.9/site-packages/zarr/core.py:933\u001b[0m, in \u001b[0;36mArray.get_basic_selection\u001b[0;34m(self, selection, out, fields)\u001b[0m\n\u001b[1;32m    930\u001b[0m     \u001b[39mreturn\u001b[39;00m \u001b[39mself\u001b[39m\u001b[39m.\u001b[39m_get_basic_selection_zd(selection\u001b[39m=\u001b[39mselection, out\u001b[39m=\u001b[39mout,\n\u001b[1;32m    931\u001b[0m                                         fields\u001b[39m=\u001b[39mfields)\n\u001b[1;32m    932\u001b[0m \u001b[39melse\u001b[39;00m:\n\u001b[0;32m--> 933\u001b[0m     \u001b[39mreturn\u001b[39;00m \u001b[39mself\u001b[39;49m\u001b[39m.\u001b[39;49m_get_basic_selection_nd(selection\u001b[39m=\u001b[39;49mselection, out\u001b[39m=\u001b[39;49mout,\n\u001b[1;32m    934\u001b[0m                                         fields\u001b[39m=\u001b[39;49mfields)\n",
      "File \u001b[0;32m~/.conda/envs/pers/lib/python3.9/site-packages/zarr/core.py:976\u001b[0m, in \u001b[0;36mArray._get_basic_selection_nd\u001b[0;34m(self, selection, out, fields)\u001b[0m\n\u001b[1;32m    970\u001b[0m \u001b[39mdef\u001b[39;00m \u001b[39m_get_basic_selection_nd\u001b[39m(\u001b[39mself\u001b[39m, selection, out\u001b[39m=\u001b[39m\u001b[39mNone\u001b[39;00m, fields\u001b[39m=\u001b[39m\u001b[39mNone\u001b[39;00m):\n\u001b[1;32m    971\u001b[0m     \u001b[39m# implementation of basic selection for array with at least one dimension\u001b[39;00m\n\u001b[1;32m    972\u001b[0m \n\u001b[1;32m    973\u001b[0m     \u001b[39m# setup indexer\u001b[39;00m\n\u001b[1;32m    974\u001b[0m     indexer \u001b[39m=\u001b[39m BasicIndexer(selection, \u001b[39mself\u001b[39m)\n\u001b[0;32m--> 976\u001b[0m     \u001b[39mreturn\u001b[39;00m \u001b[39mself\u001b[39;49m\u001b[39m.\u001b[39;49m_get_selection(indexer\u001b[39m=\u001b[39;49mindexer, out\u001b[39m=\u001b[39;49mout, fields\u001b[39m=\u001b[39;49mfields)\n",
      "File \u001b[0;32m~/.conda/envs/pers/lib/python3.9/site-packages/zarr/core.py:1267\u001b[0m, in \u001b[0;36mArray._get_selection\u001b[0;34m(self, indexer, out, fields)\u001b[0m\n\u001b[1;32m   1261\u001b[0m \u001b[39mif\u001b[39;00m \u001b[39mnot\u001b[39;00m \u001b[39mhasattr\u001b[39m(\u001b[39mself\u001b[39m\u001b[39m.\u001b[39mchunk_store, \u001b[39m\"\u001b[39m\u001b[39mgetitems\u001b[39m\u001b[39m\"\u001b[39m) \u001b[39mor\u001b[39;00m \\\n\u001b[1;32m   1262\u001b[0m    \u001b[39many\u001b[39m(\u001b[39mmap\u001b[39m(\u001b[39mlambda\u001b[39;00m x: x \u001b[39m==\u001b[39m \u001b[39m0\u001b[39m, \u001b[39mself\u001b[39m\u001b[39m.\u001b[39mshape)):\n\u001b[1;32m   1263\u001b[0m     \u001b[39m# sequentially get one key at a time from storage\u001b[39;00m\n\u001b[1;32m   1264\u001b[0m     \u001b[39mfor\u001b[39;00m chunk_coords, chunk_selection, out_selection \u001b[39min\u001b[39;00m indexer:\n\u001b[1;32m   1265\u001b[0m \n\u001b[1;32m   1266\u001b[0m         \u001b[39m# load chunk selection into output array\u001b[39;00m\n\u001b[0;32m-> 1267\u001b[0m         \u001b[39mself\u001b[39;49m\u001b[39m.\u001b[39;49m_chunk_getitem(chunk_coords, chunk_selection, out, out_selection,\n\u001b[1;32m   1268\u001b[0m                             drop_axes\u001b[39m=\u001b[39;49mindexer\u001b[39m.\u001b[39;49mdrop_axes, fields\u001b[39m=\u001b[39;49mfields)\n\u001b[1;32m   1269\u001b[0m \u001b[39melse\u001b[39;00m:\n\u001b[1;32m   1270\u001b[0m     \u001b[39m# allow storage to get multiple items at once\u001b[39;00m\n\u001b[1;32m   1271\u001b[0m     lchunk_coords, lchunk_selection, lout_selection \u001b[39m=\u001b[39m \u001b[39mzip\u001b[39m(\u001b[39m*\u001b[39mindexer)\n",
      "File \u001b[0;32m~/.conda/envs/pers/lib/python3.9/site-packages/zarr/core.py:1978\u001b[0m, in \u001b[0;36mArray._chunk_getitem\u001b[0;34m(self, chunk_coords, chunk_selection, out, out_selection, drop_axes, fields)\u001b[0m\n\u001b[1;32m   1975\u001b[0m         out[out_selection] \u001b[39m=\u001b[39m fill_value\n\u001b[1;32m   1977\u001b[0m \u001b[39melse\u001b[39;00m:\n\u001b[0;32m-> 1978\u001b[0m     \u001b[39mself\u001b[39;49m\u001b[39m.\u001b[39;49m_process_chunk(out, cdata, chunk_selection, drop_axes,\n\u001b[1;32m   1979\u001b[0m                         out_is_ndarray, fields, out_selection)\n",
      "File \u001b[0;32m~/.conda/envs/pers/lib/python3.9/site-packages/zarr/core.py:1886\u001b[0m, in \u001b[0;36mArray._process_chunk\u001b[0;34m(self, out, cdata, chunk_selection, drop_axes, out_is_ndarray, fields, out_selection, partial_read_decode)\u001b[0m\n\u001b[1;32m   1884\u001b[0m     \u001b[39mif\u001b[39;00m \u001b[39misinstance\u001b[39m(cdata, PartialReadBuffer):\n\u001b[1;32m   1885\u001b[0m         cdata \u001b[39m=\u001b[39m cdata\u001b[39m.\u001b[39mread_full()\n\u001b[0;32m-> 1886\u001b[0m     \u001b[39mself\u001b[39;49m\u001b[39m.\u001b[39;49m_compressor\u001b[39m.\u001b[39;49mdecode(cdata, dest)\n\u001b[1;32m   1887\u001b[0m \u001b[39melse\u001b[39;00m:\n\u001b[1;32m   1888\u001b[0m     chunk \u001b[39m=\u001b[39m ensure_ndarray_like(cdata)\u001b[39m.\u001b[39mview(\u001b[39mself\u001b[39m\u001b[39m.\u001b[39m_dtype)\n",
      "File \u001b[0;32mnumcodecs/blosc.pyx:563\u001b[0m, in \u001b[0;36mnumcodecs.blosc.Blosc.decode\u001b[0;34m()\u001b[0m\n",
      "File \u001b[0;32m~/.conda/envs/pers/lib/python3.9/site-packages/numcodecs/compat.py:154\u001b[0m, in \u001b[0;36mensure_contiguous_ndarray\u001b[0;34m(buf, max_buffer_size, flatten)\u001b[0m\n\u001b[1;32m    126\u001b[0m \u001b[39mdef\u001b[39;00m \u001b[39mensure_contiguous_ndarray\u001b[39m(buf, max_buffer_size\u001b[39m=\u001b[39m\u001b[39mNone\u001b[39;00m, flatten\u001b[39m=\u001b[39m\u001b[39mTrue\u001b[39;00m) \u001b[39m-\u001b[39m\u001b[39m>\u001b[39m np\u001b[39m.\u001b[39marray:\n\u001b[1;32m    127\u001b[0m \u001b[39m    \u001b[39m\u001b[39m\"\"\"Convenience function to coerce `buf` to a numpy array, if it is not already a\u001b[39;00m\n\u001b[1;32m    128\u001b[0m \u001b[39m    numpy array. Also ensures that the returned value exports fully contiguous memory,\u001b[39;00m\n\u001b[1;32m    129\u001b[0m \u001b[39m    and supports the new-style buffer interface. If the optional max_buffer_size is\u001b[39;00m\n\u001b[0;32m   (...)\u001b[0m\n\u001b[1;32m    151\u001b[0m \u001b[39m    return a view on memory exported by `buf`.\u001b[39;00m\n\u001b[1;32m    152\u001b[0m \u001b[39m    \"\"\"\u001b[39;00m\n\u001b[0;32m--> 154\u001b[0m     \u001b[39mreturn\u001b[39;00m ensure_ndarray(\n\u001b[1;32m    155\u001b[0m         ensure_contiguous_ndarray_like(\n\u001b[1;32m    156\u001b[0m             buf, max_buffer_size\u001b[39m=\u001b[39;49mmax_buffer_size, flatten\u001b[39m=\u001b[39;49mflatten\n\u001b[1;32m    157\u001b[0m         )\n\u001b[1;32m    158\u001b[0m     )\n",
      "File \u001b[0;32m~/.conda/envs/pers/lib/python3.9/site-packages/numcodecs/compat.py:67\u001b[0m, in \u001b[0;36mensure_ndarray\u001b[0;34m(buf)\u001b[0m\n\u001b[1;32m     48\u001b[0m \u001b[39mdef\u001b[39;00m \u001b[39mensure_ndarray\u001b[39m(buf) \u001b[39m-\u001b[39m\u001b[39m>\u001b[39m np\u001b[39m.\u001b[39mndarray:\n\u001b[1;32m     49\u001b[0m \u001b[39m    \u001b[39m\u001b[39m\"\"\"Convenience function to coerce `buf` to a numpy array, if it is not already a\u001b[39;00m\n\u001b[1;32m     50\u001b[0m \u001b[39m    numpy array.\u001b[39;00m\n\u001b[1;32m     51\u001b[0m \n\u001b[0;32m   (...)\u001b[0m\n\u001b[1;32m     65\u001b[0m \u001b[39m    return a view on memory exported by `buf`.\u001b[39;00m\n\u001b[1;32m     66\u001b[0m \u001b[39m    \"\"\"\u001b[39;00m\n\u001b[0;32m---> 67\u001b[0m     \u001b[39mreturn\u001b[39;00m np\u001b[39m.\u001b[39;49marray(ensure_ndarray_like(buf), copy\u001b[39m=\u001b[39;49m\u001b[39mFalse\u001b[39;49;00m)\n",
      "File \u001b[0;32mcupy/_core/core.pyx:1473\u001b[0m, in \u001b[0;36mcupy._core.core._ndarray_base.__array__\u001b[0;34m()\u001b[0m\n",
      "\u001b[0;31mTypeError\u001b[0m: Implicit conversion to a NumPy array is not allowed. Please use `.get()` to construct a NumPy array explicitly."
     ]
    }
   ],
   "source": [
    "xr.open_dataset(f\"{UBILEXSCRATCH}/test.zarr\", engine=\"kvikio\", consolidated=False)"
   ]
  },
  {
   "cell_type": "code",
   "execution_count": 4,
   "id": "591d026b",
   "metadata": {},
   "outputs": [],
   "source": [
    "future_cmip6 = dsets['atm.ssp370.daily.cmip6']"
   ]
  },
  {
   "cell_type": "code",
   "execution_count": 9,
   "id": "fb5ec0ef",
   "metadata": {},
   "outputs": [
    {
     "data": {
      "text/plain": [
       "numpy.ndarray"
      ]
     },
     "execution_count": 9,
     "metadata": {},
     "output_type": "execute_result"
    }
   ],
   "source": [
    "type(future_cmip6[\"U\"].isel(member_id=0, time=0, lev=0, lat=0).load().data)"
   ]
  },
  {
   "cell_type": "code",
   "execution_count": null,
   "id": "69c708ec",
   "metadata": {},
   "outputs": [],
   "source": [
    "ds = ds.roll(lon=144, roll_coords=True)\n",
    "a = np.array(ds[\"lon\"])\n",
    "a[:144] = - 360 + a[:144]\n",
    "ds[\"lon2\"] = xr.DataArray(a, coords={\"lon\": ds[\"lon\"]})"
   ]
  },
  {
   "cell_type": "code",
   "execution_count": null,
   "id": "73addefd",
   "metadata": {},
   "outputs": [],
   "source": [
    "ds = ds.swap_dims({\"lon\": \"lon2\"})\n",
    "ds = ds.drop(\"lon\")\n",
    "ds = ds.rename({\"lon2\": \"lon\"})\n",
    "ds = ds.isel(lon=np.arange(90, 160)).isel(lat=np.arange(107, 182))"
   ]
  },
  {
   "cell_type": "code",
   "execution_count": null,
   "id": "65577c23",
   "metadata": {},
   "outputs": [],
   "source": [
    "a = 6.371e6\n",
    "newds = ds.isel(lev=25, time=0, member_id=0)\n",
    "newds[\"vort\"] = (newds[\"V\"].differentiate(\"lon\") - (newds[\"U\"] * degcos(newds[\"lat\"])).differentiate(\"lat\")) / a / degcos(newds[\"lat\"])\n",
    "newds[\"vort\"].attrs[\"long_name\"] = \"vorticity\"\n",
    "newds[\"vort\"].attrs[\"units\"] = \"1/s\""
   ]
  },
  {
   "cell_type": "code",
   "execution_count": null,
   "id": "09963a94",
   "metadata": {},
   "outputs": [],
   "source": [
    "fig, ax = plt.subplots(1,1, figsize=(15,8))\n",
    "newds[\"vort\"].plot(ax=ax)"
   ]
  },
  {
   "cell_type": "code",
   "execution_count": null,
   "id": "80c3bd93",
   "metadata": {},
   "outputs": [],
   "source": [
    "ds[\"U\"]"
   ]
  },
  {
   "cell_type": "code",
   "execution_count": null,
   "id": "9e0d7470",
   "metadata": {},
   "outputs": [],
   "source": []
  }
 ],
 "metadata": {
  "kernelspec": {
   "display_name": "pers",
   "language": "python",
   "name": "pers"
  },
  "language_info": {
   "codemirror_mode": {
    "name": "ipython",
    "version": 3
   },
   "file_extension": ".py",
   "mimetype": "text/x-python",
   "name": "python",
   "nbconvert_exporter": "python",
   "pygments_lexer": "ipython3",
   "version": "3.9.15"
  },
  "vscode": {
   "interpreter": {
    "hash": "31f2aee4e71d21fbe5cf8b01ff0e069b9275f58929596ceb00d14d90e3e16cd6"
   }
  }
 },
 "nbformat": 4,
 "nbformat_minor": 5
}
