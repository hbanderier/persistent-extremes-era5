{
 "cells": [
  {
   "cell_type": "markdown",
   "id": "8ef45b84-10f4-4dd4-b580-2eebcdcb5396",
   "metadata": {},
   "source": [
    "# Access CESM2-LE data"
   ]
  },
  {
   "cell_type": "code",
   "execution_count": 1,
   "id": "f42c901b-50a7-4f88-92f1-28a51c1be169",
   "metadata": {
    "vscode": {
     "languageId": "python"
    }
   },
   "outputs": [],
   "source": [
    "# import packages\n",
    "import intake\n",
    "import xarray as xr\n",
    "import numpy as np\n",
    "import cupy as cp\n",
    "import cupy_xarray\n",
    "# import matplotlib.pyplot as plt\n",
    "\n",
    "def degcos(x):\n",
    "    return np.cos(x / 180 * np.pi)\n",
    "\n",
    "UBILEXSCRATCH = \"/storage/scratch/users/hb22g102\""
   ]
  },
  {
   "cell_type": "code",
   "execution_count": null,
   "id": "560040fc",
   "metadata": {
    "vscode": {
     "languageId": "python"
    }
   },
   "outputs": [],
   "source": [
    "catalog = intake.open_esm_datastore(\"https://ncar-cesm2-lens.s3-us-west-2.amazonaws.com/catalogs/aws-cesm2-le.json\")\n",
    "catalog_subset = catalog.search(frequency = \"daily\", variable =[\"U\", \"V\"], forcing_variant = \"cmip6\", experiment=\"historical\")\n",
    "dsets = catalog_subset.to_dataset_dict(storage_options={'anon': True}, xarray_open_kwargs={\"engine\": \"kvikio\"}) # , xarray_open_kwargs={\"engine\": \"kvikio\"}\n",
    "dsets.keys()\n",
    "# historical_cmip6 = dsets['atm.historical.daily.cmip6']\n",
    "# future_cmip6 = dsets['atm.ssp370.daily.cmip6']\n",
    "# ds = xr.concat([historical_cmip6, future_cmip6], dim='time')\n",
    "# ds = ds.isel(member_id=np.delete(np.arange(50), np.arange(0, 50, 5))) # dont want the \"first ten\"\n",
    "# ds = ds.isel(lon=np.append(np.arange(10), np.arange(230, len(ds.lon)))).isel(lat=np.arange(107, 182)) # na sector\n",
    "# ods = ds.copy()"
   ]
  },
  {
   "cell_type": "code",
   "execution_count": 26,
   "id": "0a466cff",
   "metadata": {
    "vscode": {
     "languageId": "python"
    }
   },
   "outputs": [
    {
     "data": {
      "text/plain": [
       "<xarray.backends.zarr.ZarrStore at 0x7f15f2476e40>"
      ]
     },
     "execution_count": 26,
     "metadata": {},
     "output_type": "execute_result"
    }
   ],
   "source": [
    "dsets['atm.historical.daily.cmip6'].isel(member_id=0, time=0, lev=0, lat=0).to_zarr(f\"{UBILEXSCRATCH}/test.zarr\")"
   ]
  },
  {
   "cell_type": "code",
   "execution_count": null,
   "id": "a5656cc4",
   "metadata": {
    "vscode": {
     "languageId": "python"
    }
   },
   "outputs": [],
   "source": [
    "xr.open_dataset(f\"{UBILEXSCRATCH}/test.zarr\", engine=\"kvikio\", consolidated=False)"
   ]
  },
  {
   "cell_type": "code",
   "execution_count": 4,
   "id": "591d026b",
   "metadata": {
    "vscode": {
     "languageId": "python"
    }
   },
   "outputs": [],
   "source": [
    "future_cmip6 = dsets['atm.ssp370.daily.cmip6']"
   ]
  },
  {
   "cell_type": "code",
   "execution_count": 9,
   "id": "fb5ec0ef",
   "metadata": {
    "vscode": {
     "languageId": "python"
    }
   },
   "outputs": [
    {
     "data": {
      "text/plain": [
       "numpy.ndarray"
      ]
     },
     "execution_count": 9,
     "metadata": {},
     "output_type": "execute_result"
    }
   ],
   "source": [
    "type(future_cmip6[\"U\"].isel(member_id=0, time=0, lev=0, lat=0).load().data)"
   ]
  },
  {
   "cell_type": "code",
   "execution_count": null,
   "id": "69c708ec",
   "metadata": {
    "vscode": {
     "languageId": "python"
    }
   },
   "outputs": [],
   "source": [
    "ds = ds.roll(lon=144, roll_coords=True)\n",
    "a = np.array(ds[\"lon\"])\n",
    "a[:144] = - 360 + a[:144]\n",
    "ds[\"lon2\"] = xr.DataArray(a, coords={\"lon\": ds[\"lon\"]})"
   ]
  },
  {
   "cell_type": "code",
   "execution_count": null,
   "id": "73addefd",
   "metadata": {
    "vscode": {
     "languageId": "python"
    }
   },
   "outputs": [],
   "source": [
    "ds = ds.swap_dims({\"lon\": \"lon2\"})\n",
    "ds = ds.drop(\"lon\")\n",
    "ds = ds.rename({\"lon2\": \"lon\"})\n",
    "ds = ds.isel(lon=np.arange(90, 160)).isel(lat=np.arange(107, 182))"
   ]
  },
  {
   "cell_type": "code",
   "execution_count": null,
   "id": "65577c23",
   "metadata": {
    "vscode": {
     "languageId": "python"
    }
   },
   "outputs": [],
   "source": [
    "a = 6.371e6\n",
    "newds = ds.isel(lev=25, time=0, member_id=0)\n",
    "newds[\"vort\"] = (newds[\"V\"].differentiate(\"lon\") - (newds[\"U\"] * degcos(newds[\"lat\"])).differentiate(\"lat\")) / a / degcos(newds[\"lat\"])\n",
    "newds[\"vort\"].attrs[\"long_name\"] = \"vorticity\"\n",
    "newds[\"vort\"].attrs[\"units\"] = \"1/s\""
   ]
  },
  {
   "cell_type": "code",
   "execution_count": null,
   "id": "09963a94",
   "metadata": {
    "vscode": {
     "languageId": "python"
    }
   },
   "outputs": [],
   "source": [
    "fig, ax = plt.subplots(1,1, figsize=(15,8))\n",
    "newds[\"vort\"].plot(ax=ax)"
   ]
  },
  {
   "cell_type": "code",
   "execution_count": null,
   "id": "80c3bd93",
   "metadata": {
    "vscode": {
     "languageId": "python"
    }
   },
   "outputs": [],
   "source": [
    "ds[\"U\"]"
   ]
  },
  {
   "cell_type": "code",
   "execution_count": null,
   "id": "9e0d7470",
   "metadata": {
    "vscode": {
     "languageId": "python"
    }
   },
   "outputs": [],
   "source": []
  }
 ],
 "metadata": {
  "kernelspec": {
   "display_name": "Python 3 (ipykernel)",
   "language": "python",
   "name": "python3"
  },
  "vscode": {
   "interpreter": {
    "hash": "31f2aee4e71d21fbe5cf8b01ff0e069b9275f58929596ceb00d14d90e3e16cd6"
   }
  }
 },
 "nbformat": 4,
 "nbformat_minor": 5
}
